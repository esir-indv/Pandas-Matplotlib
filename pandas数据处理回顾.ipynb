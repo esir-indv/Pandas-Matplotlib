{
 "cells": [
  {
   "cell_type": "markdown",
   "source": [
    "缺失值\n",
    "None object\n",
    "\n",
    "np.nan float\n",
    "\n",
    "pandas会自动把None处理成np.nan\n",
    "[None] obj>float>int\n",
    "处理方法：\n",
    "1、查找\n",
    "pandas（Series，DataFrame） isnull() notnull() + any() all()\n",
    "2、过滤\n",
    "notnull() + all()\n",
    "df.loc[df.notnull()].all(axis=1)]\n",
    "3、删除\n",
    "df.dropna(how,axis,subset,inplace)\n",
    "how:any all\n",
    "\n",
    "多层级索引\n",
    "构造：pd.MultiINdex.from_product([[],[]])\n",
    "访问: index:(一级索引，二级索引)\n",
    "stack() unstack() level=-1\n",
    "注意：（一级索引、二级索引）不适用切片\n",
    "\n",
    "多层索引的切片：\n",
    "1.使用隐式索引（好东西）\n",
    "2.先使用stack unstack 进行变换\n",
    "\n",
    "级联：\n",
    "表结构相同\n",
    "pd.concat(objs,join,axis,ignore_index(忽略原始index),keys（添加索引）)\n",
    "\n",
    "索引对齐级联， 跟顺序没关，如果索引对不齐，补空值\n",
    "\n",
    "合并： \n",
    "关联性表之间的\n",
    "关联性：一对一，一对多，多对多\n",
    "合并要做列合并，不要行合并，没有意义\n",
    "合并的列最好式离散类型\n",
    "\n",
    "pd.merge(left,right,how,left_on,right_on,left_index,right_index,on,suffixes)\n",
    "how:inner;outer;left;right 字段内容方向的交集\n",
    "on：有一个或多个相同字段，搭配suffixes\n",
    "\n",
    "\n"
   ],
   "metadata": {
    "collapsed": false
   },
   "id": "2a7b04e2b4458094"
  }
 ],
 "metadata": {
  "kernelspec": {
   "display_name": "Python 3",
   "language": "python",
   "name": "python3"
  },
  "language_info": {
   "codemirror_mode": {
    "name": "ipython",
    "version": 2
   },
   "file_extension": ".py",
   "mimetype": "text/x-python",
   "name": "python",
   "nbconvert_exporter": "python",
   "pygments_lexer": "ipython2",
   "version": "2.7.6"
  }
 },
 "nbformat": 4,
 "nbformat_minor": 5
}
