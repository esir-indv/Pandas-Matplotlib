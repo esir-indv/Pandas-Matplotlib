{
 "cells": [
  {
   "cell_type": "code",
   "execution_count": 13,
   "id": "initial_id",
   "metadata": {
    "collapsed": true,
    "ExecuteTime": {
     "end_time": "2023-11-12T03:57:09.042725Z",
     "start_time": "2023-11-12T03:57:09.026331Z"
    }
   },
   "outputs": [
    {
     "data": {
      "text/plain": "array([[65, 85, 99, 30,  5, 55],\n       [26, 25,  7, 84, 81, 72],\n       [91, 82, 42,  4, 23,  2],\n       [57, 82, 97, 19, 73, 80],\n       [70, 53,  4, 85, 69, 41]])"
     },
     "execution_count": 13,
     "metadata": {},
     "output_type": "execute_result"
    }
   ],
   "source": [
    "import numpy as np\n",
    "import pandas as pd\n",
    "array = np.random.randint(1,100,size=(5,6))\n",
    "array"
   ]
  },
  {
   "cell_type": "code",
   "execution_count": 10,
   "outputs": [
    {
     "data": {
      "text/plain": "array([322, 272, 214, 313, 454])"
     },
     "execution_count": 10,
     "metadata": {},
     "output_type": "execute_result"
    }
   ],
   "source": [
    "array.sum(axis=1)"
   ],
   "metadata": {
    "collapsed": false,
    "ExecuteTime": {
     "end_time": "2023-11-12T03:42:40.362435Z",
     "start_time": "2023-11-12T03:42:40.350280Z"
    }
   },
   "id": "ca5f8f0895fc641b"
  },
  {
   "cell_type": "code",
   "execution_count": 11,
   "outputs": [
    {
     "data": {
      "text/plain": "array([259, 317, 346, 131, 264, 258])"
     },
     "execution_count": 11,
     "metadata": {},
     "output_type": "execute_result"
    }
   ],
   "source": [
    "array.sum(axis=0)"
   ],
   "metadata": {
    "collapsed": false,
    "ExecuteTime": {
     "end_time": "2023-11-12T03:55:12.294711Z",
     "start_time": "2023-11-12T03:55:12.282935Z"
    }
   },
   "id": "19af95dd2514871d"
  },
  {
   "cell_type": "code",
   "execution_count": 15,
   "outputs": [
    {
     "data": {
      "text/plain": "     0\n0  339\n1  295\n2  244\n3  408\n4  322",
      "text/html": "<div>\n<style scoped>\n    .dataframe tbody tr th:only-of-type {\n        vertical-align: middle;\n    }\n\n    .dataframe tbody tr th {\n        vertical-align: top;\n    }\n\n    .dataframe thead th {\n        text-align: right;\n    }\n</style>\n<table border=\"1\" class=\"dataframe\">\n  <thead>\n    <tr style=\"text-align: right;\">\n      <th></th>\n      <th>0</th>\n    </tr>\n  </thead>\n  <tbody>\n    <tr>\n      <th>0</th>\n      <td>339</td>\n    </tr>\n    <tr>\n      <th>1</th>\n      <td>295</td>\n    </tr>\n    <tr>\n      <th>2</th>\n      <td>244</td>\n    </tr>\n    <tr>\n      <th>3</th>\n      <td>408</td>\n    </tr>\n    <tr>\n      <th>4</th>\n      <td>322</td>\n    </tr>\n  </tbody>\n</table>\n</div>"
     },
     "execution_count": 15,
     "metadata": {},
     "output_type": "execute_result"
    }
   ],
   "source": [
    "pd.DataFrame(array.sum(axis=1))"
   ],
   "metadata": {
    "collapsed": false,
    "ExecuteTime": {
     "end_time": "2023-11-12T03:57:20.253182Z",
     "start_time": "2023-11-12T03:57:20.246662Z"
    }
   },
   "id": "5742a308f056002c"
  },
  {
   "cell_type": "code",
   "execution_count": 33,
   "outputs": [
    {
     "data": {
      "text/plain": "array([18,  9, 60, 13, 46, 92, 53, 41, 28, 23, 96, 21, 37,  1,  3, 97,  2,\n       43, 89, 90,  6, 77, 22,  9, 55, 86, 35, 55, 52, 93, 80, 92, 59, 30,\n        0, 31,  4, 54, 24, 87,  7, 88, 35, 90, 22, 26, 45, 91, 89, 99, 79,\n       61, 92, 51, 94, 19, 56, 23, 64, 61, 58, 78, 12, 76, 34, 52, 51, 37,\n       77, 31, 94, 27, 60, 56, 73,  6, 88, 32,  7, 44, 42, 76, 81, 64, 21,\n       90, 78, 98, 99, 77, 80,  5,  5, 31, 18, 23, 92, 74, 37, 30])"
     },
     "execution_count": 33,
     "metadata": {},
     "output_type": "execute_result"
    }
   ],
   "source": [
    "# any and or import!!!\n",
    "python = np.random.randint(0, 100, size=100)\n",
    "python"
   ],
   "metadata": {
    "collapsed": false,
    "ExecuteTime": {
     "end_time": "2023-11-12T04:23:29.090245Z",
     "start_time": "2023-11-12T04:23:29.077714Z"
    }
   },
   "id": "22a26af54f1a00f9"
  },
  {
   "cell_type": "code",
   "execution_count": 23,
   "outputs": [
    {
     "data": {
      "text/plain": "array([False,  True, False, False, False,  True,  True, False,  True,\n        True, False,  True,  True,  True,  True,  True,  True, False,\n       False,  True,  True,  True,  True,  True,  True,  True,  True,\n       False,  True,  True,  True,  True,  True,  True,  True,  True,\n       False,  True,  True,  True,  True,  True,  True,  True, False,\n       False,  True,  True, False,  True, False, False,  True,  True,\n        True,  True, False,  True, False, False,  True, False,  True,\n        True, False,  True,  True, False, False,  True,  True,  True,\n       False,  True,  True, False, False,  True, False,  True,  True,\n       False, False,  True, False, False,  True,  True,  True, False,\n       False,  True, False, False,  True, False, False, False,  True,\n       False])"
     },
     "execution_count": 23,
     "metadata": {},
     "output_type": "execute_result"
    }
   ],
   "source": [
    "python < 60"
   ],
   "metadata": {
    "collapsed": false,
    "ExecuteTime": {
     "end_time": "2023-11-12T04:13:52.178892Z",
     "start_time": "2023-11-12T04:13:52.176Z"
    }
   },
   "id": "819fad423956c2cc"
  },
  {
   "cell_type": "code",
   "execution_count": 24,
   "outputs": [
    {
     "data": {
      "text/plain": "array([ 3, 45, 28, 21, 31, 56, 37, 37, 23,  7, 25, 47, 50, 15, 50,  6, 19,\n       29, 49, 36, 37,  9, 50, 56, 11, 48, 41, 59, 13, 15, 54, 47, 35, 30,\n        2, 20,  3, 33, 12, 16, 35, 20, 28, 38, 10, 36, 16, 26,  1, 34, 26,\n       40,  1, 24, 42,  5, 17, 47, 22,  1, 18,  6])"
     },
     "execution_count": 24,
     "metadata": {},
     "output_type": "execute_result"
    }
   ],
   "source": [
    "python[python < 60]"
   ],
   "metadata": {
    "collapsed": false,
    "ExecuteTime": {
     "end_time": "2023-11-12T04:14:04.901048Z",
     "start_time": "2023-11-12T04:14:04.890901Z"
    }
   },
   "id": "a1c52bd7959d9396"
  },
  {
   "cell_type": "code",
   "execution_count": 34,
   "outputs": [
    {
     "data": {
      "text/plain": "False"
     },
     "execution_count": 34,
     "metadata": {},
     "output_type": "execute_result"
    }
   ],
   "source": [
    "(python == 100).any()"
   ],
   "metadata": {
    "collapsed": false,
    "ExecuteTime": {
     "end_time": "2023-11-12T04:23:33.443480Z",
     "start_time": "2023-11-12T04:23:33.433458Z"
    }
   },
   "id": "7eae88209034d61b"
  },
  {
   "cell_type": "code",
   "execution_count": 35,
   "outputs": [
    {
     "data": {
      "text/plain": "True"
     },
     "execution_count": 35,
     "metadata": {},
     "output_type": "execute_result"
    }
   ],
   "source": [
    "(python != 100).all()"
   ],
   "metadata": {
    "collapsed": false,
    "ExecuteTime": {
     "end_time": "2023-11-12T04:24:09.550337Z",
     "start_time": "2023-11-12T04:24:09.544376Z"
    }
   },
   "id": "7646786d31e9e9bc"
  },
  {
   "cell_type": "code",
   "execution_count": 36,
   "outputs": [
    {
     "data": {
      "text/plain": "array([[47, 61, 86],\n       [29, 45, 41],\n       [63, 51, 53],\n       [54, 75, 48],\n       [96, 63, 53],\n       [22, 91, 76],\n       [56, 41,  4],\n       [99, 26, 14],\n       [67, 29,  9],\n       [57, 98, 40]])"
     },
     "execution_count": 36,
     "metadata": {},
     "output_type": "execute_result"
    }
   ],
   "source": [
    "score = np.random.randint(0,100,size=(10,3))\n",
    "score"
   ],
   "metadata": {
    "collapsed": false,
    "ExecuteTime": {
     "end_time": "2023-11-12T04:25:26.426721Z",
     "start_time": "2023-11-12T04:25:26.420873Z"
    }
   },
   "id": "9872e4c482c4a3a6"
  },
  {
   "cell_type": "code",
   "execution_count": 37,
   "outputs": [
    {
     "data": {
      "text/plain": "array([[96, 63, 53],\n       [22, 91, 76],\n       [99, 26, 14],\n       [57, 98, 40]])"
     },
     "execution_count": 37,
     "metadata": {},
     "output_type": "execute_result"
    }
   ],
   "source": [
    "# 查找超过90的，至少一门，查找至少有一门学科超过90的同学\n",
    "score[(score > 90).any(axis=1)]\n"
   ],
   "metadata": {
    "collapsed": false,
    "ExecuteTime": {
     "end_time": "2023-11-12T04:27:49.526906Z",
     "start_time": "2023-11-12T04:27:49.510131Z"
    }
   },
   "id": "c8cdc90e3e54b18b"
  },
  {
   "cell_type": "code",
   "execution_count": 41,
   "outputs": [
    {
     "data": {
      "text/plain": "array([[59., nan, 22.],\n       [39., 39., 82.],\n       [41., 47., 74.],\n       [35., 28., 18.],\n       [16., 12., 45.]])"
     },
     "execution_count": 41,
     "metadata": {},
     "output_type": "execute_result"
    }
   ],
   "source": [
    "data = np.random.randint(0,100,size=(5,3))\n",
    "data = data.astype(np.float64)\n",
    "data[0,1] = np.nan\n",
    "data"
   ],
   "metadata": {
    "collapsed": false,
    "ExecuteTime": {
     "end_time": "2023-11-12T05:11:27.464787Z",
     "start_time": "2023-11-12T05:11:27.454374Z"
    }
   },
   "id": "d716f23c59593d50"
  },
  {
   "cell_type": "code",
   "execution_count": 44,
   "outputs": [
    {
     "data": {
      "text/plain": "array([[16., 12., 18.],\n       [35., 28., 22.],\n       [39., 39., 45.],\n       [41., 47., 74.],\n       [59., nan, 82.]])"
     },
     "execution_count": 44,
     "metadata": {},
     "output_type": "execute_result"
    }
   ],
   "source": [
    " # 排序\n",
    "np.sort(data,axis=0)"
   ],
   "metadata": {
    "collapsed": false,
    "ExecuteTime": {
     "end_time": "2023-11-12T06:07:45.333273Z",
     "start_time": "2023-11-12T06:07:45.329970Z"
    }
   },
   "id": "c54b8468d7b1b505"
  },
  {
   "cell_type": "code",
   "execution_count": 49,
   "outputs": [
    {
     "data": {
      "text/plain": "array([[16., 12., 18.],\n       [35., 28., 22.],\n       [39., 39., 45.],\n       [41., 47., 82.],\n       [59., nan, 74.]])"
     },
     "execution_count": 49,
     "metadata": {},
     "output_type": "execute_result"
    }
   ],
   "source": [
    "# 部分排序,得到最小的两个数,partition(a,k)k为负值就是得到最大的数\n",
    "np.partition(data,2,axis=0)"
   ],
   "metadata": {
    "collapsed": false,
    "ExecuteTime": {
     "end_time": "2023-11-12T06:11:06.223764Z",
     "start_time": "2023-11-12T06:11:06.212516Z"
    }
   },
   "id": "31050a55072ff64a"
  }
 ],
 "metadata": {
  "kernelspec": {
   "display_name": "Python 3",
   "language": "python",
   "name": "python3"
  },
  "language_info": {
   "codemirror_mode": {
    "name": "ipython",
    "version": 2
   },
   "file_extension": ".py",
   "mimetype": "text/x-python",
   "name": "python",
   "nbconvert_exporter": "python",
   "pygments_lexer": "ipython2",
   "version": "2.7.6"
  }
 },
 "nbformat": 4,
 "nbformat_minor": 5
}
