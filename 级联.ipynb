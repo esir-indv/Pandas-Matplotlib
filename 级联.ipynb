{
 "cells": [
  {
   "cell_type": "code",
   "execution_count": 14,
   "id": "initial_id",
   "metadata": {
    "collapsed": true,
    "ExecuteTime": {
     "end_time": "2023-11-20T15:23:57.022401Z",
     "start_time": "2023-11-20T15:23:56.985893Z"
    }
   },
   "outputs": [],
   "source": [
    "import numpy as np\n",
    "import pandas as pd\n",
    "from pandas import Series, DataFrame\n",
    "import matplotlib.pyplot as plt\n",
    "%matplotlib inline\n"
   ]
  },
  {
   "cell_type": "code",
   "execution_count": 15,
   "outputs": [
    {
     "data": {
      "text/plain": "        张三      李四    \n        期中  期末  期中  期末\npython  28  34   1  49\njava    32  90  11  24\nc       90  95  29  24",
      "text/html": "<div>\n<style scoped>\n    .dataframe tbody tr th:only-of-type {\n        vertical-align: middle;\n    }\n\n    .dataframe tbody tr th {\n        vertical-align: top;\n    }\n\n    .dataframe thead tr th {\n        text-align: left;\n    }\n</style>\n<table border=\"1\" class=\"dataframe\">\n  <thead>\n    <tr>\n      <th></th>\n      <th colspan=\"2\" halign=\"left\">张三</th>\n      <th colspan=\"2\" halign=\"left\">李四</th>\n    </tr>\n    <tr>\n      <th></th>\n      <th>期中</th>\n      <th>期末</th>\n      <th>期中</th>\n      <th>期末</th>\n    </tr>\n  </thead>\n  <tbody>\n    <tr>\n      <th>python</th>\n      <td>28</td>\n      <td>34</td>\n      <td>1</td>\n      <td>49</td>\n    </tr>\n    <tr>\n      <th>java</th>\n      <td>32</td>\n      <td>90</td>\n      <td>11</td>\n      <td>24</td>\n    </tr>\n    <tr>\n      <th>c</th>\n      <td>90</td>\n      <td>95</td>\n      <td>29</td>\n      <td>24</td>\n    </tr>\n  </tbody>\n</table>\n</div>"
     },
     "execution_count": 15,
     "metadata": {},
     "output_type": "execute_result"
    }
   ],
   "source": [
    "# 创建一个DataFrame，表示出张三李四期中期末各科成绩，（python，java，c）\n",
    "columns = pd.MultiIndex.from_product([['张三', '李四'], ['期中', '期末']])\n",
    "index = np.array(['python', 'java', 'c'])\n",
    "df = DataFrame(data=np.random.randint(1, 100, size=(3, 4)), index=index, columns=columns)\n",
    "df"
   ],
   "metadata": {
    "collapsed": false,
    "ExecuteTime": {
     "end_time": "2023-11-20T15:23:57.026480Z",
     "start_time": "2023-11-20T15:23:57.007601Z"
    }
   },
   "id": "e0e0066cb3f3d6fb"
  },
  {
   "cell_type": "code",
   "execution_count": 16,
   "outputs": [
    {
     "data": {
      "text/plain": "        上学期             下学期         \n     python java   c python java   c\ntom      46   52  41     53   10  27\nlucy     65   73  30     73   75  38\njack     88   46  54     40   95   4",
      "text/html": "<div>\n<style scoped>\n    .dataframe tbody tr th:only-of-type {\n        vertical-align: middle;\n    }\n\n    .dataframe tbody tr th {\n        vertical-align: top;\n    }\n\n    .dataframe thead tr th {\n        text-align: left;\n    }\n</style>\n<table border=\"1\" class=\"dataframe\">\n  <thead>\n    <tr>\n      <th></th>\n      <th colspan=\"3\" halign=\"left\">上学期</th>\n      <th colspan=\"3\" halign=\"left\">下学期</th>\n    </tr>\n    <tr>\n      <th></th>\n      <th>python</th>\n      <th>java</th>\n      <th>c</th>\n      <th>python</th>\n      <th>java</th>\n      <th>c</th>\n    </tr>\n  </thead>\n  <tbody>\n    <tr>\n      <th>tom</th>\n      <td>46</td>\n      <td>52</td>\n      <td>41</td>\n      <td>53</td>\n      <td>10</td>\n      <td>27</td>\n    </tr>\n    <tr>\n      <th>lucy</th>\n      <td>65</td>\n      <td>73</td>\n      <td>30</td>\n      <td>73</td>\n      <td>75</td>\n      <td>38</td>\n    </tr>\n    <tr>\n      <th>jack</th>\n      <td>88</td>\n      <td>46</td>\n      <td>54</td>\n      <td>40</td>\n      <td>95</td>\n      <td>4</td>\n    </tr>\n  </tbody>\n</table>\n</div>"
     },
     "execution_count": 16,
     "metadata": {},
     "output_type": "execute_result"
    }
   ],
   "source": [
    "# 练习：\n",
    "# 构造一个多层级列索引成绩表，分值在0-100内随机\n",
    "# 一级标题为上学期和下学期，二级标题为python、java、c，行标签为tom、Lucy、jack\n",
    "# 同时获取上学期和下学期tom的成绩，计算tom的各学科的平均成绩\n",
    "# 获取上学期jack的python成绩，并给他加20分\n",
    "\n",
    "index = np.array(['tom', 'lucy', 'jack'])\n",
    "columns = pd.MultiIndex.from_product([['上学期', '下学期'], ['python', 'java', 'c']])\n",
    "data = np.random.randint(0,100,size=(3,6))\n",
    "df1 = DataFrame(data=data,index=index,columns=columns)\n",
    "df1"
   ],
   "metadata": {
    "collapsed": false,
    "ExecuteTime": {
     "end_time": "2023-11-20T15:23:57.026779Z",
     "start_time": "2023-11-20T15:23:57.020275Z"
    }
   },
   "id": "f9127d0b1fa7e33e"
  },
  {
   "cell_type": "code",
   "execution_count": 17,
   "outputs": [],
   "source": [
    "# 练习13:\n",
    "# 想一想级联的应用场景\n",
    "# 使用昨天的知识，建立一个期中考试张三、李四的成绩表ddd\n",
    "# 假设新增考试学科‘计算机’，如何实现\n",
    "# 新增王老五的成绩，如何实现？\n",
    "#【使用级联来实现】\n",
    "# 测试，这里使用了外接蓝牙键盘\n",
    " "
   ],
   "metadata": {
    "collapsed": false,
    "ExecuteTime": {
     "end_time": "2023-11-20T15:23:57.027367Z",
     "start_time": "2023-11-20T15:23:57.025273Z"
    }
   },
   "id": "771e4bd862040ea7"
  },
  {
   "cell_type": "code",
   "execution_count": 18,
   "outputs": [
    {
     "data": {
      "text/plain": "    语文  数学\n张三  65  71\n李四  60  48",
      "text/html": "<div>\n<style scoped>\n    .dataframe tbody tr th:only-of-type {\n        vertical-align: middle;\n    }\n\n    .dataframe tbody tr th {\n        vertical-align: top;\n    }\n\n    .dataframe thead th {\n        text-align: right;\n    }\n</style>\n<table border=\"1\" class=\"dataframe\">\n  <thead>\n    <tr style=\"text-align: right;\">\n      <th></th>\n      <th>语文</th>\n      <th>数学</th>\n    </tr>\n  </thead>\n  <tbody>\n    <tr>\n      <th>张三</th>\n      <td>65</td>\n      <td>71</td>\n    </tr>\n    <tr>\n      <th>李四</th>\n      <td>60</td>\n      <td>48</td>\n    </tr>\n  </tbody>\n</table>\n</div>"
     },
     "execution_count": 18,
     "metadata": {},
     "output_type": "execute_result"
    }
   ],
   "source": [
    "columns = np.array(['语文','数学'])\n",
    "index = np.array(['张三','李四'])\n",
    "df2 = DataFrame(data=np.random.randint(40,100,size=(2,2)) ,index=index, columns= columns)\n",
    "df2"
   ],
   "metadata": {
    "collapsed": false,
    "ExecuteTime": {
     "end_time": "2023-11-20T15:23:57.036649Z",
     "start_time": "2023-11-20T15:23:57.028859Z"
    }
   },
   "id": "5d1a59ecf4d1bd68"
  },
  {
   "cell_type": "code",
   "execution_count": 19,
   "outputs": [
    {
     "data": {
      "text/plain": "    计算机\n张三   61\n李四   54",
      "text/html": "<div>\n<style scoped>\n    .dataframe tbody tr th:only-of-type {\n        vertical-align: middle;\n    }\n\n    .dataframe tbody tr th {\n        vertical-align: top;\n    }\n\n    .dataframe thead th {\n        text-align: right;\n    }\n</style>\n<table border=\"1\" class=\"dataframe\">\n  <thead>\n    <tr style=\"text-align: right;\">\n      <th></th>\n      <th>计算机</th>\n    </tr>\n  </thead>\n  <tbody>\n    <tr>\n      <th>张三</th>\n      <td>61</td>\n    </tr>\n    <tr>\n      <th>李四</th>\n      <td>54</td>\n    </tr>\n  </tbody>\n</table>\n</div>"
     },
     "execution_count": 19,
     "metadata": {},
     "output_type": "execute_result"
    }
   ],
   "source": [
    "columns = np.array(['计算机'])\n",
    "index = np.array(['张三','李四'])\n",
    "df3 = DataFrame(data=np.random.randint(40,100,size=(2,1)) ,index=index, columns= columns)\n",
    "df3"
   ],
   "metadata": {
    "collapsed": false,
    "ExecuteTime": {
     "end_time": "2023-11-20T15:23:57.038052Z",
     "start_time": "2023-11-20T15:23:57.035426Z"
    }
   },
   "id": "ba59abf4fd1503a0"
  },
  {
   "cell_type": "code",
   "execution_count": 20,
   "outputs": [
    {
     "data": {
      "text/plain": "      语文    数学   计算机\n张三  65.0  71.0   NaN\n李四  60.0  48.0   NaN\n张三   NaN   NaN  61.0\n李四   NaN   NaN  54.0",
      "text/html": "<div>\n<style scoped>\n    .dataframe tbody tr th:only-of-type {\n        vertical-align: middle;\n    }\n\n    .dataframe tbody tr th {\n        vertical-align: top;\n    }\n\n    .dataframe thead th {\n        text-align: right;\n    }\n</style>\n<table border=\"1\" class=\"dataframe\">\n  <thead>\n    <tr style=\"text-align: right;\">\n      <th></th>\n      <th>语文</th>\n      <th>数学</th>\n      <th>计算机</th>\n    </tr>\n  </thead>\n  <tbody>\n    <tr>\n      <th>张三</th>\n      <td>65.0</td>\n      <td>71.0</td>\n      <td>NaN</td>\n    </tr>\n    <tr>\n      <th>李四</th>\n      <td>60.0</td>\n      <td>48.0</td>\n      <td>NaN</td>\n    </tr>\n    <tr>\n      <th>张三</th>\n      <td>NaN</td>\n      <td>NaN</td>\n      <td>61.0</td>\n    </tr>\n    <tr>\n      <th>李四</th>\n      <td>NaN</td>\n      <td>NaN</td>\n      <td>54.0</td>\n    </tr>\n  </tbody>\n</table>\n</div>"
     },
     "execution_count": 20,
     "metadata": {},
     "output_type": "execute_result"
    }
   ],
   "source": [
    "# 能够匹配的级联,默认纵向\n",
    "pd4 = pd.concat((df2,df3))\n",
    "pd4"
   ],
   "metadata": {
    "collapsed": false,
    "ExecuteTime": {
     "end_time": "2023-11-20T15:23:57.046769Z",
     "start_time": "2023-11-20T15:23:57.039403Z"
    }
   },
   "id": "4522740e5d972fbf"
  },
  {
   "cell_type": "code",
   "execution_count": 21,
   "outputs": [
    {
     "data": {
      "text/plain": "    语文  数学  计算机\n张三  65  71   61\n李四  60  48   54",
      "text/html": "<div>\n<style scoped>\n    .dataframe tbody tr th:only-of-type {\n        vertical-align: middle;\n    }\n\n    .dataframe tbody tr th {\n        vertical-align: top;\n    }\n\n    .dataframe thead th {\n        text-align: right;\n    }\n</style>\n<table border=\"1\" class=\"dataframe\">\n  <thead>\n    <tr style=\"text-align: right;\">\n      <th></th>\n      <th>语文</th>\n      <th>数学</th>\n      <th>计算机</th>\n    </tr>\n  </thead>\n  <tbody>\n    <tr>\n      <th>张三</th>\n      <td>65</td>\n      <td>71</td>\n      <td>61</td>\n    </tr>\n    <tr>\n      <th>李四</th>\n      <td>60</td>\n      <td>48</td>\n      <td>54</td>\n    </tr>\n  </tbody>\n</table>\n</div>"
     },
     "execution_count": 21,
     "metadata": {},
     "output_type": "execute_result"
    }
   ],
   "source": [
    "# 能够匹配的级联,改为横向\n",
    "pd5 = pd.concat((df2,df3),axis=1)\n",
    "pd5"
   ],
   "metadata": {
    "collapsed": false,
    "ExecuteTime": {
     "end_time": "2023-11-20T15:23:57.062065Z",
     "start_time": "2023-11-20T15:23:57.045093Z"
    }
   },
   "id": "9588042f33aa1076"
  },
  {
   "cell_type": "code",
   "execution_count": 22,
   "outputs": [
    {
     "data": {
      "text/plain": "    语文  数学  计算机\n王五  68  98   53",
      "text/html": "<div>\n<style scoped>\n    .dataframe tbody tr th:only-of-type {\n        vertical-align: middle;\n    }\n\n    .dataframe tbody tr th {\n        vertical-align: top;\n    }\n\n    .dataframe thead th {\n        text-align: right;\n    }\n</style>\n<table border=\"1\" class=\"dataframe\">\n  <thead>\n    <tr style=\"text-align: right;\">\n      <th></th>\n      <th>语文</th>\n      <th>数学</th>\n      <th>计算机</th>\n    </tr>\n  </thead>\n  <tbody>\n    <tr>\n      <th>王五</th>\n      <td>68</td>\n      <td>98</td>\n      <td>53</td>\n    </tr>\n  </tbody>\n</table>\n</div>"
     },
     "execution_count": 22,
     "metadata": {},
     "output_type": "execute_result"
    }
   ],
   "source": [
    "# 新增王老五的成绩单\n",
    "score_wang = DataFrame(data=np.random.randint(40,100,size=(1,3)),index = ['王五'],columns=pd5.columns)\n",
    "score_wang"
   ],
   "metadata": {
    "collapsed": false,
    "ExecuteTime": {
     "end_time": "2023-11-20T15:23:57.080564Z",
     "start_time": "2023-11-20T15:23:57.049065Z"
    }
   },
   "id": "be6818bec48bc1cd"
  },
  {
   "cell_type": "code",
   "execution_count": 23,
   "outputs": [
    {
     "data": {
      "text/plain": "    语文  数学  计算机\n张三  65  71   61\n李四  60  48   54\n王五  68  98   53",
      "text/html": "<div>\n<style scoped>\n    .dataframe tbody tr th:only-of-type {\n        vertical-align: middle;\n    }\n\n    .dataframe tbody tr th {\n        vertical-align: top;\n    }\n\n    .dataframe thead th {\n        text-align: right;\n    }\n</style>\n<table border=\"1\" class=\"dataframe\">\n  <thead>\n    <tr style=\"text-align: right;\">\n      <th></th>\n      <th>语文</th>\n      <th>数学</th>\n      <th>计算机</th>\n    </tr>\n  </thead>\n  <tbody>\n    <tr>\n      <th>张三</th>\n      <td>65</td>\n      <td>71</td>\n      <td>61</td>\n    </tr>\n    <tr>\n      <th>李四</th>\n      <td>60</td>\n      <td>48</td>\n      <td>54</td>\n    </tr>\n    <tr>\n      <th>王五</th>\n      <td>68</td>\n      <td>98</td>\n      <td>53</td>\n    </tr>\n  </tbody>\n</table>\n</div>"
     },
     "execution_count": 23,
     "metadata": {},
     "output_type": "execute_result"
    }
   ],
   "source": [
    "pd6 = pd.concat((pd5,score_wang))\n",
    "pd6"
   ],
   "metadata": {
    "collapsed": false,
    "ExecuteTime": {
     "end_time": "2023-11-20T15:23:57.131510Z",
     "start_time": "2023-11-20T15:23:57.055075Z"
    }
   },
   "id": "f8c288c5b94c7a0c"
  },
  {
   "cell_type": "code",
   "execution_count": 24,
   "outputs": [
    {
     "data": {
      "text/plain": "   A  B  玉  婷  E  F  冯  亮\n0  8  4  3  8  7  9  6  1\n1  7  6  9  9  5  4  9  7\n2  8  1  2  4  8  7  3  2\n3  6  8  2  7  6  9  3  5\n4  8  6  8  6  3  4  5  4\n5  3  8  2  3  8  6  4  4",
      "text/html": "<div>\n<style scoped>\n    .dataframe tbody tr th:only-of-type {\n        vertical-align: middle;\n    }\n\n    .dataframe tbody tr th {\n        vertical-align: top;\n    }\n\n    .dataframe thead th {\n        text-align: right;\n    }\n</style>\n<table border=\"1\" class=\"dataframe\">\n  <thead>\n    <tr style=\"text-align: right;\">\n      <th></th>\n      <th>A</th>\n      <th>B</th>\n      <th>玉</th>\n      <th>婷</th>\n      <th>E</th>\n      <th>F</th>\n      <th>冯</th>\n      <th>亮</th>\n    </tr>\n  </thead>\n  <tbody>\n    <tr>\n      <th>0</th>\n      <td>8</td>\n      <td>4</td>\n      <td>3</td>\n      <td>8</td>\n      <td>7</td>\n      <td>9</td>\n      <td>6</td>\n      <td>1</td>\n    </tr>\n    <tr>\n      <th>1</th>\n      <td>7</td>\n      <td>6</td>\n      <td>9</td>\n      <td>9</td>\n      <td>5</td>\n      <td>4</td>\n      <td>9</td>\n      <td>7</td>\n    </tr>\n    <tr>\n      <th>2</th>\n      <td>8</td>\n      <td>1</td>\n      <td>2</td>\n      <td>4</td>\n      <td>8</td>\n      <td>7</td>\n      <td>3</td>\n      <td>2</td>\n    </tr>\n    <tr>\n      <th>3</th>\n      <td>6</td>\n      <td>8</td>\n      <td>2</td>\n      <td>7</td>\n      <td>6</td>\n      <td>9</td>\n      <td>3</td>\n      <td>5</td>\n    </tr>\n    <tr>\n      <th>4</th>\n      <td>8</td>\n      <td>6</td>\n      <td>8</td>\n      <td>6</td>\n      <td>3</td>\n      <td>4</td>\n      <td>5</td>\n      <td>4</td>\n    </tr>\n    <tr>\n      <th>5</th>\n      <td>3</td>\n      <td>8</td>\n      <td>2</td>\n      <td>3</td>\n      <td>8</td>\n      <td>6</td>\n      <td>4</td>\n      <td>4</td>\n    </tr>\n  </tbody>\n</table>\n</div>"
     },
     "execution_count": 24,
     "metadata": {},
     "output_type": "execute_result"
    }
   ],
   "source": [
    "columns = np.array(list('AB玉婷EF冯亮'))\n",
    "data = np.random.randint(1,10,size=(6,8))\n",
    "df7 = DataFrame(data=data,columns=columns)\n",
    "df7"
   ],
   "metadata": {
    "collapsed": false,
    "ExecuteTime": {
     "end_time": "2023-11-20T15:23:57.132411Z",
     "start_time": "2023-11-20T15:23:57.059458Z"
    }
   },
   "id": "b00b7d2951b1e8af"
  },
  {
   "cell_type": "code",
   "execution_count": 25,
   "outputs": [
    {
     "data": {
      "text/plain": "     X    B    苹    果    E    F    香    蕉\n0  176  171  137  135  182  104  184  187\n1  195  171  159  122  187  140  102  107\n2  177  145  123  178  174  174  151  199\n4  186  101  120  186  115  195  191  195\n5  111  194  189  141  124  135  129  197\n6  138  115  150  173  156  169  131  161\n7  102  123  137  108  149  167  154  133\n8  100  163  197  144  172  100  195  159",
      "text/html": "<div>\n<style scoped>\n    .dataframe tbody tr th:only-of-type {\n        vertical-align: middle;\n    }\n\n    .dataframe tbody tr th {\n        vertical-align: top;\n    }\n\n    .dataframe thead th {\n        text-align: right;\n    }\n</style>\n<table border=\"1\" class=\"dataframe\">\n  <thead>\n    <tr style=\"text-align: right;\">\n      <th></th>\n      <th>X</th>\n      <th>B</th>\n      <th>苹</th>\n      <th>果</th>\n      <th>E</th>\n      <th>F</th>\n      <th>香</th>\n      <th>蕉</th>\n    </tr>\n  </thead>\n  <tbody>\n    <tr>\n      <th>0</th>\n      <td>176</td>\n      <td>171</td>\n      <td>137</td>\n      <td>135</td>\n      <td>182</td>\n      <td>104</td>\n      <td>184</td>\n      <td>187</td>\n    </tr>\n    <tr>\n      <th>1</th>\n      <td>195</td>\n      <td>171</td>\n      <td>159</td>\n      <td>122</td>\n      <td>187</td>\n      <td>140</td>\n      <td>102</td>\n      <td>107</td>\n    </tr>\n    <tr>\n      <th>2</th>\n      <td>177</td>\n      <td>145</td>\n      <td>123</td>\n      <td>178</td>\n      <td>174</td>\n      <td>174</td>\n      <td>151</td>\n      <td>199</td>\n    </tr>\n    <tr>\n      <th>4</th>\n      <td>186</td>\n      <td>101</td>\n      <td>120</td>\n      <td>186</td>\n      <td>115</td>\n      <td>195</td>\n      <td>191</td>\n      <td>195</td>\n    </tr>\n    <tr>\n      <th>5</th>\n      <td>111</td>\n      <td>194</td>\n      <td>189</td>\n      <td>141</td>\n      <td>124</td>\n      <td>135</td>\n      <td>129</td>\n      <td>197</td>\n    </tr>\n    <tr>\n      <th>6</th>\n      <td>138</td>\n      <td>115</td>\n      <td>150</td>\n      <td>173</td>\n      <td>156</td>\n      <td>169</td>\n      <td>131</td>\n      <td>161</td>\n    </tr>\n    <tr>\n      <th>7</th>\n      <td>102</td>\n      <td>123</td>\n      <td>137</td>\n      <td>108</td>\n      <td>149</td>\n      <td>167</td>\n      <td>154</td>\n      <td>133</td>\n    </tr>\n    <tr>\n      <th>8</th>\n      <td>100</td>\n      <td>163</td>\n      <td>197</td>\n      <td>144</td>\n      <td>172</td>\n      <td>100</td>\n      <td>195</td>\n      <td>159</td>\n    </tr>\n  </tbody>\n</table>\n</div>"
     },
     "execution_count": 25,
     "metadata": {},
     "output_type": "execute_result"
    }
   ],
   "source": [
    "columns = np.array(list('XB苹果EF香蕉'))\n",
    "data = np.random.randint(100,200,size=(9,8))\n",
    "df8 = DataFrame(data=data,columns=columns)\n",
    "df8.drop(labels=3,axis=0,inplace=True)\n",
    "df8"
   ],
   "metadata": {
    "collapsed": false,
    "ExecuteTime": {
     "end_time": "2023-11-20T15:23:57.133379Z",
     "start_time": "2023-11-20T15:23:57.064774Z"
    }
   },
   "id": "ffa6be4d8be87c0f"
  },
  {
   "cell_type": "code",
   "execution_count": 27,
   "outputs": [
    {
     "data": {
      "text/plain": "     A    B    玉    婷    E    F    冯    亮      X      苹      果      香      蕉\n0  8.0    4  3.0  8.0    7    9  6.0  1.0    NaN    NaN    NaN    NaN    NaN\n1  7.0    6  9.0  9.0    5    4  9.0  7.0    NaN    NaN    NaN    NaN    NaN\n2  8.0    1  2.0  4.0    8    7  3.0  2.0    NaN    NaN    NaN    NaN    NaN\n3  6.0    8  2.0  7.0    6    9  3.0  5.0    NaN    NaN    NaN    NaN    NaN\n4  8.0    6  8.0  6.0    3    4  5.0  4.0    NaN    NaN    NaN    NaN    NaN\n5  3.0    8  2.0  3.0    8    6  4.0  4.0    NaN    NaN    NaN    NaN    NaN\n0  NaN  171  NaN  NaN  182  104  NaN  NaN  176.0  137.0  135.0  184.0  187.0\n1  NaN  171  NaN  NaN  187  140  NaN  NaN  195.0  159.0  122.0  102.0  107.0\n2  NaN  145  NaN  NaN  174  174  NaN  NaN  177.0  123.0  178.0  151.0  199.0\n4  NaN  101  NaN  NaN  115  195  NaN  NaN  186.0  120.0  186.0  191.0  195.0\n5  NaN  194  NaN  NaN  124  135  NaN  NaN  111.0  189.0  141.0  129.0  197.0\n6  NaN  115  NaN  NaN  156  169  NaN  NaN  138.0  150.0  173.0  131.0  161.0\n7  NaN  123  NaN  NaN  149  167  NaN  NaN  102.0  137.0  108.0  154.0  133.0\n8  NaN  163  NaN  NaN  172  100  NaN  NaN  100.0  197.0  144.0  195.0  159.0",
      "text/html": "<div>\n<style scoped>\n    .dataframe tbody tr th:only-of-type {\n        vertical-align: middle;\n    }\n\n    .dataframe tbody tr th {\n        vertical-align: top;\n    }\n\n    .dataframe thead th {\n        text-align: right;\n    }\n</style>\n<table border=\"1\" class=\"dataframe\">\n  <thead>\n    <tr style=\"text-align: right;\">\n      <th></th>\n      <th>A</th>\n      <th>B</th>\n      <th>玉</th>\n      <th>婷</th>\n      <th>E</th>\n      <th>F</th>\n      <th>冯</th>\n      <th>亮</th>\n      <th>X</th>\n      <th>苹</th>\n      <th>果</th>\n      <th>香</th>\n      <th>蕉</th>\n    </tr>\n  </thead>\n  <tbody>\n    <tr>\n      <th>0</th>\n      <td>8.0</td>\n      <td>4</td>\n      <td>3.0</td>\n      <td>8.0</td>\n      <td>7</td>\n      <td>9</td>\n      <td>6.0</td>\n      <td>1.0</td>\n      <td>NaN</td>\n      <td>NaN</td>\n      <td>NaN</td>\n      <td>NaN</td>\n      <td>NaN</td>\n    </tr>\n    <tr>\n      <th>1</th>\n      <td>7.0</td>\n      <td>6</td>\n      <td>9.0</td>\n      <td>9.0</td>\n      <td>5</td>\n      <td>4</td>\n      <td>9.0</td>\n      <td>7.0</td>\n      <td>NaN</td>\n      <td>NaN</td>\n      <td>NaN</td>\n      <td>NaN</td>\n      <td>NaN</td>\n    </tr>\n    <tr>\n      <th>2</th>\n      <td>8.0</td>\n      <td>1</td>\n      <td>2.0</td>\n      <td>4.0</td>\n      <td>8</td>\n      <td>7</td>\n      <td>3.0</td>\n      <td>2.0</td>\n      <td>NaN</td>\n      <td>NaN</td>\n      <td>NaN</td>\n      <td>NaN</td>\n      <td>NaN</td>\n    </tr>\n    <tr>\n      <th>3</th>\n      <td>6.0</td>\n      <td>8</td>\n      <td>2.0</td>\n      <td>7.0</td>\n      <td>6</td>\n      <td>9</td>\n      <td>3.0</td>\n      <td>5.0</td>\n      <td>NaN</td>\n      <td>NaN</td>\n      <td>NaN</td>\n      <td>NaN</td>\n      <td>NaN</td>\n    </tr>\n    <tr>\n      <th>4</th>\n      <td>8.0</td>\n      <td>6</td>\n      <td>8.0</td>\n      <td>6.0</td>\n      <td>3</td>\n      <td>4</td>\n      <td>5.0</td>\n      <td>4.0</td>\n      <td>NaN</td>\n      <td>NaN</td>\n      <td>NaN</td>\n      <td>NaN</td>\n      <td>NaN</td>\n    </tr>\n    <tr>\n      <th>5</th>\n      <td>3.0</td>\n      <td>8</td>\n      <td>2.0</td>\n      <td>3.0</td>\n      <td>8</td>\n      <td>6</td>\n      <td>4.0</td>\n      <td>4.0</td>\n      <td>NaN</td>\n      <td>NaN</td>\n      <td>NaN</td>\n      <td>NaN</td>\n      <td>NaN</td>\n    </tr>\n    <tr>\n      <th>0</th>\n      <td>NaN</td>\n      <td>171</td>\n      <td>NaN</td>\n      <td>NaN</td>\n      <td>182</td>\n      <td>104</td>\n      <td>NaN</td>\n      <td>NaN</td>\n      <td>176.0</td>\n      <td>137.0</td>\n      <td>135.0</td>\n      <td>184.0</td>\n      <td>187.0</td>\n    </tr>\n    <tr>\n      <th>1</th>\n      <td>NaN</td>\n      <td>171</td>\n      <td>NaN</td>\n      <td>NaN</td>\n      <td>187</td>\n      <td>140</td>\n      <td>NaN</td>\n      <td>NaN</td>\n      <td>195.0</td>\n      <td>159.0</td>\n      <td>122.0</td>\n      <td>102.0</td>\n      <td>107.0</td>\n    </tr>\n    <tr>\n      <th>2</th>\n      <td>NaN</td>\n      <td>145</td>\n      <td>NaN</td>\n      <td>NaN</td>\n      <td>174</td>\n      <td>174</td>\n      <td>NaN</td>\n      <td>NaN</td>\n      <td>177.0</td>\n      <td>123.0</td>\n      <td>178.0</td>\n      <td>151.0</td>\n      <td>199.0</td>\n    </tr>\n    <tr>\n      <th>4</th>\n      <td>NaN</td>\n      <td>101</td>\n      <td>NaN</td>\n      <td>NaN</td>\n      <td>115</td>\n      <td>195</td>\n      <td>NaN</td>\n      <td>NaN</td>\n      <td>186.0</td>\n      <td>120.0</td>\n      <td>186.0</td>\n      <td>191.0</td>\n      <td>195.0</td>\n    </tr>\n    <tr>\n      <th>5</th>\n      <td>NaN</td>\n      <td>194</td>\n      <td>NaN</td>\n      <td>NaN</td>\n      <td>124</td>\n      <td>135</td>\n      <td>NaN</td>\n      <td>NaN</td>\n      <td>111.0</td>\n      <td>189.0</td>\n      <td>141.0</td>\n      <td>129.0</td>\n      <td>197.0</td>\n    </tr>\n    <tr>\n      <th>6</th>\n      <td>NaN</td>\n      <td>115</td>\n      <td>NaN</td>\n      <td>NaN</td>\n      <td>156</td>\n      <td>169</td>\n      <td>NaN</td>\n      <td>NaN</td>\n      <td>138.0</td>\n      <td>150.0</td>\n      <td>173.0</td>\n      <td>131.0</td>\n      <td>161.0</td>\n    </tr>\n    <tr>\n      <th>7</th>\n      <td>NaN</td>\n      <td>123</td>\n      <td>NaN</td>\n      <td>NaN</td>\n      <td>149</td>\n      <td>167</td>\n      <td>NaN</td>\n      <td>NaN</td>\n      <td>102.0</td>\n      <td>137.0</td>\n      <td>108.0</td>\n      <td>154.0</td>\n      <td>133.0</td>\n    </tr>\n    <tr>\n      <th>8</th>\n      <td>NaN</td>\n      <td>163</td>\n      <td>NaN</td>\n      <td>NaN</td>\n      <td>172</td>\n      <td>100</td>\n      <td>NaN</td>\n      <td>NaN</td>\n      <td>100.0</td>\n      <td>197.0</td>\n      <td>144.0</td>\n      <td>195.0</td>\n      <td>159.0</td>\n    </tr>\n  </tbody>\n</table>\n</div>"
     },
     "execution_count": 27,
     "metadata": {},
     "output_type": "execute_result"
    }
   ],
   "source": [
    "# inner内连接，outer外连接\n",
    "df9 = pd.concat((df7,df8),join='outer',axis=0)\n",
    "df9"
   ],
   "metadata": {
    "collapsed": false,
    "ExecuteTime": {
     "end_time": "2023-11-20T15:24:17.459332Z",
     "start_time": "2023-11-20T15:24:17.442075Z"
    }
   },
   "id": "6153ec84d7831d19"
  }
 ],
 "metadata": {
  "kernelspec": {
   "display_name": "Python 3",
   "language": "python",
   "name": "python3"
  },
  "language_info": {
   "codemirror_mode": {
    "name": "ipython",
    "version": 2
   },
   "file_extension": ".py",
   "mimetype": "text/x-python",
   "name": "python",
   "nbconvert_exporter": "python",
   "pygments_lexer": "ipython2",
   "version": "2.7.6"
  }
 },
 "nbformat": 4,
 "nbformat_minor": 5
}
