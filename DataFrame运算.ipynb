{
 "cells": [
  {
   "cell_type": "code",
   "execution_count": 1,
   "id": "initial_id",
   "metadata": {
    "collapsed": true,
    "ExecuteTime": {
     "end_time": "2023-11-15T01:38:56.033719Z",
     "start_time": "2023-11-15T01:38:55.374686Z"
    }
   },
   "outputs": [],
   "source": [
    "import numpy as np\n",
    "import pandas as pd\n",
    "from pandas import Series, DataFrame\n",
    "import matplotlib.pyplot as plt\n",
    "%matplotlib inline"
   ]
  },
  {
   "cell_type": "code",
   "execution_count": 5,
   "outputs": [
    {
     "data": {
      "text/plain": "     张三  李四\n语文  150   0\n数学  150   0\n英语  150   0\n理综  300   8",
      "text/html": "<div>\n<style scoped>\n    .dataframe tbody tr th:only-of-type {\n        vertical-align: middle;\n    }\n\n    .dataframe tbody tr th {\n        vertical-align: top;\n    }\n\n    .dataframe thead th {\n        text-align: right;\n    }\n</style>\n<table border=\"1\" class=\"dataframe\">\n  <thead>\n    <tr style=\"text-align: right;\">\n      <th></th>\n      <th>张三</th>\n      <th>李四</th>\n    </tr>\n  </thead>\n  <tbody>\n    <tr>\n      <th>语文</th>\n      <td>150</td>\n      <td>0</td>\n    </tr>\n    <tr>\n      <th>数学</th>\n      <td>150</td>\n      <td>0</td>\n    </tr>\n    <tr>\n      <th>英语</th>\n      <td>150</td>\n      <td>0</td>\n    </tr>\n    <tr>\n      <th>理综</th>\n      <td>300</td>\n      <td>8</td>\n    </tr>\n  </tbody>\n</table>\n</div>"
     },
     "execution_count": 5,
     "metadata": {},
     "output_type": "execute_result"
    }
   ],
   "source": [
    "df = DataFrame(data={\n",
    "    '张三': [150, 150, 150, 300],\n",
    "    '李四': [0, 0, 0, 8],\n",
    "}, index=['语文', '数学', '英语', '理综'])\n",
    "df"
   ],
   "metadata": {
    "collapsed": false,
    "ExecuteTime": {
     "end_time": "2023-11-15T01:49:53.493885Z",
     "start_time": "2023-11-15T01:49:53.478296Z"
    }
   },
   "id": "3f6dd5865ce18c5b"
  },
  {
   "cell_type": "code",
   "execution_count": 6,
   "outputs": [
    {
     "data": {
      "text/plain": "语文    150\n数学    150\n英语    150\n理综    300\nName: 张三, dtype: int64"
     },
     "execution_count": 6,
     "metadata": {},
     "output_type": "execute_result"
    }
   ],
   "source": [
    "df['张三']"
   ],
   "metadata": {
    "collapsed": false,
    "ExecuteTime": {
     "end_time": "2023-11-15T01:50:03.284696Z",
     "start_time": "2023-11-15T01:50:03.268838Z"
    }
   },
   "id": "497915909d76a04b"
  },
  {
   "cell_type": "code",
   "execution_count": 8,
   "outputs": [
    {
     "data": {
      "text/plain": "    甲   乙   丙   丁   戊\nA  82  12  28  67  90\nB  27  32   8  20  35\nC  39  35  76  78  48\nD  63  82  11  71  10\nE  57  99  30  34  37",
      "text/html": "<div>\n<style scoped>\n    .dataframe tbody tr th:only-of-type {\n        vertical-align: middle;\n    }\n\n    .dataframe tbody tr th {\n        vertical-align: top;\n    }\n\n    .dataframe thead th {\n        text-align: right;\n    }\n</style>\n<table border=\"1\" class=\"dataframe\">\n  <thead>\n    <tr style=\"text-align: right;\">\n      <th></th>\n      <th>甲</th>\n      <th>乙</th>\n      <th>丙</th>\n      <th>丁</th>\n      <th>戊</th>\n    </tr>\n  </thead>\n  <tbody>\n    <tr>\n      <th>A</th>\n      <td>82</td>\n      <td>12</td>\n      <td>28</td>\n      <td>67</td>\n      <td>90</td>\n    </tr>\n    <tr>\n      <th>B</th>\n      <td>27</td>\n      <td>32</td>\n      <td>8</td>\n      <td>20</td>\n      <td>35</td>\n    </tr>\n    <tr>\n      <th>C</th>\n      <td>39</td>\n      <td>35</td>\n      <td>76</td>\n      <td>78</td>\n      <td>48</td>\n    </tr>\n    <tr>\n      <th>D</th>\n      <td>63</td>\n      <td>82</td>\n      <td>11</td>\n      <td>71</td>\n      <td>10</td>\n    </tr>\n    <tr>\n      <th>E</th>\n      <td>57</td>\n      <td>99</td>\n      <td>30</td>\n      <td>34</td>\n      <td>37</td>\n    </tr>\n  </tbody>\n</table>\n</div>"
     },
     "execution_count": 8,
     "metadata": {},
     "output_type": "execute_result"
    }
   ],
   "source": [
    "df = DataFrame(data=np.random.randint(0, 100, size=(5, 5)), index=list('ABCDE'), columns=list('甲乙丙丁戊'))\n",
    "df"
   ],
   "metadata": {
    "collapsed": false,
    "ExecuteTime": {
     "end_time": "2023-11-15T02:03:59.268596Z",
     "start_time": "2023-11-15T02:03:59.261041Z"
    }
   },
   "id": "603082d1a2f6e67d"
  },
  {
   "cell_type": "code",
   "execution_count": 10,
   "outputs": [
    {
     "data": {
      "text/plain": "82"
     },
     "execution_count": 10,
     "metadata": {},
     "output_type": "execute_result"
    }
   ],
   "source": [
    "df.loc['A', '甲']"
   ],
   "metadata": {
    "collapsed": false,
    "ExecuteTime": {
     "end_time": "2023-11-15T02:05:59.244804Z",
     "start_time": "2023-11-15T02:05:59.226124Z"
    }
   },
   "id": "c794b2c2b17f525d"
  },
  {
   "cell_type": "code",
   "execution_count": 13,
   "outputs": [
    {
     "data": {
      "text/plain": "    甲   乙   丙   丁   戊\nA  82  12  28  67  90\nE  57  99  30  34  37",
      "text/html": "<div>\n<style scoped>\n    .dataframe tbody tr th:only-of-type {\n        vertical-align: middle;\n    }\n\n    .dataframe tbody tr th {\n        vertical-align: top;\n    }\n\n    .dataframe thead th {\n        text-align: right;\n    }\n</style>\n<table border=\"1\" class=\"dataframe\">\n  <thead>\n    <tr style=\"text-align: right;\">\n      <th></th>\n      <th>甲</th>\n      <th>乙</th>\n      <th>丙</th>\n      <th>丁</th>\n      <th>戊</th>\n    </tr>\n  </thead>\n  <tbody>\n    <tr>\n      <th>A</th>\n      <td>82</td>\n      <td>12</td>\n      <td>28</td>\n      <td>67</td>\n      <td>90</td>\n    </tr>\n    <tr>\n      <th>E</th>\n      <td>57</td>\n      <td>99</td>\n      <td>30</td>\n      <td>34</td>\n      <td>37</td>\n    </tr>\n  </tbody>\n</table>\n</div>"
     },
     "execution_count": 13,
     "metadata": {},
     "output_type": "execute_result"
    }
   ],
   "source": [
    "df.loc[['A', 'E']]"
   ],
   "metadata": {
    "collapsed": false,
    "ExecuteTime": {
     "end_time": "2023-11-15T02:06:57.666365Z",
     "start_time": "2023-11-15T02:06:57.655555Z"
    }
   },
   "id": "d8175f39d2d05e92"
  },
  {
   "cell_type": "code",
   "execution_count": 14,
   "outputs": [
    {
     "data": {
      "text/plain": "A    82\nB    27\nC    39\nD    63\nE    57\nName: 甲, dtype: int64"
     },
     "execution_count": 14,
     "metadata": {},
     "output_type": "execute_result"
    }
   ],
   "source": [
    "df.loc[:, '甲']"
   ],
   "metadata": {
    "collapsed": false,
    "ExecuteTime": {
     "end_time": "2023-11-15T02:08:42.629081Z",
     "start_time": "2023-11-15T02:08:42.618707Z"
    }
   },
   "id": "89bf02eb51539de0"
  },
  {
   "cell_type": "code",
   "execution_count": 15,
   "outputs": [
    {
     "data": {
      "text/plain": "    甲   乙   丙   丁   戊\nA  82  12  28  67  90\nB  27  32   8  20  35\nA  82  12  28  67  90",
      "text/html": "<div>\n<style scoped>\n    .dataframe tbody tr th:only-of-type {\n        vertical-align: middle;\n    }\n\n    .dataframe tbody tr th {\n        vertical-align: top;\n    }\n\n    .dataframe thead th {\n        text-align: right;\n    }\n</style>\n<table border=\"1\" class=\"dataframe\">\n  <thead>\n    <tr style=\"text-align: right;\">\n      <th></th>\n      <th>甲</th>\n      <th>乙</th>\n      <th>丙</th>\n      <th>丁</th>\n      <th>戊</th>\n    </tr>\n  </thead>\n  <tbody>\n    <tr>\n      <th>A</th>\n      <td>82</td>\n      <td>12</td>\n      <td>28</td>\n      <td>67</td>\n      <td>90</td>\n    </tr>\n    <tr>\n      <th>B</th>\n      <td>27</td>\n      <td>32</td>\n      <td>8</td>\n      <td>20</td>\n      <td>35</td>\n    </tr>\n    <tr>\n      <th>A</th>\n      <td>82</td>\n      <td>12</td>\n      <td>28</td>\n      <td>67</td>\n      <td>90</td>\n    </tr>\n  </tbody>\n</table>\n</div>"
     },
     "execution_count": 15,
     "metadata": {},
     "output_type": "execute_result"
    }
   ],
   "source": [
    "# 访问多行\n",
    "df.loc[['A', 'B', 'A']]"
   ],
   "metadata": {
    "collapsed": false,
    "ExecuteTime": {
     "end_time": "2023-11-15T02:10:34.589528Z",
     "start_time": "2023-11-15T02:10:34.570010Z"
    }
   },
   "id": "48be53702ba0ce32"
  },
  {
   "cell_type": "code",
   "execution_count": 17,
   "outputs": [
    {
     "data": {
      "text/plain": "A    82\nC    39\nE    57\nName: 甲, dtype: int64"
     },
     "execution_count": 17,
     "metadata": {},
     "output_type": "execute_result"
    }
   ],
   "source": [
    "# 不二列表访问\n",
    "bool_list = [True, False, True, False, True]\n",
    "df.loc[bool_list, '甲']"
   ],
   "metadata": {
    "collapsed": false,
    "ExecuteTime": {
     "end_time": "2023-11-15T02:12:22.912417Z",
     "start_time": "2023-11-15T02:12:22.899715Z"
    }
   },
   "id": "15c4a11022ce3176"
  },
  {
   "cell_type": "code",
   "execution_count": 20,
   "outputs": [
    {
     "data": {
      "text/plain": "B     True\nC    False\nA     True\nD    False\nE     True\nName: 索引对齐, dtype: bool"
     },
     "execution_count": 20,
     "metadata": {},
     "output_type": "execute_result"
    }
   ],
   "source": [
    "# 索引对齐\n",
    "s_b_list = Series(data=bool_list, index=list('BCADE'), name='索引对齐')\n",
    "s_b_list"
   ],
   "metadata": {
    "collapsed": false,
    "ExecuteTime": {
     "end_time": "2023-11-15T02:19:10.350739Z",
     "start_time": "2023-11-15T02:19:10.345081Z"
    }
   },
   "id": "d6e49cf891897970"
  },
  {
   "cell_type": "code",
   "execution_count": 19,
   "outputs": [
    {
     "data": {
      "text/plain": "    甲   乙   丙   丁   戊\nA  82  12  28  67  90\nB  27  32   8  20  35\nE  57  99  30  34  37",
      "text/html": "<div>\n<style scoped>\n    .dataframe tbody tr th:only-of-type {\n        vertical-align: middle;\n    }\n\n    .dataframe tbody tr th {\n        vertical-align: top;\n    }\n\n    .dataframe thead th {\n        text-align: right;\n    }\n</style>\n<table border=\"1\" class=\"dataframe\">\n  <thead>\n    <tr style=\"text-align: right;\">\n      <th></th>\n      <th>甲</th>\n      <th>乙</th>\n      <th>丙</th>\n      <th>丁</th>\n      <th>戊</th>\n    </tr>\n  </thead>\n  <tbody>\n    <tr>\n      <th>A</th>\n      <td>82</td>\n      <td>12</td>\n      <td>28</td>\n      <td>67</td>\n      <td>90</td>\n    </tr>\n    <tr>\n      <th>B</th>\n      <td>27</td>\n      <td>32</td>\n      <td>8</td>\n      <td>20</td>\n      <td>35</td>\n    </tr>\n    <tr>\n      <th>E</th>\n      <td>57</td>\n      <td>99</td>\n      <td>30</td>\n      <td>34</td>\n      <td>37</td>\n    </tr>\n  </tbody>\n</table>\n</div>"
     },
     "execution_count": 19,
     "metadata": {},
     "output_type": "execute_result"
    }
   ],
   "source": [
    "df.loc[s_b_list]"
   ],
   "metadata": {
    "collapsed": false,
    "ExecuteTime": {
     "end_time": "2023-11-15T02:16:44.714587Z",
     "start_time": "2023-11-15T02:16:44.712574Z"
    }
   },
   "id": "c41f1916ed479429"
  },
  {
   "cell_type": "code",
   "execution_count": 21,
   "outputs": [
    {
     "data": {
      "text/plain": "    甲   乙\nA  82  12\nB  27  32",
      "text/html": "<div>\n<style scoped>\n    .dataframe tbody tr th:only-of-type {\n        vertical-align: middle;\n    }\n\n    .dataframe tbody tr th {\n        vertical-align: top;\n    }\n\n    .dataframe thead th {\n        text-align: right;\n    }\n</style>\n<table border=\"1\" class=\"dataframe\">\n  <thead>\n    <tr style=\"text-align: right;\">\n      <th></th>\n      <th>甲</th>\n      <th>乙</th>\n    </tr>\n  </thead>\n  <tbody>\n    <tr>\n      <th>A</th>\n      <td>82</td>\n      <td>12</td>\n    </tr>\n    <tr>\n      <th>B</th>\n      <td>27</td>\n      <td>32</td>\n    </tr>\n  </tbody>\n</table>\n</div>"
     },
     "execution_count": 21,
     "metadata": {},
     "output_type": "execute_result"
    }
   ],
   "source": [
    "# 切片，显示索引的切片都是闭区间\n",
    "df.loc['A':'B', '甲':'乙']"
   ],
   "metadata": {
    "collapsed": false,
    "ExecuteTime": {
     "end_time": "2023-11-15T02:21:55.940939Z",
     "start_time": "2023-11-15T02:21:55.935815Z"
    }
   },
   "id": "a16489b64e0e1465"
  },
  {
   "cell_type": "markdown",
   "source": [],
   "metadata": {
    "collapsed": false
   },
   "id": "abd89ff2d535689f"
  },
  {
   "cell_type": "code",
   "execution_count": 22,
   "outputs": [
    {
     "data": {
      "text/plain": "    丙   丁   戊\nA  28  67  90\nB   8  20  35\nC  76  78  48\nD  11  71  10\nE  30  34  37",
      "text/html": "<div>\n<style scoped>\n    .dataframe tbody tr th:only-of-type {\n        vertical-align: middle;\n    }\n\n    .dataframe tbody tr th {\n        vertical-align: top;\n    }\n\n    .dataframe thead th {\n        text-align: right;\n    }\n</style>\n<table border=\"1\" class=\"dataframe\">\n  <thead>\n    <tr style=\"text-align: right;\">\n      <th></th>\n      <th>丙</th>\n      <th>丁</th>\n      <th>戊</th>\n    </tr>\n  </thead>\n  <tbody>\n    <tr>\n      <th>A</th>\n      <td>28</td>\n      <td>67</td>\n      <td>90</td>\n    </tr>\n    <tr>\n      <th>B</th>\n      <td>8</td>\n      <td>20</td>\n      <td>35</td>\n    </tr>\n    <tr>\n      <th>C</th>\n      <td>76</td>\n      <td>78</td>\n      <td>48</td>\n    </tr>\n    <tr>\n      <th>D</th>\n      <td>11</td>\n      <td>71</td>\n      <td>10</td>\n    </tr>\n    <tr>\n      <th>E</th>\n      <td>30</td>\n      <td>34</td>\n      <td>37</td>\n    </tr>\n  </tbody>\n</table>\n</div>"
     },
     "execution_count": 22,
     "metadata": {},
     "output_type": "execute_result"
    }
   ],
   "source": [
    "# 切片，访问多列\n",
    "df.loc[:, '丙':'戊']"
   ],
   "metadata": {
    "collapsed": false,
    "ExecuteTime": {
     "end_time": "2023-11-15T02:23:45.626026Z",
     "start_time": "2023-11-15T02:23:45.617003Z"
    }
   },
   "id": "c682d66b333c6e17"
  },
  {
   "cell_type": "code",
   "execution_count": 30,
   "outputs": [
    {
     "data": {
      "text/plain": "           python  java  php  golang  c++   c  c#  js  易语言\nlucy           90     0   14      83   74  55  29   4   21\nmery           82    74   85      34    5  63  15  76   28\ntom            66    65    0      26   33  47  12  64   46\njack           51    37   93      83   16  32  20  17   34\nrose           76    20   11      46    8  49   0  72   10\nfengliang      59    87    8      31   87  11  75  59    3\ntingting       45    19   68      87   11  29  71  38   46",
      "text/html": "<div>\n<style scoped>\n    .dataframe tbody tr th:only-of-type {\n        vertical-align: middle;\n    }\n\n    .dataframe tbody tr th {\n        vertical-align: top;\n    }\n\n    .dataframe thead th {\n        text-align: right;\n    }\n</style>\n<table border=\"1\" class=\"dataframe\">\n  <thead>\n    <tr style=\"text-align: right;\">\n      <th></th>\n      <th>python</th>\n      <th>java</th>\n      <th>php</th>\n      <th>golang</th>\n      <th>c++</th>\n      <th>c</th>\n      <th>c#</th>\n      <th>js</th>\n      <th>易语言</th>\n    </tr>\n  </thead>\n  <tbody>\n    <tr>\n      <th>lucy</th>\n      <td>90</td>\n      <td>0</td>\n      <td>14</td>\n      <td>83</td>\n      <td>74</td>\n      <td>55</td>\n      <td>29</td>\n      <td>4</td>\n      <td>21</td>\n    </tr>\n    <tr>\n      <th>mery</th>\n      <td>82</td>\n      <td>74</td>\n      <td>85</td>\n      <td>34</td>\n      <td>5</td>\n      <td>63</td>\n      <td>15</td>\n      <td>76</td>\n      <td>28</td>\n    </tr>\n    <tr>\n      <th>tom</th>\n      <td>66</td>\n      <td>65</td>\n      <td>0</td>\n      <td>26</td>\n      <td>33</td>\n      <td>47</td>\n      <td>12</td>\n      <td>64</td>\n      <td>46</td>\n    </tr>\n    <tr>\n      <th>jack</th>\n      <td>51</td>\n      <td>37</td>\n      <td>93</td>\n      <td>83</td>\n      <td>16</td>\n      <td>32</td>\n      <td>20</td>\n      <td>17</td>\n      <td>34</td>\n    </tr>\n    <tr>\n      <th>rose</th>\n      <td>76</td>\n      <td>20</td>\n      <td>11</td>\n      <td>46</td>\n      <td>8</td>\n      <td>49</td>\n      <td>0</td>\n      <td>72</td>\n      <td>10</td>\n    </tr>\n    <tr>\n      <th>fengliang</th>\n      <td>59</td>\n      <td>87</td>\n      <td>8</td>\n      <td>31</td>\n      <td>87</td>\n      <td>11</td>\n      <td>75</td>\n      <td>59</td>\n      <td>3</td>\n    </tr>\n    <tr>\n      <th>tingting</th>\n      <td>45</td>\n      <td>19</td>\n      <td>68</td>\n      <td>87</td>\n      <td>11</td>\n      <td>29</td>\n      <td>71</td>\n      <td>38</td>\n      <td>46</td>\n    </tr>\n  </tbody>\n</table>\n</div>"
     },
     "execution_count": 30,
     "metadata": {},
     "output_type": "execute_result"
    }
   ],
   "source": [
    "name = ['lucy', 'mery', 'tom', 'jack', 'rose','fengliang','tingting']\n",
    "colums = ['python', 'java', 'php', 'golang', 'c++', 'c', 'c#', 'js', '易语言']\n",
    "df = DataFrame(data=np.random.randint(0,100,size=(7,9)), index=name, columns=colums)\n",
    "df"
   ],
   "metadata": {
    "collapsed": false,
    "ExecuteTime": {
     "end_time": "2023-11-15T06:59:05.138675Z",
     "start_time": "2023-11-15T06:59:05.125298Z"
    }
   },
   "id": "8be71211f5835cfa"
  }
 ],
 "metadata": {
  "kernelspec": {
   "display_name": "Python 3",
   "language": "python",
   "name": "python3"
  },
  "language_info": {
   "codemirror_mode": {
    "name": "ipython",
    "version": 2
   },
   "file_extension": ".py",
   "mimetype": "text/x-python",
   "name": "python",
   "nbconvert_exporter": "python",
   "pygments_lexer": "ipython2",
   "version": "2.7.6"
  }
 },
 "nbformat": 4,
 "nbformat_minor": 5
}
