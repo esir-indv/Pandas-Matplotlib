{
 "cells": [
  {
   "cell_type": "code",
   "execution_count": 2,
   "id": "initial_id",
   "metadata": {
    "collapsed": true,
    "ExecuteTime": {
     "end_time": "2023-11-19T05:31:26.175889Z",
     "start_time": "2023-11-19T05:31:25.588069Z"
    }
   },
   "outputs": [],
   "source": [
    "import numpy as np\n",
    "import pandas as pd\n",
    "from pandas import Series, DataFrame\n",
    "import matplotlib.pyplot as plt\n",
    "%matplotlib inline\n"
   ]
  },
  {
   "cell_type": "code",
   "execution_count": 4,
   "outputs": [
    {
     "data": {
      "text/plain": "  Unnamed: 0   一月 Unnamed: 2 Unnamed: 3   二月 Unnamed: 5 Unnamed: 6\n0        NaN   收入         成本         费用   收入         成本         费用\n1        商品1  374          5          3  479        479        127\n2        商品2  480        214        436   99        303          3\n3        商品3  365        471        428   99          5        428\n4        商品4  447        211         83  342        127        480\n5        商品5  211        447        471  338        338        191\n6        商品6  214        215        342   83        374        191\n7        商品7  365        303        215   78         78        436",
      "text/html": "<div>\n<style scoped>\n    .dataframe tbody tr th:only-of-type {\n        vertical-align: middle;\n    }\n\n    .dataframe tbody tr th {\n        vertical-align: top;\n    }\n\n    .dataframe thead th {\n        text-align: right;\n    }\n</style>\n<table border=\"1\" class=\"dataframe\">\n  <thead>\n    <tr style=\"text-align: right;\">\n      <th></th>\n      <th>Unnamed: 0</th>\n      <th>一月</th>\n      <th>Unnamed: 2</th>\n      <th>Unnamed: 3</th>\n      <th>二月</th>\n      <th>Unnamed: 5</th>\n      <th>Unnamed: 6</th>\n    </tr>\n  </thead>\n  <tbody>\n    <tr>\n      <th>0</th>\n      <td>NaN</td>\n      <td>收入</td>\n      <td>成本</td>\n      <td>费用</td>\n      <td>收入</td>\n      <td>成本</td>\n      <td>费用</td>\n    </tr>\n    <tr>\n      <th>1</th>\n      <td>商品1</td>\n      <td>374</td>\n      <td>5</td>\n      <td>3</td>\n      <td>479</td>\n      <td>479</td>\n      <td>127</td>\n    </tr>\n    <tr>\n      <th>2</th>\n      <td>商品2</td>\n      <td>480</td>\n      <td>214</td>\n      <td>436</td>\n      <td>99</td>\n      <td>303</td>\n      <td>3</td>\n    </tr>\n    <tr>\n      <th>3</th>\n      <td>商品3</td>\n      <td>365</td>\n      <td>471</td>\n      <td>428</td>\n      <td>99</td>\n      <td>5</td>\n      <td>428</td>\n    </tr>\n    <tr>\n      <th>4</th>\n      <td>商品4</td>\n      <td>447</td>\n      <td>211</td>\n      <td>83</td>\n      <td>342</td>\n      <td>127</td>\n      <td>480</td>\n    </tr>\n    <tr>\n      <th>5</th>\n      <td>商品5</td>\n      <td>211</td>\n      <td>447</td>\n      <td>471</td>\n      <td>338</td>\n      <td>338</td>\n      <td>191</td>\n    </tr>\n    <tr>\n      <th>6</th>\n      <td>商品6</td>\n      <td>214</td>\n      <td>215</td>\n      <td>342</td>\n      <td>83</td>\n      <td>374</td>\n      <td>191</td>\n    </tr>\n    <tr>\n      <th>7</th>\n      <td>商品7</td>\n      <td>365</td>\n      <td>303</td>\n      <td>215</td>\n      <td>78</td>\n      <td>78</td>\n      <td>436</td>\n    </tr>\n  </tbody>\n</table>\n</div>"
     },
     "execution_count": 4,
     "metadata": {},
     "output_type": "execute_result"
    }
   ],
   "source": [
    "df = pd.read_excel('/Users/fengliang/Documents/workspace/Pandas&Matplotlib/excel/多层级索引.xlsx')\n",
    "df"
   ],
   "metadata": {
    "collapsed": false,
    "ExecuteTime": {
     "end_time": "2023-11-19T05:31:40.566582Z",
     "start_time": "2023-11-19T05:31:40.539804Z"
    }
   },
   "id": "4ea62deb7601a521"
  },
  {
   "cell_type": "code",
   "execution_count": 5,
   "outputs": [
    {
     "data": {
      "text/plain": "  Unnamed: 0_level_0   一月             二月          \n  Unnamed: 0_level_1   收入   成本   费用   收入   成本   费用\n0                商品1  374    5    3  479  479  127\n1                商品2  480  214  436   99  303    3\n2                商品3  365  471  428   99    5  428\n3                商品4  447  211   83  342  127  480\n4                商品5  211  447  471  338  338  191\n5                商品6  214  215  342   83  374  191\n6                商品7  365  303  215   78   78  436",
      "text/html": "<div>\n<style scoped>\n    .dataframe tbody tr th:only-of-type {\n        vertical-align: middle;\n    }\n\n    .dataframe tbody tr th {\n        vertical-align: top;\n    }\n\n    .dataframe thead tr th {\n        text-align: left;\n    }\n</style>\n<table border=\"1\" class=\"dataframe\">\n  <thead>\n    <tr>\n      <th></th>\n      <th>Unnamed: 0_level_0</th>\n      <th colspan=\"3\" halign=\"left\">一月</th>\n      <th colspan=\"3\" halign=\"left\">二月</th>\n    </tr>\n    <tr>\n      <th></th>\n      <th>Unnamed: 0_level_1</th>\n      <th>收入</th>\n      <th>成本</th>\n      <th>费用</th>\n      <th>收入</th>\n      <th>成本</th>\n      <th>费用</th>\n    </tr>\n  </thead>\n  <tbody>\n    <tr>\n      <th>0</th>\n      <td>商品1</td>\n      <td>374</td>\n      <td>5</td>\n      <td>3</td>\n      <td>479</td>\n      <td>479</td>\n      <td>127</td>\n    </tr>\n    <tr>\n      <th>1</th>\n      <td>商品2</td>\n      <td>480</td>\n      <td>214</td>\n      <td>436</td>\n      <td>99</td>\n      <td>303</td>\n      <td>3</td>\n    </tr>\n    <tr>\n      <th>2</th>\n      <td>商品3</td>\n      <td>365</td>\n      <td>471</td>\n      <td>428</td>\n      <td>99</td>\n      <td>5</td>\n      <td>428</td>\n    </tr>\n    <tr>\n      <th>3</th>\n      <td>商品4</td>\n      <td>447</td>\n      <td>211</td>\n      <td>83</td>\n      <td>342</td>\n      <td>127</td>\n      <td>480</td>\n    </tr>\n    <tr>\n      <th>4</th>\n      <td>商品5</td>\n      <td>211</td>\n      <td>447</td>\n      <td>471</td>\n      <td>338</td>\n      <td>338</td>\n      <td>191</td>\n    </tr>\n    <tr>\n      <th>5</th>\n      <td>商品6</td>\n      <td>214</td>\n      <td>215</td>\n      <td>342</td>\n      <td>83</td>\n      <td>374</td>\n      <td>191</td>\n    </tr>\n    <tr>\n      <th>6</th>\n      <td>商品7</td>\n      <td>365</td>\n      <td>303</td>\n      <td>215</td>\n      <td>78</td>\n      <td>78</td>\n      <td>436</td>\n    </tr>\n  </tbody>\n</table>\n</div>"
     },
     "execution_count": 5,
     "metadata": {},
     "output_type": "execute_result"
    }
   ],
   "source": [
    "df = pd.read_excel('/Users/fengliang/Documents/workspace/Pandas&Matplotlib/excel/多层级索引.xlsx', header=[0, 1])\n",
    "df"
   ],
   "metadata": {
    "collapsed": false,
    "ExecuteTime": {
     "end_time": "2023-11-19T05:36:24.765030Z",
     "start_time": "2023-11-19T05:36:24.720022Z"
    }
   },
   "id": "9103da4924fe5c1c"
  },
  {
   "cell_type": "code",
   "execution_count": 6,
   "outputs": [
    {
     "data": {
      "text/plain": "MultiIndex([('Unnamed: 0_level_0', 'Unnamed: 0_level_1'),\n            (                '一月',                 '收入'),\n            (                '一月',                 '成本'),\n            (                '一月',                 '费用'),\n            (                '二月',                 '收入'),\n            (                '二月',                 '成本'),\n            (                '二月',                 '费用')],\n           )"
     },
     "execution_count": 6,
     "metadata": {},
     "output_type": "execute_result"
    }
   ],
   "source": [
    "df.columns"
   ],
   "metadata": {
    "collapsed": false,
    "ExecuteTime": {
     "end_time": "2023-11-19T05:37:24.983529Z",
     "start_time": "2023-11-19T05:37:24.965295Z"
    }
   },
   "id": "4c7d4246933c02e1"
  },
  {
   "cell_type": "code",
   "execution_count": 9,
   "outputs": [
    {
     "data": {
      "text/plain": "array(['商品1', '商品2', '商品3', '商品4', '商品5', '商品6', '商品7'], dtype='<U3')"
     },
     "execution_count": 9,
     "metadata": {},
     "output_type": "execute_result"
    }
   ],
   "source": [
    "# 构造多层级索引\n",
    "index = np.array(['商品' + str(i) for i in range(1, 8)])\n",
    "index"
   ],
   "metadata": {
    "collapsed": false,
    "ExecuteTime": {
     "end_time": "2023-11-19T05:47:13.639467Z",
     "start_time": "2023-11-19T05:47:13.626097Z"
    }
   },
   "id": "10ee6696366ea38e"
  },
  {
   "cell_type": "code",
   "execution_count": null,
   "outputs": [],
   "source": [],
   "metadata": {
    "collapsed": false
   },
   "id": "78e78b5eec5bdf29"
  },
  {
   "cell_type": "code",
   "execution_count": 13,
   "outputs": [
    {
     "data": {
      "text/plain": "    fengliang             yuanyuting            \n           收入  成本  利润  费用         收入  成本  利润  费用\n商品1         4  40  75  54         23  17  74  72\n商品2        50  10  35  76         36  67  15  51\n商品3        33  81  80   7         82  98   6  57\n商品4         2  20  74  64         80  23  61  50\n商品5        49  19  21  14          0  45  93   1\n商品6        25  88  73  43         39  72  26  71\n商品7        59  76  75  37         47  27  71  83",
      "text/html": "<div>\n<style scoped>\n    .dataframe tbody tr th:only-of-type {\n        vertical-align: middle;\n    }\n\n    .dataframe tbody tr th {\n        vertical-align: top;\n    }\n\n    .dataframe thead tr th {\n        text-align: left;\n    }\n</style>\n<table border=\"1\" class=\"dataframe\">\n  <thead>\n    <tr>\n      <th></th>\n      <th colspan=\"4\" halign=\"left\">fengliang</th>\n      <th colspan=\"4\" halign=\"left\">yuanyuting</th>\n    </tr>\n    <tr>\n      <th></th>\n      <th>收入</th>\n      <th>成本</th>\n      <th>利润</th>\n      <th>费用</th>\n      <th>收入</th>\n      <th>成本</th>\n      <th>利润</th>\n      <th>费用</th>\n    </tr>\n  </thead>\n  <tbody>\n    <tr>\n      <th>商品1</th>\n      <td>4</td>\n      <td>40</td>\n      <td>75</td>\n      <td>54</td>\n      <td>23</td>\n      <td>17</td>\n      <td>74</td>\n      <td>72</td>\n    </tr>\n    <tr>\n      <th>商品2</th>\n      <td>50</td>\n      <td>10</td>\n      <td>35</td>\n      <td>76</td>\n      <td>36</td>\n      <td>67</td>\n      <td>15</td>\n      <td>51</td>\n    </tr>\n    <tr>\n      <th>商品3</th>\n      <td>33</td>\n      <td>81</td>\n      <td>80</td>\n      <td>7</td>\n      <td>82</td>\n      <td>98</td>\n      <td>6</td>\n      <td>57</td>\n    </tr>\n    <tr>\n      <th>商品4</th>\n      <td>2</td>\n      <td>20</td>\n      <td>74</td>\n      <td>64</td>\n      <td>80</td>\n      <td>23</td>\n      <td>61</td>\n      <td>50</td>\n    </tr>\n    <tr>\n      <th>商品5</th>\n      <td>49</td>\n      <td>19</td>\n      <td>21</td>\n      <td>14</td>\n      <td>0</td>\n      <td>45</td>\n      <td>93</td>\n      <td>1</td>\n    </tr>\n    <tr>\n      <th>商品6</th>\n      <td>25</td>\n      <td>88</td>\n      <td>73</td>\n      <td>43</td>\n      <td>39</td>\n      <td>72</td>\n      <td>26</td>\n      <td>71</td>\n    </tr>\n    <tr>\n      <th>商品7</th>\n      <td>59</td>\n      <td>76</td>\n      <td>75</td>\n      <td>37</td>\n      <td>47</td>\n      <td>27</td>\n      <td>71</td>\n      <td>83</td>\n    </tr>\n  </tbody>\n</table>\n</div>"
     },
     "execution_count": 13,
     "metadata": {},
     "output_type": "execute_result"
    }
   ],
   "source": [
    "columns = pd.MultiIndex.from_product([['fengliang', 'yuanyuting'], ['收入', '成本', '利润', '费用']])\n",
    "\n",
    "data = np.random.randint(0, 100, size=(7, 8))\n",
    "\n",
    "df2 = DataFrame(data=data, index=index, columns=columns)\n",
    "df2\n"
   ],
   "metadata": {
    "collapsed": false,
    "ExecuteTime": {
     "end_time": "2023-11-19T05:53:12.061618Z",
     "start_time": "2023-11-19T05:53:12.049142Z"
    }
   },
   "id": "8a9a02a9af6574"
  },
  {
   "cell_type": "code",
   "execution_count": 17,
   "outputs": [
    {
     "data": {
      "text/plain": "        张三      李四    \n        期中  期末  期中  期末\npython  87  33  55  37\njava    25  92  35  36\nc       89  83  48  87",
      "text/html": "<div>\n<style scoped>\n    .dataframe tbody tr th:only-of-type {\n        vertical-align: middle;\n    }\n\n    .dataframe tbody tr th {\n        vertical-align: top;\n    }\n\n    .dataframe thead tr th {\n        text-align: left;\n    }\n</style>\n<table border=\"1\" class=\"dataframe\">\n  <thead>\n    <tr>\n      <th></th>\n      <th colspan=\"2\" halign=\"left\">张三</th>\n      <th colspan=\"2\" halign=\"left\">李四</th>\n    </tr>\n    <tr>\n      <th></th>\n      <th>期中</th>\n      <th>期末</th>\n      <th>期中</th>\n      <th>期末</th>\n    </tr>\n  </thead>\n  <tbody>\n    <tr>\n      <th>python</th>\n      <td>87</td>\n      <td>33</td>\n      <td>55</td>\n      <td>37</td>\n    </tr>\n    <tr>\n      <th>java</th>\n      <td>25</td>\n      <td>92</td>\n      <td>35</td>\n      <td>36</td>\n    </tr>\n    <tr>\n      <th>c</th>\n      <td>89</td>\n      <td>83</td>\n      <td>48</td>\n      <td>87</td>\n    </tr>\n  </tbody>\n</table>\n</div>"
     },
     "execution_count": 17,
     "metadata": {},
     "output_type": "execute_result"
    }
   ],
   "source": [
    "# 创建一个DataFrame，表示出张三李四期中期末各科成绩，（python，java，c）\n",
    "columns = pd.MultiIndex.from_product([['张三', '李四'], ['期中', '期末']])\n",
    "index = np.array(['python', 'java', 'c'])\n",
    "df3 = DataFrame(data=np.random.randint(1, 100, size=(3, 4)), index=index, columns=columns)\n",
    "df3"
   ],
   "metadata": {
    "collapsed": false,
    "ExecuteTime": {
     "end_time": "2023-11-19T06:10:09.846710Z",
     "start_time": "2023-11-19T06:10:09.823864Z"
    }
   },
   "id": "29cd275be7732910"
  },
  {
   "cell_type": "code",
   "execution_count": null,
   "outputs": [],
   "source": [],
   "metadata": {
    "collapsed": false
   },
   "id": "b198e3a4320c6354"
  },
  {
   "cell_type": "code",
   "execution_count": 19,
   "outputs": [
    {
     "data": {
      "text/plain": "        期中              期末         \n    python java   c python java   c\n冯亮      51   33  83     86   32  91\n袁玉婷     47   32  57     21   75  10",
      "text/html": "<div>\n<style scoped>\n    .dataframe tbody tr th:only-of-type {\n        vertical-align: middle;\n    }\n\n    .dataframe tbody tr th {\n        vertical-align: top;\n    }\n\n    .dataframe thead tr th {\n        text-align: left;\n    }\n</style>\n<table border=\"1\" class=\"dataframe\">\n  <thead>\n    <tr>\n      <th></th>\n      <th colspan=\"3\" halign=\"left\">期中</th>\n      <th colspan=\"3\" halign=\"left\">期末</th>\n    </tr>\n    <tr>\n      <th></th>\n      <th>python</th>\n      <th>java</th>\n      <th>c</th>\n      <th>python</th>\n      <th>java</th>\n      <th>c</th>\n    </tr>\n  </thead>\n  <tbody>\n    <tr>\n      <th>冯亮</th>\n      <td>51</td>\n      <td>33</td>\n      <td>83</td>\n      <td>86</td>\n      <td>32</td>\n      <td>91</td>\n    </tr>\n    <tr>\n      <th>袁玉婷</th>\n      <td>47</td>\n      <td>32</td>\n      <td>57</td>\n      <td>21</td>\n      <td>75</td>\n      <td>10</td>\n    </tr>\n  </tbody>\n</table>\n</div>"
     },
     "execution_count": 19,
     "metadata": {},
     "output_type": "execute_result"
    }
   ],
   "source": [
    "# 创建一个DataFrame，表示出张三李四期中期末各科成绩，（python，java，c）\n",
    "columns = pd.MultiIndex.from_product([['期中', '期末'], ['python', 'java', 'c']])\n",
    "index = np.array(['冯亮', '袁玉婷'])\n",
    "df4 = DataFrame(data=np.random.randint(1, 100, size=(2, 6)), index=index, columns=columns)\n",
    "df4"
   ],
   "metadata": {
    "collapsed": false,
    "ExecuteTime": {
     "end_time": "2023-11-19T06:13:57.709319Z",
     "start_time": "2023-11-19T06:13:57.691618Z"
    }
   },
   "id": "4cc11bcc556048cd"
  },
  {
   "cell_type": "code",
   "execution_count": 21,
   "outputs": [
    {
     "data": {
      "text/plain": "           冯亮  袁玉婷\n期中 python  26   48\n   java    50   69\n   c       93   29\n期末 python  63   55\n   java    34   44\n   c       17   73",
      "text/html": "<div>\n<style scoped>\n    .dataframe tbody tr th:only-of-type {\n        vertical-align: middle;\n    }\n\n    .dataframe tbody tr th {\n        vertical-align: top;\n    }\n\n    .dataframe thead th {\n        text-align: right;\n    }\n</style>\n<table border=\"1\" class=\"dataframe\">\n  <thead>\n    <tr style=\"text-align: right;\">\n      <th></th>\n      <th></th>\n      <th>冯亮</th>\n      <th>袁玉婷</th>\n    </tr>\n  </thead>\n  <tbody>\n    <tr>\n      <th rowspan=\"3\" valign=\"top\">期中</th>\n      <th>python</th>\n      <td>26</td>\n      <td>48</td>\n    </tr>\n    <tr>\n      <th>java</th>\n      <td>50</td>\n      <td>69</td>\n    </tr>\n    <tr>\n      <th>c</th>\n      <td>93</td>\n      <td>29</td>\n    </tr>\n    <tr>\n      <th rowspan=\"3\" valign=\"top\">期末</th>\n      <th>python</th>\n      <td>63</td>\n      <td>55</td>\n    </tr>\n    <tr>\n      <th>java</th>\n      <td>34</td>\n      <td>44</td>\n    </tr>\n    <tr>\n      <th>c</th>\n      <td>17</td>\n      <td>73</td>\n    </tr>\n  </tbody>\n</table>\n</div>"
     },
     "execution_count": 21,
     "metadata": {},
     "output_type": "execute_result"
    }
   ],
   "source": [
    "# 多层行索引\n",
    "index = pd.MultiIndex.from_product([['期中', '期末'], ['python', 'java', 'c']])\n",
    "columns = np.array(['冯亮', '袁玉婷'])\n",
    "# T方法进行转置\n",
    "df5 = DataFrame(data=np.random.randint(1, 100, size=(2, 6)).T, index=index, columns=columns)\n",
    "df5"
   ],
   "metadata": {
    "collapsed": false,
    "ExecuteTime": {
     "end_time": "2023-11-19T06:15:37.615771Z",
     "start_time": "2023-11-19T06:15:37.594230Z"
    }
   },
   "id": "9ef046b266b28580"
  },
  {
   "cell_type": "code",
   "execution_count": 24,
   "outputs": [
    {
     "data": {
      "text/plain": "           冯亮         袁玉婷        \n           期中  期末  最终  期中  期末  最终\n大一 python  98  95  96  70  99  77\n   java    65  62  83  85  71  88\n   c       78  90  96  82  63  96\n   HTML    71  66  60  95  82  64\n   Js      90  83  98  62  69  98\n   Vue     95  77  79  97  62  98\n大二 python  84  94  90  70  92  62\n   java    66  94  63  84  83  75\n   c       82  79  82  89  89  85\n   HTML    92  66  79  61  81  60\n   Js      83  82  62  86  87  88\n   Vue     97  97  68  78  84  61\n大三 python  87  90  61  82  77  77\n   java    84  96  60  62  77  78\n   c       70  98  70  64  78  95\n   HTML    97  97  92  89  73  77\n   Js      74  63  80  60  86  79\n   Vue     92  89  69  72  90  73\n大四 python  93  97  85  66  73  64\n   java    66  71  82  62  68  84\n   c       68  70  80  88  71  95\n   HTML    66  91  91  74  74  81\n   Js      69  66  73  97  91  80\n   Vue     78  92  71  84  62  88",
      "text/html": "<div>\n<style scoped>\n    .dataframe tbody tr th:only-of-type {\n        vertical-align: middle;\n    }\n\n    .dataframe tbody tr th {\n        vertical-align: top;\n    }\n\n    .dataframe thead tr th {\n        text-align: left;\n    }\n</style>\n<table border=\"1\" class=\"dataframe\">\n  <thead>\n    <tr>\n      <th></th>\n      <th></th>\n      <th colspan=\"3\" halign=\"left\">冯亮</th>\n      <th colspan=\"3\" halign=\"left\">袁玉婷</th>\n    </tr>\n    <tr>\n      <th></th>\n      <th></th>\n      <th>期中</th>\n      <th>期末</th>\n      <th>最终</th>\n      <th>期中</th>\n      <th>期末</th>\n      <th>最终</th>\n    </tr>\n  </thead>\n  <tbody>\n    <tr>\n      <th rowspan=\"6\" valign=\"top\">大一</th>\n      <th>python</th>\n      <td>98</td>\n      <td>95</td>\n      <td>96</td>\n      <td>70</td>\n      <td>99</td>\n      <td>77</td>\n    </tr>\n    <tr>\n      <th>java</th>\n      <td>65</td>\n      <td>62</td>\n      <td>83</td>\n      <td>85</td>\n      <td>71</td>\n      <td>88</td>\n    </tr>\n    <tr>\n      <th>c</th>\n      <td>78</td>\n      <td>90</td>\n      <td>96</td>\n      <td>82</td>\n      <td>63</td>\n      <td>96</td>\n    </tr>\n    <tr>\n      <th>HTML</th>\n      <td>71</td>\n      <td>66</td>\n      <td>60</td>\n      <td>95</td>\n      <td>82</td>\n      <td>64</td>\n    </tr>\n    <tr>\n      <th>Js</th>\n      <td>90</td>\n      <td>83</td>\n      <td>98</td>\n      <td>62</td>\n      <td>69</td>\n      <td>98</td>\n    </tr>\n    <tr>\n      <th>Vue</th>\n      <td>95</td>\n      <td>77</td>\n      <td>79</td>\n      <td>97</td>\n      <td>62</td>\n      <td>98</td>\n    </tr>\n    <tr>\n      <th rowspan=\"6\" valign=\"top\">大二</th>\n      <th>python</th>\n      <td>84</td>\n      <td>94</td>\n      <td>90</td>\n      <td>70</td>\n      <td>92</td>\n      <td>62</td>\n    </tr>\n    <tr>\n      <th>java</th>\n      <td>66</td>\n      <td>94</td>\n      <td>63</td>\n      <td>84</td>\n      <td>83</td>\n      <td>75</td>\n    </tr>\n    <tr>\n      <th>c</th>\n      <td>82</td>\n      <td>79</td>\n      <td>82</td>\n      <td>89</td>\n      <td>89</td>\n      <td>85</td>\n    </tr>\n    <tr>\n      <th>HTML</th>\n      <td>92</td>\n      <td>66</td>\n      <td>79</td>\n      <td>61</td>\n      <td>81</td>\n      <td>60</td>\n    </tr>\n    <tr>\n      <th>Js</th>\n      <td>83</td>\n      <td>82</td>\n      <td>62</td>\n      <td>86</td>\n      <td>87</td>\n      <td>88</td>\n    </tr>\n    <tr>\n      <th>Vue</th>\n      <td>97</td>\n      <td>97</td>\n      <td>68</td>\n      <td>78</td>\n      <td>84</td>\n      <td>61</td>\n    </tr>\n    <tr>\n      <th rowspan=\"6\" valign=\"top\">大三</th>\n      <th>python</th>\n      <td>87</td>\n      <td>90</td>\n      <td>61</td>\n      <td>82</td>\n      <td>77</td>\n      <td>77</td>\n    </tr>\n    <tr>\n      <th>java</th>\n      <td>84</td>\n      <td>96</td>\n      <td>60</td>\n      <td>62</td>\n      <td>77</td>\n      <td>78</td>\n    </tr>\n    <tr>\n      <th>c</th>\n      <td>70</td>\n      <td>98</td>\n      <td>70</td>\n      <td>64</td>\n      <td>78</td>\n      <td>95</td>\n    </tr>\n    <tr>\n      <th>HTML</th>\n      <td>97</td>\n      <td>97</td>\n      <td>92</td>\n      <td>89</td>\n      <td>73</td>\n      <td>77</td>\n    </tr>\n    <tr>\n      <th>Js</th>\n      <td>74</td>\n      <td>63</td>\n      <td>80</td>\n      <td>60</td>\n      <td>86</td>\n      <td>79</td>\n    </tr>\n    <tr>\n      <th>Vue</th>\n      <td>92</td>\n      <td>89</td>\n      <td>69</td>\n      <td>72</td>\n      <td>90</td>\n      <td>73</td>\n    </tr>\n    <tr>\n      <th rowspan=\"6\" valign=\"top\">大四</th>\n      <th>python</th>\n      <td>93</td>\n      <td>97</td>\n      <td>85</td>\n      <td>66</td>\n      <td>73</td>\n      <td>64</td>\n    </tr>\n    <tr>\n      <th>java</th>\n      <td>66</td>\n      <td>71</td>\n      <td>82</td>\n      <td>62</td>\n      <td>68</td>\n      <td>84</td>\n    </tr>\n    <tr>\n      <th>c</th>\n      <td>68</td>\n      <td>70</td>\n      <td>80</td>\n      <td>88</td>\n      <td>71</td>\n      <td>95</td>\n    </tr>\n    <tr>\n      <th>HTML</th>\n      <td>66</td>\n      <td>91</td>\n      <td>91</td>\n      <td>74</td>\n      <td>74</td>\n      <td>81</td>\n    </tr>\n    <tr>\n      <th>Js</th>\n      <td>69</td>\n      <td>66</td>\n      <td>73</td>\n      <td>97</td>\n      <td>91</td>\n      <td>80</td>\n    </tr>\n    <tr>\n      <th>Vue</th>\n      <td>78</td>\n      <td>92</td>\n      <td>71</td>\n      <td>84</td>\n      <td>62</td>\n      <td>88</td>\n    </tr>\n  </tbody>\n</table>\n</div>"
     },
     "execution_count": 24,
     "metadata": {},
     "output_type": "execute_result"
    }
   ],
   "source": [
    "# 行、列多级索引\n",
    "# 多层行索引\n",
    "index = pd.MultiIndex.from_product([['大一', '大二', '大三', '大四'], ['python', 'java', 'c', 'HTML', 'Js', 'Vue']])\n",
    "columns = pd.MultiIndex.from_product([['冯亮', '袁玉婷'], ['期中', '期末', '最终']])\n",
    "# T方法进行转置\n",
    "df6 = DataFrame(data=np.random.randint(60, 100, size=(24, 6)), index=index, columns=columns)\n",
    "df6"
   ],
   "metadata": {
    "collapsed": false,
    "ExecuteTime": {
     "end_time": "2023-11-19T06:23:32.505904Z",
     "start_time": "2023-11-19T06:23:32.492201Z"
    }
   },
   "id": "36c245550b514abe"
  },
  {
   "cell_type": "code",
   "execution_count": 37,
   "outputs": [
    {
     "data": {
      "text/plain": "大一  python    98\n    java      65\n    c         78\n    HTML      71\n    Js        90\n    Vue       95\n大二  python    84\n    java      66\n    c         82\n    HTML      92\n    Js        83\n    Vue       97\n大三  python    87\n    java      84\n    c         70\n    HTML      97\n    Js        74\n    Vue       92\n大四  python    93\n    java      66\n    c         68\n    HTML      66\n    Js        69\n    Vue       78\nName: (冯亮, 期中), dtype: int64"
     },
     "execution_count": 37,
     "metadata": {},
     "output_type": "execute_result"
    }
   ],
   "source": [
    "\n",
    "# 多层索引，切片\n",
    "df6.loc[:, ('冯亮', '期中')]"
   ],
   "metadata": {
    "collapsed": false,
    "ExecuteTime": {
     "end_time": "2023-11-19T06:30:33.436597Z",
     "start_time": "2023-11-19T06:30:33.434345Z"
    }
   },
   "id": "2afd0e0f3db7247a"
  },
  {
   "cell_type": "code",
   "execution_count": null,
   "outputs": [],
   "source": [],
   "metadata": {
    "collapsed": false
   },
   "id": "483175f3ae0e34dc"
  },
  {
   "cell_type": "code",
   "execution_count": 41,
   "outputs": [
    {
     "data": {
      "text/plain": "           期中  期末  最终\n大一 python  98  95  96\n   java    65  62  83\n   c       78  90  96\n   HTML    71  66  60\n   Js      90  83  98\n   Vue     95  77  79\n大二 python  84  94  90\n   java    66  94  63\n   c       82  79  82\n   HTML    92  66  79\n   Js      83  82  62\n   Vue     97  97  68\n大三 python  87  90  61\n   java    84  96  60\n   c       70  98  70\n   HTML    97  97  92\n   Js      74  63  80\n   Vue     92  89  69\n大四 python  93  97  85\n   java    66  71  82\n   c       68  70  80\n   HTML    66  91  91\n   Js      69  66  73\n   Vue     78  92  71",
      "text/html": "<div>\n<style scoped>\n    .dataframe tbody tr th:only-of-type {\n        vertical-align: middle;\n    }\n\n    .dataframe tbody tr th {\n        vertical-align: top;\n    }\n\n    .dataframe thead th {\n        text-align: right;\n    }\n</style>\n<table border=\"1\" class=\"dataframe\">\n  <thead>\n    <tr style=\"text-align: right;\">\n      <th></th>\n      <th></th>\n      <th>期中</th>\n      <th>期末</th>\n      <th>最终</th>\n    </tr>\n  </thead>\n  <tbody>\n    <tr>\n      <th rowspan=\"6\" valign=\"top\">大一</th>\n      <th>python</th>\n      <td>98</td>\n      <td>95</td>\n      <td>96</td>\n    </tr>\n    <tr>\n      <th>java</th>\n      <td>65</td>\n      <td>62</td>\n      <td>83</td>\n    </tr>\n    <tr>\n      <th>c</th>\n      <td>78</td>\n      <td>90</td>\n      <td>96</td>\n    </tr>\n    <tr>\n      <th>HTML</th>\n      <td>71</td>\n      <td>66</td>\n      <td>60</td>\n    </tr>\n    <tr>\n      <th>Js</th>\n      <td>90</td>\n      <td>83</td>\n      <td>98</td>\n    </tr>\n    <tr>\n      <th>Vue</th>\n      <td>95</td>\n      <td>77</td>\n      <td>79</td>\n    </tr>\n    <tr>\n      <th rowspan=\"6\" valign=\"top\">大二</th>\n      <th>python</th>\n      <td>84</td>\n      <td>94</td>\n      <td>90</td>\n    </tr>\n    <tr>\n      <th>java</th>\n      <td>66</td>\n      <td>94</td>\n      <td>63</td>\n    </tr>\n    <tr>\n      <th>c</th>\n      <td>82</td>\n      <td>79</td>\n      <td>82</td>\n    </tr>\n    <tr>\n      <th>HTML</th>\n      <td>92</td>\n      <td>66</td>\n      <td>79</td>\n    </tr>\n    <tr>\n      <th>Js</th>\n      <td>83</td>\n      <td>82</td>\n      <td>62</td>\n    </tr>\n    <tr>\n      <th>Vue</th>\n      <td>97</td>\n      <td>97</td>\n      <td>68</td>\n    </tr>\n    <tr>\n      <th rowspan=\"6\" valign=\"top\">大三</th>\n      <th>python</th>\n      <td>87</td>\n      <td>90</td>\n      <td>61</td>\n    </tr>\n    <tr>\n      <th>java</th>\n      <td>84</td>\n      <td>96</td>\n      <td>60</td>\n    </tr>\n    <tr>\n      <th>c</th>\n      <td>70</td>\n      <td>98</td>\n      <td>70</td>\n    </tr>\n    <tr>\n      <th>HTML</th>\n      <td>97</td>\n      <td>97</td>\n      <td>92</td>\n    </tr>\n    <tr>\n      <th>Js</th>\n      <td>74</td>\n      <td>63</td>\n      <td>80</td>\n    </tr>\n    <tr>\n      <th>Vue</th>\n      <td>92</td>\n      <td>89</td>\n      <td>69</td>\n    </tr>\n    <tr>\n      <th rowspan=\"6\" valign=\"top\">大四</th>\n      <th>python</th>\n      <td>93</td>\n      <td>97</td>\n      <td>85</td>\n    </tr>\n    <tr>\n      <th>java</th>\n      <td>66</td>\n      <td>71</td>\n      <td>82</td>\n    </tr>\n    <tr>\n      <th>c</th>\n      <td>68</td>\n      <td>70</td>\n      <td>80</td>\n    </tr>\n    <tr>\n      <th>HTML</th>\n      <td>66</td>\n      <td>91</td>\n      <td>91</td>\n    </tr>\n    <tr>\n      <th>Js</th>\n      <td>69</td>\n      <td>66</td>\n      <td>73</td>\n    </tr>\n    <tr>\n      <th>Vue</th>\n      <td>78</td>\n      <td>92</td>\n      <td>71</td>\n    </tr>\n  </tbody>\n</table>\n</div>"
     },
     "execution_count": 41,
     "metadata": {},
     "output_type": "execute_result"
    }
   ],
   "source": [
    "# 多层索引，切片\n",
    "df6.loc[:, '冯亮']"
   ],
   "metadata": {
    "collapsed": false,
    "ExecuteTime": {
     "end_time": "2023-11-19T06:31:51.334569Z",
     "start_time": "2023-11-19T06:31:51.329327Z"
    }
   },
   "id": "99d61946b0ee4144"
  },
  {
   "cell_type": "code",
   "execution_count": null,
   "outputs": [],
   "source": [],
   "metadata": {
    "collapsed": false
   },
   "id": "a7370a27512c21b5"
  },
  {
   "cell_type": "code",
   "execution_count": 43,
   "outputs": [
    {
     "data": {
      "text/plain": "        期中  期末  最终\npython  98  95  96\njava    65  62  83\nc       78  90  96\nHTML    71  66  60\nJs      90  83  98\nVue     95  77  79",
      "text/html": "<div>\n<style scoped>\n    .dataframe tbody tr th:only-of-type {\n        vertical-align: middle;\n    }\n\n    .dataframe tbody tr th {\n        vertical-align: top;\n    }\n\n    .dataframe thead th {\n        text-align: right;\n    }\n</style>\n<table border=\"1\" class=\"dataframe\">\n  <thead>\n    <tr style=\"text-align: right;\">\n      <th></th>\n      <th>期中</th>\n      <th>期末</th>\n      <th>最终</th>\n    </tr>\n  </thead>\n  <tbody>\n    <tr>\n      <th>python</th>\n      <td>98</td>\n      <td>95</td>\n      <td>96</td>\n    </tr>\n    <tr>\n      <th>java</th>\n      <td>65</td>\n      <td>62</td>\n      <td>83</td>\n    </tr>\n    <tr>\n      <th>c</th>\n      <td>78</td>\n      <td>90</td>\n      <td>96</td>\n    </tr>\n    <tr>\n      <th>HTML</th>\n      <td>71</td>\n      <td>66</td>\n      <td>60</td>\n    </tr>\n    <tr>\n      <th>Js</th>\n      <td>90</td>\n      <td>83</td>\n      <td>98</td>\n    </tr>\n    <tr>\n      <th>Vue</th>\n      <td>95</td>\n      <td>77</td>\n      <td>79</td>\n    </tr>\n  </tbody>\n</table>\n</div>"
     },
     "execution_count": 43,
     "metadata": {},
     "output_type": "execute_result"
    }
   ],
   "source": [
    "# 多层索引，切片\n",
    "df6.loc['大一', '冯亮']"
   ],
   "metadata": {
    "collapsed": false,
    "ExecuteTime": {
     "end_time": "2023-11-19T06:32:44.579542Z",
     "start_time": "2023-11-19T06:32:44.566816Z"
    }
   },
   "id": "e4ec65509e08567a"
  },
  {
   "cell_type": "code",
   "execution_count": null,
   "outputs": [],
   "source": [],
   "metadata": {
    "collapsed": false
   },
   "id": "2b227e5351bf1b14"
  },
  {
   "cell_type": "code",
   "execution_count": 45,
   "outputs": [
    {
     "data": {
      "text/plain": "           冯亮 袁玉婷  冯亮\n           期中  期末  最终\n大一 python  98  99  96\n   java    65  71  83\n   c       78  63  96\n   HTML    71  82  60\n   Js      90  69  98\n   Vue     95  62  79\n大二 python  84  92  90\n   java    66  83  63\n   c       82  89  82\n   HTML    92  81  79\n   Js      83  87  62\n   Vue     97  84  68\n大三 python  87  77  61\n   java    84  77  60\n   c       70  78  70\n   HTML    97  73  92\n   Js      74  86  80\n   Vue     92  90  69\n大四 python  93  73  85\n   java    66  68  82\n   c       68  71  80\n   HTML    66  74  91\n   Js      69  91  73\n   Vue     78  62  71",
      "text/html": "<div>\n<style scoped>\n    .dataframe tbody tr th:only-of-type {\n        vertical-align: middle;\n    }\n\n    .dataframe tbody tr th {\n        vertical-align: top;\n    }\n\n    .dataframe thead tr th {\n        text-align: left;\n    }\n</style>\n<table border=\"1\" class=\"dataframe\">\n  <thead>\n    <tr>\n      <th></th>\n      <th></th>\n      <th>冯亮</th>\n      <th>袁玉婷</th>\n      <th>冯亮</th>\n    </tr>\n    <tr>\n      <th></th>\n      <th></th>\n      <th>期中</th>\n      <th>期末</th>\n      <th>最终</th>\n    </tr>\n  </thead>\n  <tbody>\n    <tr>\n      <th rowspan=\"6\" valign=\"top\">大一</th>\n      <th>python</th>\n      <td>98</td>\n      <td>99</td>\n      <td>96</td>\n    </tr>\n    <tr>\n      <th>java</th>\n      <td>65</td>\n      <td>71</td>\n      <td>83</td>\n    </tr>\n    <tr>\n      <th>c</th>\n      <td>78</td>\n      <td>63</td>\n      <td>96</td>\n    </tr>\n    <tr>\n      <th>HTML</th>\n      <td>71</td>\n      <td>82</td>\n      <td>60</td>\n    </tr>\n    <tr>\n      <th>Js</th>\n      <td>90</td>\n      <td>69</td>\n      <td>98</td>\n    </tr>\n    <tr>\n      <th>Vue</th>\n      <td>95</td>\n      <td>62</td>\n      <td>79</td>\n    </tr>\n    <tr>\n      <th rowspan=\"6\" valign=\"top\">大二</th>\n      <th>python</th>\n      <td>84</td>\n      <td>92</td>\n      <td>90</td>\n    </tr>\n    <tr>\n      <th>java</th>\n      <td>66</td>\n      <td>83</td>\n      <td>63</td>\n    </tr>\n    <tr>\n      <th>c</th>\n      <td>82</td>\n      <td>89</td>\n      <td>82</td>\n    </tr>\n    <tr>\n      <th>HTML</th>\n      <td>92</td>\n      <td>81</td>\n      <td>79</td>\n    </tr>\n    <tr>\n      <th>Js</th>\n      <td>83</td>\n      <td>87</td>\n      <td>62</td>\n    </tr>\n    <tr>\n      <th>Vue</th>\n      <td>97</td>\n      <td>84</td>\n      <td>68</td>\n    </tr>\n    <tr>\n      <th rowspan=\"6\" valign=\"top\">大三</th>\n      <th>python</th>\n      <td>87</td>\n      <td>77</td>\n      <td>61</td>\n    </tr>\n    <tr>\n      <th>java</th>\n      <td>84</td>\n      <td>77</td>\n      <td>60</td>\n    </tr>\n    <tr>\n      <th>c</th>\n      <td>70</td>\n      <td>78</td>\n      <td>70</td>\n    </tr>\n    <tr>\n      <th>HTML</th>\n      <td>97</td>\n      <td>73</td>\n      <td>92</td>\n    </tr>\n    <tr>\n      <th>Js</th>\n      <td>74</td>\n      <td>86</td>\n      <td>80</td>\n    </tr>\n    <tr>\n      <th>Vue</th>\n      <td>92</td>\n      <td>90</td>\n      <td>69</td>\n    </tr>\n    <tr>\n      <th rowspan=\"6\" valign=\"top\">大四</th>\n      <th>python</th>\n      <td>93</td>\n      <td>73</td>\n      <td>85</td>\n    </tr>\n    <tr>\n      <th>java</th>\n      <td>66</td>\n      <td>68</td>\n      <td>82</td>\n    </tr>\n    <tr>\n      <th>c</th>\n      <td>68</td>\n      <td>71</td>\n      <td>80</td>\n    </tr>\n    <tr>\n      <th>HTML</th>\n      <td>66</td>\n      <td>74</td>\n      <td>91</td>\n    </tr>\n    <tr>\n      <th>Js</th>\n      <td>69</td>\n      <td>91</td>\n      <td>73</td>\n    </tr>\n    <tr>\n      <th>Vue</th>\n      <td>78</td>\n      <td>62</td>\n      <td>71</td>\n    </tr>\n  </tbody>\n</table>\n</div>"
     },
     "execution_count": 45,
     "metadata": {},
     "output_type": "execute_result"
    }
   ],
   "source": [
    "# 多层索引，切片,使用列表+元组访问\n",
    "\n",
    "# 注意：！ 此方式不支持切片，元组表达方式，不支持切片\n",
    "\n",
    "# 解决办法，可以先把多层级变成单层级\n",
    "\n",
    "# 个人觉得比较好的，可以使用隐式访问，无视索引，这样就可以切片了\n",
    "df6.loc[:, [('冯亮', '期中'), ('袁玉婷', '期末'), ('冯亮', '最终')]]"
   ],
   "metadata": {
    "collapsed": false,
    "ExecuteTime": {
     "end_time": "2023-11-19T06:35:09.873473Z",
     "start_time": "2023-11-19T06:35:09.863480Z"
    }
   },
   "id": "d6678931dc5f0399"
  },
  {
   "cell_type": "code",
   "execution_count": 47,
   "outputs": [
    {
     "data": {
      "text/plain": "        上学期             下学期         \n     python java   c python java   c\ntom      75   14  78     70   69  70\nlucy     97   92  19     29   57  79\njack     31   39  34     68   91  81",
      "text/html": "<div>\n<style scoped>\n    .dataframe tbody tr th:only-of-type {\n        vertical-align: middle;\n    }\n\n    .dataframe tbody tr th {\n        vertical-align: top;\n    }\n\n    .dataframe thead tr th {\n        text-align: left;\n    }\n</style>\n<table border=\"1\" class=\"dataframe\">\n  <thead>\n    <tr>\n      <th></th>\n      <th colspan=\"3\" halign=\"left\">上学期</th>\n      <th colspan=\"3\" halign=\"left\">下学期</th>\n    </tr>\n    <tr>\n      <th></th>\n      <th>python</th>\n      <th>java</th>\n      <th>c</th>\n      <th>python</th>\n      <th>java</th>\n      <th>c</th>\n    </tr>\n  </thead>\n  <tbody>\n    <tr>\n      <th>tom</th>\n      <td>75</td>\n      <td>14</td>\n      <td>78</td>\n      <td>70</td>\n      <td>69</td>\n      <td>70</td>\n    </tr>\n    <tr>\n      <th>lucy</th>\n      <td>97</td>\n      <td>92</td>\n      <td>19</td>\n      <td>29</td>\n      <td>57</td>\n      <td>79</td>\n    </tr>\n    <tr>\n      <th>jack</th>\n      <td>31</td>\n      <td>39</td>\n      <td>34</td>\n      <td>68</td>\n      <td>91</td>\n      <td>81</td>\n    </tr>\n  </tbody>\n</table>\n</div>"
     },
     "execution_count": 47,
     "metadata": {},
     "output_type": "execute_result"
    }
   ],
   "source": [
    "# 练习：\n",
    "# 构造一个多层级列索引成绩表，分值在0-100内随机\n",
    "# 一级标题为上学期和下学期，二级标题为python、java、c，行标签为tom、Lucy、jack\n",
    "# 同时获取上学期和下学期tom的成绩，计算tom的各学科的平均成绩\n",
    "# 获取上学期jack的python成绩，并给他加20分\n",
    "\n",
    "index = np.array(['tom', 'lucy', 'jack'])\n",
    "columns = pd.MultiIndex.from_product([['上学期', '下学期'], ['python', 'java', 'c']])\n",
    "data = np.random.randint(0,100,size=(3,6))\n",
    "df7 = DataFrame(data=data,index=index,columns=columns)\n",
    "df7"
   ],
   "metadata": {
    "collapsed": false,
    "ExecuteTime": {
     "end_time": "2023-11-19T08:10:28.351535Z",
     "start_time": "2023-11-19T08:10:28.331052Z"
    }
   },
   "id": "eb37f16259bf6414"
  },
  {
   "cell_type": "code",
   "execution_count": 61,
   "outputs": [
    {
     "data": {
      "text/plain": "97"
     },
     "execution_count": 61,
     "metadata": {},
     "output_type": "execute_result"
    }
   ],
   "source": [
    "# lucy 上学期成绩，输入聚合\n",
    "df7.loc['lucy','上学期'].max( )"
   ],
   "metadata": {
    "collapsed": false,
    "ExecuteTime": {
     "end_time": "2023-11-19T08:44:53.284472Z",
     "start_time": "2023-11-19T08:44:53.282003Z"
    }
   },
   "id": "ee32afe469470197"
  },
  {
   "cell_type": "code",
   "execution_count": 66,
   "outputs": [
    {
     "data": {
      "text/plain": "'python'"
     },
     "execution_count": 66,
     "metadata": {},
     "output_type": "execute_result"
    }
   ],
   "source": [
    "# lucy 上学期成绩，输入聚合,这个max都有很多个，哎，注意筛选\n",
    "df7.loc['lucy','上学期'].idxmax( )"
   ],
   "metadata": {
    "collapsed": false,
    "ExecuteTime": {
     "end_time": "2023-11-19T08:46:59.163200Z",
     "start_time": "2023-11-19T08:46:59.159740Z"
    }
   },
   "id": "a71c9a7b365e6618"
  },
  {
   "cell_type": "code",
   "execution_count": 54,
   "outputs": [
    {
     "data": {
      "text/plain": "上学期  python    75\n     java      14\n     c         78\n下学期  python    70\n     java      69\n     c         70\nName: tom, dtype: int64"
     },
     "execution_count": 54,
     "metadata": {},
     "output_type": "execute_result"
    }
   ],
   "source": [
    "df7.loc['tom']"
   ],
   "metadata": {
    "collapsed": false,
    "ExecuteTime": {
     "end_time": "2023-11-19T08:12:50.255668Z",
     "start_time": "2023-11-19T08:12:50.251815Z"
    }
   },
   "id": "1a40cdb0625b4049"
  },
  {
   "cell_type": "code",
   "execution_count": 56,
   "outputs": [
    {
     "data": {
      "text/plain": "62.666666666666664"
     },
     "execution_count": 56,
     "metadata": {},
     "output_type": "execute_result"
    }
   ],
   "source": [
    "# 这个求的是总的成绩\n",
    "df7.loc['tom'].mean(axis=0)"
   ],
   "metadata": {
    "collapsed": false,
    "ExecuteTime": {
     "end_time": "2023-11-19T08:35:21.931810Z",
     "start_time": "2023-11-19T08:35:21.927370Z"
    }
   },
   "id": "fcefc68606e4d1e2"
  },
  {
   "cell_type": "code",
   "execution_count": 72,
   "outputs": [
    {
     "data": {
      "text/plain": "python    72.5\njava      41.5\nc         74.0\nName: tom, dtype: float64"
     },
     "execution_count": 72,
     "metadata": {},
     "output_type": "execute_result"
    }
   ],
   "source": [
    "# 各科的平均成绩需要分两次求，没有直接的函数\n",
    "(df7.loc['tom'].loc['上学期']+df7.loc['tom'].loc['下学期'])/2"
   ],
   "metadata": {
    "collapsed": false,
    "ExecuteTime": {
     "end_time": "2023-11-19T08:52:03.256590Z",
     "start_time": "2023-11-19T08:52:03.253519Z"
    }
   },
   "id": "99f3b4d7b0f12bfe"
  },
  {
   "cell_type": "code",
   "execution_count": 79,
   "outputs": [
    {
     "data": {
      "text/plain": "python    145\njava       83\nc         148\nName: tom, dtype: int64"
     },
     "execution_count": 79,
     "metadata": {},
     "output_type": "execute_result"
    }
   ],
   "source": [
    "score = (df7.loc['tom'].loc['上学期']+df7.loc['tom'].loc['下学期'])\n",
    "score"
   ],
   "metadata": {
    "collapsed": false,
    "ExecuteTime": {
     "end_time": "2023-11-19T08:56:17.485812Z",
     "start_time": "2023-11-19T08:56:17.481881Z"
    }
   },
   "id": "84696c932a328a71"
  },
  {
   "cell_type": "code",
   "execution_count": 82,
   "outputs": [
    {
     "data": {
      "text/plain": "        上学期             下学期         \n     python java   c python java   c\ntom      75   14  78     70   69  70\nlucy     97   92  19     29   57  79\njack     71   39  34     68   91  81",
      "text/html": "<div>\n<style scoped>\n    .dataframe tbody tr th:only-of-type {\n        vertical-align: middle;\n    }\n\n    .dataframe tbody tr th {\n        vertical-align: top;\n    }\n\n    .dataframe thead tr th {\n        text-align: left;\n    }\n</style>\n<table border=\"1\" class=\"dataframe\">\n  <thead>\n    <tr>\n      <th></th>\n      <th colspan=\"3\" halign=\"left\">上学期</th>\n      <th colspan=\"3\" halign=\"left\">下学期</th>\n    </tr>\n    <tr>\n      <th></th>\n      <th>python</th>\n      <th>java</th>\n      <th>c</th>\n      <th>python</th>\n      <th>java</th>\n      <th>c</th>\n    </tr>\n  </thead>\n  <tbody>\n    <tr>\n      <th>tom</th>\n      <td>75</td>\n      <td>14</td>\n      <td>78</td>\n      <td>70</td>\n      <td>69</td>\n      <td>70</td>\n    </tr>\n    <tr>\n      <th>lucy</th>\n      <td>97</td>\n      <td>92</td>\n      <td>19</td>\n      <td>29</td>\n      <td>57</td>\n      <td>79</td>\n    </tr>\n    <tr>\n      <th>jack</th>\n      <td>71</td>\n      <td>39</td>\n      <td>34</td>\n      <td>68</td>\n      <td>91</td>\n      <td>81</td>\n    </tr>\n  </tbody>\n</table>\n</div>"
     },
     "execution_count": 82,
     "metadata": {},
     "output_type": "execute_result"
    }
   ],
   "source": [
    "# 给jack python加分\n",
    "df7.loc['jack',('上学期','python')] +=20\n",
    "df7"
   ],
   "metadata": {
    "collapsed": false,
    "ExecuteTime": {
     "end_time": "2023-11-19T08:58:10.797333Z",
     "start_time": "2023-11-19T08:58:10.789264Z"
    }
   },
   "id": "e511af8f4b492232"
  }
 ],
 "metadata": {
  "kernelspec": {
   "display_name": "Python 3",
   "language": "python",
   "name": "python3"
  },
  "language_info": {
   "codemirror_mode": {
    "name": "ipython",
    "version": 2
   },
   "file_extension": ".py",
   "mimetype": "text/x-python",
   "name": "python",
   "nbconvert_exporter": "python",
   "pygments_lexer": "ipython2",
   "version": "2.7.6"
  }
 },
 "nbformat": 4,
 "nbformat_minor": 5
}
