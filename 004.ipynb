{
 "cells": [
  {
   "cell_type": "code",
   "execution_count": 5,
   "id": "initial_id",
   "metadata": {
    "collapsed": true,
    "ExecuteTime": {
     "end_time": "2023-11-10T02:08:33.561246Z",
     "start_time": "2023-11-10T02:08:32.907873Z"
    }
   },
   "outputs": [
    {
     "name": "stdout",
     "output_type": "stream",
     "text": [
      "               客户名称   贷款金额（元）   贷款余额(元) 风险状态  日期\n",
      "客户编号                                            \n",
      "25340001718127   左杨    5000.0   5000.00   正常 NaN\n",
      "25340001718127   左杨    5000.0   5000.00   正常 NaN\n",
      "25080002055999  邓泽俊  110000.0  12097.17   可疑 NaN\n",
      "24810002202496   杜刚  102000.0  41638.99   正常 NaN\n"
     ]
    }
   ],
   "source": [
    "import pandas as pd\n",
    "cust = pd.read_excel('/Users/fengliang/Desktop/综合查询20200331.xlsx', header=0, index_col=0)\n",
    "print(cust.head(4))"
   ]
  },
  {
   "cell_type": "code",
   "execution_count": 3,
   "outputs": [
    {
     "data": {
      "text/plain": "array([[14, 14, 12],\n       [12, 13, 14],\n       [14, 12, 13],\n       [14, 14, 14]], dtype=int32)"
     },
     "execution_count": 3,
     "metadata": {},
     "output_type": "execute_result"
    }
   ],
   "source": [
    "import numpy as np\n",
    "np.random.randint(12,15,size=(4,3),dtype=np.int32)"
   ],
   "metadata": {
    "collapsed": false,
    "ExecuteTime": {
     "end_time": "2023-11-10T01:51:46.019492Z",
     "start_time": "2023-11-10T01:51:45.999693Z"
    }
   },
   "id": "1f43c98bb8e5baad"
  }
 ],
 "metadata": {
  "kernelspec": {
   "display_name": "Python 3",
   "language": "python",
   "name": "python3"
  },
  "language_info": {
   "codemirror_mode": {
    "name": "ipython",
    "version": 2
   },
   "file_extension": ".py",
   "mimetype": "text/x-python",
   "name": "python",
   "nbconvert_exporter": "python",
   "pygments_lexer": "ipython2",
   "version": "2.7.6"
  }
 },
 "nbformat": 4,
 "nbformat_minor": 5
}
