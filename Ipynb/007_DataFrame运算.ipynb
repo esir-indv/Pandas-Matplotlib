{
 "cells": [
  {
   "cell_type": "code",
   "execution_count": 1,
   "id": "initial_id",
   "metadata": {
    "collapsed": true,
    "ExecuteTime": {
     "end_time": "2023-11-15T01:38:56.033719Z",
     "start_time": "2023-11-15T01:38:55.374686Z"
    }
   },
   "outputs": [],
   "source": [
    "import numpy as np\n",
    "import pandas as pd\n",
    "from pandas import Series, DataFrame\n",
    "import matplotlib.pyplot as plt\n",
    "%matplotlib inline"
   ]
  },
  {
   "cell_type": "code",
   "execution_count": 5,
   "outputs": [
    {
     "data": {
      "text/plain": "     张三  李四\n语文  150   0\n数学  150   0\n英语  150   0\n理综  300   8",
      "text/html": "<div>\n<style scoped>\n    .dataframe tbody tr th:only-of-type {\n        vertical-align: middle;\n    }\n\n    .dataframe tbody tr th {\n        vertical-align: top;\n    }\n\n    .dataframe thead th {\n        text-align: right;\n    }\n</style>\n<table border=\"1\" class=\"dataframe\">\n  <thead>\n    <tr style=\"text-align: right;\">\n      <th></th>\n      <th>张三</th>\n      <th>李四</th>\n    </tr>\n  </thead>\n  <tbody>\n    <tr>\n      <th>语文</th>\n      <td>150</td>\n      <td>0</td>\n    </tr>\n    <tr>\n      <th>数学</th>\n      <td>150</td>\n      <td>0</td>\n    </tr>\n    <tr>\n      <th>英语</th>\n      <td>150</td>\n      <td>0</td>\n    </tr>\n    <tr>\n      <th>理综</th>\n      <td>300</td>\n      <td>8</td>\n    </tr>\n  </tbody>\n</table>\n</div>"
     },
     "execution_count": 5,
     "metadata": {},
     "output_type": "execute_result"
    }
   ],
   "source": [
    "df = DataFrame(data={\n",
    "    '张三': [150, 150, 150, 300],\n",
    "    '李四': [0, 0, 0, 8],\n",
    "}, index=['语文', '数学', '英语', '理综'])\n",
    "df"
   ],
   "metadata": {
    "collapsed": false,
    "ExecuteTime": {
     "end_time": "2023-11-15T01:49:53.493885Z",
     "start_time": "2023-11-15T01:49:53.478296Z"
    }
   },
   "id": "3f6dd5865ce18c5b"
  },
  {
   "cell_type": "code",
   "execution_count": 6,
   "outputs": [
    {
     "data": {
      "text/plain": "语文    150\n数学    150\n英语    150\n理综    300\nName: 张三, dtype: int64"
     },
     "execution_count": 6,
     "metadata": {},
     "output_type": "execute_result"
    }
   ],
   "source": [
    "df['张三']"
   ],
   "metadata": {
    "collapsed": false,
    "ExecuteTime": {
     "end_time": "2023-11-15T01:50:03.284696Z",
     "start_time": "2023-11-15T01:50:03.268838Z"
    }
   },
   "id": "497915909d76a04b"
  },
  {
   "cell_type": "code",
   "execution_count": 8,
   "outputs": [
    {
     "data": {
      "text/plain": "    甲   乙   丙   丁   戊\nA  82  12  28  67  90\nB  27  32   8  20  35\nC  39  35  76  78  48\nD  63  82  11  71  10\nE  57  99  30  34  37",
      "text/html": "<div>\n<style scoped>\n    .dataframe tbody tr th:only-of-type {\n        vertical-align: middle;\n    }\n\n    .dataframe tbody tr th {\n        vertical-align: top;\n    }\n\n    .dataframe thead th {\n        text-align: right;\n    }\n</style>\n<table border=\"1\" class=\"dataframe\">\n  <thead>\n    <tr style=\"text-align: right;\">\n      <th></th>\n      <th>甲</th>\n      <th>乙</th>\n      <th>丙</th>\n      <th>丁</th>\n      <th>戊</th>\n    </tr>\n  </thead>\n  <tbody>\n    <tr>\n      <th>A</th>\n      <td>82</td>\n      <td>12</td>\n      <td>28</td>\n      <td>67</td>\n      <td>90</td>\n    </tr>\n    <tr>\n      <th>B</th>\n      <td>27</td>\n      <td>32</td>\n      <td>8</td>\n      <td>20</td>\n      <td>35</td>\n    </tr>\n    <tr>\n      <th>C</th>\n      <td>39</td>\n      <td>35</td>\n      <td>76</td>\n      <td>78</td>\n      <td>48</td>\n    </tr>\n    <tr>\n      <th>D</th>\n      <td>63</td>\n      <td>82</td>\n      <td>11</td>\n      <td>71</td>\n      <td>10</td>\n    </tr>\n    <tr>\n      <th>E</th>\n      <td>57</td>\n      <td>99</td>\n      <td>30</td>\n      <td>34</td>\n      <td>37</td>\n    </tr>\n  </tbody>\n</table>\n</div>"
     },
     "execution_count": 8,
     "metadata": {},
     "output_type": "execute_result"
    }
   ],
   "source": [
    "df = DataFrame(data=np.random.randint(0, 100, size=(5, 5)), index=list('ABCDE'), columns=list('甲乙丙丁戊'))\n",
    "df"
   ],
   "metadata": {
    "collapsed": false,
    "ExecuteTime": {
     "end_time": "2023-11-15T02:03:59.268596Z",
     "start_time": "2023-11-15T02:03:59.261041Z"
    }
   },
   "id": "603082d1a2f6e67d"
  },
  {
   "cell_type": "code",
   "execution_count": 10,
   "outputs": [
    {
     "data": {
      "text/plain": "82"
     },
     "execution_count": 10,
     "metadata": {},
     "output_type": "execute_result"
    }
   ],
   "source": [
    "df.loc['A', '甲']"
   ],
   "metadata": {
    "collapsed": false,
    "ExecuteTime": {
     "end_time": "2023-11-15T02:05:59.244804Z",
     "start_time": "2023-11-15T02:05:59.226124Z"
    }
   },
   "id": "c794b2c2b17f525d"
  },
  {
   "cell_type": "code",
   "execution_count": 13,
   "outputs": [
    {
     "data": {
      "text/plain": "    甲   乙   丙   丁   戊\nA  82  12  28  67  90\nE  57  99  30  34  37",
      "text/html": "<div>\n<style scoped>\n    .dataframe tbody tr th:only-of-type {\n        vertical-align: middle;\n    }\n\n    .dataframe tbody tr th {\n        vertical-align: top;\n    }\n\n    .dataframe thead th {\n        text-align: right;\n    }\n</style>\n<table border=\"1\" class=\"dataframe\">\n  <thead>\n    <tr style=\"text-align: right;\">\n      <th></th>\n      <th>甲</th>\n      <th>乙</th>\n      <th>丙</th>\n      <th>丁</th>\n      <th>戊</th>\n    </tr>\n  </thead>\n  <tbody>\n    <tr>\n      <th>A</th>\n      <td>82</td>\n      <td>12</td>\n      <td>28</td>\n      <td>67</td>\n      <td>90</td>\n    </tr>\n    <tr>\n      <th>E</th>\n      <td>57</td>\n      <td>99</td>\n      <td>30</td>\n      <td>34</td>\n      <td>37</td>\n    </tr>\n  </tbody>\n</table>\n</div>"
     },
     "execution_count": 13,
     "metadata": {},
     "output_type": "execute_result"
    }
   ],
   "source": [
    "df.loc[['A', 'E']]"
   ],
   "metadata": {
    "collapsed": false,
    "ExecuteTime": {
     "end_time": "2023-11-15T02:06:57.666365Z",
     "start_time": "2023-11-15T02:06:57.655555Z"
    }
   },
   "id": "d8175f39d2d05e92"
  },
  {
   "cell_type": "code",
   "execution_count": 14,
   "outputs": [
    {
     "data": {
      "text/plain": "A    82\nB    27\nC    39\nD    63\nE    57\nName: 甲, dtype: int64"
     },
     "execution_count": 14,
     "metadata": {},
     "output_type": "execute_result"
    }
   ],
   "source": [
    "df.loc[:, '甲']"
   ],
   "metadata": {
    "collapsed": false,
    "ExecuteTime": {
     "end_time": "2023-11-15T02:08:42.629081Z",
     "start_time": "2023-11-15T02:08:42.618707Z"
    }
   },
   "id": "89bf02eb51539de0"
  },
  {
   "cell_type": "code",
   "execution_count": 15,
   "outputs": [
    {
     "data": {
      "text/plain": "    甲   乙   丙   丁   戊\nA  82  12  28  67  90\nB  27  32   8  20  35\nA  82  12  28  67  90",
      "text/html": "<div>\n<style scoped>\n    .dataframe tbody tr th:only-of-type {\n        vertical-align: middle;\n    }\n\n    .dataframe tbody tr th {\n        vertical-align: top;\n    }\n\n    .dataframe thead th {\n        text-align: right;\n    }\n</style>\n<table border=\"1\" class=\"dataframe\">\n  <thead>\n    <tr style=\"text-align: right;\">\n      <th></th>\n      <th>甲</th>\n      <th>乙</th>\n      <th>丙</th>\n      <th>丁</th>\n      <th>戊</th>\n    </tr>\n  </thead>\n  <tbody>\n    <tr>\n      <th>A</th>\n      <td>82</td>\n      <td>12</td>\n      <td>28</td>\n      <td>67</td>\n      <td>90</td>\n    </tr>\n    <tr>\n      <th>B</th>\n      <td>27</td>\n      <td>32</td>\n      <td>8</td>\n      <td>20</td>\n      <td>35</td>\n    </tr>\n    <tr>\n      <th>A</th>\n      <td>82</td>\n      <td>12</td>\n      <td>28</td>\n      <td>67</td>\n      <td>90</td>\n    </tr>\n  </tbody>\n</table>\n</div>"
     },
     "execution_count": 15,
     "metadata": {},
     "output_type": "execute_result"
    }
   ],
   "source": [
    "# 访问多行\n",
    "df.loc[['A', 'B', 'A']]"
   ],
   "metadata": {
    "collapsed": false,
    "ExecuteTime": {
     "end_time": "2023-11-15T02:10:34.589528Z",
     "start_time": "2023-11-15T02:10:34.570010Z"
    }
   },
   "id": "48be53702ba0ce32"
  },
  {
   "cell_type": "code",
   "execution_count": 17,
   "outputs": [
    {
     "data": {
      "text/plain": "A    82\nC    39\nE    57\nName: 甲, dtype: int64"
     },
     "execution_count": 17,
     "metadata": {},
     "output_type": "execute_result"
    }
   ],
   "source": [
    "# 不二列表访问\n",
    "bool_list = [True, False, True, False, True]\n",
    "df.loc[bool_list, '甲']"
   ],
   "metadata": {
    "collapsed": false,
    "ExecuteTime": {
     "end_time": "2023-11-15T02:12:22.912417Z",
     "start_time": "2023-11-15T02:12:22.899715Z"
    }
   },
   "id": "15c4a11022ce3176"
  },
  {
   "cell_type": "code",
   "execution_count": 20,
   "outputs": [
    {
     "data": {
      "text/plain": "B     True\nC    False\nA     True\nD    False\nE     True\nName: 索引对齐, dtype: bool"
     },
     "execution_count": 20,
     "metadata": {},
     "output_type": "execute_result"
    }
   ],
   "source": [
    "# 索引对齐\n",
    "s_b_list = Series(data=bool_list, index=list('BCADE'), name='索引对齐')\n",
    "s_b_list"
   ],
   "metadata": {
    "collapsed": false,
    "ExecuteTime": {
     "end_time": "2023-11-15T02:19:10.350739Z",
     "start_time": "2023-11-15T02:19:10.345081Z"
    }
   },
   "id": "d6e49cf891897970"
  },
  {
   "cell_type": "code",
   "execution_count": 19,
   "outputs": [
    {
     "data": {
      "text/plain": "    甲   乙   丙   丁   戊\nA  82  12  28  67  90\nB  27  32   8  20  35\nE  57  99  30  34  37",
      "text/html": "<div>\n<style scoped>\n    .dataframe tbody tr th:only-of-type {\n        vertical-align: middle;\n    }\n\n    .dataframe tbody tr th {\n        vertical-align: top;\n    }\n\n    .dataframe thead th {\n        text-align: right;\n    }\n</style>\n<table border=\"1\" class=\"dataframe\">\n  <thead>\n    <tr style=\"text-align: right;\">\n      <th></th>\n      <th>甲</th>\n      <th>乙</th>\n      <th>丙</th>\n      <th>丁</th>\n      <th>戊</th>\n    </tr>\n  </thead>\n  <tbody>\n    <tr>\n      <th>A</th>\n      <td>82</td>\n      <td>12</td>\n      <td>28</td>\n      <td>67</td>\n      <td>90</td>\n    </tr>\n    <tr>\n      <th>B</th>\n      <td>27</td>\n      <td>32</td>\n      <td>8</td>\n      <td>20</td>\n      <td>35</td>\n    </tr>\n    <tr>\n      <th>E</th>\n      <td>57</td>\n      <td>99</td>\n      <td>30</td>\n      <td>34</td>\n      <td>37</td>\n    </tr>\n  </tbody>\n</table>\n</div>"
     },
     "execution_count": 19,
     "metadata": {},
     "output_type": "execute_result"
    }
   ],
   "source": [
    "df.loc[s_b_list]"
   ],
   "metadata": {
    "collapsed": false,
    "ExecuteTime": {
     "end_time": "2023-11-15T02:16:44.714587Z",
     "start_time": "2023-11-15T02:16:44.712574Z"
    }
   },
   "id": "c41f1916ed479429"
  },
  {
   "cell_type": "code",
   "execution_count": 21,
   "outputs": [
    {
     "data": {
      "text/plain": "    甲   乙\nA  82  12\nB  27  32",
      "text/html": "<div>\n<style scoped>\n    .dataframe tbody tr th:only-of-type {\n        vertical-align: middle;\n    }\n\n    .dataframe tbody tr th {\n        vertical-align: top;\n    }\n\n    .dataframe thead th {\n        text-align: right;\n    }\n</style>\n<table border=\"1\" class=\"dataframe\">\n  <thead>\n    <tr style=\"text-align: right;\">\n      <th></th>\n      <th>甲</th>\n      <th>乙</th>\n    </tr>\n  </thead>\n  <tbody>\n    <tr>\n      <th>A</th>\n      <td>82</td>\n      <td>12</td>\n    </tr>\n    <tr>\n      <th>B</th>\n      <td>27</td>\n      <td>32</td>\n    </tr>\n  </tbody>\n</table>\n</div>"
     },
     "execution_count": 21,
     "metadata": {},
     "output_type": "execute_result"
    }
   ],
   "source": [
    "# 切片，显示索引的切片都是闭区间\n",
    "df.loc['A':'B', '甲':'乙']"
   ],
   "metadata": {
    "collapsed": false,
    "ExecuteTime": {
     "end_time": "2023-11-15T02:21:55.940939Z",
     "start_time": "2023-11-15T02:21:55.935815Z"
    }
   },
   "id": "a16489b64e0e1465"
  },
  {
   "cell_type": "markdown",
   "source": [],
   "metadata": {
    "collapsed": false
   },
   "id": "abd89ff2d535689f"
  },
  {
   "cell_type": "code",
   "execution_count": 22,
   "outputs": [
    {
     "data": {
      "text/plain": "    丙   丁   戊\nA  28  67  90\nB   8  20  35\nC  76  78  48\nD  11  71  10\nE  30  34  37",
      "text/html": "<div>\n<style scoped>\n    .dataframe tbody tr th:only-of-type {\n        vertical-align: middle;\n    }\n\n    .dataframe tbody tr th {\n        vertical-align: top;\n    }\n\n    .dataframe thead th {\n        text-align: right;\n    }\n</style>\n<table border=\"1\" class=\"dataframe\">\n  <thead>\n    <tr style=\"text-align: right;\">\n      <th></th>\n      <th>丙</th>\n      <th>丁</th>\n      <th>戊</th>\n    </tr>\n  </thead>\n  <tbody>\n    <tr>\n      <th>A</th>\n      <td>28</td>\n      <td>67</td>\n      <td>90</td>\n    </tr>\n    <tr>\n      <th>B</th>\n      <td>8</td>\n      <td>20</td>\n      <td>35</td>\n    </tr>\n    <tr>\n      <th>C</th>\n      <td>76</td>\n      <td>78</td>\n      <td>48</td>\n    </tr>\n    <tr>\n      <th>D</th>\n      <td>11</td>\n      <td>71</td>\n      <td>10</td>\n    </tr>\n    <tr>\n      <th>E</th>\n      <td>30</td>\n      <td>34</td>\n      <td>37</td>\n    </tr>\n  </tbody>\n</table>\n</div>"
     },
     "execution_count": 22,
     "metadata": {},
     "output_type": "execute_result"
    }
   ],
   "source": [
    "# 切片，访问多列\n",
    "df.loc[:, '丙':'戊']"
   ],
   "metadata": {
    "collapsed": false,
    "ExecuteTime": {
     "end_time": "2023-11-15T02:23:45.626026Z",
     "start_time": "2023-11-15T02:23:45.617003Z"
    }
   },
   "id": "c682d66b333c6e17"
  },
  {
   "cell_type": "code",
   "execution_count": 43,
   "outputs": [
    {
     "data": {
      "text/plain": "array(['lucy', 'mery', 'tom', 'jack', 'rose', 'fengliang', 'tingting'],\n      dtype='<U9')"
     },
     "execution_count": 43,
     "metadata": {},
     "output_type": "execute_result"
    }
   ],
   "source": [
    "# 使用np.array 构造，有利于调用方法\n",
    "name_test = np.array( ['lucy', 'mery', 'tom', 'jack', 'rose','fengliang','tingting'])\n",
    "name_test"
   ],
   "metadata": {
    "collapsed": false,
    "ExecuteTime": {
     "end_time": "2023-11-16T02:06:16.685104Z",
     "start_time": "2023-11-16T02:06:16.682985Z"
    }
   },
   "id": "d753bcef71376e30"
  },
  {
   "cell_type": "code",
   "execution_count": 41,
   "outputs": [
    {
     "data": {
      "text/plain": "['lucy', 'mery', 'tom', 'jack', 'rose', 'fengliang', 'tingting']"
     },
     "execution_count": 41,
     "metadata": {},
     "output_type": "execute_result"
    }
   ],
   "source": [
    "# 使用np.array 构造，有利于调用方法\n",
    "name_test1 =  ['lucy', 'mery', 'tom', 'jack', 'rose','fengliang','tingting']\n",
    "name_test1"
   ],
   "metadata": {
    "collapsed": false,
    "ExecuteTime": {
     "end_time": "2023-11-16T02:00:10.240271Z",
     "start_time": "2023-11-16T02:00:10.222739Z"
    }
   },
   "id": "9e4ad4a2b21c1c0f"
  },
  {
   "cell_type": "code",
   "execution_count": null,
   "outputs": [],
   "source": [
    "array = np.array()"
   ],
   "metadata": {
    "collapsed": false
   },
   "id": "10264c9cb2fab40d"
  },
  {
   "cell_type": "code",
   "execution_count": 38,
   "outputs": [
    {
     "data": {
      "text/plain": "           python  java  php  golang  c++   c  c#  js  易语言\nlucy           95    50   52      92   79  88  47  84   85\nmery           96    92   76      89   41  76  84  52   89\ntom            61    97   61      84   63  65  76  41   84\njack           49    72   81      75   76  42  91  41   59\nrose           79    47   41      83   84  51  69  88   55\nfengliang      98    99   94      81   46  67  68  79   81\ntingting       91    77   62      86   49  49  59  66   44",
      "text/html": "<div>\n<style scoped>\n    .dataframe tbody tr th:only-of-type {\n        vertical-align: middle;\n    }\n\n    .dataframe tbody tr th {\n        vertical-align: top;\n    }\n\n    .dataframe thead th {\n        text-align: right;\n    }\n</style>\n<table border=\"1\" class=\"dataframe\">\n  <thead>\n    <tr style=\"text-align: right;\">\n      <th></th>\n      <th>python</th>\n      <th>java</th>\n      <th>php</th>\n      <th>golang</th>\n      <th>c++</th>\n      <th>c</th>\n      <th>c#</th>\n      <th>js</th>\n      <th>易语言</th>\n    </tr>\n  </thead>\n  <tbody>\n    <tr>\n      <th>lucy</th>\n      <td>95</td>\n      <td>50</td>\n      <td>52</td>\n      <td>92</td>\n      <td>79</td>\n      <td>88</td>\n      <td>47</td>\n      <td>84</td>\n      <td>85</td>\n    </tr>\n    <tr>\n      <th>mery</th>\n      <td>96</td>\n      <td>92</td>\n      <td>76</td>\n      <td>89</td>\n      <td>41</td>\n      <td>76</td>\n      <td>84</td>\n      <td>52</td>\n      <td>89</td>\n    </tr>\n    <tr>\n      <th>tom</th>\n      <td>61</td>\n      <td>97</td>\n      <td>61</td>\n      <td>84</td>\n      <td>63</td>\n      <td>65</td>\n      <td>76</td>\n      <td>41</td>\n      <td>84</td>\n    </tr>\n    <tr>\n      <th>jack</th>\n      <td>49</td>\n      <td>72</td>\n      <td>81</td>\n      <td>75</td>\n      <td>76</td>\n      <td>42</td>\n      <td>91</td>\n      <td>41</td>\n      <td>59</td>\n    </tr>\n    <tr>\n      <th>rose</th>\n      <td>79</td>\n      <td>47</td>\n      <td>41</td>\n      <td>83</td>\n      <td>84</td>\n      <td>51</td>\n      <td>69</td>\n      <td>88</td>\n      <td>55</td>\n    </tr>\n    <tr>\n      <th>fengliang</th>\n      <td>98</td>\n      <td>99</td>\n      <td>94</td>\n      <td>81</td>\n      <td>46</td>\n      <td>67</td>\n      <td>68</td>\n      <td>79</td>\n      <td>81</td>\n    </tr>\n    <tr>\n      <th>tingting</th>\n      <td>91</td>\n      <td>77</td>\n      <td>62</td>\n      <td>86</td>\n      <td>49</td>\n      <td>49</td>\n      <td>59</td>\n      <td>66</td>\n      <td>44</td>\n    </tr>\n  </tbody>\n</table>\n</div>"
     },
     "execution_count": 38,
     "metadata": {},
     "output_type": "execute_result"
    }
   ],
   "source": [
    "# 使用np.array 构造，有利于调用方法\n",
    "name = np.array( ['lucy', 'mery', 'tom', 'jack', 'rose','fengliang','tingting'])\n",
    "columns = np.array( ['python', 'java', 'php', 'golang', 'c++', 'c', 'c#', 'js', '易语言'])\n",
    "df = DataFrame(data=np.random.randint(40,100,size=(name.size,columns.size)), index=name, columns=columns)\n",
    "df"
   ],
   "metadata": {
    "collapsed": false,
    "ExecuteTime": {
     "end_time": "2023-11-16T01:57:00.779424Z",
     "start_time": "2023-11-16T01:57:00.749048Z"
    }
   },
   "id": "8be71211f5835cfa"
  },
  {
   "cell_type": "code",
   "execution_count": 49,
   "outputs": [
    {
     "data": {
      "text/plain": "lucy         False\nmery          True\ntom           True\njack          True\nrose         False\nfengliang     True\ntingting      True\nName: java, dtype: bool"
     },
     "execution_count": 49,
     "metadata": {},
     "output_type": "execute_result"
    }
   ],
   "source": [
    "# 找出Java成绩大于60的\n",
    "java_score = df.loc[:,'java']>60\n",
    "java_score"
   ],
   "metadata": {
    "collapsed": false,
    "ExecuteTime": {
     "end_time": "2023-11-16T02:16:10.193610Z",
     "start_time": "2023-11-16T02:16:10.190612Z"
    }
   },
   "id": "2f24ee83ef550882"
  },
  {
   "cell_type": "code",
   "execution_count": 50,
   "outputs": [
    {
     "data": {
      "text/plain": "           python  java  php  golang  c++   c  c#  js  易语言\nmery           96    92   76      89   41  76  84  52   89\ntom            61    97   61      84   63  65  76  41   84\njack           49    72   81      75   76  42  91  41   59\nfengliang      98    99   94      81   46  67  68  79   81\ntingting       91    77   62      86   49  49  59  66   44",
      "text/html": "<div>\n<style scoped>\n    .dataframe tbody tr th:only-of-type {\n        vertical-align: middle;\n    }\n\n    .dataframe tbody tr th {\n        vertical-align: top;\n    }\n\n    .dataframe thead th {\n        text-align: right;\n    }\n</style>\n<table border=\"1\" class=\"dataframe\">\n  <thead>\n    <tr style=\"text-align: right;\">\n      <th></th>\n      <th>python</th>\n      <th>java</th>\n      <th>php</th>\n      <th>golang</th>\n      <th>c++</th>\n      <th>c</th>\n      <th>c#</th>\n      <th>js</th>\n      <th>易语言</th>\n    </tr>\n  </thead>\n  <tbody>\n    <tr>\n      <th>mery</th>\n      <td>96</td>\n      <td>92</td>\n      <td>76</td>\n      <td>89</td>\n      <td>41</td>\n      <td>76</td>\n      <td>84</td>\n      <td>52</td>\n      <td>89</td>\n    </tr>\n    <tr>\n      <th>tom</th>\n      <td>61</td>\n      <td>97</td>\n      <td>61</td>\n      <td>84</td>\n      <td>63</td>\n      <td>65</td>\n      <td>76</td>\n      <td>41</td>\n      <td>84</td>\n    </tr>\n    <tr>\n      <th>jack</th>\n      <td>49</td>\n      <td>72</td>\n      <td>81</td>\n      <td>75</td>\n      <td>76</td>\n      <td>42</td>\n      <td>91</td>\n      <td>41</td>\n      <td>59</td>\n    </tr>\n    <tr>\n      <th>fengliang</th>\n      <td>98</td>\n      <td>99</td>\n      <td>94</td>\n      <td>81</td>\n      <td>46</td>\n      <td>67</td>\n      <td>68</td>\n      <td>79</td>\n      <td>81</td>\n    </tr>\n    <tr>\n      <th>tingting</th>\n      <td>91</td>\n      <td>77</td>\n      <td>62</td>\n      <td>86</td>\n      <td>49</td>\n      <td>49</td>\n      <td>59</td>\n      <td>66</td>\n      <td>44</td>\n    </tr>\n  </tbody>\n</table>\n</div>"
     },
     "execution_count": 50,
     "metadata": {},
     "output_type": "execute_result"
    }
   ],
   "source": [
    "# 找出Java成绩大于60的\n",
    "java_score = df.loc[:,'java']>60\n",
    "df.loc[java_score,:]"
   ],
   "metadata": {
    "collapsed": false,
    "ExecuteTime": {
     "end_time": "2023-11-16T02:16:14.383742Z",
     "start_time": "2023-11-16T02:16:14.372458Z"
    }
   },
   "id": "e90caf01c931e658"
  },
  {
   "cell_type": "code",
   "execution_count": 56,
   "outputs": [
    {
     "data": {
      "text/plain": "81.28571428571429"
     },
     "execution_count": 56,
     "metadata": {},
     "output_type": "execute_result"
    }
   ],
   "source": [
    "# 找出Python成绩大于平均值的所有信息\n",
    "python_mean = df.loc[:,'python'].mean()\n",
    "python_mean"
   ],
   "metadata": {
    "collapsed": false,
    "ExecuteTime": {
     "end_time": "2023-11-16T02:20:52.605166Z",
     "start_time": "2023-11-16T02:20:52.601873Z"
    }
   },
   "id": "481a3f8924daaf18"
  },
  {
   "cell_type": "code",
   "execution_count": 61,
   "outputs": [
    {
     "data": {
      "text/plain": "lucy          True\nmery          True\ntom          False\njack         False\nrose         False\nfengliang     True\ntingting      True\nName: python, dtype: bool"
     },
     "execution_count": 61,
     "metadata": {},
     "output_type": "execute_result"
    }
   ],
   "source": [
    "df.loc[:,'python']>python_mean"
   ],
   "metadata": {
    "collapsed": false,
    "ExecuteTime": {
     "end_time": "2023-11-16T02:38:06.275127Z",
     "start_time": "2023-11-16T02:38:06.266263Z"
    }
   },
   "id": "df7c30d16c73d257"
  },
  {
   "cell_type": "code",
   "execution_count": 59,
   "outputs": [
    {
     "data": {
      "text/plain": "           python  java  php  golang  c++   c  c#  js  易语言\nlucy           95    50   52      92   79  88  47  84   85\nmery           96    92   76      89   41  76  84  52   89\nfengliang      98    99   94      81   46  67  68  79   81\ntingting       91    77   62      86   49  49  59  66   44",
      "text/html": "<div>\n<style scoped>\n    .dataframe tbody tr th:only-of-type {\n        vertical-align: middle;\n    }\n\n    .dataframe tbody tr th {\n        vertical-align: top;\n    }\n\n    .dataframe thead th {\n        text-align: right;\n    }\n</style>\n<table border=\"1\" class=\"dataframe\">\n  <thead>\n    <tr style=\"text-align: right;\">\n      <th></th>\n      <th>python</th>\n      <th>java</th>\n      <th>php</th>\n      <th>golang</th>\n      <th>c++</th>\n      <th>c</th>\n      <th>c#</th>\n      <th>js</th>\n      <th>易语言</th>\n    </tr>\n  </thead>\n  <tbody>\n    <tr>\n      <th>lucy</th>\n      <td>95</td>\n      <td>50</td>\n      <td>52</td>\n      <td>92</td>\n      <td>79</td>\n      <td>88</td>\n      <td>47</td>\n      <td>84</td>\n      <td>85</td>\n    </tr>\n    <tr>\n      <th>mery</th>\n      <td>96</td>\n      <td>92</td>\n      <td>76</td>\n      <td>89</td>\n      <td>41</td>\n      <td>76</td>\n      <td>84</td>\n      <td>52</td>\n      <td>89</td>\n    </tr>\n    <tr>\n      <th>fengliang</th>\n      <td>98</td>\n      <td>99</td>\n      <td>94</td>\n      <td>81</td>\n      <td>46</td>\n      <td>67</td>\n      <td>68</td>\n      <td>79</td>\n      <td>81</td>\n    </tr>\n    <tr>\n      <th>tingting</th>\n      <td>91</td>\n      <td>77</td>\n      <td>62</td>\n      <td>86</td>\n      <td>49</td>\n      <td>49</td>\n      <td>59</td>\n      <td>66</td>\n      <td>44</td>\n    </tr>\n  </tbody>\n</table>\n</div>"
     },
     "execution_count": 59,
     "metadata": {},
     "output_type": "execute_result"
    }
   ],
   "source": [
    "df.loc[df.loc[:,'python']>python_mean]"
   ],
   "metadata": {
    "collapsed": false,
    "ExecuteTime": {
     "end_time": "2023-11-16T02:35:20.034127Z",
     "start_time": "2023-11-16T02:35:20.012451Z"
    }
   },
   "id": "2cfba398ac43aa01"
  },
  {
   "cell_type": "code",
   "execution_count": 63,
   "outputs": [],
   "source": [
    "# 给jack的java成绩加10分\n",
    "df.loc['jack','java']+=10"
   ],
   "metadata": {
    "collapsed": false,
    "ExecuteTime": {
     "end_time": "2023-11-16T02:40:33.973510Z",
     "start_time": "2023-11-16T02:40:33.959437Z"
    }
   },
   "id": "d19ebf354c059ecc"
  },
  {
   "cell_type": "code",
   "execution_count": 70,
   "outputs": [
    {
     "data": {
      "text/plain": "array(['lucy', 'mery', 'tom', 'jack', 'rose', 'fengliang', 'tingting'],\n      dtype=object)"
     },
     "execution_count": 70,
     "metadata": {},
     "output_type": "execute_result"
    }
   ],
   "source": [
    "# 获取只包含name和python列的子表\n",
    "name_column = np.array(df.index)\n",
    "name_column"
   ],
   "metadata": {
    "collapsed": false,
    "ExecuteTime": {
     "end_time": "2023-11-16T02:47:05.287636Z",
     "start_time": "2023-11-16T02:47:05.283912Z"
    }
   },
   "id": "48f342a12074403c"
  },
  {
   "cell_type": "code",
   "execution_count": 73,
   "outputs": [
    {
     "data": {
      "text/plain": "        name  python\n0       lucy      95\n1       mery      96\n2        tom      61\n3       jack      49\n4       rose      79\n5  fengliang      98\n6   tingting      91",
      "text/html": "<div>\n<style scoped>\n    .dataframe tbody tr th:only-of-type {\n        vertical-align: middle;\n    }\n\n    .dataframe tbody tr th {\n        vertical-align: top;\n    }\n\n    .dataframe thead th {\n        text-align: right;\n    }\n</style>\n<table border=\"1\" class=\"dataframe\">\n  <thead>\n    <tr style=\"text-align: right;\">\n      <th></th>\n      <th>name</th>\n      <th>python</th>\n    </tr>\n  </thead>\n  <tbody>\n    <tr>\n      <th>0</th>\n      <td>lucy</td>\n      <td>95</td>\n    </tr>\n    <tr>\n      <th>1</th>\n      <td>mery</td>\n      <td>96</td>\n    </tr>\n    <tr>\n      <th>2</th>\n      <td>tom</td>\n      <td>61</td>\n    </tr>\n    <tr>\n      <th>3</th>\n      <td>jack</td>\n      <td>49</td>\n    </tr>\n    <tr>\n      <th>4</th>\n      <td>rose</td>\n      <td>79</td>\n    </tr>\n    <tr>\n      <th>5</th>\n      <td>fengliang</td>\n      <td>98</td>\n    </tr>\n    <tr>\n      <th>6</th>\n      <td>tingting</td>\n      <td>91</td>\n    </tr>\n  </tbody>\n</table>\n</div>"
     },
     "execution_count": 73,
     "metadata": {},
     "output_type": "execute_result"
    }
   ],
   "source": [
    "df2 = DataFrame(data={\n",
    "    'name':name_column,\n",
    "    'python':np.array(df.loc[:,'python'])\n",
    "},index=None)\n",
    "df2"
   ],
   "metadata": {
    "collapsed": false,
    "ExecuteTime": {
     "end_time": "2023-11-16T02:48:50.598203Z",
     "start_time": "2023-11-16T02:48:50.591406Z"
    }
   },
   "id": "a6a515cc20e50990"
  },
  {
   "cell_type": "code",
   "execution_count": 90,
   "outputs": [
    {
     "data": {
      "text/plain": "           python  java  php  golang  c++   c  c#  js  易语言\nname                                                      \nlucy           75    30   32      72   59  68  27  64   65\nmery           76    72   56      69   21  56  64  32   69\ntom            41    77   41      64   43  45  56  21   64\njack           29    62   61      55   56  22  71  21   39\nrose           59    27   21      63   64  31  49  68   35\nfengliang      78    79   74      61   26  47  48  59   61\ntingting       71    57   42      66   29  29  39  46   24",
      "text/html": "<div>\n<style scoped>\n    .dataframe tbody tr th:only-of-type {\n        vertical-align: middle;\n    }\n\n    .dataframe tbody tr th {\n        vertical-align: top;\n    }\n\n    .dataframe thead th {\n        text-align: right;\n    }\n</style>\n<table border=\"1\" class=\"dataframe\">\n  <thead>\n    <tr style=\"text-align: right;\">\n      <th></th>\n      <th>python</th>\n      <th>java</th>\n      <th>php</th>\n      <th>golang</th>\n      <th>c++</th>\n      <th>c</th>\n      <th>c#</th>\n      <th>js</th>\n      <th>易语言</th>\n    </tr>\n    <tr>\n      <th>name</th>\n      <th></th>\n      <th></th>\n      <th></th>\n      <th></th>\n      <th></th>\n      <th></th>\n      <th></th>\n      <th></th>\n      <th></th>\n    </tr>\n  </thead>\n  <tbody>\n    <tr>\n      <th>lucy</th>\n      <td>75</td>\n      <td>30</td>\n      <td>32</td>\n      <td>72</td>\n      <td>59</td>\n      <td>68</td>\n      <td>27</td>\n      <td>64</td>\n      <td>65</td>\n    </tr>\n    <tr>\n      <th>mery</th>\n      <td>76</td>\n      <td>72</td>\n      <td>56</td>\n      <td>69</td>\n      <td>21</td>\n      <td>56</td>\n      <td>64</td>\n      <td>32</td>\n      <td>69</td>\n    </tr>\n    <tr>\n      <th>tom</th>\n      <td>41</td>\n      <td>77</td>\n      <td>41</td>\n      <td>64</td>\n      <td>43</td>\n      <td>45</td>\n      <td>56</td>\n      <td>21</td>\n      <td>64</td>\n    </tr>\n    <tr>\n      <th>jack</th>\n      <td>29</td>\n      <td>62</td>\n      <td>61</td>\n      <td>55</td>\n      <td>56</td>\n      <td>22</td>\n      <td>71</td>\n      <td>21</td>\n      <td>39</td>\n    </tr>\n    <tr>\n      <th>rose</th>\n      <td>59</td>\n      <td>27</td>\n      <td>21</td>\n      <td>63</td>\n      <td>64</td>\n      <td>31</td>\n      <td>49</td>\n      <td>68</td>\n      <td>35</td>\n    </tr>\n    <tr>\n      <th>fengliang</th>\n      <td>78</td>\n      <td>79</td>\n      <td>74</td>\n      <td>61</td>\n      <td>26</td>\n      <td>47</td>\n      <td>48</td>\n      <td>59</td>\n      <td>61</td>\n    </tr>\n    <tr>\n      <th>tingting</th>\n      <td>71</td>\n      <td>57</td>\n      <td>42</td>\n      <td>66</td>\n      <td>29</td>\n      <td>29</td>\n      <td>39</td>\n      <td>46</td>\n      <td>24</td>\n    </tr>\n  </tbody>\n</table>\n</div>"
     },
     "execution_count": 90,
     "metadata": {},
     "output_type": "execute_result"
    }
   ],
   "source": [
    "df3 = df\n",
    "df3.index.name='name'\n",
    "df3\n"
   ],
   "metadata": {
    "collapsed": false,
    "ExecuteTime": {
     "end_time": "2023-11-16T07:06:36.986426Z",
     "start_time": "2023-11-16T07:06:36.963988Z"
    }
   },
   "id": "82861284b9dbf622"
  },
  {
   "cell_type": "code",
   "execution_count": 91,
   "outputs": [
    {
     "data": {
      "text/plain": "           python  java  php  golang  c++   c  c#  js  易语言\nname                                                      \nlucy           65    20   22      62   49  58  17  54   55\nmery           66    62   46      59   11  46  54  22   59\ntom            31    67   31      54   33  35  46  11   54\njack           19    52   51      45   46  12  61  11   29\nrose           49    17   11      53   54  21  39  58   25\nfengliang      68    69   64      51   16  37  38  49   51\ntingting       61    47   32      56   19  19  29  36   14",
      "text/html": "<div>\n<style scoped>\n    .dataframe tbody tr th:only-of-type {\n        vertical-align: middle;\n    }\n\n    .dataframe tbody tr th {\n        vertical-align: top;\n    }\n\n    .dataframe thead th {\n        text-align: right;\n    }\n</style>\n<table border=\"1\" class=\"dataframe\">\n  <thead>\n    <tr style=\"text-align: right;\">\n      <th></th>\n      <th>python</th>\n      <th>java</th>\n      <th>php</th>\n      <th>golang</th>\n      <th>c++</th>\n      <th>c</th>\n      <th>c#</th>\n      <th>js</th>\n      <th>易语言</th>\n    </tr>\n    <tr>\n      <th>name</th>\n      <th></th>\n      <th></th>\n      <th></th>\n      <th></th>\n      <th></th>\n      <th></th>\n      <th></th>\n      <th></th>\n      <th></th>\n    </tr>\n  </thead>\n  <tbody>\n    <tr>\n      <th>lucy</th>\n      <td>65</td>\n      <td>20</td>\n      <td>22</td>\n      <td>62</td>\n      <td>49</td>\n      <td>58</td>\n      <td>17</td>\n      <td>54</td>\n      <td>55</td>\n    </tr>\n    <tr>\n      <th>mery</th>\n      <td>66</td>\n      <td>62</td>\n      <td>46</td>\n      <td>59</td>\n      <td>11</td>\n      <td>46</td>\n      <td>54</td>\n      <td>22</td>\n      <td>59</td>\n    </tr>\n    <tr>\n      <th>tom</th>\n      <td>31</td>\n      <td>67</td>\n      <td>31</td>\n      <td>54</td>\n      <td>33</td>\n      <td>35</td>\n      <td>46</td>\n      <td>11</td>\n      <td>54</td>\n    </tr>\n    <tr>\n      <th>jack</th>\n      <td>19</td>\n      <td>52</td>\n      <td>51</td>\n      <td>45</td>\n      <td>46</td>\n      <td>12</td>\n      <td>61</td>\n      <td>11</td>\n      <td>29</td>\n    </tr>\n    <tr>\n      <th>rose</th>\n      <td>49</td>\n      <td>17</td>\n      <td>11</td>\n      <td>53</td>\n      <td>54</td>\n      <td>21</td>\n      <td>39</td>\n      <td>58</td>\n      <td>25</td>\n    </tr>\n    <tr>\n      <th>fengliang</th>\n      <td>68</td>\n      <td>69</td>\n      <td>64</td>\n      <td>51</td>\n      <td>16</td>\n      <td>37</td>\n      <td>38</td>\n      <td>49</td>\n      <td>51</td>\n    </tr>\n    <tr>\n      <th>tingting</th>\n      <td>61</td>\n      <td>47</td>\n      <td>32</td>\n      <td>56</td>\n      <td>19</td>\n      <td>19</td>\n      <td>29</td>\n      <td>36</td>\n      <td>14</td>\n    </tr>\n  </tbody>\n</table>\n</div>"
     },
     "execution_count": 91,
     "metadata": {},
     "output_type": "execute_result"
    }
   ],
   "source": [
    "df3 -= 10\n",
    "df3"
   ],
   "metadata": {
    "collapsed": false,
    "ExecuteTime": {
     "end_time": "2023-11-16T07:06:45.732742Z",
     "start_time": "2023-11-16T07:06:45.716159Z"
    }
   },
   "id": "5cab5b0912529963"
  },
  {
   "cell_type": "code",
   "execution_count": 97,
   "outputs": [
    {
     "data": {
      "text/plain": "           python   java    php  golang    c++      c     c#     js    易语言\nname                                                                      \nlucy        False  False  False    True   True   True  False   True   True\nmery        False  False  False    True  False   True   True  False   True\ntom         False  False  False    True   True  False   True  False   True\njack        False  False  False   False   True  False   True  False  False\nrose        False  False  False    True   True  False   True   True  False\nfengliang   False  False  False   False  False  False  False  False  False\ntingting    False  False  False    True   True  False  False  False  False",
      "text/html": "<div>\n<style scoped>\n    .dataframe tbody tr th:only-of-type {\n        vertical-align: middle;\n    }\n\n    .dataframe tbody tr th {\n        vertical-align: top;\n    }\n\n    .dataframe thead th {\n        text-align: right;\n    }\n</style>\n<table border=\"1\" class=\"dataframe\">\n  <thead>\n    <tr style=\"text-align: right;\">\n      <th></th>\n      <th>python</th>\n      <th>java</th>\n      <th>php</th>\n      <th>golang</th>\n      <th>c++</th>\n      <th>c</th>\n      <th>c#</th>\n      <th>js</th>\n      <th>易语言</th>\n    </tr>\n    <tr>\n      <th>name</th>\n      <th></th>\n      <th></th>\n      <th></th>\n      <th></th>\n      <th></th>\n      <th></th>\n      <th></th>\n      <th></th>\n      <th></th>\n    </tr>\n  </thead>\n  <tbody>\n    <tr>\n      <th>lucy</th>\n      <td>False</td>\n      <td>False</td>\n      <td>False</td>\n      <td>True</td>\n      <td>True</td>\n      <td>True</td>\n      <td>False</td>\n      <td>True</td>\n      <td>True</td>\n    </tr>\n    <tr>\n      <th>mery</th>\n      <td>False</td>\n      <td>False</td>\n      <td>False</td>\n      <td>True</td>\n      <td>False</td>\n      <td>True</td>\n      <td>True</td>\n      <td>False</td>\n      <td>True</td>\n    </tr>\n    <tr>\n      <th>tom</th>\n      <td>False</td>\n      <td>False</td>\n      <td>False</td>\n      <td>True</td>\n      <td>True</td>\n      <td>False</td>\n      <td>True</td>\n      <td>False</td>\n      <td>True</td>\n    </tr>\n    <tr>\n      <th>jack</th>\n      <td>False</td>\n      <td>False</td>\n      <td>False</td>\n      <td>False</td>\n      <td>True</td>\n      <td>False</td>\n      <td>True</td>\n      <td>False</td>\n      <td>False</td>\n    </tr>\n    <tr>\n      <th>rose</th>\n      <td>False</td>\n      <td>False</td>\n      <td>False</td>\n      <td>True</td>\n      <td>True</td>\n      <td>False</td>\n      <td>True</td>\n      <td>True</td>\n      <td>False</td>\n    </tr>\n    <tr>\n      <th>fengliang</th>\n      <td>False</td>\n      <td>False</td>\n      <td>False</td>\n      <td>False</td>\n      <td>False</td>\n      <td>False</td>\n      <td>False</td>\n      <td>False</td>\n      <td>False</td>\n    </tr>\n    <tr>\n      <th>tingting</th>\n      <td>False</td>\n      <td>False</td>\n      <td>False</td>\n      <td>True</td>\n      <td>True</td>\n      <td>False</td>\n      <td>False</td>\n      <td>False</td>\n      <td>False</td>\n    </tr>\n  </tbody>\n</table>\n</div>"
     },
     "execution_count": 97,
     "metadata": {},
     "output_type": "execute_result"
    }
   ],
   "source": [
    "df > df.loc['fengliang']"
   ],
   "metadata": {
    "collapsed": false,
    "ExecuteTime": {
     "end_time": "2023-11-16T07:13:28.654286Z",
     "start_time": "2023-11-16T07:13:28.634799Z"
    }
   },
   "id": "7a5ee54d908cfd05"
  },
  {
   "cell_type": "code",
   "execution_count": 103,
   "outputs": [
    {
     "data": {
      "text/plain": "python    51\njava      47\nphp       36\ngolang    54\nc++       32\nc         32\nc#        40\njs        34\n易语言       41\ndtype: int32"
     },
     "execution_count": 103,
     "metadata": {},
     "output_type": "execute_result"
    }
   ],
   "source": [
    "# 计算所有人所有学科是否大于该学科的平均成绩\n",
    "avg_score = df.mean(axis=0)\n",
    "avg_score.astype(np.int32)"
   ],
   "metadata": {
    "collapsed": false,
    "ExecuteTime": {
     "end_time": "2023-11-16T07:17:07.518396Z",
     "start_time": "2023-11-16T07:17:07.514797Z"
    }
   },
   "id": "1846324136a58e07"
  },
  {
   "cell_type": "code",
   "execution_count": 104,
   "outputs": [
    {
     "data": {
      "text/plain": "           python   java    php  golang    c++      c     c#     js    易语言\nname                                                                      \nlucy         True  False  False    True   True   True  False   True   True\nmery         True   True   True    True  False   True   True  False   True\ntom         False   True  False   False   True   True   True  False   True\njack        False   True   True   False   True  False   True  False  False\nrose        False  False  False   False   True  False  False   True  False\nfengliang    True   True   True   False  False   True  False   True   True\ntingting     True  False  False    True  False  False  False   True  False",
      "text/html": "<div>\n<style scoped>\n    .dataframe tbody tr th:only-of-type {\n        vertical-align: middle;\n    }\n\n    .dataframe tbody tr th {\n        vertical-align: top;\n    }\n\n    .dataframe thead th {\n        text-align: right;\n    }\n</style>\n<table border=\"1\" class=\"dataframe\">\n  <thead>\n    <tr style=\"text-align: right;\">\n      <th></th>\n      <th>python</th>\n      <th>java</th>\n      <th>php</th>\n      <th>golang</th>\n      <th>c++</th>\n      <th>c</th>\n      <th>c#</th>\n      <th>js</th>\n      <th>易语言</th>\n    </tr>\n    <tr>\n      <th>name</th>\n      <th></th>\n      <th></th>\n      <th></th>\n      <th></th>\n      <th></th>\n      <th></th>\n      <th></th>\n      <th></th>\n      <th></th>\n    </tr>\n  </thead>\n  <tbody>\n    <tr>\n      <th>lucy</th>\n      <td>True</td>\n      <td>False</td>\n      <td>False</td>\n      <td>True</td>\n      <td>True</td>\n      <td>True</td>\n      <td>False</td>\n      <td>True</td>\n      <td>True</td>\n    </tr>\n    <tr>\n      <th>mery</th>\n      <td>True</td>\n      <td>True</td>\n      <td>True</td>\n      <td>True</td>\n      <td>False</td>\n      <td>True</td>\n      <td>True</td>\n      <td>False</td>\n      <td>True</td>\n    </tr>\n    <tr>\n      <th>tom</th>\n      <td>False</td>\n      <td>True</td>\n      <td>False</td>\n      <td>False</td>\n      <td>True</td>\n      <td>True</td>\n      <td>True</td>\n      <td>False</td>\n      <td>True</td>\n    </tr>\n    <tr>\n      <th>jack</th>\n      <td>False</td>\n      <td>True</td>\n      <td>True</td>\n      <td>False</td>\n      <td>True</td>\n      <td>False</td>\n      <td>True</td>\n      <td>False</td>\n      <td>False</td>\n    </tr>\n    <tr>\n      <th>rose</th>\n      <td>False</td>\n      <td>False</td>\n      <td>False</td>\n      <td>False</td>\n      <td>True</td>\n      <td>False</td>\n      <td>False</td>\n      <td>True</td>\n      <td>False</td>\n    </tr>\n    <tr>\n      <th>fengliang</th>\n      <td>True</td>\n      <td>True</td>\n      <td>True</td>\n      <td>False</td>\n      <td>False</td>\n      <td>True</td>\n      <td>False</td>\n      <td>True</td>\n      <td>True</td>\n    </tr>\n    <tr>\n      <th>tingting</th>\n      <td>True</td>\n      <td>False</td>\n      <td>False</td>\n      <td>True</td>\n      <td>False</td>\n      <td>False</td>\n      <td>False</td>\n      <td>True</td>\n      <td>False</td>\n    </tr>\n  </tbody>\n</table>\n</div>"
     },
     "execution_count": 104,
     "metadata": {},
     "output_type": "execute_result"
    }
   ],
   "source": [
    "df > avg_score"
   ],
   "metadata": {
    "collapsed": false,
    "ExecuteTime": {
     "end_time": "2023-11-16T07:17:17.254057Z",
     "start_time": "2023-11-16T07:17:17.247843Z"
    }
   },
   "id": "c1fb13aab0a2ba1"
  },
  {
   "cell_type": "code",
   "execution_count": 111,
   "outputs": [
    {
     "data": {
      "text/plain": "           python   java    php  golang    c++      c     c#     js    易语言\nname                                                                      \nlucy         True  False  False    True   True   True  False   True   True\nmery         True   True   True    True  False   True   True  False   True\ntom         False   True  False   False   True   True   True  False   True\njack        False   True   True   False   True  False   True  False  False\nrose        False  False  False   False   True  False  False   True  False\nfengliang    True   True   True   False  False   True  False   True   True\ntingting     True  False  False    True  False  False  False   True  False",
      "text/html": "<div>\n<style scoped>\n    .dataframe tbody tr th:only-of-type {\n        vertical-align: middle;\n    }\n\n    .dataframe tbody tr th {\n        vertical-align: top;\n    }\n\n    .dataframe thead th {\n        text-align: right;\n    }\n</style>\n<table border=\"1\" class=\"dataframe\">\n  <thead>\n    <tr style=\"text-align: right;\">\n      <th></th>\n      <th>python</th>\n      <th>java</th>\n      <th>php</th>\n      <th>golang</th>\n      <th>c++</th>\n      <th>c</th>\n      <th>c#</th>\n      <th>js</th>\n      <th>易语言</th>\n    </tr>\n    <tr>\n      <th>name</th>\n      <th></th>\n      <th></th>\n      <th></th>\n      <th></th>\n      <th></th>\n      <th></th>\n      <th></th>\n      <th></th>\n      <th></th>\n    </tr>\n  </thead>\n  <tbody>\n    <tr>\n      <th>lucy</th>\n      <td>True</td>\n      <td>False</td>\n      <td>False</td>\n      <td>True</td>\n      <td>True</td>\n      <td>True</td>\n      <td>False</td>\n      <td>True</td>\n      <td>True</td>\n    </tr>\n    <tr>\n      <th>mery</th>\n      <td>True</td>\n      <td>True</td>\n      <td>True</td>\n      <td>True</td>\n      <td>False</td>\n      <td>True</td>\n      <td>True</td>\n      <td>False</td>\n      <td>True</td>\n    </tr>\n    <tr>\n      <th>tom</th>\n      <td>False</td>\n      <td>True</td>\n      <td>False</td>\n      <td>False</td>\n      <td>True</td>\n      <td>True</td>\n      <td>True</td>\n      <td>False</td>\n      <td>True</td>\n    </tr>\n    <tr>\n      <th>jack</th>\n      <td>False</td>\n      <td>True</td>\n      <td>True</td>\n      <td>False</td>\n      <td>True</td>\n      <td>False</td>\n      <td>True</td>\n      <td>False</td>\n      <td>False</td>\n    </tr>\n    <tr>\n      <th>rose</th>\n      <td>False</td>\n      <td>False</td>\n      <td>False</td>\n      <td>False</td>\n      <td>True</td>\n      <td>False</td>\n      <td>False</td>\n      <td>True</td>\n      <td>False</td>\n    </tr>\n    <tr>\n      <th>fengliang</th>\n      <td>True</td>\n      <td>True</td>\n      <td>True</td>\n      <td>False</td>\n      <td>False</td>\n      <td>True</td>\n      <td>False</td>\n      <td>True</td>\n      <td>True</td>\n    </tr>\n    <tr>\n      <th>tingting</th>\n      <td>True</td>\n      <td>False</td>\n      <td>False</td>\n      <td>True</td>\n      <td>False</td>\n      <td>False</td>\n      <td>False</td>\n      <td>True</td>\n      <td>False</td>\n    </tr>\n  </tbody>\n</table>\n</div>"
     },
     "execution_count": 111,
     "metadata": {},
     "output_type": "execute_result"
    }
   ],
   "source": [
    "df_avg = df > avg_score\n",
    "df_avg"
   ],
   "metadata": {
    "collapsed": false,
    "ExecuteTime": {
     "end_time": "2023-11-16T07:23:36.845144Z",
     "start_time": "2023-11-16T07:23:36.827448Z"
    }
   },
   "id": "587f71c0d07108a6"
  },
  {
   "cell_type": "code",
   "execution_count": 113,
   "outputs": [
    {
     "data": {
      "text/plain": "name\nlucy         False\nmery         False\ntom          False\njack         False\nrose         False\nfengliang    False\ntingting     False\ndtype: bool"
     },
     "execution_count": 113,
     "metadata": {},
     "output_type": "execute_result"
    }
   ],
   "source": [
    "df_avg.duplicated()"
   ],
   "metadata": {
    "collapsed": false,
    "ExecuteTime": {
     "end_time": "2023-11-16T07:25:13.179575Z",
     "start_time": "2023-11-16T07:25:13.160215Z"
    }
   },
   "id": "3f0dd7c7995a89df"
  },
  {
   "cell_type": "code",
   "execution_count": 123,
   "outputs": [
    {
     "data": {
      "text/plain": "python  java   php    golang  c++    c      c#     js     易语言  \nFalse   False  False  False   True   False  False  True   False    1\n        True   False  False   True   True   True   False  True     1\n               True   False   True   False  True   False  False    1\nTrue    False  False  True    False  False  False  True   False    1\n                              True   True   False  True   True     1\n        True   True   False   False  True   False  True   True     1\n                      True    False  True   True   False  True     1\nName: count, dtype: int64"
     },
     "execution_count": 123,
     "metadata": {},
     "output_type": "execute_result"
    }
   ],
   "source": [
    "df_avg.loc[:,:].value_counts()"
   ],
   "metadata": {
    "collapsed": false,
    "ExecuteTime": {
     "end_time": "2023-11-16T07:35:55.455171Z",
     "start_time": "2023-11-16T07:35:55.439775Z"
    }
   },
   "id": "c1077270529c17d8"
  },
  {
   "cell_type": "code",
   "execution_count": 121,
   "outputs": [
    {
     "data": {
      "text/plain": "python  java   php    golang  c++    c      c#     js     易语言  \nFalse   False  False  False   True   False  False  True   False    1\n        True   False  False   True   True   True   False  True     1\n               True   False   True   False  True   False  False    1\nTrue    False  False  True    False  False  False  True   False    1\n                              True   True   False  True   True     1\n        True   True   False   False  True   False  True   True     1\n                      True    False  True   True   False  True     1\nName: count, dtype: int64"
     },
     "execution_count": 121,
     "metadata": {},
     "output_type": "execute_result"
    }
   ],
   "source": [
    "df_avg.value_counts()"
   ],
   "metadata": {
    "collapsed": false,
    "ExecuteTime": {
     "end_time": "2023-11-16T07:33:06.103904Z",
     "start_time": "2023-11-16T07:33:06.089870Z"
    }
   },
   "id": "6def2b226fca9f93"
  }
 ],
 "metadata": {
  "kernelspec": {
   "display_name": "Python 3",
   "language": "python",
   "name": "python3"
  },
  "language_info": {
   "codemirror_mode": {
    "name": "ipython",
    "version": 2
   },
   "file_extension": ".py",
   "mimetype": "text/x-python",
   "name": "python",
   "nbconvert_exporter": "python",
   "pygments_lexer": "ipython2",
   "version": "2.7.6"
  }
 },
 "nbformat": 4,
 "nbformat_minor": 5
}
