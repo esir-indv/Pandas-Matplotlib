{
 "cells": [
  {
   "cell_type": "code",
   "execution_count": 4,
   "id": "initial_id",
   "metadata": {
    "collapsed": true,
    "ExecuteTime": {
     "end_time": "2023-11-19T15:30:30.985970Z",
     "start_time": "2023-11-19T15:30:29.987197Z"
    }
   },
   "outputs": [],
   "source": [
    "import numpy as np\n",
    "import pandas as pd\n",
    "from pandas import Series, DataFrame\n",
    "import matplotlib.pyplot as plt\n",
    "%matplotlib inline\n"
   ]
  },
  {
   "cell_type": "code",
   "execution_count": 5,
   "outputs": [
    {
     "data": {
      "text/plain": "  Unnamed: 0   一月 Unnamed: 2 Unnamed: 3   二月 Unnamed: 5 Unnamed: 6\n0        NaN   收入         成本         费用   收入         成本         费用\n1        商品1  374          5          3  479        479        127\n2        商品2  480        214        436   99        303          3\n3        商品3  365        471        428   99          5        428\n4        商品4  447        211         83  342        127        480\n5        商品5  211        447        471  338        338        191\n6        商品6  214        215        342   83        374        191\n7        商品7  365        303        215   78         78        436",
      "text/html": "<div>\n<style scoped>\n    .dataframe tbody tr th:only-of-type {\n        vertical-align: middle;\n    }\n\n    .dataframe tbody tr th {\n        vertical-align: top;\n    }\n\n    .dataframe thead th {\n        text-align: right;\n    }\n</style>\n<table border=\"1\" class=\"dataframe\">\n  <thead>\n    <tr style=\"text-align: right;\">\n      <th></th>\n      <th>Unnamed: 0</th>\n      <th>一月</th>\n      <th>Unnamed: 2</th>\n      <th>Unnamed: 3</th>\n      <th>二月</th>\n      <th>Unnamed: 5</th>\n      <th>Unnamed: 6</th>\n    </tr>\n  </thead>\n  <tbody>\n    <tr>\n      <th>0</th>\n      <td>NaN</td>\n      <td>收入</td>\n      <td>成本</td>\n      <td>费用</td>\n      <td>收入</td>\n      <td>成本</td>\n      <td>费用</td>\n    </tr>\n    <tr>\n      <th>1</th>\n      <td>商品1</td>\n      <td>374</td>\n      <td>5</td>\n      <td>3</td>\n      <td>479</td>\n      <td>479</td>\n      <td>127</td>\n    </tr>\n    <tr>\n      <th>2</th>\n      <td>商品2</td>\n      <td>480</td>\n      <td>214</td>\n      <td>436</td>\n      <td>99</td>\n      <td>303</td>\n      <td>3</td>\n    </tr>\n    <tr>\n      <th>3</th>\n      <td>商品3</td>\n      <td>365</td>\n      <td>471</td>\n      <td>428</td>\n      <td>99</td>\n      <td>5</td>\n      <td>428</td>\n    </tr>\n    <tr>\n      <th>4</th>\n      <td>商品4</td>\n      <td>447</td>\n      <td>211</td>\n      <td>83</td>\n      <td>342</td>\n      <td>127</td>\n      <td>480</td>\n    </tr>\n    <tr>\n      <th>5</th>\n      <td>商品5</td>\n      <td>211</td>\n      <td>447</td>\n      <td>471</td>\n      <td>338</td>\n      <td>338</td>\n      <td>191</td>\n    </tr>\n    <tr>\n      <th>6</th>\n      <td>商品6</td>\n      <td>214</td>\n      <td>215</td>\n      <td>342</td>\n      <td>83</td>\n      <td>374</td>\n      <td>191</td>\n    </tr>\n    <tr>\n      <th>7</th>\n      <td>商品7</td>\n      <td>365</td>\n      <td>303</td>\n      <td>215</td>\n      <td>78</td>\n      <td>78</td>\n      <td>436</td>\n    </tr>\n  </tbody>\n</table>\n</div>"
     },
     "execution_count": 5,
     "metadata": {},
     "output_type": "execute_result"
    }
   ],
   "source": [
    "df = pd.read_excel('/Users/fengliang/Documents/workspace/Pandas&Matplotlib/excel/多层级索引.xlsx')\n",
    "df"
   ],
   "metadata": {
    "collapsed": false,
    "ExecuteTime": {
     "end_time": "2023-11-19T15:30:31.192917Z",
     "start_time": "2023-11-19T15:30:30.987466Z"
    }
   },
   "id": "4ea62deb7601a521"
  },
  {
   "cell_type": "code",
   "execution_count": 6,
   "outputs": [
    {
     "data": {
      "text/plain": "  Unnamed: 0_level_0   一月             二月          \n  Unnamed: 0_level_1   收入   成本   费用   收入   成本   费用\n0                商品1  374    5    3  479  479  127\n1                商品2  480  214  436   99  303    3\n2                商品3  365  471  428   99    5  428\n3                商品4  447  211   83  342  127  480\n4                商品5  211  447  471  338  338  191\n5                商品6  214  215  342   83  374  191\n6                商品7  365  303  215   78   78  436",
      "text/html": "<div>\n<style scoped>\n    .dataframe tbody tr th:only-of-type {\n        vertical-align: middle;\n    }\n\n    .dataframe tbody tr th {\n        vertical-align: top;\n    }\n\n    .dataframe thead tr th {\n        text-align: left;\n    }\n</style>\n<table border=\"1\" class=\"dataframe\">\n  <thead>\n    <tr>\n      <th></th>\n      <th>Unnamed: 0_level_0</th>\n      <th colspan=\"3\" halign=\"left\">一月</th>\n      <th colspan=\"3\" halign=\"left\">二月</th>\n    </tr>\n    <tr>\n      <th></th>\n      <th>Unnamed: 0_level_1</th>\n      <th>收入</th>\n      <th>成本</th>\n      <th>费用</th>\n      <th>收入</th>\n      <th>成本</th>\n      <th>费用</th>\n    </tr>\n  </thead>\n  <tbody>\n    <tr>\n      <th>0</th>\n      <td>商品1</td>\n      <td>374</td>\n      <td>5</td>\n      <td>3</td>\n      <td>479</td>\n      <td>479</td>\n      <td>127</td>\n    </tr>\n    <tr>\n      <th>1</th>\n      <td>商品2</td>\n      <td>480</td>\n      <td>214</td>\n      <td>436</td>\n      <td>99</td>\n      <td>303</td>\n      <td>3</td>\n    </tr>\n    <tr>\n      <th>2</th>\n      <td>商品3</td>\n      <td>365</td>\n      <td>471</td>\n      <td>428</td>\n      <td>99</td>\n      <td>5</td>\n      <td>428</td>\n    </tr>\n    <tr>\n      <th>3</th>\n      <td>商品4</td>\n      <td>447</td>\n      <td>211</td>\n      <td>83</td>\n      <td>342</td>\n      <td>127</td>\n      <td>480</td>\n    </tr>\n    <tr>\n      <th>4</th>\n      <td>商品5</td>\n      <td>211</td>\n      <td>447</td>\n      <td>471</td>\n      <td>338</td>\n      <td>338</td>\n      <td>191</td>\n    </tr>\n    <tr>\n      <th>5</th>\n      <td>商品6</td>\n      <td>214</td>\n      <td>215</td>\n      <td>342</td>\n      <td>83</td>\n      <td>374</td>\n      <td>191</td>\n    </tr>\n    <tr>\n      <th>6</th>\n      <td>商品7</td>\n      <td>365</td>\n      <td>303</td>\n      <td>215</td>\n      <td>78</td>\n      <td>78</td>\n      <td>436</td>\n    </tr>\n  </tbody>\n</table>\n</div>"
     },
     "execution_count": 6,
     "metadata": {},
     "output_type": "execute_result"
    }
   ],
   "source": [
    "df = pd.read_excel('/Users/fengliang/Documents/workspace/Pandas&Matplotlib/excel/多层级索引.xlsx', header=[0, 1])\n",
    "df"
   ],
   "metadata": {
    "collapsed": false,
    "ExecuteTime": {
     "end_time": "2023-11-19T15:30:31.211124Z",
     "start_time": "2023-11-19T15:30:31.187590Z"
    }
   },
   "id": "9103da4924fe5c1c"
  },
  {
   "cell_type": "code",
   "execution_count": 7,
   "outputs": [
    {
     "data": {
      "text/plain": "MultiIndex([('Unnamed: 0_level_0', 'Unnamed: 0_level_1'),\n            (                '一月',                 '收入'),\n            (                '一月',                 '成本'),\n            (                '一月',                 '费用'),\n            (                '二月',                 '收入'),\n            (                '二月',                 '成本'),\n            (                '二月',                 '费用')],\n           )"
     },
     "execution_count": 7,
     "metadata": {},
     "output_type": "execute_result"
    }
   ],
   "source": [
    "df.columns"
   ],
   "metadata": {
    "collapsed": false,
    "ExecuteTime": {
     "end_time": "2023-11-19T15:30:31.234420Z",
     "start_time": "2023-11-19T15:30:31.210395Z"
    }
   },
   "id": "4c7d4246933c02e1"
  },
  {
   "cell_type": "code",
   "execution_count": 8,
   "outputs": [
    {
     "data": {
      "text/plain": "array(['商品1', '商品2', '商品3', '商品4', '商品5', '商品6', '商品7'], dtype='<U3')"
     },
     "execution_count": 8,
     "metadata": {},
     "output_type": "execute_result"
    }
   ],
   "source": [
    "# 构造多层级索引\n",
    "index = np.array(['商品' + str(i) for i in range(1, 8)])\n",
    "index"
   ],
   "metadata": {
    "collapsed": false,
    "ExecuteTime": {
     "end_time": "2023-11-19T15:30:31.331493Z",
     "start_time": "2023-11-19T15:30:31.217461Z"
    }
   },
   "id": "10ee6696366ea38e"
  },
  {
   "cell_type": "code",
   "execution_count": 8,
   "outputs": [],
   "source": [],
   "metadata": {
    "collapsed": false,
    "ExecuteTime": {
     "end_time": "2023-11-19T15:30:31.332117Z",
     "start_time": "2023-11-19T15:30:31.220462Z"
    }
   },
   "id": "78e78b5eec5bdf29"
  },
  {
   "cell_type": "code",
   "execution_count": 9,
   "outputs": [
    {
     "data": {
      "text/plain": "    fengliang             yuanyuting            \n           收入  成本  利润  费用         收入  成本  利润  费用\n商品1        45   6  18  97         26  66  64  18\n商品2        84  93  13   2         61  73  42  55\n商品3        90  76  52  62         69  66  44  89\n商品4         0  54  51  29         57  29  72  26\n商品5        23  55  94  33         33  50  23  59\n商品6        40  38  83  84         68  28  90  99\n商品7        45  80  91  65         87  33   9  10",
      "text/html": "<div>\n<style scoped>\n    .dataframe tbody tr th:only-of-type {\n        vertical-align: middle;\n    }\n\n    .dataframe tbody tr th {\n        vertical-align: top;\n    }\n\n    .dataframe thead tr th {\n        text-align: left;\n    }\n</style>\n<table border=\"1\" class=\"dataframe\">\n  <thead>\n    <tr>\n      <th></th>\n      <th colspan=\"4\" halign=\"left\">fengliang</th>\n      <th colspan=\"4\" halign=\"left\">yuanyuting</th>\n    </tr>\n    <tr>\n      <th></th>\n      <th>收入</th>\n      <th>成本</th>\n      <th>利润</th>\n      <th>费用</th>\n      <th>收入</th>\n      <th>成本</th>\n      <th>利润</th>\n      <th>费用</th>\n    </tr>\n  </thead>\n  <tbody>\n    <tr>\n      <th>商品1</th>\n      <td>45</td>\n      <td>6</td>\n      <td>18</td>\n      <td>97</td>\n      <td>26</td>\n      <td>66</td>\n      <td>64</td>\n      <td>18</td>\n    </tr>\n    <tr>\n      <th>商品2</th>\n      <td>84</td>\n      <td>93</td>\n      <td>13</td>\n      <td>2</td>\n      <td>61</td>\n      <td>73</td>\n      <td>42</td>\n      <td>55</td>\n    </tr>\n    <tr>\n      <th>商品3</th>\n      <td>90</td>\n      <td>76</td>\n      <td>52</td>\n      <td>62</td>\n      <td>69</td>\n      <td>66</td>\n      <td>44</td>\n      <td>89</td>\n    </tr>\n    <tr>\n      <th>商品4</th>\n      <td>0</td>\n      <td>54</td>\n      <td>51</td>\n      <td>29</td>\n      <td>57</td>\n      <td>29</td>\n      <td>72</td>\n      <td>26</td>\n    </tr>\n    <tr>\n      <th>商品5</th>\n      <td>23</td>\n      <td>55</td>\n      <td>94</td>\n      <td>33</td>\n      <td>33</td>\n      <td>50</td>\n      <td>23</td>\n      <td>59</td>\n    </tr>\n    <tr>\n      <th>商品6</th>\n      <td>40</td>\n      <td>38</td>\n      <td>83</td>\n      <td>84</td>\n      <td>68</td>\n      <td>28</td>\n      <td>90</td>\n      <td>99</td>\n    </tr>\n    <tr>\n      <th>商品7</th>\n      <td>45</td>\n      <td>80</td>\n      <td>91</td>\n      <td>65</td>\n      <td>87</td>\n      <td>33</td>\n      <td>9</td>\n      <td>10</td>\n    </tr>\n  </tbody>\n</table>\n</div>"
     },
     "execution_count": 9,
     "metadata": {},
     "output_type": "execute_result"
    }
   ],
   "source": [
    "columns = pd.MultiIndex.from_product([['fengliang', 'yuanyuting'], ['收入', '成本', '利润', '费用']])\n",
    "\n",
    "data = np.random.randint(0, 100, size=(7, 8))\n",
    "\n",
    "df2 = DataFrame(data=data, index=index, columns=columns)\n",
    "df2\n"
   ],
   "metadata": {
    "collapsed": false,
    "ExecuteTime": {
     "end_time": "2023-11-19T15:30:31.332930Z",
     "start_time": "2023-11-19T15:30:31.229634Z"
    }
   },
   "id": "8a9a02a9af6574"
  },
  {
   "cell_type": "code",
   "execution_count": 10,
   "outputs": [
    {
     "data": {
      "text/plain": "        张三      李四    \n        期中  期末  期中  期末\npython  72  62  89  22\njava    17  51  25  17\nc       50   1  68   2",
      "text/html": "<div>\n<style scoped>\n    .dataframe tbody tr th:only-of-type {\n        vertical-align: middle;\n    }\n\n    .dataframe tbody tr th {\n        vertical-align: top;\n    }\n\n    .dataframe thead tr th {\n        text-align: left;\n    }\n</style>\n<table border=\"1\" class=\"dataframe\">\n  <thead>\n    <tr>\n      <th></th>\n      <th colspan=\"2\" halign=\"left\">张三</th>\n      <th colspan=\"2\" halign=\"left\">李四</th>\n    </tr>\n    <tr>\n      <th></th>\n      <th>期中</th>\n      <th>期末</th>\n      <th>期中</th>\n      <th>期末</th>\n    </tr>\n  </thead>\n  <tbody>\n    <tr>\n      <th>python</th>\n      <td>72</td>\n      <td>62</td>\n      <td>89</td>\n      <td>22</td>\n    </tr>\n    <tr>\n      <th>java</th>\n      <td>17</td>\n      <td>51</td>\n      <td>25</td>\n      <td>17</td>\n    </tr>\n    <tr>\n      <th>c</th>\n      <td>50</td>\n      <td>1</td>\n      <td>68</td>\n      <td>2</td>\n    </tr>\n  </tbody>\n</table>\n</div>"
     },
     "execution_count": 10,
     "metadata": {},
     "output_type": "execute_result"
    }
   ],
   "source": [
    "# 创建一个DataFrame，表示出张三李四期中期末各科成绩，（python，java，c）\n",
    "columns = pd.MultiIndex.from_product([['张三', '李四'], ['期中', '期末']])\n",
    "index = np.array(['python', 'java', 'c'])\n",
    "df3 = DataFrame(data=np.random.randint(1, 100, size=(3, 4)), index=index, columns=columns)\n",
    "df3"
   ],
   "metadata": {
    "collapsed": false,
    "ExecuteTime": {
     "end_time": "2023-11-19T15:30:31.358415Z",
     "start_time": "2023-11-19T15:30:31.238882Z"
    }
   },
   "id": "29cd275be7732910"
  },
  {
   "cell_type": "code",
   "execution_count": 10,
   "outputs": [],
   "source": [],
   "metadata": {
    "collapsed": false,
    "ExecuteTime": {
     "end_time": "2023-11-19T15:30:31.358719Z",
     "start_time": "2023-11-19T15:30:31.242749Z"
    }
   },
   "id": "b198e3a4320c6354"
  },
  {
   "cell_type": "code",
   "execution_count": 11,
   "outputs": [
    {
     "data": {
      "text/plain": "        期中              期末         \n    python java   c python java   c\n冯亮      22   40  89     15   59  96\n袁玉婷     68   68  55     14    5  16",
      "text/html": "<div>\n<style scoped>\n    .dataframe tbody tr th:only-of-type {\n        vertical-align: middle;\n    }\n\n    .dataframe tbody tr th {\n        vertical-align: top;\n    }\n\n    .dataframe thead tr th {\n        text-align: left;\n    }\n</style>\n<table border=\"1\" class=\"dataframe\">\n  <thead>\n    <tr>\n      <th></th>\n      <th colspan=\"3\" halign=\"left\">期中</th>\n      <th colspan=\"3\" halign=\"left\">期末</th>\n    </tr>\n    <tr>\n      <th></th>\n      <th>python</th>\n      <th>java</th>\n      <th>c</th>\n      <th>python</th>\n      <th>java</th>\n      <th>c</th>\n    </tr>\n  </thead>\n  <tbody>\n    <tr>\n      <th>冯亮</th>\n      <td>22</td>\n      <td>40</td>\n      <td>89</td>\n      <td>15</td>\n      <td>59</td>\n      <td>96</td>\n    </tr>\n    <tr>\n      <th>袁玉婷</th>\n      <td>68</td>\n      <td>68</td>\n      <td>55</td>\n      <td>14</td>\n      <td>5</td>\n      <td>16</td>\n    </tr>\n  </tbody>\n</table>\n</div>"
     },
     "execution_count": 11,
     "metadata": {},
     "output_type": "execute_result"
    }
   ],
   "source": [
    "# 创建一个DataFrame，表示出张三李四期中期末各科成绩，（python，java，c）\n",
    "columns = pd.MultiIndex.from_product([['期中', '期末'], ['python', 'java', 'c']])\n",
    "index = np.array(['冯亮', '袁玉婷'])\n",
    "df4 = DataFrame(data=np.random.randint(1, 100, size=(2, 6)), index=index, columns=columns)\n",
    "df4"
   ],
   "metadata": {
    "collapsed": false,
    "ExecuteTime": {
     "end_time": "2023-11-19T15:30:31.381069Z",
     "start_time": "2023-11-19T15:30:31.249550Z"
    }
   },
   "id": "4cc11bcc556048cd"
  },
  {
   "cell_type": "code",
   "execution_count": 12,
   "outputs": [
    {
     "data": {
      "text/plain": "           冯亮  袁玉婷\n期中 python  73    3\n   java    78   95\n   c       74   84\n期末 python  91   17\n   java     1   52\n   c        4    7",
      "text/html": "<div>\n<style scoped>\n    .dataframe tbody tr th:only-of-type {\n        vertical-align: middle;\n    }\n\n    .dataframe tbody tr th {\n        vertical-align: top;\n    }\n\n    .dataframe thead th {\n        text-align: right;\n    }\n</style>\n<table border=\"1\" class=\"dataframe\">\n  <thead>\n    <tr style=\"text-align: right;\">\n      <th></th>\n      <th></th>\n      <th>冯亮</th>\n      <th>袁玉婷</th>\n    </tr>\n  </thead>\n  <tbody>\n    <tr>\n      <th rowspan=\"3\" valign=\"top\">期中</th>\n      <th>python</th>\n      <td>73</td>\n      <td>3</td>\n    </tr>\n    <tr>\n      <th>java</th>\n      <td>78</td>\n      <td>95</td>\n    </tr>\n    <tr>\n      <th>c</th>\n      <td>74</td>\n      <td>84</td>\n    </tr>\n    <tr>\n      <th rowspan=\"3\" valign=\"top\">期末</th>\n      <th>python</th>\n      <td>91</td>\n      <td>17</td>\n    </tr>\n    <tr>\n      <th>java</th>\n      <td>1</td>\n      <td>52</td>\n    </tr>\n    <tr>\n      <th>c</th>\n      <td>4</td>\n      <td>7</td>\n    </tr>\n  </tbody>\n</table>\n</div>"
     },
     "execution_count": 12,
     "metadata": {},
     "output_type": "execute_result"
    }
   ],
   "source": [
    "# 多层行索引\n",
    "index = pd.MultiIndex.from_product([['期中', '期末'], ['python', 'java', 'c']])\n",
    "columns = np.array(['冯亮', '袁玉婷'])\n",
    "# T方法进行转置\n",
    "df5 = DataFrame(data=np.random.randint(1, 100, size=(2, 6)).T, index=index, columns=columns)\n",
    "df5"
   ],
   "metadata": {
    "collapsed": false,
    "ExecuteTime": {
     "end_time": "2023-11-19T15:30:31.495254Z",
     "start_time": "2023-11-19T15:30:31.259133Z"
    }
   },
   "id": "9ef046b266b28580"
  },
  {
   "cell_type": "code",
   "execution_count": 13,
   "outputs": [
    {
     "data": {
      "text/plain": "           冯亮         袁玉婷        \n           期中  期末  最终  期中  期末  最终\n大一 python  97  75  71  81  74  61\n   java    95  77  76  90  71  78\n   c       72  89  68  64  78  63\n   HTML    99  99  88  76  65  83\n   Js      97  84  94  88  64  94\n   Vue     84  62  71  75  94  74\n大二 python  74  92  63  90  72  74\n   java    74  81  90  87  63  68\n   c       90  90  62  78  75  87\n   HTML    82  75  97  73  84  99\n   Js      60  93  71  72  75  85\n   Vue     81  93  84  83  70  65\n大三 python  64  82  92  65  61  75\n   java    69  80  87  63  81  94\n   c       81  78  74  72  88  88\n   HTML    78  62  76  85  61  66\n   Js      67  82  68  61  81  96\n   Vue     90  74  89  77  71  78\n大四 python  95  89  98  82  90  84\n   java    88  60  86  73  94  83\n   c       79  65  63  99  61  77\n   HTML    70  85  91  60  68  69\n   Js      72  94  89  97  87  92\n   Vue     83  98  78  79  91  94",
      "text/html": "<div>\n<style scoped>\n    .dataframe tbody tr th:only-of-type {\n        vertical-align: middle;\n    }\n\n    .dataframe tbody tr th {\n        vertical-align: top;\n    }\n\n    .dataframe thead tr th {\n        text-align: left;\n    }\n</style>\n<table border=\"1\" class=\"dataframe\">\n  <thead>\n    <tr>\n      <th></th>\n      <th></th>\n      <th colspan=\"3\" halign=\"left\">冯亮</th>\n      <th colspan=\"3\" halign=\"left\">袁玉婷</th>\n    </tr>\n    <tr>\n      <th></th>\n      <th></th>\n      <th>期中</th>\n      <th>期末</th>\n      <th>最终</th>\n      <th>期中</th>\n      <th>期末</th>\n      <th>最终</th>\n    </tr>\n  </thead>\n  <tbody>\n    <tr>\n      <th rowspan=\"6\" valign=\"top\">大一</th>\n      <th>python</th>\n      <td>97</td>\n      <td>75</td>\n      <td>71</td>\n      <td>81</td>\n      <td>74</td>\n      <td>61</td>\n    </tr>\n    <tr>\n      <th>java</th>\n      <td>95</td>\n      <td>77</td>\n      <td>76</td>\n      <td>90</td>\n      <td>71</td>\n      <td>78</td>\n    </tr>\n    <tr>\n      <th>c</th>\n      <td>72</td>\n      <td>89</td>\n      <td>68</td>\n      <td>64</td>\n      <td>78</td>\n      <td>63</td>\n    </tr>\n    <tr>\n      <th>HTML</th>\n      <td>99</td>\n      <td>99</td>\n      <td>88</td>\n      <td>76</td>\n      <td>65</td>\n      <td>83</td>\n    </tr>\n    <tr>\n      <th>Js</th>\n      <td>97</td>\n      <td>84</td>\n      <td>94</td>\n      <td>88</td>\n      <td>64</td>\n      <td>94</td>\n    </tr>\n    <tr>\n      <th>Vue</th>\n      <td>84</td>\n      <td>62</td>\n      <td>71</td>\n      <td>75</td>\n      <td>94</td>\n      <td>74</td>\n    </tr>\n    <tr>\n      <th rowspan=\"6\" valign=\"top\">大二</th>\n      <th>python</th>\n      <td>74</td>\n      <td>92</td>\n      <td>63</td>\n      <td>90</td>\n      <td>72</td>\n      <td>74</td>\n    </tr>\n    <tr>\n      <th>java</th>\n      <td>74</td>\n      <td>81</td>\n      <td>90</td>\n      <td>87</td>\n      <td>63</td>\n      <td>68</td>\n    </tr>\n    <tr>\n      <th>c</th>\n      <td>90</td>\n      <td>90</td>\n      <td>62</td>\n      <td>78</td>\n      <td>75</td>\n      <td>87</td>\n    </tr>\n    <tr>\n      <th>HTML</th>\n      <td>82</td>\n      <td>75</td>\n      <td>97</td>\n      <td>73</td>\n      <td>84</td>\n      <td>99</td>\n    </tr>\n    <tr>\n      <th>Js</th>\n      <td>60</td>\n      <td>93</td>\n      <td>71</td>\n      <td>72</td>\n      <td>75</td>\n      <td>85</td>\n    </tr>\n    <tr>\n      <th>Vue</th>\n      <td>81</td>\n      <td>93</td>\n      <td>84</td>\n      <td>83</td>\n      <td>70</td>\n      <td>65</td>\n    </tr>\n    <tr>\n      <th rowspan=\"6\" valign=\"top\">大三</th>\n      <th>python</th>\n      <td>64</td>\n      <td>82</td>\n      <td>92</td>\n      <td>65</td>\n      <td>61</td>\n      <td>75</td>\n    </tr>\n    <tr>\n      <th>java</th>\n      <td>69</td>\n      <td>80</td>\n      <td>87</td>\n      <td>63</td>\n      <td>81</td>\n      <td>94</td>\n    </tr>\n    <tr>\n      <th>c</th>\n      <td>81</td>\n      <td>78</td>\n      <td>74</td>\n      <td>72</td>\n      <td>88</td>\n      <td>88</td>\n    </tr>\n    <tr>\n      <th>HTML</th>\n      <td>78</td>\n      <td>62</td>\n      <td>76</td>\n      <td>85</td>\n      <td>61</td>\n      <td>66</td>\n    </tr>\n    <tr>\n      <th>Js</th>\n      <td>67</td>\n      <td>82</td>\n      <td>68</td>\n      <td>61</td>\n      <td>81</td>\n      <td>96</td>\n    </tr>\n    <tr>\n      <th>Vue</th>\n      <td>90</td>\n      <td>74</td>\n      <td>89</td>\n      <td>77</td>\n      <td>71</td>\n      <td>78</td>\n    </tr>\n    <tr>\n      <th rowspan=\"6\" valign=\"top\">大四</th>\n      <th>python</th>\n      <td>95</td>\n      <td>89</td>\n      <td>98</td>\n      <td>82</td>\n      <td>90</td>\n      <td>84</td>\n    </tr>\n    <tr>\n      <th>java</th>\n      <td>88</td>\n      <td>60</td>\n      <td>86</td>\n      <td>73</td>\n      <td>94</td>\n      <td>83</td>\n    </tr>\n    <tr>\n      <th>c</th>\n      <td>79</td>\n      <td>65</td>\n      <td>63</td>\n      <td>99</td>\n      <td>61</td>\n      <td>77</td>\n    </tr>\n    <tr>\n      <th>HTML</th>\n      <td>70</td>\n      <td>85</td>\n      <td>91</td>\n      <td>60</td>\n      <td>68</td>\n      <td>69</td>\n    </tr>\n    <tr>\n      <th>Js</th>\n      <td>72</td>\n      <td>94</td>\n      <td>89</td>\n      <td>97</td>\n      <td>87</td>\n      <td>92</td>\n    </tr>\n    <tr>\n      <th>Vue</th>\n      <td>83</td>\n      <td>98</td>\n      <td>78</td>\n      <td>79</td>\n      <td>91</td>\n      <td>94</td>\n    </tr>\n  </tbody>\n</table>\n</div>"
     },
     "execution_count": 13,
     "metadata": {},
     "output_type": "execute_result"
    }
   ],
   "source": [
    "# 行、列多级索引\n",
    "# 多层行索引\n",
    "index = pd.MultiIndex.from_product([['大一', '大二', '大三', '大四'], ['python', 'java', 'c', 'HTML', 'Js', 'Vue']])\n",
    "columns = pd.MultiIndex.from_product([['冯亮', '袁玉婷'], ['期中', '期末', '最终']])\n",
    "# T方法进行转置\n",
    "df6 = DataFrame(data=np.random.randint(60, 100, size=(24, 6)), index=index, columns=columns)\n",
    "df6"
   ],
   "metadata": {
    "collapsed": false,
    "ExecuteTime": {
     "end_time": "2023-11-19T15:30:31.496372Z",
     "start_time": "2023-11-19T15:30:31.273440Z"
    }
   },
   "id": "36c245550b514abe"
  },
  {
   "cell_type": "code",
   "execution_count": 14,
   "outputs": [
    {
     "data": {
      "text/plain": "大一  python    97\n    java      95\n    c         72\n    HTML      99\n    Js        97\n    Vue       84\n大二  python    74\n    java      74\n    c         90\n    HTML      82\n    Js        60\n    Vue       81\n大三  python    64\n    java      69\n    c         81\n    HTML      78\n    Js        67\n    Vue       90\n大四  python    95\n    java      88\n    c         79\n    HTML      70\n    Js        72\n    Vue       83\nName: (冯亮, 期中), dtype: int64"
     },
     "execution_count": 14,
     "metadata": {},
     "output_type": "execute_result"
    }
   ],
   "source": [
    "\n",
    "# 多层索引，切片\n",
    "df6.loc[:, ('冯亮', '期中')]"
   ],
   "metadata": {
    "collapsed": false,
    "ExecuteTime": {
     "end_time": "2023-11-19T15:30:31.496796Z",
     "start_time": "2023-11-19T15:30:31.283393Z"
    }
   },
   "id": "2afd0e0f3db7247a"
  },
  {
   "cell_type": "code",
   "execution_count": 14,
   "outputs": [],
   "source": [],
   "metadata": {
    "collapsed": false,
    "ExecuteTime": {
     "end_time": "2023-11-19T15:30:31.497192Z",
     "start_time": "2023-11-19T15:30:31.291785Z"
    }
   },
   "id": "483175f3ae0e34dc"
  },
  {
   "cell_type": "code",
   "execution_count": 15,
   "outputs": [
    {
     "data": {
      "text/plain": "           期中  期末  最终\n大一 python  97  75  71\n   java    95  77  76\n   c       72  89  68\n   HTML    99  99  88\n   Js      97  84  94\n   Vue     84  62  71\n大二 python  74  92  63\n   java    74  81  90\n   c       90  90  62\n   HTML    82  75  97\n   Js      60  93  71\n   Vue     81  93  84\n大三 python  64  82  92\n   java    69  80  87\n   c       81  78  74\n   HTML    78  62  76\n   Js      67  82  68\n   Vue     90  74  89\n大四 python  95  89  98\n   java    88  60  86\n   c       79  65  63\n   HTML    70  85  91\n   Js      72  94  89\n   Vue     83  98  78",
      "text/html": "<div>\n<style scoped>\n    .dataframe tbody tr th:only-of-type {\n        vertical-align: middle;\n    }\n\n    .dataframe tbody tr th {\n        vertical-align: top;\n    }\n\n    .dataframe thead th {\n        text-align: right;\n    }\n</style>\n<table border=\"1\" class=\"dataframe\">\n  <thead>\n    <tr style=\"text-align: right;\">\n      <th></th>\n      <th></th>\n      <th>期中</th>\n      <th>期末</th>\n      <th>最终</th>\n    </tr>\n  </thead>\n  <tbody>\n    <tr>\n      <th rowspan=\"6\" valign=\"top\">大一</th>\n      <th>python</th>\n      <td>97</td>\n      <td>75</td>\n      <td>71</td>\n    </tr>\n    <tr>\n      <th>java</th>\n      <td>95</td>\n      <td>77</td>\n      <td>76</td>\n    </tr>\n    <tr>\n      <th>c</th>\n      <td>72</td>\n      <td>89</td>\n      <td>68</td>\n    </tr>\n    <tr>\n      <th>HTML</th>\n      <td>99</td>\n      <td>99</td>\n      <td>88</td>\n    </tr>\n    <tr>\n      <th>Js</th>\n      <td>97</td>\n      <td>84</td>\n      <td>94</td>\n    </tr>\n    <tr>\n      <th>Vue</th>\n      <td>84</td>\n      <td>62</td>\n      <td>71</td>\n    </tr>\n    <tr>\n      <th rowspan=\"6\" valign=\"top\">大二</th>\n      <th>python</th>\n      <td>74</td>\n      <td>92</td>\n      <td>63</td>\n    </tr>\n    <tr>\n      <th>java</th>\n      <td>74</td>\n      <td>81</td>\n      <td>90</td>\n    </tr>\n    <tr>\n      <th>c</th>\n      <td>90</td>\n      <td>90</td>\n      <td>62</td>\n    </tr>\n    <tr>\n      <th>HTML</th>\n      <td>82</td>\n      <td>75</td>\n      <td>97</td>\n    </tr>\n    <tr>\n      <th>Js</th>\n      <td>60</td>\n      <td>93</td>\n      <td>71</td>\n    </tr>\n    <tr>\n      <th>Vue</th>\n      <td>81</td>\n      <td>93</td>\n      <td>84</td>\n    </tr>\n    <tr>\n      <th rowspan=\"6\" valign=\"top\">大三</th>\n      <th>python</th>\n      <td>64</td>\n      <td>82</td>\n      <td>92</td>\n    </tr>\n    <tr>\n      <th>java</th>\n      <td>69</td>\n      <td>80</td>\n      <td>87</td>\n    </tr>\n    <tr>\n      <th>c</th>\n      <td>81</td>\n      <td>78</td>\n      <td>74</td>\n    </tr>\n    <tr>\n      <th>HTML</th>\n      <td>78</td>\n      <td>62</td>\n      <td>76</td>\n    </tr>\n    <tr>\n      <th>Js</th>\n      <td>67</td>\n      <td>82</td>\n      <td>68</td>\n    </tr>\n    <tr>\n      <th>Vue</th>\n      <td>90</td>\n      <td>74</td>\n      <td>89</td>\n    </tr>\n    <tr>\n      <th rowspan=\"6\" valign=\"top\">大四</th>\n      <th>python</th>\n      <td>95</td>\n      <td>89</td>\n      <td>98</td>\n    </tr>\n    <tr>\n      <th>java</th>\n      <td>88</td>\n      <td>60</td>\n      <td>86</td>\n    </tr>\n    <tr>\n      <th>c</th>\n      <td>79</td>\n      <td>65</td>\n      <td>63</td>\n    </tr>\n    <tr>\n      <th>HTML</th>\n      <td>70</td>\n      <td>85</td>\n      <td>91</td>\n    </tr>\n    <tr>\n      <th>Js</th>\n      <td>72</td>\n      <td>94</td>\n      <td>89</td>\n    </tr>\n    <tr>\n      <th>Vue</th>\n      <td>83</td>\n      <td>98</td>\n      <td>78</td>\n    </tr>\n  </tbody>\n</table>\n</div>"
     },
     "execution_count": 15,
     "metadata": {},
     "output_type": "execute_result"
    }
   ],
   "source": [
    "# 多层索引，切片\n",
    "df6.loc[:, '冯亮']"
   ],
   "metadata": {
    "collapsed": false,
    "ExecuteTime": {
     "end_time": "2023-11-19T15:30:31.497946Z",
     "start_time": "2023-11-19T15:30:31.298782Z"
    }
   },
   "id": "99d61946b0ee4144"
  },
  {
   "cell_type": "code",
   "execution_count": 15,
   "outputs": [],
   "source": [],
   "metadata": {
    "collapsed": false,
    "ExecuteTime": {
     "end_time": "2023-11-19T15:30:31.498095Z",
     "start_time": "2023-11-19T15:30:31.302260Z"
    }
   },
   "id": "a7370a27512c21b5"
  },
  {
   "cell_type": "code",
   "execution_count": 16,
   "outputs": [
    {
     "data": {
      "text/plain": "        期中  期末  最终\npython  97  75  71\njava    95  77  76\nc       72  89  68\nHTML    99  99  88\nJs      97  84  94\nVue     84  62  71",
      "text/html": "<div>\n<style scoped>\n    .dataframe tbody tr th:only-of-type {\n        vertical-align: middle;\n    }\n\n    .dataframe tbody tr th {\n        vertical-align: top;\n    }\n\n    .dataframe thead th {\n        text-align: right;\n    }\n</style>\n<table border=\"1\" class=\"dataframe\">\n  <thead>\n    <tr style=\"text-align: right;\">\n      <th></th>\n      <th>期中</th>\n      <th>期末</th>\n      <th>最终</th>\n    </tr>\n  </thead>\n  <tbody>\n    <tr>\n      <th>python</th>\n      <td>97</td>\n      <td>75</td>\n      <td>71</td>\n    </tr>\n    <tr>\n      <th>java</th>\n      <td>95</td>\n      <td>77</td>\n      <td>76</td>\n    </tr>\n    <tr>\n      <th>c</th>\n      <td>72</td>\n      <td>89</td>\n      <td>68</td>\n    </tr>\n    <tr>\n      <th>HTML</th>\n      <td>99</td>\n      <td>99</td>\n      <td>88</td>\n    </tr>\n    <tr>\n      <th>Js</th>\n      <td>97</td>\n      <td>84</td>\n      <td>94</td>\n    </tr>\n    <tr>\n      <th>Vue</th>\n      <td>84</td>\n      <td>62</td>\n      <td>71</td>\n    </tr>\n  </tbody>\n</table>\n</div>"
     },
     "execution_count": 16,
     "metadata": {},
     "output_type": "execute_result"
    }
   ],
   "source": [
    "# 多层索引，切片\n",
    "df6.loc['大一', '冯亮']"
   ],
   "metadata": {
    "collapsed": false,
    "ExecuteTime": {
     "end_time": "2023-11-19T15:30:31.498536Z",
     "start_time": "2023-11-19T15:30:31.307540Z"
    }
   },
   "id": "e4ec65509e08567a"
  },
  {
   "cell_type": "code",
   "execution_count": 16,
   "outputs": [],
   "source": [],
   "metadata": {
    "collapsed": false,
    "ExecuteTime": {
     "end_time": "2023-11-19T15:30:31.499583Z",
     "start_time": "2023-11-19T15:30:31.310739Z"
    }
   },
   "id": "2b227e5351bf1b14"
  },
  {
   "cell_type": "code",
   "execution_count": 17,
   "outputs": [
    {
     "data": {
      "text/plain": "           冯亮 袁玉婷  冯亮\n           期中  期末  最终\n大一 python  97  74  71\n   java    95  71  76\n   c       72  78  68\n   HTML    99  65  88\n   Js      97  64  94\n   Vue     84  94  71\n大二 python  74  72  63\n   java    74  63  90\n   c       90  75  62\n   HTML    82  84  97\n   Js      60  75  71\n   Vue     81  70  84\n大三 python  64  61  92\n   java    69  81  87\n   c       81  88  74\n   HTML    78  61  76\n   Js      67  81  68\n   Vue     90  71  89\n大四 python  95  90  98\n   java    88  94  86\n   c       79  61  63\n   HTML    70  68  91\n   Js      72  87  89\n   Vue     83  91  78",
      "text/html": "<div>\n<style scoped>\n    .dataframe tbody tr th:only-of-type {\n        vertical-align: middle;\n    }\n\n    .dataframe tbody tr th {\n        vertical-align: top;\n    }\n\n    .dataframe thead tr th {\n        text-align: left;\n    }\n</style>\n<table border=\"1\" class=\"dataframe\">\n  <thead>\n    <tr>\n      <th></th>\n      <th></th>\n      <th>冯亮</th>\n      <th>袁玉婷</th>\n      <th>冯亮</th>\n    </tr>\n    <tr>\n      <th></th>\n      <th></th>\n      <th>期中</th>\n      <th>期末</th>\n      <th>最终</th>\n    </tr>\n  </thead>\n  <tbody>\n    <tr>\n      <th rowspan=\"6\" valign=\"top\">大一</th>\n      <th>python</th>\n      <td>97</td>\n      <td>74</td>\n      <td>71</td>\n    </tr>\n    <tr>\n      <th>java</th>\n      <td>95</td>\n      <td>71</td>\n      <td>76</td>\n    </tr>\n    <tr>\n      <th>c</th>\n      <td>72</td>\n      <td>78</td>\n      <td>68</td>\n    </tr>\n    <tr>\n      <th>HTML</th>\n      <td>99</td>\n      <td>65</td>\n      <td>88</td>\n    </tr>\n    <tr>\n      <th>Js</th>\n      <td>97</td>\n      <td>64</td>\n      <td>94</td>\n    </tr>\n    <tr>\n      <th>Vue</th>\n      <td>84</td>\n      <td>94</td>\n      <td>71</td>\n    </tr>\n    <tr>\n      <th rowspan=\"6\" valign=\"top\">大二</th>\n      <th>python</th>\n      <td>74</td>\n      <td>72</td>\n      <td>63</td>\n    </tr>\n    <tr>\n      <th>java</th>\n      <td>74</td>\n      <td>63</td>\n      <td>90</td>\n    </tr>\n    <tr>\n      <th>c</th>\n      <td>90</td>\n      <td>75</td>\n      <td>62</td>\n    </tr>\n    <tr>\n      <th>HTML</th>\n      <td>82</td>\n      <td>84</td>\n      <td>97</td>\n    </tr>\n    <tr>\n      <th>Js</th>\n      <td>60</td>\n      <td>75</td>\n      <td>71</td>\n    </tr>\n    <tr>\n      <th>Vue</th>\n      <td>81</td>\n      <td>70</td>\n      <td>84</td>\n    </tr>\n    <tr>\n      <th rowspan=\"6\" valign=\"top\">大三</th>\n      <th>python</th>\n      <td>64</td>\n      <td>61</td>\n      <td>92</td>\n    </tr>\n    <tr>\n      <th>java</th>\n      <td>69</td>\n      <td>81</td>\n      <td>87</td>\n    </tr>\n    <tr>\n      <th>c</th>\n      <td>81</td>\n      <td>88</td>\n      <td>74</td>\n    </tr>\n    <tr>\n      <th>HTML</th>\n      <td>78</td>\n      <td>61</td>\n      <td>76</td>\n    </tr>\n    <tr>\n      <th>Js</th>\n      <td>67</td>\n      <td>81</td>\n      <td>68</td>\n    </tr>\n    <tr>\n      <th>Vue</th>\n      <td>90</td>\n      <td>71</td>\n      <td>89</td>\n    </tr>\n    <tr>\n      <th rowspan=\"6\" valign=\"top\">大四</th>\n      <th>python</th>\n      <td>95</td>\n      <td>90</td>\n      <td>98</td>\n    </tr>\n    <tr>\n      <th>java</th>\n      <td>88</td>\n      <td>94</td>\n      <td>86</td>\n    </tr>\n    <tr>\n      <th>c</th>\n      <td>79</td>\n      <td>61</td>\n      <td>63</td>\n    </tr>\n    <tr>\n      <th>HTML</th>\n      <td>70</td>\n      <td>68</td>\n      <td>91</td>\n    </tr>\n    <tr>\n      <th>Js</th>\n      <td>72</td>\n      <td>87</td>\n      <td>89</td>\n    </tr>\n    <tr>\n      <th>Vue</th>\n      <td>83</td>\n      <td>91</td>\n      <td>78</td>\n    </tr>\n  </tbody>\n</table>\n</div>"
     },
     "execution_count": 17,
     "metadata": {},
     "output_type": "execute_result"
    }
   ],
   "source": [
    "# 多层索引，切片,使用列表+元组访问\n",
    "\n",
    "# 注意：！ 此方式不支持切片，元组表达方式，不支持切片\n",
    "\n",
    "# 解决办法，可以先把多层级变成单层级\n",
    "\n",
    "# 个人觉得比较好的，可以使用隐式访问，无视索引，这样就可以切片了\n",
    "df6.loc[:, [('冯亮', '期中'), ('袁玉婷', '期末'), ('冯亮', '最终')]]"
   ],
   "metadata": {
    "collapsed": false,
    "ExecuteTime": {
     "end_time": "2023-11-19T15:30:31.548971Z",
     "start_time": "2023-11-19T15:30:31.314839Z"
    }
   },
   "id": "d6678931dc5f0399"
  },
  {
   "cell_type": "code",
   "execution_count": 18,
   "outputs": [
    {
     "data": {
      "text/plain": "        上学期             下学期         \n     python java   c python java   c\ntom      80   70  94     13   45  28\nlucy     59    1  35     27   78  11\njack     65   47   4     65   31  80",
      "text/html": "<div>\n<style scoped>\n    .dataframe tbody tr th:only-of-type {\n        vertical-align: middle;\n    }\n\n    .dataframe tbody tr th {\n        vertical-align: top;\n    }\n\n    .dataframe thead tr th {\n        text-align: left;\n    }\n</style>\n<table border=\"1\" class=\"dataframe\">\n  <thead>\n    <tr>\n      <th></th>\n      <th colspan=\"3\" halign=\"left\">上学期</th>\n      <th colspan=\"3\" halign=\"left\">下学期</th>\n    </tr>\n    <tr>\n      <th></th>\n      <th>python</th>\n      <th>java</th>\n      <th>c</th>\n      <th>python</th>\n      <th>java</th>\n      <th>c</th>\n    </tr>\n  </thead>\n  <tbody>\n    <tr>\n      <th>tom</th>\n      <td>80</td>\n      <td>70</td>\n      <td>94</td>\n      <td>13</td>\n      <td>45</td>\n      <td>28</td>\n    </tr>\n    <tr>\n      <th>lucy</th>\n      <td>59</td>\n      <td>1</td>\n      <td>35</td>\n      <td>27</td>\n      <td>78</td>\n      <td>11</td>\n    </tr>\n    <tr>\n      <th>jack</th>\n      <td>65</td>\n      <td>47</td>\n      <td>4</td>\n      <td>65</td>\n      <td>31</td>\n      <td>80</td>\n    </tr>\n  </tbody>\n</table>\n</div>"
     },
     "execution_count": 18,
     "metadata": {},
     "output_type": "execute_result"
    }
   ],
   "source": [
    "# 练习：\n",
    "# 构造一个多层级列索引成绩表，分值在0-100内随机\n",
    "# 一级标题为上学期和下学期，二级标题为python、java、c，行标签为tom、Lucy、jack\n",
    "# 同时获取上学期和下学期tom的成绩，计算tom的各学科的平均成绩\n",
    "# 获取上学期jack的python成绩，并给他加20分\n",
    "\n",
    "index = np.array(['tom', 'lucy', 'jack'])\n",
    "columns = pd.MultiIndex.from_product([['上学期', '下学期'], ['python', 'java', 'c']])\n",
    "data = np.random.randint(0,100,size=(3,6))\n",
    "df7 = DataFrame(data=data,index=index,columns=columns)\n",
    "df7"
   ],
   "metadata": {
    "collapsed": false,
    "ExecuteTime": {
     "end_time": "2023-11-19T15:30:31.553665Z",
     "start_time": "2023-11-19T15:30:31.326075Z"
    }
   },
   "id": "eb37f16259bf6414"
  },
  {
   "cell_type": "code",
   "execution_count": 19,
   "outputs": [
    {
     "data": {
      "text/plain": "59"
     },
     "execution_count": 19,
     "metadata": {},
     "output_type": "execute_result"
    }
   ],
   "source": [
    "# lucy 上学期成绩，输入聚合\n",
    "df7.loc['lucy','上学期'].max( )"
   ],
   "metadata": {
    "collapsed": false,
    "ExecuteTime": {
     "end_time": "2023-11-19T15:30:31.564100Z",
     "start_time": "2023-11-19T15:30:31.335919Z"
    }
   },
   "id": "ee32afe469470197"
  },
  {
   "cell_type": "code",
   "execution_count": 20,
   "outputs": [
    {
     "data": {
      "text/plain": "'python'"
     },
     "execution_count": 20,
     "metadata": {},
     "output_type": "execute_result"
    }
   ],
   "source": [
    "# lucy 上学期成绩，输入聚合,这个max都有很多个，哎，注意筛选\n",
    "df7.loc['lucy','上学期'].idxmax( )"
   ],
   "metadata": {
    "collapsed": false,
    "ExecuteTime": {
     "end_time": "2023-11-19T15:30:31.564521Z",
     "start_time": "2023-11-19T15:30:31.339734Z"
    }
   },
   "id": "a71c9a7b365e6618"
  },
  {
   "cell_type": "code",
   "execution_count": 21,
   "outputs": [
    {
     "data": {
      "text/plain": "上学期  python    80\n     java      70\n     c         94\n下学期  python    13\n     java      45\n     c         28\nName: tom, dtype: int64"
     },
     "execution_count": 21,
     "metadata": {},
     "output_type": "execute_result"
    }
   ],
   "source": [
    "df7.loc['tom']"
   ],
   "metadata": {
    "collapsed": false,
    "ExecuteTime": {
     "end_time": "2023-11-19T15:30:31.564861Z",
     "start_time": "2023-11-19T15:30:31.346410Z"
    }
   },
   "id": "1a40cdb0625b4049"
  },
  {
   "cell_type": "code",
   "execution_count": 22,
   "outputs": [
    {
     "data": {
      "text/plain": "55.0"
     },
     "execution_count": 22,
     "metadata": {},
     "output_type": "execute_result"
    }
   ],
   "source": [
    "# 这个求的是总的成绩\n",
    "df7.loc['tom'].mean(axis=0)"
   ],
   "metadata": {
    "collapsed": false,
    "ExecuteTime": {
     "end_time": "2023-11-19T15:30:31.565651Z",
     "start_time": "2023-11-19T15:30:31.350924Z"
    }
   },
   "id": "fcefc68606e4d1e2"
  },
  {
   "cell_type": "code",
   "execution_count": 23,
   "outputs": [
    {
     "data": {
      "text/plain": "python    46.5\njava      57.5\nc         61.0\nName: tom, dtype: float64"
     },
     "execution_count": 23,
     "metadata": {},
     "output_type": "execute_result"
    }
   ],
   "source": [
    "# 各科的平均成绩需要分两次求，没有直接的函数\n",
    "(df7.loc['tom'].loc['上学期']+df7.loc['tom'].loc['下学期'])/2"
   ],
   "metadata": {
    "collapsed": false,
    "ExecuteTime": {
     "end_time": "2023-11-19T15:30:31.568383Z",
     "start_time": "2023-11-19T15:30:31.356355Z"
    }
   },
   "id": "99f3b4d7b0f12bfe"
  },
  {
   "cell_type": "code",
   "execution_count": 24,
   "outputs": [
    {
     "data": {
      "text/plain": "python     93\njava      115\nc         122\nName: tom, dtype: int64"
     },
     "execution_count": 24,
     "metadata": {},
     "output_type": "execute_result"
    }
   ],
   "source": [
    "score = (df7.loc['tom'].loc['上学期']+df7.loc['tom'].loc['下学期'])\n",
    "score"
   ],
   "metadata": {
    "collapsed": false,
    "ExecuteTime": {
     "end_time": "2023-11-19T15:30:31.569009Z",
     "start_time": "2023-11-19T15:30:31.361798Z"
    }
   },
   "id": "84696c932a328a71"
  },
  {
   "cell_type": "code",
   "execution_count": 25,
   "outputs": [
    {
     "data": {
      "text/plain": "        上学期             下学期         \n     python java   c python java   c\ntom      80   70  94     13   45  28\nlucy     59    1  35     27   78  11\njack     85   47   4     65   31  80",
      "text/html": "<div>\n<style scoped>\n    .dataframe tbody tr th:only-of-type {\n        vertical-align: middle;\n    }\n\n    .dataframe tbody tr th {\n        vertical-align: top;\n    }\n\n    .dataframe thead tr th {\n        text-align: left;\n    }\n</style>\n<table border=\"1\" class=\"dataframe\">\n  <thead>\n    <tr>\n      <th></th>\n      <th colspan=\"3\" halign=\"left\">上学期</th>\n      <th colspan=\"3\" halign=\"left\">下学期</th>\n    </tr>\n    <tr>\n      <th></th>\n      <th>python</th>\n      <th>java</th>\n      <th>c</th>\n      <th>python</th>\n      <th>java</th>\n      <th>c</th>\n    </tr>\n  </thead>\n  <tbody>\n    <tr>\n      <th>tom</th>\n      <td>80</td>\n      <td>70</td>\n      <td>94</td>\n      <td>13</td>\n      <td>45</td>\n      <td>28</td>\n    </tr>\n    <tr>\n      <th>lucy</th>\n      <td>59</td>\n      <td>1</td>\n      <td>35</td>\n      <td>27</td>\n      <td>78</td>\n      <td>11</td>\n    </tr>\n    <tr>\n      <th>jack</th>\n      <td>85</td>\n      <td>47</td>\n      <td>4</td>\n      <td>65</td>\n      <td>31</td>\n      <td>80</td>\n    </tr>\n  </tbody>\n</table>\n</div>"
     },
     "execution_count": 25,
     "metadata": {},
     "output_type": "execute_result"
    }
   ],
   "source": [
    "# 给jack python加分\n",
    "df7.loc['jack',('上学期','python')] +=20\n",
    "df7"
   ],
   "metadata": {
    "collapsed": false,
    "ExecuteTime": {
     "end_time": "2023-11-19T15:30:31.569572Z",
     "start_time": "2023-11-19T15:30:31.368568Z"
    }
   },
   "id": "e511af8f4b492232"
  },
  {
   "cell_type": "code",
   "execution_count": 27,
   "outputs": [
    {
     "data": {
      "text/plain": "             上学期  下学期\ntom  c        94   28\n     java     70   45\n     python   80   13\nlucy c        35   11\n     java      1   78\n     python   59   27\njack c         4   80\n     java     47   31\n     python   85   65",
      "text/html": "<div>\n<style scoped>\n    .dataframe tbody tr th:only-of-type {\n        vertical-align: middle;\n    }\n\n    .dataframe tbody tr th {\n        vertical-align: top;\n    }\n\n    .dataframe thead th {\n        text-align: right;\n    }\n</style>\n<table border=\"1\" class=\"dataframe\">\n  <thead>\n    <tr style=\"text-align: right;\">\n      <th></th>\n      <th></th>\n      <th>上学期</th>\n      <th>下学期</th>\n    </tr>\n  </thead>\n  <tbody>\n    <tr>\n      <th rowspan=\"3\" valign=\"top\">tom</th>\n      <th>c</th>\n      <td>94</td>\n      <td>28</td>\n    </tr>\n    <tr>\n      <th>java</th>\n      <td>70</td>\n      <td>45</td>\n    </tr>\n    <tr>\n      <th>python</th>\n      <td>80</td>\n      <td>13</td>\n    </tr>\n    <tr>\n      <th rowspan=\"3\" valign=\"top\">lucy</th>\n      <th>c</th>\n      <td>35</td>\n      <td>11</td>\n    </tr>\n    <tr>\n      <th>java</th>\n      <td>1</td>\n      <td>78</td>\n    </tr>\n    <tr>\n      <th>python</th>\n      <td>59</td>\n      <td>27</td>\n    </tr>\n    <tr>\n      <th rowspan=\"3\" valign=\"top\">jack</th>\n      <th>c</th>\n      <td>4</td>\n      <td>80</td>\n    </tr>\n    <tr>\n      <th>java</th>\n      <td>47</td>\n      <td>31</td>\n    </tr>\n    <tr>\n      <th>python</th>\n      <td>85</td>\n      <td>65</td>\n    </tr>\n  </tbody>\n</table>\n</div>"
     },
     "execution_count": 27,
     "metadata": {},
     "output_type": "execute_result"
    }
   ],
   "source": [
    "# stack 提升，unstack降低层级,可以通过调整level 控制谁下来\n",
    "df7.stack()"
   ],
   "metadata": {
    "collapsed": false,
    "ExecuteTime": {
     "end_time": "2023-11-19T15:31:11.739323Z",
     "start_time": "2023-11-19T15:31:11.719055Z"
    }
   },
   "id": "d51dbabb33fdd8b9"
  },
  {
   "cell_type": "code",
   "execution_count": 29,
   "outputs": [
    {
     "data": {
      "text/plain": "          python  java   c\ntom  上学期      80    70  94\n     下学期      13    45  28\nlucy 上学期      59     1  35\n     下学期      27    78  11\njack 上学期      85    47   4\n     下学期      65    31  80",
      "text/html": "<div>\n<style scoped>\n    .dataframe tbody tr th:only-of-type {\n        vertical-align: middle;\n    }\n\n    .dataframe tbody tr th {\n        vertical-align: top;\n    }\n\n    .dataframe thead th {\n        text-align: right;\n    }\n</style>\n<table border=\"1\" class=\"dataframe\">\n  <thead>\n    <tr style=\"text-align: right;\">\n      <th></th>\n      <th></th>\n      <th>python</th>\n      <th>java</th>\n      <th>c</th>\n    </tr>\n  </thead>\n  <tbody>\n    <tr>\n      <th rowspan=\"2\" valign=\"top\">tom</th>\n      <th>上学期</th>\n      <td>80</td>\n      <td>70</td>\n      <td>94</td>\n    </tr>\n    <tr>\n      <th>下学期</th>\n      <td>13</td>\n      <td>45</td>\n      <td>28</td>\n    </tr>\n    <tr>\n      <th rowspan=\"2\" valign=\"top\">lucy</th>\n      <th>上学期</th>\n      <td>59</td>\n      <td>1</td>\n      <td>35</td>\n    </tr>\n    <tr>\n      <th>下学期</th>\n      <td>27</td>\n      <td>78</td>\n      <td>11</td>\n    </tr>\n    <tr>\n      <th rowspan=\"2\" valign=\"top\">jack</th>\n      <th>上学期</th>\n      <td>85</td>\n      <td>47</td>\n      <td>4</td>\n    </tr>\n    <tr>\n      <th>下学期</th>\n      <td>65</td>\n      <td>31</td>\n      <td>80</td>\n    </tr>\n  </tbody>\n</table>\n</div>"
     },
     "execution_count": 29,
     "metadata": {},
     "output_type": "execute_result"
    }
   ],
   "source": [
    "# 0，1 从外往里，或者里边是-1，外边是-2\n",
    "df7.stack(level=0)"
   ],
   "metadata": {
    "collapsed": false,
    "ExecuteTime": {
     "end_time": "2023-11-19T15:32:50.900530Z",
     "start_time": "2023-11-19T15:32:50.896737Z"
    }
   },
   "id": "dc2af0f727f1e050"
  },
  {
   "cell_type": "code",
   "execution_count": 34,
   "outputs": [
    {
     "data": {
      "text/plain": "    python          java             c         \n      jack lucy tom jack lucy tom jack lucy tom\n上学期     85   59  80   47    1  70    4   35  94\n下学期     65   27  13   31   78  45   80   11  28",
      "text/html": "<div>\n<style scoped>\n    .dataframe tbody tr th:only-of-type {\n        vertical-align: middle;\n    }\n\n    .dataframe tbody tr th {\n        vertical-align: top;\n    }\n\n    .dataframe thead tr th {\n        text-align: left;\n    }\n</style>\n<table border=\"1\" class=\"dataframe\">\n  <thead>\n    <tr>\n      <th></th>\n      <th colspan=\"3\" halign=\"left\">python</th>\n      <th colspan=\"3\" halign=\"left\">java</th>\n      <th colspan=\"3\" halign=\"left\">c</th>\n    </tr>\n    <tr>\n      <th></th>\n      <th>jack</th>\n      <th>lucy</th>\n      <th>tom</th>\n      <th>jack</th>\n      <th>lucy</th>\n      <th>tom</th>\n      <th>jack</th>\n      <th>lucy</th>\n      <th>tom</th>\n    </tr>\n  </thead>\n  <tbody>\n    <tr>\n      <th>上学期</th>\n      <td>85</td>\n      <td>59</td>\n      <td>80</td>\n      <td>47</td>\n      <td>1</td>\n      <td>70</td>\n      <td>4</td>\n      <td>35</td>\n      <td>94</td>\n    </tr>\n    <tr>\n      <th>下学期</th>\n      <td>65</td>\n      <td>27</td>\n      <td>13</td>\n      <td>31</td>\n      <td>78</td>\n      <td>45</td>\n      <td>80</td>\n      <td>11</td>\n      <td>28</td>\n    </tr>\n  </tbody>\n</table>\n</div>"
     },
     "execution_count": 34,
     "metadata": {},
     "output_type": "execute_result"
    }
   ],
   "source": [
    "# 转换为上下学期两行格式,从外往里是从0开始\n",
    "df7_temp = df7.stack(level=0).unstack(level=0)\n",
    "df7_temp"
   ],
   "metadata": {
    "collapsed": false,
    "ExecuteTime": {
     "end_time": "2023-11-19T15:38:54.232297Z",
     "start_time": "2023-11-19T15:38:54.214372Z"
    }
   },
   "id": "7331b2009c003971"
  },
  {
   "cell_type": "code",
   "execution_count": 42,
   "outputs": [
    {
     "data": {
      "text/plain": "上学期    74.666667\n下学期    35.000000\ndtype: float64"
     },
     "execution_count": 42,
     "metadata": {},
     "output_type": "execute_result"
    }
   ],
   "source": [
    "# 聚合一般纵向，一列数据相对有意义些\n",
    "df7_temp.loc[:,'python'].mean(axis=1)"
   ],
   "metadata": {
    "collapsed": false,
    "ExecuteTime": {
     "end_time": "2023-11-19T15:40:58.182336Z",
     "start_time": "2023-11-19T15:40:58.179269Z"
    }
   },
   "id": "4ea31db2ee1996e1"
  },
  {
   "cell_type": "code",
   "execution_count": 46,
   "outputs": [
    {
     "data": {
      "text/plain": "上学期  python    74.666667\n     java      39.333333\n     c         44.333333\n下学期  python    35.000000\n     java      51.333333\n     c         39.666667\ndtype: float64"
     },
     "execution_count": 46,
     "metadata": {},
     "output_type": "execute_result"
    }
   ],
   "source": [
    "# 计算各个科目上下学期的平均成绩\n",
    "df7.mean()"
   ],
   "metadata": {
    "collapsed": false,
    "ExecuteTime": {
     "end_time": "2023-11-19T15:45:34.356168Z",
     "start_time": "2023-11-19T15:45:34.352485Z"
    }
   },
   "id": "a5f25952495c58f8"
  },
  {
   "cell_type": "code",
   "execution_count": 48,
   "outputs": [
    {
     "data": {
      "text/plain": "tom     94\nlucy    78\njack    85\ndtype: int64"
     },
     "execution_count": 48,
     "metadata": {},
     "output_type": "execute_result"
    }
   ],
   "source": [
    "# 计算各个科目张三李四的最高分\n",
    "df7.max(axis=1)"
   ],
   "metadata": {
    "collapsed": false,
    "ExecuteTime": {
     "end_time": "2023-11-19T15:46:57.143812Z",
     "start_time": "2023-11-19T15:46:57.136847Z"
    }
   },
   "id": "14332bf21af58dbb"
  },
  {
   "cell_type": "code",
   "execution_count": 55,
   "outputs": [
    {
     "data": {
      "text/plain": "      上学期  下学期\njack   85   80\nlucy   59   78\ntom    94   45",
      "text/html": "<div>\n<style scoped>\n    .dataframe tbody tr th:only-of-type {\n        vertical-align: middle;\n    }\n\n    .dataframe tbody tr th {\n        vertical-align: top;\n    }\n\n    .dataframe thead th {\n        text-align: right;\n    }\n</style>\n<table border=\"1\" class=\"dataframe\">\n  <thead>\n    <tr style=\"text-align: right;\">\n      <th></th>\n      <th>上学期</th>\n      <th>下学期</th>\n    </tr>\n  </thead>\n  <tbody>\n    <tr>\n      <th>jack</th>\n      <td>85</td>\n      <td>80</td>\n    </tr>\n    <tr>\n      <th>lucy</th>\n      <td>59</td>\n      <td>78</td>\n    </tr>\n    <tr>\n      <th>tom</th>\n      <td>94</td>\n      <td>45</td>\n    </tr>\n  </tbody>\n</table>\n</div>"
     },
     "execution_count": 55,
     "metadata": {},
     "output_type": "execute_result"
    }
   ],
   "source": [
    "# 分别获取上下学期各个同学的最高分,求完了过后，可以再变回来，真的是666 \n",
    "df7.stack(0).max(axis=1).unstack(1)"
   ],
   "metadata": {
    "collapsed": false,
    "ExecuteTime": {
     "end_time": "2023-11-19T15:51:34.515415Z",
     "start_time": "2023-11-19T15:51:34.502610Z"
    }
   },
   "id": "69756ff708d4393"
  },
  {
   "cell_type": "code",
   "execution_count": 60,
   "outputs": [
    {
     "data": {
      "text/plain": "         c  java  python\njack  42.0  39.0    75.0\nlucy  23.0  39.5    43.0\ntom   61.0  57.5    46.5",
      "text/html": "<div>\n<style scoped>\n    .dataframe tbody tr th:only-of-type {\n        vertical-align: middle;\n    }\n\n    .dataframe tbody tr th {\n        vertical-align: top;\n    }\n\n    .dataframe thead th {\n        text-align: right;\n    }\n</style>\n<table border=\"1\" class=\"dataframe\">\n  <thead>\n    <tr style=\"text-align: right;\">\n      <th></th>\n      <th>c</th>\n      <th>java</th>\n      <th>python</th>\n    </tr>\n  </thead>\n  <tbody>\n    <tr>\n      <th>jack</th>\n      <td>42.0</td>\n      <td>39.0</td>\n      <td>75.0</td>\n    </tr>\n    <tr>\n      <th>lucy</th>\n      <td>23.0</td>\n      <td>39.5</td>\n      <td>43.0</td>\n    </tr>\n    <tr>\n      <th>tom</th>\n      <td>61.0</td>\n      <td>57.5</td>\n      <td>46.5</td>\n    </tr>\n  </tbody>\n</table>\n</div>"
     },
     "execution_count": 60,
     "metadata": {},
     "output_type": "execute_result"
    }
   ],
   "source": [
    "df7.stack(level=1).mean(axis=1).unstack(level=1)"
   ],
   "metadata": {
    "collapsed": false,
    "ExecuteTime": {
     "end_time": "2023-11-20T02:59:30.623209Z",
     "start_time": "2023-11-20T02:59:30.614224Z"
    }
   },
   "id": "aa57f996a3c4ac51"
  },
  {
   "cell_type": "code",
   "execution_count": 71,
   "outputs": [
    {
     "data": {
      "text/plain": "          python  java   c\ntom  上学期      80    70  94\n     下学期      13    45  28\njack 上学期      85    47   4\n     下学期      65    31  80",
      "text/html": "<div>\n<style scoped>\n    .dataframe tbody tr th:only-of-type {\n        vertical-align: middle;\n    }\n\n    .dataframe tbody tr th {\n        vertical-align: top;\n    }\n\n    .dataframe thead th {\n        text-align: right;\n    }\n</style>\n<table border=\"1\" class=\"dataframe\">\n  <thead>\n    <tr style=\"text-align: right;\">\n      <th></th>\n      <th></th>\n      <th>python</th>\n      <th>java</th>\n      <th>c</th>\n    </tr>\n  </thead>\n  <tbody>\n    <tr>\n      <th rowspan=\"2\" valign=\"top\">tom</th>\n      <th>上学期</th>\n      <td>80</td>\n      <td>70</td>\n      <td>94</td>\n    </tr>\n    <tr>\n      <th>下学期</th>\n      <td>13</td>\n      <td>45</td>\n      <td>28</td>\n    </tr>\n    <tr>\n      <th rowspan=\"2\" valign=\"top\">jack</th>\n      <th>上学期</th>\n      <td>85</td>\n      <td>47</td>\n      <td>4</td>\n    </tr>\n    <tr>\n      <th>下学期</th>\n      <td>65</td>\n      <td>31</td>\n      <td>80</td>\n    </tr>\n  </tbody>\n</table>\n</div>"
     },
     "execution_count": 71,
     "metadata": {},
     "output_type": "execute_result"
    }
   ],
   "source": [
    "df7.stack(level=0).loc[['tom','jack']].mean()"
   ],
   "metadata": {
    "collapsed": false,
    "ExecuteTime": {
     "end_time": "2023-11-20T03:03:17.444584Z",
     "start_time": "2023-11-20T03:03:17.432642Z"
    }
   },
   "id": "5fe5c4266abf6eee"
  }
 ],
 "metadata": {
  "kernelspec": {
   "display_name": "Python 3",
   "language": "python",
   "name": "python3"
  },
  "language_info": {
   "codemirror_mode": {
    "name": "ipython",
    "version": 2
   },
   "file_extension": ".py",
   "mimetype": "text/x-python",
   "name": "python",
   "nbconvert_exporter": "python",
   "pygments_lexer": "ipython2",
   "version": "2.7.6"
  }
 },
 "nbformat": 4,
 "nbformat_minor": 5
}
