{
 "cells": [
  {
   "cell_type": "code",
   "execution_count": 5,
   "id": "initial_id",
   "metadata": {
    "collapsed": true,
    "ExecuteTime": {
     "end_time": "2023-11-10T14:29:48.135350Z",
     "start_time": "2023-11-10T14:29:48.121209Z"
    }
   },
   "outputs": [
    {
     "data": {
      "text/plain": "array([1., 2., 3.], dtype=float32)"
     },
     "execution_count": 5,
     "metadata": {},
     "output_type": "execute_result"
    }
   ],
   "source": [
    "import numpy as np\n",
    "a = np.array([1,2,3],dtype=np.float32)\n",
    "a"
   ]
  },
  {
   "cell_type": "code",
   "execution_count": 8,
   "outputs": [
    {
     "data": {
      "text/plain": "array([[1., 1., 1., 1., 1., 1., 1., 1.],\n       [1., 1., 1., 1., 1., 1., 1., 1.],\n       [1., 1., 1., 1., 1., 1., 1., 1.],\n       [1., 1., 1., 1., 1., 1., 1., 1.],\n       [1., 1., 1., 1., 1., 1., 1., 1.],\n       [1., 1., 1., 1., 1., 1., 1., 1.]], dtype=float32)"
     },
     "execution_count": 8,
     "metadata": {},
     "output_type": "execute_result"
    }
   ],
   "source": [
    "# 元组形式定义形状，保护不可变的\n",
    "np.ones((6,8),dtype=np.float32)"
   ],
   "metadata": {
    "collapsed": false,
    "ExecuteTime": {
     "end_time": "2023-11-10T14:30:43.578635Z",
     "start_time": "2023-11-10T14:30:43.569265Z"
    }
   },
   "id": "51231a4ff3174937"
  },
  {
   "cell_type": "code",
   "execution_count": 10,
   "outputs": [
    {
     "data": {
      "text/plain": "array([1., 1., 1., 1., 1.])"
     },
     "execution_count": 10,
     "metadata": {},
     "output_type": "execute_result"
    }
   ],
   "source": [
    "np.ones((5,))"
   ],
   "metadata": {
    "collapsed": false,
    "ExecuteTime": {
     "end_time": "2023-11-10T14:36:59.053695Z",
     "start_time": "2023-11-10T14:36:59.027417Z"
    }
   },
   "id": "e252f5066ea0e499"
  },
  {
   "cell_type": "code",
   "execution_count": 11,
   "outputs": [
    {
     "data": {
      "text/plain": "array([[[1., 1.],\n        [1., 1.],\n        [1., 1.]],\n\n       [[1., 1.],\n        [1., 1.],\n        [1., 1.]],\n\n       [[1., 1.],\n        [1., 1.],\n        [1., 1.]],\n\n       [[1., 1.],\n        [1., 1.],\n        [1., 1.]],\n\n       [[1., 1.],\n        [1., 1.],\n        [1., 1.]]])"
     },
     "execution_count": 11,
     "metadata": {},
     "output_type": "execute_result"
    }
   ],
   "source": [
    "# 三维数组\n",
    "np.ones((5,3,2))"
   ],
   "metadata": {
    "collapsed": false,
    "ExecuteTime": {
     "end_time": "2023-11-10T14:37:34.433488Z",
     "start_time": "2023-11-10T14:37:34.415291Z"
    }
   },
   "id": "37c419af8d1fb56d"
  },
  {
   "cell_type": "code",
   "execution_count": 9,
   "outputs": [
    {
     "data": {
      "text/plain": "array([[0., 0., 0., 0., 0.],\n       [0., 0., 0., 0., 0.],\n       [0., 0., 0., 0., 0.],\n       [0., 0., 0., 0., 0.],\n       [0., 0., 0., 0., 0.],\n       [0., 0., 0., 0., 0.],\n       [0., 0., 0., 0., 0.],\n       [0., 0., 0., 0., 0.]], dtype=float32)"
     },
     "execution_count": 9,
     "metadata": {},
     "output_type": "execute_result"
    }
   ],
   "source": [
    "np.zeros((8,5),dtype=np.float32)"
   ],
   "metadata": {
    "collapsed": false,
    "ExecuteTime": {
     "end_time": "2023-11-10T14:35:10.637127Z",
     "start_time": "2023-11-10T14:35:10.632474Z"
    }
   },
   "id": "1bac84eb87de1d10"
  },
  {
   "cell_type": "code",
   "execution_count": 15,
   "outputs": [
    {
     "data": {
      "text/plain": "array([['Liang', 'Liang', 'Liang', 'Liang', 'Liang', 'Liang', 'Liang',\n        'Liang'],\n       ['Liang', 'Liang', 'Liang', 'Liang', 'Liang', 'Liang', 'Liang',\n        'Liang'],\n       ['Liang', 'Liang', 'Liang', 'Liang', 'Liang', 'Liang', 'Liang',\n        'Liang'],\n       ['Liang', 'Liang', 'Liang', 'Liang', 'Liang', 'Liang', 'Liang',\n        'Liang']], dtype=object)"
     },
     "execution_count": 15,
     "metadata": {},
     "output_type": "execute_result"
    }
   ],
   "source": [
    "np.full((4,8),fill_value='Liang',dtype=object)"
   ],
   "metadata": {
    "collapsed": false,
    "ExecuteTime": {
     "end_time": "2023-11-10T14:41:59.796340Z",
     "start_time": "2023-11-10T14:41:59.776564Z"
    }
   },
   "id": "1e1789e1e7860163"
  },
  {
   "cell_type": "code",
   "execution_count": 16,
   "outputs": [
    {
     "data": {
      "text/plain": "array([['Ting', 'Ting', 'Ting', 'Ting', 'Ting', 'Ting', 'Ting', 'Ting',\n        'Ting'],\n       ['Ting', 'Ting', 'Ting', 'Ting', 'Ting', 'Ting', 'Ting', 'Ting',\n        'Ting'],\n       ['Ting', 'Ting', 'Ting', 'Ting', 'Ting', 'Ting', 'Ting', 'Ting',\n        'Ting'],\n       ['Ting', 'Ting', 'Ting', 'Ting', 'Ting', 'Ting', 'Ting', 'Ting',\n        'Ting'],\n       ['Ting', 'Ting', 'Ting', 'Ting', 'Ting', 'Ting', 'Ting', 'Ting',\n        'Ting'],\n       ['Ting', 'Ting', 'Ting', 'Ting', 'Ting', 'Ting', 'Ting', 'Ting',\n        'Ting'],\n       ['Ting', 'Ting', 'Ting', 'Ting', 'Ting', 'Ting', 'Ting', 'Ting',\n        'Ting'],\n       ['Ting', 'Ting', 'Ting', 'Ting', 'Ting', 'Ting', 'Ting', 'Ting',\n        'Ting'],\n       ['Ting', 'Ting', 'Ting', 'Ting', 'Ting', 'Ting', 'Ting', 'Ting',\n        'Ting']], dtype='<U4')"
     },
     "execution_count": 16,
     "metadata": {},
     "output_type": "execute_result"
    }
   ],
   "source": [
    "np.full((9,9),fill_value='Ting')"
   ],
   "metadata": {
    "collapsed": false,
    "ExecuteTime": {
     "end_time": "2023-11-10T14:42:33.577071Z",
     "start_time": "2023-11-10T14:42:33.551292Z"
    }
   },
   "id": "a904251091a462"
  },
  {
   "cell_type": "code",
   "execution_count": 17,
   "outputs": [
    {
     "data": {
      "text/plain": "array([[1., 0., 0.],\n       [0., 1., 0.],\n       [0., 0., 1.]])"
     },
     "execution_count": 17,
     "metadata": {},
     "output_type": "execute_result"
    }
   ],
   "source": [
    "np.eye(3)"
   ],
   "metadata": {
    "collapsed": false,
    "ExecuteTime": {
     "end_time": "2023-11-10T14:45:10.351528Z",
     "start_time": "2023-11-10T14:45:10.328062Z"
    }
   },
   "id": "e72b136908ac4783"
  },
  {
   "cell_type": "code",
   "execution_count": 18,
   "outputs": [
    {
     "data": {
      "text/plain": "array([ 1.,  2.,  3.,  4.,  5.,  6.,  7.,  8.,  9., 10., 11., 12., 13.,\n       14., 15., 16., 17., 18., 19., 20.])"
     },
     "execution_count": 18,
     "metadata": {},
     "output_type": "execute_result"
    }
   ],
   "source": [
    "np.linspace(1,20,num=20)"
   ],
   "metadata": {
    "collapsed": false,
    "ExecuteTime": {
     "end_time": "2023-11-10T14:46:04.666051Z",
     "start_time": "2023-11-10T14:46:04.640863Z"
    }
   },
   "id": "18a6c9d0e75dbc5f"
  },
  {
   "cell_type": "code",
   "execution_count": 22,
   "outputs": [
    {
     "data": {
      "text/plain": "array([  0.,  25.,  50.,  75., 100., 125., 150., 175.])"
     },
     "execution_count": 22,
     "metadata": {},
     "output_type": "execute_result"
    }
   ],
   "source": [
    "# 分区间\n",
    "np.linspace(0,200,num=8,endpoint=False)"
   ],
   "metadata": {
    "collapsed": false,
    "ExecuteTime": {
     "end_time": "2023-11-10T14:47:54.699894Z",
     "start_time": "2023-11-10T14:47:54.688816Z"
    }
   },
   "id": "22e774d1eefd9c07"
  },
  {
   "cell_type": "code",
   "execution_count": 23,
   "outputs": [
    {
     "data": {
      "text/plain": "array([0, 2, 4, 6, 8])"
     },
     "execution_count": 23,
     "metadata": {},
     "output_type": "execute_result"
    }
   ],
   "source": [
    "np.arange(0,10,step=2)"
   ],
   "metadata": {
    "collapsed": false,
    "ExecuteTime": {
     "end_time": "2023-11-10T14:48:45.938929Z",
     "start_time": "2023-11-10T14:48:45.922830Z"
    }
   },
   "id": "d58d95411a2c5521"
  },
  {
   "cell_type": "code",
   "execution_count": 24,
   "outputs": [
    {
     "data": {
      "text/plain": "array([[92, 29, 44, 39, 32, 68, 52, 46],\n       [17, 26, 16, 30,  1, 10, 46, 15],\n       [13, 78, 64, 95, 85, 67, 26, 68],\n       [92, 74, 65, 61, 79, 48, 51, 26],\n       [25, 90, 91, 80, 51, 28, 65, 95]])"
     },
     "execution_count": 24,
     "metadata": {},
     "output_type": "execute_result"
    }
   ],
   "source": [
    "# 整数随机\n",
    "np.random.randint(0,100,size=(5,8))"
   ],
   "metadata": {
    "collapsed": false,
    "ExecuteTime": {
     "end_time": "2023-11-10T14:49:15.729590Z",
     "start_time": "2023-11-10T14:49:15.714507Z"
    }
   },
   "id": "181765cde188a877"
  },
  {
   "cell_type": "code",
   "execution_count": 26,
   "outputs": [
    {
     "data": {
      "text/plain": "array([[ 3.96253419, 21.47781858, 53.3206659 , 17.44779853, 25.40543785,\n        95.39260802, 43.40703149, 18.27759034],\n       [27.64378573, 36.30025096, 97.33919187, 58.75780806, 48.44720877,\n        72.19858708, 92.98344019, 29.93924705],\n       [47.2971164 , 64.55185652, 22.04103668, 41.26418883, 35.15587727,\n        62.05881842, 27.45872602, 50.55327078],\n       [22.59758791, 65.51753077, 28.54220021, 25.91658133,  7.81757267,\n        17.97467589, 67.76139557, 94.63098137],\n       [76.96215733, 36.29874149, 54.8053622 , 49.48189418,  7.17208316,\n        27.61700598,  8.54299327, 64.08005433]])"
     },
     "execution_count": 26,
     "metadata": {},
     "output_type": "execute_result"
    }
   ],
   "source": [
    "# 小数随机,0-1 扩大只能用乘法，-100到100就乘-200+100\n",
    "np.random.random(size=(5,8))*100"
   ],
   "metadata": {
    "collapsed": false,
    "ExecuteTime": {
     "end_time": "2023-11-10T14:51:55.796346Z",
     "start_time": "2023-11-10T14:51:55.777934Z"
    }
   },
   "id": "fc6172b1d36a8920"
  },
  {
   "cell_type": "code",
   "execution_count": 28,
   "outputs": [
    {
     "data": {
      "text/plain": "array([[18, 94, 62,  5, 62, 15, 82, 68, 83, 22]])"
     },
     "execution_count": 28,
     "metadata": {},
     "output_type": "execute_result"
    }
   ],
   "source": [
    "# 正太分布\n",
    "data = np.random.randint(1,100,size=(1,10))\n",
    "data"
   ],
   "metadata": {
    "collapsed": false,
    "ExecuteTime": {
     "end_time": "2023-11-10T14:55:29.709556Z",
     "start_time": "2023-11-10T14:55:29.680284Z"
    }
   },
   "id": "573e9ed98b21059a"
  },
  {
   "cell_type": "code",
   "execution_count": 29,
   "outputs": [
    {
     "data": {
      "text/plain": "51.1"
     },
     "execution_count": 29,
     "metadata": {},
     "output_type": "execute_result"
    }
   ],
   "source": [
    "# 平均值\n",
    "data.mean()"
   ],
   "metadata": {
    "collapsed": false,
    "ExecuteTime": {
     "end_time": "2023-11-10T14:55:53.863931Z",
     "start_time": "2023-11-10T14:55:53.833043Z"
    }
   },
   "id": "c0638d79cde013a9"
  },
  {
   "cell_type": "code",
   "execution_count": 32,
   "outputs": [
    {
     "data": {
      "text/plain": "array([-1.48758481e+00, -1.90846610e+00, -1.46949559e-01,  5.91938668e-01,\n       -7.25749695e-01, -3.79614533e-01,  7.96975288e-02, -9.46240908e-01,\n       -2.32154811e+00, -4.96967550e-01,  4.44242665e-01,  2.32154914e+00,\n        1.22790453e+00,  1.95511603e+00,  1.27456329e+00, -1.20687345e+00,\n        6.94261278e-01, -1.21148992e+00,  2.13933138e-01,  5.63467674e-01,\n        1.49809103e+00, -1.73019293e+00, -2.44752803e-01,  7.76654025e-02,\n       -4.31843016e-01, -5.20213700e-01,  3.22633194e+00, -5.33560805e-01,\n        6.39451156e-01, -1.05023915e+00, -1.24725250e+00, -3.87787252e-01,\n       -6.71261856e-01, -6.60120942e-01, -1.20163516e+00,  2.46190924e-01,\n        2.75046629e-01,  9.25288278e-02,  1.67489275e+00, -2.75255143e-01,\n        6.81538262e-01,  1.21093858e-01,  1.09311538e+00, -6.96332806e-01,\n        1.71452170e+00, -9.69287714e-01, -5.30594892e-01, -1.26731154e-01,\n       -3.17558107e-01, -3.67143810e-01, -1.03685433e-01,  3.42544027e-01,\n        1.16780466e+00, -3.36177304e-01,  1.14111080e+00, -1.40124057e+00,\n        6.89217546e-01,  1.43673755e+00, -8.12677563e-01,  1.46513782e+00,\n        2.23102677e+00,  7.92234229e-01, -2.06956290e+00,  1.95663049e-01,\n       -2.28030345e+00, -1.66856152e+00,  5.32218697e-01,  5.80724839e-01,\n       -1.20609322e+00, -1.91840955e+00,  2.18670699e-01, -3.80475517e-01,\n       -5.00379611e-01,  2.28403402e-01,  7.68976030e-01, -1.96453289e+00,\n        1.19498304e+00,  2.40956839e-01, -1.51039334e+00,  2.17995046e+00,\n        7.96820073e-01, -2.19462964e-01, -6.09326946e-01,  4.60184322e-01,\n        1.08739472e+00,  6.22425113e-01,  8.25416392e-01,  5.84092466e-01,\n        2.21696146e-01, -1.62066336e+00,  7.26885689e-01, -7.57159257e-01,\n        4.94468849e-01,  8.27408422e-01,  4.41604651e-02, -3.36576009e-01,\n       -5.69098856e-01, -2.91815024e-01, -1.29136318e+00, -7.29762699e-01,\n        8.14777404e-01,  2.56725661e-01, -5.96171369e-01, -1.57861144e+00,\n       -1.48544967e+00,  1.21297745e+00, -7.52712309e-01, -1.13402196e+00,\n       -4.82074380e-01,  2.47439826e+00, -7.98458425e-01,  6.52144137e-01,\n        6.29646866e-01,  4.11600239e-01, -1.83731294e-01, -8.91989829e-01,\n       -1.88907399e+00,  1.68115113e+00,  1.37170753e+00, -3.13454320e-01,\n        1.91771648e-01,  4.10534202e-01, -6.25213307e-01,  1.12147835e+00,\n       -2.31208480e+00,  1.13433902e-01, -1.59752047e+00, -6.66833164e-01,\n       -1.68849139e+00,  5.30854367e-01,  1.46787645e+00,  2.30072974e-01,\n       -9.30846988e-01, -3.99905525e-02, -4.34436744e-01, -1.41709527e+00,\n       -3.38327209e-01,  1.70167310e+00,  1.30819200e-01,  1.58425250e+00,\n        1.05010613e+00,  2.23546372e-01,  2.17322497e-03, -1.40097680e+00,\n        3.13142811e-02,  6.61938417e-01, -9.60688053e-01,  5.01073596e-01,\n        2.64843090e-01,  7.32674962e-01,  1.30204278e+00, -6.24836238e-01,\n        3.31744992e-01, -3.47281169e-01, -1.88812382e-01, -1.20921760e+00,\n       -1.62451578e+00,  1.37200818e+00,  1.62533987e-01,  4.11272612e-01,\n       -1.12884058e-01,  3.63317712e-01,  6.55774102e-01, -1.03521620e+00,\n       -8.95918421e-01, -1.60808036e-01,  1.55794817e+00,  6.51863769e-01,\n        1.82851129e+00, -1.99077937e-01, -9.60395372e-01, -1.24427225e+00,\n       -5.19459136e-01,  3.27218576e-01, -5.42497583e-01,  4.83741729e-01,\n       -2.06559598e-01,  5.13208834e-01, -8.89549423e-01, -1.45416671e+00,\n       -1.12936357e-01,  6.22556034e-01, -9.68862243e-01, -4.50641581e-01,\n        9.60469692e-01,  6.95124007e-01, -6.99849275e-01, -1.10705169e+00,\n        9.20334201e-01,  8.46854751e-01,  4.46209914e-01,  3.77529145e-01,\n       -1.09267850e+00,  7.47818431e-02, -6.70555530e-01, -1.10879798e+00,\n        3.08230865e-02, -8.10384557e-02, -1.51192342e+00, -8.92713835e-03,\n       -2.94298593e-01, -2.23877916e-01, -4.91543975e-01,  7.68575078e-02,\n        1.97323386e-01,  2.17347800e+00, -1.16801916e-02,  1.15426686e+00,\n       -9.87069203e-01,  1.72667288e+00, -1.48834808e+00,  1.84889892e+00,\n        7.50763998e-01, -1.04735150e+00, -9.32786244e-01,  1.30062109e-01,\n       -5.83326978e-01,  2.22334798e-01,  1.09115175e+00,  9.44368393e-01,\n       -1.00018915e+00, -4.99257085e-01,  1.56361835e+00, -1.90841698e-01,\n        1.39314361e+00,  6.64601810e-01, -8.95958178e-01,  1.02357013e+00,\n        9.51555775e-01, -2.70887553e+00,  4.95889449e-01, -1.24200325e+00,\n       -1.50338550e+00,  3.33485235e-01,  1.67169810e+00,  1.19867324e+00,\n        1.61519742e+00, -8.03411975e-01,  5.78832526e-01, -5.99527041e-01,\n        1.37694731e+00, -1.49587073e+00, -3.66701110e-02,  6.10690131e-01,\n       -1.71277084e+00, -1.29700278e+00, -2.23124655e-01,  3.72660371e-01,\n       -2.98599461e-01, -1.01068256e+00, -3.76070728e-02,  6.97209658e-01,\n       -3.34704344e-01,  1.64384681e-02, -6.22859953e-01, -1.03495884e+00,\n       -6.45108709e-01,  8.73864632e-02,  5.78900983e-01,  1.44868645e+00,\n       -7.13510836e-01,  1.32503807e+00, -5.16357779e-01,  5.59358448e-01,\n       -1.03529477e-01, -1.11713911e+00,  1.00357083e+00,  5.80726153e-01,\n        1.39062671e-01, -5.31097875e-01, -1.46107934e+00,  9.01482566e-01,\n       -8.80370875e-01,  4.08225955e-01, -1.16555411e+00, -8.47729709e-01,\n       -1.29536803e+00,  8.40640414e-01,  2.60605888e-01, -3.38759819e-02,\n        4.75992847e-01,  4.65950154e-01, -2.30367626e-01,  1.95501991e+00,\n        6.01000111e-01, -6.91475613e-01,  1.01794442e+00, -1.16532255e+00,\n       -1.10776210e-01,  1.85600652e+00, -1.27445164e+00,  1.41496967e+00,\n        2.06002803e+00, -1.99110517e+00,  1.12405728e-01,  7.76183000e-01,\n       -5.46413271e-01,  5.37762507e-01, -9.37227507e-01,  1.07778163e-01,\n        1.35344768e+00,  4.74045810e-01, -6.94117203e-01, -1.39392220e+00,\n       -1.68672309e+00,  9.21852269e-01,  1.43090286e+00, -3.50327345e-01,\n       -4.60137547e-02,  8.58081447e-01, -8.61977911e-01,  2.17860478e-01,\n        6.58141431e-01,  1.08374688e+00,  3.85274698e-01, -2.48932890e+00,\n        3.71239977e-01,  1.44732328e-01,  4.42248158e-01,  1.71496566e-01,\n       -7.77149597e-01,  9.52508538e-01, -1.15488249e+00, -3.85323541e-02,\n       -9.84507791e-01, -2.00569740e+00,  9.90889241e-01,  6.16405556e-02,\n        1.39076905e+00, -5.69073668e-01, -3.79585291e-01,  2.55146056e-01,\n       -9.41008305e-01,  5.17219349e-01,  4.77659001e-01, -1.09558593e+00,\n       -6.19385091e-01,  3.24740302e-01,  7.68252747e-03,  3.39530393e-01,\n        5.91651510e-01,  1.79271676e-01,  9.51370699e-01,  1.11489411e+00,\n        7.82116476e-01,  7.17899715e-01,  3.84975751e-01,  2.31877567e-02,\n        6.15716080e-01,  8.39743773e-01,  9.43624602e-02, -9.42107669e-01,\n        1.76014315e+00,  7.05278836e-01, -2.10887407e+00, -6.00041379e-01,\n        8.17758250e-02,  1.39373699e+00, -8.07642401e-01,  2.74994127e-02,\n        1.53088865e-01, -3.67057514e-01,  1.13619949e+00,  6.82473736e-01,\n       -8.81065453e-01, -3.04030667e-01, -3.03575283e-02,  1.37874584e-01,\n        5.71040686e-01,  7.95455045e-02, -4.90664072e-01, -1.96403006e-01,\n       -8.21814961e-02, -5.13227385e-01,  3.86746343e-01, -4.38069430e-01,\n        8.13558844e-01,  1.53275901e+00, -2.88627582e-01, -6.76530046e-01,\n       -9.51130985e-01,  3.17631376e-01,  1.11874642e+00,  2.25152487e-01,\n       -6.75790875e-02, -1.42832794e-01, -1.33305978e+00, -7.54411457e-02,\n        1.00489014e-01,  1.51462641e-01, -7.52487280e-01, -1.11511531e+00,\n        3.21201592e-01, -1.31510055e+00, -5.71019502e-01,  6.18099664e-02,\n       -4.16198455e-01,  6.58223530e-01, -5.98090868e-01,  4.08621895e-01,\n        2.06180344e+00,  4.89963560e-01,  4.48536633e-01, -1.59589392e-01,\n        1.55045703e+00, -8.46632245e-01,  1.96258867e+00, -1.30212570e+00,\n       -9.77194835e-01, -5.89776916e-01,  2.04437920e+00, -5.90545997e-01,\n        7.55117521e-01,  2.30433796e-01, -1.71281611e-01, -3.98744653e-01,\n       -3.44406880e-01, -4.59911540e-01,  6.06546195e-01,  1.76796879e+00,\n        1.41854170e+00, -2.82771769e-01, -2.24314359e-01,  1.19813005e+00,\n        2.17791787e-01, -1.54484690e+00,  2.84425510e-01,  1.35897006e+00,\n       -4.08352905e-02,  4.97274503e-01, -1.15250797e+00, -5.21951651e-01,\n        3.39676859e-01,  7.67003953e-01, -8.47593568e-01,  1.87085007e+00,\n       -1.31591258e+00,  4.65622335e-01, -1.26393151e+00,  1.40964274e+00,\n       -3.02140522e-01, -8.84708160e-01, -1.93229807e+00, -1.12338085e-01,\n       -1.99833141e-01, -1.27787246e+00,  4.59170202e-01,  1.03270335e+00,\n       -1.21381880e+00,  9.92028068e-01, -7.51616384e-01, -3.24015160e-01,\n        2.38147538e-01, -1.02225626e+00, -5.78960151e-01, -2.78444231e-01,\n       -1.01563932e+00,  4.87970777e-01, -7.73657410e-02, -3.25991305e-01,\n       -5.84222160e-01,  1.39923293e+00,  6.36413763e-01, -1.41786815e+00,\n        1.57237426e+00, -6.37301964e-02,  1.44975303e+00, -3.49346235e-01,\n        2.74355633e-01, -7.71599526e-01, -1.01983292e+00, -1.26460581e-01,\n        4.84863960e-01, -4.52214433e-01,  2.26211799e-01, -1.17774580e+00,\n        4.79558803e-01, -1.13412353e+00,  7.63085485e-01, -8.83643028e-01,\n        1.36484540e+00,  9.89412549e-01, -6.01565725e-01, -4.72370022e-01,\n       -8.94365536e-01, -5.20511763e-01, -2.36272248e-01, -6.53201293e-01,\n       -2.39890661e-01,  1.71232412e-01, -1.63987047e+00,  1.63348306e+00,\n       -1.15892510e-01, -4.04091352e-02, -7.60502889e-02, -8.31407693e-01,\n        9.92847240e-01,  4.85993904e-01,  1.30269324e-01,  1.39639077e-01,\n       -5.90058318e-01,  9.04345985e-01, -3.62668950e-01,  2.76565572e-01,\n       -3.76095446e-01,  1.54710323e+00,  1.21039996e+00, -1.39433766e+00,\n        5.44142578e-01,  7.84670595e-01,  4.84638827e-01, -7.26226333e-02,\n       -4.63419421e-01, -1.70748581e+00,  7.28520472e-01,  1.07281297e+00,\n        9.05689627e-01, -5.87666239e-01,  3.06839320e-01,  7.37851839e-01,\n       -1.29240692e+00,  9.09406166e-01,  3.01666185e-01, -3.98739281e-01,\n        3.05661107e-01,  1.45710124e-01, -6.17226781e-01,  8.74531888e-02,\n       -2.12253874e+00, -7.18193561e-01, -2.19697662e-01, -6.42745976e-01,\n        1.06084096e+00, -1.56479904e+00,  2.59221717e-01,  2.93460996e-01,\n       -3.87747404e-01,  3.64579273e-01, -3.14691063e-01,  6.62446362e-01,\n        6.25285300e-01,  1.88615839e+00,  2.97550605e-01, -2.16177343e-02,\n        3.77309814e-01,  2.40062982e+00, -1.10302665e+00, -3.19588709e-01,\n        3.00348848e-01,  3.20872842e-01, -4.21738237e-02, -1.45033360e+00,\n       -8.98097539e-01, -8.77248735e-01, -5.41948022e-01,  4.78067800e-01,\n       -3.50847797e-01, -2.44796166e+00, -5.18095646e-01,  5.33031367e-02,\n        1.55154965e-01,  2.84572129e-01,  5.29765814e-01, -1.90193847e+00,\n        1.77193129e-01, -2.32284995e-01, -1.42617641e-01,  1.52089986e-02,\n        5.10806160e-01,  3.61799179e-01, -1.22911480e+00,  4.76451936e-01,\n       -6.93875211e-01, -4.46293845e-01,  1.03849487e+00,  3.44815992e-01,\n        3.81775245e-01, -9.60057102e-01, -1.68222745e-01, -1.96740349e+00,\n        3.09902085e-01, -2.27713044e-01,  2.54385201e-02, -9.69722635e-01,\n        1.66515032e-01, -2.39918982e-01, -8.98781893e-01, -7.87082839e-01,\n       -1.70704063e-01, -1.98061719e-02, -6.08307892e-01,  9.02376592e-01,\n       -6.16557755e-01, -1.21381134e-01, -5.68367721e-01, -1.97509496e+00,\n        3.98953246e-01,  3.56578236e-01,  1.47967816e-01,  4.09899962e-01,\n       -5.34815068e-01, -4.62669576e-01, -5.88155924e-01, -1.67046201e+00,\n        8.81864209e-01, -9.46837714e-01,  3.51804290e-01,  8.87704693e-01,\n       -1.60941213e-02, -1.24224229e+00,  5.24792760e-01, -8.54401304e-01,\n       -3.65005081e-01, -1.23154199e+00,  2.51797512e+00, -5.07499730e-01,\n        5.33483500e-01, -8.39821011e-01,  4.62370401e-01, -4.73211438e-01,\n        1.69267114e+00,  1.49656454e+00,  5.97659856e-01, -8.25283684e-01,\n       -6.28896023e-01, -4.61145484e-01, -1.09442363e-01,  1.31062800e-01,\n       -8.07933388e-01,  1.70833442e+00, -8.41712303e-01, -6.71881332e-01,\n       -1.52282402e-01, -3.07948665e-01,  1.87281472e-02,  8.70250770e-01,\n        5.71225673e-01, -1.50702948e+00, -1.70135779e+00,  3.93745554e-01,\n       -6.36902981e-01, -8.56816035e-01, -4.11039505e-01,  1.36409688e+00,\n       -6.21225514e-02, -5.10944235e-01,  2.09667231e-01, -1.32818734e+00,\n        7.44273406e-01, -7.39871892e-01,  1.08841069e+00,  1.99099011e+00,\n        2.55521433e-01, -7.91022910e-01,  2.72306930e-01, -1.61961209e+00,\n       -6.83308853e-02,  2.64747024e-01, -1.63355841e+00,  9.93789521e-01,\n       -1.28569198e+00,  1.94441602e+00,  2.71285972e+00, -6.89816451e-02,\n        1.26860147e+00, -2.46762548e-01,  2.10539619e-02, -1.22513970e+00,\n       -8.07155703e-01,  5.34327964e-01, -9.86683477e-02, -1.56507823e-01,\n       -3.63067968e-01, -1.42977074e+00,  6.61044685e-01, -9.62171895e-03,\n       -2.24403651e-01,  5.44435402e-01, -5.61012000e-01,  6.63080195e-01,\n        1.20827903e+00,  7.12543274e-01, -1.08494253e+00, -1.87622198e+00,\n        9.98874170e-01,  1.63035993e+00, -5.84424771e-01, -5.89769658e-01,\n       -6.85300225e-01,  2.63886306e-01,  9.32852210e-02, -5.58346248e-01,\n        4.73140719e-01,  1.97493058e+00,  3.15162198e-01, -8.76777115e-01,\n        9.58743000e-01, -6.01426064e-01, -4.26896659e-01, -7.21653645e-01,\n        3.98543240e-01, -2.19411164e+00,  4.74906476e-01,  1.39404905e+00,\n        2.02890947e+00, -1.24966922e+00, -9.42273637e-01, -4.47529875e-01,\n       -2.55019633e-01, -1.45228773e-01,  4.06253260e-01,  1.05142945e+00,\n        3.76051258e-01, -8.43475266e-01,  2.91338280e-01, -1.62259625e-01,\n       -1.83096200e+00, -7.41319910e-01, -4.24597098e-01,  5.25587953e-01,\n        2.78647103e-01,  2.73394465e-01, -2.33361534e+00, -3.19973295e-01,\n       -7.61770430e-01,  1.10839206e-01, -2.16209621e+00,  1.72459539e+00,\n       -4.38099026e-01, -1.01377991e+00,  2.19309825e-01, -8.56536776e-01,\n       -6.40219599e-01,  2.16150071e-01,  1.02875708e-01,  8.67378100e-01,\n       -5.54714618e-01,  9.86461147e-01,  3.09126314e-01, -2.56045198e-01,\n       -3.04799110e-01,  2.46223157e-01,  5.92088009e-01,  9.67722456e-02,\n        1.15511520e-01, -1.09108198e+00, -2.94213421e-01, -2.76453536e-04,\n        3.69644804e-01, -3.17441211e-01,  1.51894409e+00, -1.06884124e+00,\n       -1.07265278e-01,  5.57571044e-01, -2.14683557e+00,  1.59624195e+00,\n        4.11470158e-01,  1.31303551e+00, -5.06912072e-01,  4.73547982e-01,\n       -9.94818088e-01,  2.10874702e-01,  1.13901204e+00, -1.14455687e+00,\n       -4.95555225e-01,  1.91729208e-02, -4.65888033e-01,  1.82930691e+00,\n        2.91893326e-02,  7.46754972e-01, -1.43654754e+00,  1.41180295e+00,\n        1.70005941e-02,  4.02999877e-01, -6.54815509e-01,  2.56487824e-01,\n       -1.05032833e+00, -2.11267755e+00, -1.34667775e-02, -5.76680703e-01,\n       -5.48019540e-01, -3.72835768e-01,  2.17572845e-01, -8.84786028e-01,\n        5.25366664e-01, -1.29193843e+00, -2.24250466e-01, -2.77457738e-01,\n        6.41445174e-01,  1.02129079e+00,  1.80831181e+00,  2.41619443e-01,\n        4.12394048e-01,  1.73261452e+00, -3.95684642e-01, -6.86171725e-01,\n       -5.98820917e-01, -1.86010548e-02, -1.81289754e+00, -6.77092243e-01,\n        9.42470745e-01,  5.23543190e-01,  1.53741427e-01, -1.05724354e+00,\n        1.71418508e+00, -4.58907429e-01,  5.62517279e-01, -1.25188971e+00,\n        7.46024198e-01,  1.45304668e+00, -3.63498632e-01,  1.59043121e-01,\n        3.70334538e-01, -2.42498911e-01,  8.00897300e-01, -7.95798960e-01,\n       -9.14917806e-01,  7.11133003e-01,  7.21087631e-01,  8.95844168e-01,\n       -9.75518821e-01,  1.02467838e+00, -1.31943760e+00, -3.94532672e-02,\n       -4.75408888e-01,  5.31200943e-01, -7.23002215e-01,  1.55008928e+00,\n       -1.59950682e+00,  2.30987617e-01,  1.19040090e+00,  5.52763295e-01,\n       -9.75552084e-01,  5.13443565e-01,  3.79480585e-01,  4.20842979e-01,\n       -3.21405355e-01, -4.68179824e-01,  1.44148569e+00, -2.12341057e-01,\n        3.16395405e-01, -1.65455213e-01, -9.61253187e-01,  1.57349236e+00,\n       -5.11154051e-02, -2.45665316e-01,  7.76980041e-01,  9.86091015e-01,\n       -1.02928679e+00, -2.21509150e-01,  5.72155205e-01,  1.41081910e+00,\n        3.37465939e-01,  3.61276554e-01,  5.02044301e-01, -1.48023822e+00,\n       -1.22764565e+00,  2.51497042e-01,  1.91410755e+00,  9.03966147e-01,\n        1.36433392e+00, -9.96556974e-01,  1.30475346e+00,  7.02052730e-01,\n       -1.00721806e+00, -6.27801510e-01,  3.27203275e-01,  1.20126838e+00,\n       -1.06832848e+00, -4.95507881e-01,  1.38086813e-01, -3.98121964e-01,\n       -8.72757656e-01,  6.18859581e-01, -1.26384008e-01,  1.04002438e-01,\n       -2.01502436e-01, -1.50375922e+00, -1.00419516e+00, -1.42933873e+00,\n       -1.02586730e-01, -1.35707105e+00, -1.57811912e-03,  4.18368098e-01,\n        3.85106270e-01,  5.00966083e-01, -1.33128325e+00,  4.36713825e-01,\n       -2.94948486e-01, -1.46645522e+00, -1.76181402e+00, -6.11668234e-01,\n        3.07338147e-01, -1.76838705e+00, -2.13975563e+00,  1.27001785e+00,\n       -1.25147084e+00,  3.67456693e-01, -1.22734348e+00, -3.59611591e-01,\n       -7.12011566e-01, -5.30282582e-01, -3.18010679e-01,  8.74975389e-01,\n       -2.38482284e+00, -1.87768813e+00,  2.18602986e-01, -7.59990360e-02,\n       -4.78652273e-01,  6.69595604e-01,  2.22526509e-01,  8.15531960e-02,\n        4.17884261e-01,  1.99722506e-01, -4.74355673e-01, -3.58360314e-01,\n       -1.33332541e+00,  1.29581634e+00, -1.26462279e-01, -8.45914030e-01,\n        8.12843006e-01, -2.72166897e+00, -4.49163851e-01,  7.04716575e-01,\n       -9.38528696e-01,  7.22054877e-01, -1.83837490e-01, -2.40461080e+00,\n        3.61080579e-01,  1.42629082e+00, -1.41637895e+00, -8.34299715e-02,\n       -1.80045320e+00,  6.65967344e-01, -1.38924572e+00, -1.87866331e+00,\n        2.33375334e-01, -6.77384976e-01,  6.10467944e-01, -3.42949116e-01,\n       -4.47354535e-01, -2.97722870e-01, -1.90875432e-01,  6.58407490e-01,\n       -3.68052323e-01, -1.70155399e-01,  2.20501468e-01, -6.28431645e-01,\n        4.87853955e-01,  2.10948553e+00,  1.59111373e+00,  2.91857358e-01,\n        8.05511132e-02,  1.51944496e+00,  2.46705569e+00, -8.84908190e-01,\n       -8.65219578e-01, -5.27424529e-01, -1.58235865e-01,  4.73356365e-01,\n       -4.72989843e-01, -1.35665309e-01, -5.00544908e-01,  9.07816241e-01,\n       -2.31258261e+00,  2.09942193e+00, -7.86179937e-02, -7.19652202e-01,\n       -1.45541760e+00, -4.43930172e-01,  8.87554273e-02, -4.68619113e-01,\n        1.69255183e+00, -7.51326319e-02,  1.63028013e-01, -1.39472201e+00,\n        1.41110407e+00, -1.16154642e+00, -1.30234215e+00, -3.47907771e-01,\n        6.69550218e-01, -4.29427280e-01,  6.97076594e-01,  4.39146500e-01,\n        8.50032559e-01, -1.03993271e+00,  2.11106307e+00,  1.27413732e+00,\n        1.49891188e+00, -1.57027309e+00,  2.91278075e-01, -3.01085250e-01,\n        3.28400691e-02,  2.26786323e+00,  1.36209721e-01, -6.96563231e-01,\n        8.21391824e-01, -7.66840645e-01,  9.50771540e-01, -3.07041315e-01])"
     },
     "execution_count": 32,
     "metadata": {},
     "output_type": "execute_result"
    }
   ],
   "source": [
    "# 生成1000个一维数组符合标准正态分布\n",
    "randn_data = np.random.randn(1000)\n",
    "randn_data"
   ],
   "metadata": {
    "collapsed": false,
    "ExecuteTime": {
     "end_time": "2023-11-10T15:02:24.236068Z",
     "start_time": "2023-11-10T15:02:24.231527Z"
    }
   },
   "id": "efb52963fb89ceb1"
  },
  {
   "cell_type": "code",
   "execution_count": 33,
   "outputs": [
    {
     "name": "stderr",
     "output_type": "stream",
     "text": [
      "/Users/fengliang/anaconda3/envs/Pandas&Matplotlib/lib/python3.11/site-packages/seaborn/_oldcore.py:1498: FutureWarning: is_categorical_dtype is deprecated and will be removed in a future version. Use isinstance(dtype, CategoricalDtype) instead\n",
      "  if pd.api.types.is_categorical_dtype(vector):\n",
      "/Users/fengliang/anaconda3/envs/Pandas&Matplotlib/lib/python3.11/site-packages/seaborn/_oldcore.py:1119: FutureWarning: use_inf_as_na option is deprecated and will be removed in a future version. Convert inf values to NaN before operating instead.\n",
      "  with pd.option_context('mode.use_inf_as_na', True):\n"
     ]
    },
    {
     "data": {
      "text/plain": "<seaborn.axisgrid.FacetGrid at 0x12864ed90>"
     },
     "execution_count": 33,
     "metadata": {},
     "output_type": "execute_result"
    },
    {
     "data": {
      "text/plain": "<Figure size 500x500 with 1 Axes>",
      "image/png": "[encoded data removed]"
     },
     "metadata": {},
     "output_type": "display_data"
    }
   ],
   "source": [
    "import seaborn as  sns\n",
    "sns.displot(randn_data)"
   ],
   "metadata": {
    "collapsed": false,
    "ExecuteTime": {
     "end_time": "2023-11-10T15:03:10.227677Z",
     "start_time": "2023-11-10T15:03:09.335433Z"
    }
   },
   "id": "6a58b60463ff9e7a"
  },
  {
   "cell_type": "code",
   "execution_count": 34,
   "outputs": [
    {
     "name": "stderr",
     "output_type": "stream",
     "text": [
      "/Users/fengliang/anaconda3/envs/Pandas&Matplotlib/lib/python3.11/site-packages/seaborn/_oldcore.py:1498: FutureWarning: is_categorical_dtype is deprecated and will be removed in a future version. Use isinstance(dtype, CategoricalDtype) instead\n",
      "  if pd.api.types.is_categorical_dtype(vector):\n",
      "/Users/fengliang/anaconda3/envs/Pandas&Matplotlib/lib/python3.11/site-packages/seaborn/_oldcore.py:1119: FutureWarning: use_inf_as_na option is deprecated and will be removed in a future version. Convert inf values to NaN before operating instead.\n",
      "  with pd.option_context('mode.use_inf_as_na', True):\n"
     ]
    },
    {
     "data": {
      "text/plain": "<seaborn.axisgrid.FacetGrid at 0x1287f3e50>"
     },
     "execution_count": 34,
     "metadata": {},
     "output_type": "execute_result"
    },
    {
     "data": {
      "text/plain": "<Figure size 500x500 with 1 Axes>",
      "image/png": "[encoded data removed]"
     },
     "metadata": {},
     "output_type": "display_data"
    }
   ],
   "source": [
    "# 普通正态分布，可以自己调整期望，scale是方差值5cm，此处为身高正态分布\n",
    "normal = np.random.normal(loc=175,scale=5,size=1000)\n",
    "sns.displot(normal)"
   ],
   "metadata": {
    "collapsed": false,
    "ExecuteTime": {
     "end_time": "2023-11-10T15:06:10.628526Z",
     "start_time": "2023-11-10T15:06:10.501223Z"
    }
   },
   "id": "646f939860ce91d1"
  }
 ],
 "metadata": {
  "kernelspec": {
   "display_name": "Python 3",
   "language": "python",
   "name": "python3"
  },
  "language_info": {
   "codemirror_mode": {
    "name": "ipython",
    "version": 2
   },
   "file_extension": ".py",
   "mimetype": "text/x-python",
   "name": "python",
   "nbconvert_exporter": "python",
   "pygments_lexer": "ipython2",
   "version": "2.7.6"
  }
 },
 "nbformat": 4,
 "nbformat_minor": 5
}
