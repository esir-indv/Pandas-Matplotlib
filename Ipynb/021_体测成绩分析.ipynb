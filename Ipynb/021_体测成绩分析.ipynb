{
 "cells": [
  {
   "cell_type": "code",
   "execution_count": 2,
   "id": "initial_id",
   "metadata": {
    "collapsed": true,
    "ExecuteTime": {
     "end_time": "2023-12-04T13:22:59.728786Z",
     "start_time": "2023-12-04T13:22:59.162988Z"
    }
   },
   "outputs": [],
   "source": [
    "import numpy as np\n",
    "import pandas as pd\n",
    "from pandas import Series, DataFrame\n",
    "import matplotlib.pyplot as plt\n",
    "import seaborn as sns\n",
    "%matplotlib inline\n"
   ]
  },
  {
   "cell_type": "code",
   "execution_count": 3,
   "outputs": [
    {
     "data": {
      "text/plain": "    男肺活量       女肺活量      男50米跑      女50米跑       男体前屈       ...  女跳远       \\\n      成绩   分数    成绩   分数    成绩   分数    成绩   分数    成绩   分数  ...   成绩   分数   \n0   4540  100  3150  100   7.1  100   7.8  100  23.6  100  ...  204  100   \n1   4420   95  3100   95   7.2   95   7.9   95  21.5   95  ...  198   95   \n2   4300   90  3050   90   7.3   90   8.0   90  19.4   90  ...  192   90   \n3   4050   85  2900   85   7.4   85   8.3   85  17.2   85  ...  185   85   \n4   3800   80  2750   80   7.5   80   8.6   80  15.0   80  ...  178   80   \n5   3680   78  2650   78   7.7   78   8.8   78  13.6   78  ...  175   78   \n6   3560   76  2550   76   7.9   76   9.0   76  12.2   76  ...  172   76   \n7   3440   74  2450   74   8.1   74   9.2   74  10.8   74  ...  169   74   \n8   3320   72  2350   72   8.3   72   9.4   72   9.4   72  ...  166   72   \n9   3200   70  2250   70   8.5   70   9.6   70   8.0   70  ...  163   70   \n10  3080   68  2150   68   8.7   68   9.8   68   6.6   68  ...  160   68   \n11  2960   66  2050   66   8.9   66  10.0   66   5.2   66  ...  157   66   \n12  2840   64  1950   64   9.1   64  10.2   64   3.8   64  ...  154   64   \n13  2720   62  1850   62   9.3   62  10.4   62   2.4   62  ...  151   62   \n14  2600   60  1750   60   9.5   60  10.6   60   1.0   60  ...  148   60   \n15  2470   50  1710   50   9.7   50  10.8   50   0.0   50  ...  143   50   \n16  2340   40  1670   40   9.9   40  11.0   40  -1.0   40  ...  138   40   \n17  2210   30  1630   30  10.1   30  11.2   30  -2.0   30  ...  133   30   \n18  2080   20  1590   20  10.3   20  11.4   20  -3.0   20  ...  128   20   \n19  1950   10  1550   10  10.5   10  11.6   10  -4.0   10  ...  123   10   \n\n     男引体      女仰卧      男1000米跑      女800米跑       \n      成绩   分数  成绩   分数      成绩   分数     成绩   分数  \n0   16.0  100  53  100   3'30\"  100  3'24\"  100  \n1   15.0   95  51   95   3'35\"   95  3'30\"   95  \n2   14.0   90  49   90   3'40\"   90  3'36\"   90  \n3   13.0   85  46   85   3'47\"   85  3'43\"   85  \n4   12.0   80  43   80   3'55\"   80  3'50\"   80  \n5    NaN   78  41   78   4'00\"   78  3'55\"   78  \n6   11.0   76  39   76   4'05\"   76  4'00\"   76  \n7    NaN   74  37   74   4'10\"   74  4'05\"   74  \n8   10.0   72  35   72   4'15\"   72  4'10\"   72  \n9    NaN   70  33   70   4'20\"   70  4'15\"   70  \n10   9.0   68  31   68   4'25\"   68  4'20\"   68  \n11   NaN   66  29   66   4'30\"   66  4'25\"   66  \n12   8.0   64  27   64   4'35\"   64  4'30\"   64  \n13   NaN   62  25   62   4'40\"   62  4'35\"   62  \n14   7.0   60  23   60   4'45\"   60  4'40\"   60  \n15   6.0   50  21   50   5'05\"   50  4'50\"   50  \n16   5.0   40  19   40   5'25\"   40  5'00\"   40  \n17   4.0   30  17   30   5'45\"   30  5'10\"   30  \n18   3.0   20  15   20   6'05\"   20  5'20\"   20  \n19   2.0   10  13   10   6'25\"   10  5'30\"   10  \n\n[20 rows x 24 columns]",
      "text/html": "<div>\n<style scoped>\n    .dataframe tbody tr th:only-of-type {\n        vertical-align: middle;\n    }\n\n    .dataframe tbody tr th {\n        vertical-align: top;\n    }\n\n    .dataframe thead tr th {\n        text-align: left;\n    }\n</style>\n<table border=\"1\" class=\"dataframe\">\n  <thead>\n    <tr>\n      <th></th>\n      <th colspan=\"2\" halign=\"left\">男肺活量</th>\n      <th colspan=\"2\" halign=\"left\">女肺活量</th>\n      <th colspan=\"2\" halign=\"left\">男50米跑</th>\n      <th colspan=\"2\" halign=\"left\">女50米跑</th>\n      <th colspan=\"2\" halign=\"left\">男体前屈</th>\n      <th>...</th>\n      <th colspan=\"2\" halign=\"left\">女跳远</th>\n      <th colspan=\"2\" halign=\"left\">男引体</th>\n      <th colspan=\"2\" halign=\"left\">女仰卧</th>\n      <th colspan=\"2\" halign=\"left\">男1000米跑</th>\n      <th colspan=\"2\" halign=\"left\">女800米跑</th>\n    </tr>\n    <tr>\n      <th></th>\n      <th>成绩</th>\n      <th>分数</th>\n      <th>成绩</th>\n      <th>分数</th>\n      <th>成绩</th>\n      <th>分数</th>\n      <th>成绩</th>\n      <th>分数</th>\n      <th>成绩</th>\n      <th>分数</th>\n      <th>...</th>\n      <th>成绩</th>\n      <th>分数</th>\n      <th>成绩</th>\n      <th>分数</th>\n      <th>成绩</th>\n      <th>分数</th>\n      <th>成绩</th>\n      <th>分数</th>\n      <th>成绩</th>\n      <th>分数</th>\n    </tr>\n  </thead>\n  <tbody>\n    <tr>\n      <th>0</th>\n      <td>4540</td>\n      <td>100</td>\n      <td>3150</td>\n      <td>100</td>\n      <td>7.1</td>\n      <td>100</td>\n      <td>7.8</td>\n      <td>100</td>\n      <td>23.6</td>\n      <td>100</td>\n      <td>...</td>\n      <td>204</td>\n      <td>100</td>\n      <td>16.0</td>\n      <td>100</td>\n      <td>53</td>\n      <td>100</td>\n      <td>3'30\"</td>\n      <td>100</td>\n      <td>3'24\"</td>\n      <td>100</td>\n    </tr>\n    <tr>\n      <th>1</th>\n      <td>4420</td>\n      <td>95</td>\n      <td>3100</td>\n      <td>95</td>\n      <td>7.2</td>\n      <td>95</td>\n      <td>7.9</td>\n      <td>95</td>\n      <td>21.5</td>\n      <td>95</td>\n      <td>...</td>\n      <td>198</td>\n      <td>95</td>\n      <td>15.0</td>\n      <td>95</td>\n      <td>51</td>\n      <td>95</td>\n      <td>3'35\"</td>\n      <td>95</td>\n      <td>3'30\"</td>\n      <td>95</td>\n    </tr>\n    <tr>\n      <th>2</th>\n      <td>4300</td>\n      <td>90</td>\n      <td>3050</td>\n      <td>90</td>\n      <td>7.3</td>\n      <td>90</td>\n      <td>8.0</td>\n      <td>90</td>\n      <td>19.4</td>\n      <td>90</td>\n      <td>...</td>\n      <td>192</td>\n      <td>90</td>\n      <td>14.0</td>\n      <td>90</td>\n      <td>49</td>\n      <td>90</td>\n      <td>3'40\"</td>\n      <td>90</td>\n      <td>3'36\"</td>\n      <td>90</td>\n    </tr>\n    <tr>\n      <th>3</th>\n      <td>4050</td>\n      <td>85</td>\n      <td>2900</td>\n      <td>85</td>\n      <td>7.4</td>\n      <td>85</td>\n      <td>8.3</td>\n      <td>85</td>\n      <td>17.2</td>\n      <td>85</td>\n      <td>...</td>\n      <td>185</td>\n      <td>85</td>\n      <td>13.0</td>\n      <td>85</td>\n      <td>46</td>\n      <td>85</td>\n      <td>3'47\"</td>\n      <td>85</td>\n      <td>3'43\"</td>\n      <td>85</td>\n    </tr>\n    <tr>\n      <th>4</th>\n      <td>3800</td>\n      <td>80</td>\n      <td>2750</td>\n      <td>80</td>\n      <td>7.5</td>\n      <td>80</td>\n      <td>8.6</td>\n      <td>80</td>\n      <td>15.0</td>\n      <td>80</td>\n      <td>...</td>\n      <td>178</td>\n      <td>80</td>\n      <td>12.0</td>\n      <td>80</td>\n      <td>43</td>\n      <td>80</td>\n      <td>3'55\"</td>\n      <td>80</td>\n      <td>3'50\"</td>\n      <td>80</td>\n    </tr>\n    <tr>\n      <th>5</th>\n      <td>3680</td>\n      <td>78</td>\n      <td>2650</td>\n      <td>78</td>\n      <td>7.7</td>\n      <td>78</td>\n      <td>8.8</td>\n      <td>78</td>\n      <td>13.6</td>\n      <td>78</td>\n      <td>...</td>\n      <td>175</td>\n      <td>78</td>\n      <td>NaN</td>\n      <td>78</td>\n      <td>41</td>\n      <td>78</td>\n      <td>4'00\"</td>\n      <td>78</td>\n      <td>3'55\"</td>\n      <td>78</td>\n    </tr>\n    <tr>\n      <th>6</th>\n      <td>3560</td>\n      <td>76</td>\n      <td>2550</td>\n      <td>76</td>\n      <td>7.9</td>\n      <td>76</td>\n      <td>9.0</td>\n      <td>76</td>\n      <td>12.2</td>\n      <td>76</td>\n      <td>...</td>\n      <td>172</td>\n      <td>76</td>\n      <td>11.0</td>\n      <td>76</td>\n      <td>39</td>\n      <td>76</td>\n      <td>4'05\"</td>\n      <td>76</td>\n      <td>4'00\"</td>\n      <td>76</td>\n    </tr>\n    <tr>\n      <th>7</th>\n      <td>3440</td>\n      <td>74</td>\n      <td>2450</td>\n      <td>74</td>\n      <td>8.1</td>\n      <td>74</td>\n      <td>9.2</td>\n      <td>74</td>\n      <td>10.8</td>\n      <td>74</td>\n      <td>...</td>\n      <td>169</td>\n      <td>74</td>\n      <td>NaN</td>\n      <td>74</td>\n      <td>37</td>\n      <td>74</td>\n      <td>4'10\"</td>\n      <td>74</td>\n      <td>4'05\"</td>\n      <td>74</td>\n    </tr>\n    <tr>\n      <th>8</th>\n      <td>3320</td>\n      <td>72</td>\n      <td>2350</td>\n      <td>72</td>\n      <td>8.3</td>\n      <td>72</td>\n      <td>9.4</td>\n      <td>72</td>\n      <td>9.4</td>\n      <td>72</td>\n      <td>...</td>\n      <td>166</td>\n      <td>72</td>\n      <td>10.0</td>\n      <td>72</td>\n      <td>35</td>\n      <td>72</td>\n      <td>4'15\"</td>\n      <td>72</td>\n      <td>4'10\"</td>\n      <td>72</td>\n    </tr>\n    <tr>\n      <th>9</th>\n      <td>3200</td>\n      <td>70</td>\n      <td>2250</td>\n      <td>70</td>\n      <td>8.5</td>\n      <td>70</td>\n      <td>9.6</td>\n      <td>70</td>\n      <td>8.0</td>\n      <td>70</td>\n      <td>...</td>\n      <td>163</td>\n      <td>70</td>\n      <td>NaN</td>\n      <td>70</td>\n      <td>33</td>\n      <td>70</td>\n      <td>4'20\"</td>\n      <td>70</td>\n      <td>4'15\"</td>\n      <td>70</td>\n    </tr>\n    <tr>\n      <th>10</th>\n      <td>3080</td>\n      <td>68</td>\n      <td>2150</td>\n      <td>68</td>\n      <td>8.7</td>\n      <td>68</td>\n      <td>9.8</td>\n      <td>68</td>\n      <td>6.6</td>\n      <td>68</td>\n      <td>...</td>\n      <td>160</td>\n      <td>68</td>\n      <td>9.0</td>\n      <td>68</td>\n      <td>31</td>\n      <td>68</td>\n      <td>4'25\"</td>\n      <td>68</td>\n      <td>4'20\"</td>\n      <td>68</td>\n    </tr>\n    <tr>\n      <th>11</th>\n      <td>2960</td>\n      <td>66</td>\n      <td>2050</td>\n      <td>66</td>\n      <td>8.9</td>\n      <td>66</td>\n      <td>10.0</td>\n      <td>66</td>\n      <td>5.2</td>\n      <td>66</td>\n      <td>...</td>\n      <td>157</td>\n      <td>66</td>\n      <td>NaN</td>\n      <td>66</td>\n      <td>29</td>\n      <td>66</td>\n      <td>4'30\"</td>\n      <td>66</td>\n      <td>4'25\"</td>\n      <td>66</td>\n    </tr>\n    <tr>\n      <th>12</th>\n      <td>2840</td>\n      <td>64</td>\n      <td>1950</td>\n      <td>64</td>\n      <td>9.1</td>\n      <td>64</td>\n      <td>10.2</td>\n      <td>64</td>\n      <td>3.8</td>\n      <td>64</td>\n      <td>...</td>\n      <td>154</td>\n      <td>64</td>\n      <td>8.0</td>\n      <td>64</td>\n      <td>27</td>\n      <td>64</td>\n      <td>4'35\"</td>\n      <td>64</td>\n      <td>4'30\"</td>\n      <td>64</td>\n    </tr>\n    <tr>\n      <th>13</th>\n      <td>2720</td>\n      <td>62</td>\n      <td>1850</td>\n      <td>62</td>\n      <td>9.3</td>\n      <td>62</td>\n      <td>10.4</td>\n      <td>62</td>\n      <td>2.4</td>\n      <td>62</td>\n      <td>...</td>\n      <td>151</td>\n      <td>62</td>\n      <td>NaN</td>\n      <td>62</td>\n      <td>25</td>\n      <td>62</td>\n      <td>4'40\"</td>\n      <td>62</td>\n      <td>4'35\"</td>\n      <td>62</td>\n    </tr>\n    <tr>\n      <th>14</th>\n      <td>2600</td>\n      <td>60</td>\n      <td>1750</td>\n      <td>60</td>\n      <td>9.5</td>\n      <td>60</td>\n      <td>10.6</td>\n      <td>60</td>\n      <td>1.0</td>\n      <td>60</td>\n      <td>...</td>\n      <td>148</td>\n      <td>60</td>\n      <td>7.0</td>\n      <td>60</td>\n      <td>23</td>\n      <td>60</td>\n      <td>4'45\"</td>\n      <td>60</td>\n      <td>4'40\"</td>\n      <td>60</td>\n    </tr>\n    <tr>\n      <th>15</th>\n      <td>2470</td>\n      <td>50</td>\n      <td>1710</td>\n      <td>50</td>\n      <td>9.7</td>\n      <td>50</td>\n      <td>10.8</td>\n      <td>50</td>\n      <td>0.0</td>\n      <td>50</td>\n      <td>...</td>\n      <td>143</td>\n      <td>50</td>\n      <td>6.0</td>\n      <td>50</td>\n      <td>21</td>\n      <td>50</td>\n      <td>5'05\"</td>\n      <td>50</td>\n      <td>4'50\"</td>\n      <td>50</td>\n    </tr>\n    <tr>\n      <th>16</th>\n      <td>2340</td>\n      <td>40</td>\n      <td>1670</td>\n      <td>40</td>\n      <td>9.9</td>\n      <td>40</td>\n      <td>11.0</td>\n      <td>40</td>\n      <td>-1.0</td>\n      <td>40</td>\n      <td>...</td>\n      <td>138</td>\n      <td>40</td>\n      <td>5.0</td>\n      <td>40</td>\n      <td>19</td>\n      <td>40</td>\n      <td>5'25\"</td>\n      <td>40</td>\n      <td>5'00\"</td>\n      <td>40</td>\n    </tr>\n    <tr>\n      <th>17</th>\n      <td>2210</td>\n      <td>30</td>\n      <td>1630</td>\n      <td>30</td>\n      <td>10.1</td>\n      <td>30</td>\n      <td>11.2</td>\n      <td>30</td>\n      <td>-2.0</td>\n      <td>30</td>\n      <td>...</td>\n      <td>133</td>\n      <td>30</td>\n      <td>4.0</td>\n      <td>30</td>\n      <td>17</td>\n      <td>30</td>\n      <td>5'45\"</td>\n      <td>30</td>\n      <td>5'10\"</td>\n      <td>30</td>\n    </tr>\n    <tr>\n      <th>18</th>\n      <td>2080</td>\n      <td>20</td>\n      <td>1590</td>\n      <td>20</td>\n      <td>10.3</td>\n      <td>20</td>\n      <td>11.4</td>\n      <td>20</td>\n      <td>-3.0</td>\n      <td>20</td>\n      <td>...</td>\n      <td>128</td>\n      <td>20</td>\n      <td>3.0</td>\n      <td>20</td>\n      <td>15</td>\n      <td>20</td>\n      <td>6'05\"</td>\n      <td>20</td>\n      <td>5'20\"</td>\n      <td>20</td>\n    </tr>\n    <tr>\n      <th>19</th>\n      <td>1950</td>\n      <td>10</td>\n      <td>1550</td>\n      <td>10</td>\n      <td>10.5</td>\n      <td>10</td>\n      <td>11.6</td>\n      <td>10</td>\n      <td>-4.0</td>\n      <td>10</td>\n      <td>...</td>\n      <td>123</td>\n      <td>10</td>\n      <td>2.0</td>\n      <td>10</td>\n      <td>13</td>\n      <td>10</td>\n      <td>6'25\"</td>\n      <td>10</td>\n      <td>5'30\"</td>\n      <td>10</td>\n    </tr>\n  </tbody>\n</table>\n<p>20 rows × 24 columns</p>\n</div>"
     },
     "execution_count": 3,
     "metadata": {},
     "output_type": "execute_result"
    }
   ],
   "source": [
    "score_stand = pd.read_excel('/Users/fengliang/Documents/workspace/PandasProject/DataSource/体侧成绩评分表.xls',header=[0,1]) \n",
    "score_stand"
   ],
   "metadata": {
    "collapsed": false,
    "ExecuteTime": {
     "end_time": "2023-12-04T13:22:59.748275Z",
     "start_time": "2023-12-04T13:22:59.177190Z"
    }
   },
   "id": "76e50cd95697a95"
  },
  {
   "cell_type": "code",
   "execution_count": 4,
   "outputs": [
    {
     "name": "stdout",
     "output_type": "stream",
     "text": [
      "<class 'pandas.core.frame.DataFrame'>\n",
      "RangeIndex: 20 entries, 0 to 19\n",
      "Data columns (total 24 columns):\n",
      " #   Column         Non-Null Count  Dtype  \n",
      "---  ------         --------------  -----  \n",
      " 0   (男肺活量, 成绩)     20 non-null     int64  \n",
      " 1   (男肺活量, 分数)     20 non-null     int64  \n",
      " 2   (女肺活量, 成绩)     20 non-null     int64  \n",
      " 3   (女肺活量, 分数)     20 non-null     int64  \n",
      " 4   (男50米跑, 成绩)    20 non-null     float64\n",
      " 5   (男50米跑, 分数)    20 non-null     int64  \n",
      " 6   (女50米跑, 成绩)    20 non-null     float64\n",
      " 7   (女50米跑, 分数)    20 non-null     int64  \n",
      " 8   (男体前屈, 成绩)     20 non-null     float64\n",
      " 9   (男体前屈, 分数)     20 non-null     int64  \n",
      " 10  (女体前屈, 成绩)     20 non-null     float64\n",
      " 11  (女体前屈, 分数)     20 non-null     int64  \n",
      " 12  (男跳远, 成绩)      20 non-null     int64  \n",
      " 13  (男跳远, 分数)      20 non-null     int64  \n",
      " 14  (女跳远, 成绩)      20 non-null     int64  \n",
      " 15  (女跳远, 分数)      20 non-null     int64  \n",
      " 16  (男引体, 成绩)      15 non-null     float64\n",
      " 17  (男引体, 分数)      20 non-null     int64  \n",
      " 18  (女仰卧, 成绩)      20 non-null     int64  \n",
      " 19  (女仰卧, 分数)      20 non-null     int64  \n",
      " 20  (男1000米跑, 成绩)  20 non-null     object \n",
      " 21  (男1000米跑, 分数)  20 non-null     int64  \n",
      " 22  (女800米跑, 成绩)   20 non-null     object \n",
      " 23  (女800米跑, 分数)   20 non-null     int64  \n",
      "dtypes: float64(5), int64(17), object(2)\n",
      "memory usage: 3.9+ KB\n"
     ]
    }
   ],
   "source": [
    "score_stand.info()"
   ],
   "metadata": {
    "collapsed": false,
    "ExecuteTime": {
     "end_time": "2023-12-04T13:22:59.748767Z",
     "start_time": "2023-12-04T13:22:59.216316Z"
    }
   },
   "id": "98d3c7d980bc559c"
  },
  {
   "cell_type": "code",
   "execution_count": 5,
   "outputs": [
    {
     "data": {
      "text/plain": "    男肺活量      女肺活量     男50米跑     女50米跑      男体前屈      ...  女跳远     男引体      \\\n      成绩  分数    成绩  分数    成绩  分数    成绩  分数    成绩  分数  ...   成绩  分数  成绩  分数   \n5   3680  78  2650  78   7.7  78   8.8  78  13.6  78  ...  175  78 NaN  78   \n7   3440  74  2450  74   8.1  74   9.2  74  10.8  74  ...  169  74 NaN  74   \n9   3200  70  2250  70   8.5  70   9.6  70   8.0  70  ...  163  70 NaN  70   \n11  2960  66  2050  66   8.9  66  10.0  66   5.2  66  ...  157  66 NaN  66   \n13  2720  62  1850  62   9.3  62  10.4  62   2.4  62  ...  151  62 NaN  62   \n\n   女仰卧     男1000米跑     女800米跑      \n    成绩  分数      成绩  分数     成绩  分数  \n5   41  78   4'00\"  78  3'55\"  78  \n7   37  74   4'10\"  74  4'05\"  74  \n9   33  70   4'20\"  70  4'15\"  70  \n11  29  66   4'30\"  66  4'25\"  66  \n13  25  62   4'40\"  62  4'35\"  62  \n\n[5 rows x 24 columns]",
      "text/html": "<div>\n<style scoped>\n    .dataframe tbody tr th:only-of-type {\n        vertical-align: middle;\n    }\n\n    .dataframe tbody tr th {\n        vertical-align: top;\n    }\n\n    .dataframe thead tr th {\n        text-align: left;\n    }\n</style>\n<table border=\"1\" class=\"dataframe\">\n  <thead>\n    <tr>\n      <th></th>\n      <th colspan=\"2\" halign=\"left\">男肺活量</th>\n      <th colspan=\"2\" halign=\"left\">女肺活量</th>\n      <th colspan=\"2\" halign=\"left\">男50米跑</th>\n      <th colspan=\"2\" halign=\"left\">女50米跑</th>\n      <th colspan=\"2\" halign=\"left\">男体前屈</th>\n      <th>...</th>\n      <th colspan=\"2\" halign=\"left\">女跳远</th>\n      <th colspan=\"2\" halign=\"left\">男引体</th>\n      <th colspan=\"2\" halign=\"left\">女仰卧</th>\n      <th colspan=\"2\" halign=\"left\">男1000米跑</th>\n      <th colspan=\"2\" halign=\"left\">女800米跑</th>\n    </tr>\n    <tr>\n      <th></th>\n      <th>成绩</th>\n      <th>分数</th>\n      <th>成绩</th>\n      <th>分数</th>\n      <th>成绩</th>\n      <th>分数</th>\n      <th>成绩</th>\n      <th>分数</th>\n      <th>成绩</th>\n      <th>分数</th>\n      <th>...</th>\n      <th>成绩</th>\n      <th>分数</th>\n      <th>成绩</th>\n      <th>分数</th>\n      <th>成绩</th>\n      <th>分数</th>\n      <th>成绩</th>\n      <th>分数</th>\n      <th>成绩</th>\n      <th>分数</th>\n    </tr>\n  </thead>\n  <tbody>\n    <tr>\n      <th>5</th>\n      <td>3680</td>\n      <td>78</td>\n      <td>2650</td>\n      <td>78</td>\n      <td>7.7</td>\n      <td>78</td>\n      <td>8.8</td>\n      <td>78</td>\n      <td>13.6</td>\n      <td>78</td>\n      <td>...</td>\n      <td>175</td>\n      <td>78</td>\n      <td>NaN</td>\n      <td>78</td>\n      <td>41</td>\n      <td>78</td>\n      <td>4'00\"</td>\n      <td>78</td>\n      <td>3'55\"</td>\n      <td>78</td>\n    </tr>\n    <tr>\n      <th>7</th>\n      <td>3440</td>\n      <td>74</td>\n      <td>2450</td>\n      <td>74</td>\n      <td>8.1</td>\n      <td>74</td>\n      <td>9.2</td>\n      <td>74</td>\n      <td>10.8</td>\n      <td>74</td>\n      <td>...</td>\n      <td>169</td>\n      <td>74</td>\n      <td>NaN</td>\n      <td>74</td>\n      <td>37</td>\n      <td>74</td>\n      <td>4'10\"</td>\n      <td>74</td>\n      <td>4'05\"</td>\n      <td>74</td>\n    </tr>\n    <tr>\n      <th>9</th>\n      <td>3200</td>\n      <td>70</td>\n      <td>2250</td>\n      <td>70</td>\n      <td>8.5</td>\n      <td>70</td>\n      <td>9.6</td>\n      <td>70</td>\n      <td>8.0</td>\n      <td>70</td>\n      <td>...</td>\n      <td>163</td>\n      <td>70</td>\n      <td>NaN</td>\n      <td>70</td>\n      <td>33</td>\n      <td>70</td>\n      <td>4'20\"</td>\n      <td>70</td>\n      <td>4'15\"</td>\n      <td>70</td>\n    </tr>\n    <tr>\n      <th>11</th>\n      <td>2960</td>\n      <td>66</td>\n      <td>2050</td>\n      <td>66</td>\n      <td>8.9</td>\n      <td>66</td>\n      <td>10.0</td>\n      <td>66</td>\n      <td>5.2</td>\n      <td>66</td>\n      <td>...</td>\n      <td>157</td>\n      <td>66</td>\n      <td>NaN</td>\n      <td>66</td>\n      <td>29</td>\n      <td>66</td>\n      <td>4'30\"</td>\n      <td>66</td>\n      <td>4'25\"</td>\n      <td>66</td>\n    </tr>\n    <tr>\n      <th>13</th>\n      <td>2720</td>\n      <td>62</td>\n      <td>1850</td>\n      <td>62</td>\n      <td>9.3</td>\n      <td>62</td>\n      <td>10.4</td>\n      <td>62</td>\n      <td>2.4</td>\n      <td>62</td>\n      <td>...</td>\n      <td>151</td>\n      <td>62</td>\n      <td>NaN</td>\n      <td>62</td>\n      <td>25</td>\n      <td>62</td>\n      <td>4'40\"</td>\n      <td>62</td>\n      <td>4'35\"</td>\n      <td>62</td>\n    </tr>\n  </tbody>\n</table>\n<p>5 rows × 24 columns</p>\n</div>"
     },
     "execution_count": 5,
     "metadata": {},
     "output_type": "execute_result"
    }
   ],
   "source": [
    "score_stand.loc[score_stand.isnull().any(axis=1)]"
   ],
   "metadata": {
    "collapsed": false,
    "ExecuteTime": {
     "end_time": "2023-12-04T13:22:59.749293Z",
     "start_time": "2023-12-04T13:22:59.224633Z"
    }
   },
   "id": "60d03e5d67768737"
  },
  {
   "cell_type": "code",
   "execution_count": 6,
   "outputs": [
    {
     "data": {
      "text/plain": "     班级 性别       姓名 1000米   50米     跳远  体前屈   引体   肺活量   身高    体重\n0     1  男  高孜阳0611  4'13  8.88    195   12    1  2785  170  72.6\n1     1  男  郝少杰1013  4'16  7.70    225   11    7  3133  174  52.7\n2     1  男  郝梓烨0619  4'09  8.45  218.0   14    1  3901  169  46.5\n3     1  男  何弘源1010  4'21  8.05    206   13    1  4946  183  79.7\n4     1  男  刘硕鹏1212  3'44  7.52    210   13    9  3538  171  54.7\n..   .. ..      ...   ...   ...    ...  ...  ...   ...  ...   ...\n488  17  男  张乔楠0311  4'23  8.27    208   10    0  4647  176  69.5\n489  17  男  郭泽森0333  5'19  9.55    210   15    6  7042  177    76\n490  17  男  陈子龙061X  3'25   7.5    252   13   13  5755  181    65\n491  17  男  王丹龙0636  4'39  7.81    208   14   11  5688  172  51.7\n492  17  男  王玉涵0636   NaN   NaN    NaN  NaN  NaN   NaN  NaN   NaN\n\n[493 rows x 11 columns]",
      "text/html": "<div>\n<style scoped>\n    .dataframe tbody tr th:only-of-type {\n        vertical-align: middle;\n    }\n\n    .dataframe tbody tr th {\n        vertical-align: top;\n    }\n\n    .dataframe thead th {\n        text-align: right;\n    }\n</style>\n<table border=\"1\" class=\"dataframe\">\n  <thead>\n    <tr style=\"text-align: right;\">\n      <th></th>\n      <th>班级</th>\n      <th>性别</th>\n      <th>姓名</th>\n      <th>1000米</th>\n      <th>50米</th>\n      <th>跳远</th>\n      <th>体前屈</th>\n      <th>引体</th>\n      <th>肺活量</th>\n      <th>身高</th>\n      <th>体重</th>\n    </tr>\n  </thead>\n  <tbody>\n    <tr>\n      <th>0</th>\n      <td>1</td>\n      <td>男</td>\n      <td>高孜阳0611</td>\n      <td>4'13</td>\n      <td>8.88</td>\n      <td>195</td>\n      <td>12</td>\n      <td>1</td>\n      <td>2785</td>\n      <td>170</td>\n      <td>72.6</td>\n    </tr>\n    <tr>\n      <th>1</th>\n      <td>1</td>\n      <td>男</td>\n      <td>郝少杰1013</td>\n      <td>4'16</td>\n      <td>7.70</td>\n      <td>225</td>\n      <td>11</td>\n      <td>7</td>\n      <td>3133</td>\n      <td>174</td>\n      <td>52.7</td>\n    </tr>\n    <tr>\n      <th>2</th>\n      <td>1</td>\n      <td>男</td>\n      <td>郝梓烨0619</td>\n      <td>4'09</td>\n      <td>8.45</td>\n      <td>218.0</td>\n      <td>14</td>\n      <td>1</td>\n      <td>3901</td>\n      <td>169</td>\n      <td>46.5</td>\n    </tr>\n    <tr>\n      <th>3</th>\n      <td>1</td>\n      <td>男</td>\n      <td>何弘源1010</td>\n      <td>4'21</td>\n      <td>8.05</td>\n      <td>206</td>\n      <td>13</td>\n      <td>1</td>\n      <td>4946</td>\n      <td>183</td>\n      <td>79.7</td>\n    </tr>\n    <tr>\n      <th>4</th>\n      <td>1</td>\n      <td>男</td>\n      <td>刘硕鹏1212</td>\n      <td>3'44</td>\n      <td>7.52</td>\n      <td>210</td>\n      <td>13</td>\n      <td>9</td>\n      <td>3538</td>\n      <td>171</td>\n      <td>54.7</td>\n    </tr>\n    <tr>\n      <th>...</th>\n      <td>...</td>\n      <td>...</td>\n      <td>...</td>\n      <td>...</td>\n      <td>...</td>\n      <td>...</td>\n      <td>...</td>\n      <td>...</td>\n      <td>...</td>\n      <td>...</td>\n      <td>...</td>\n    </tr>\n    <tr>\n      <th>488</th>\n      <td>17</td>\n      <td>男</td>\n      <td>张乔楠0311</td>\n      <td>4'23</td>\n      <td>8.27</td>\n      <td>208</td>\n      <td>10</td>\n      <td>0</td>\n      <td>4647</td>\n      <td>176</td>\n      <td>69.5</td>\n    </tr>\n    <tr>\n      <th>489</th>\n      <td>17</td>\n      <td>男</td>\n      <td>郭泽森0333</td>\n      <td>5'19</td>\n      <td>9.55</td>\n      <td>210</td>\n      <td>15</td>\n      <td>6</td>\n      <td>7042</td>\n      <td>177</td>\n      <td>76</td>\n    </tr>\n    <tr>\n      <th>490</th>\n      <td>17</td>\n      <td>男</td>\n      <td>陈子龙061X</td>\n      <td>3'25</td>\n      <td>7.5</td>\n      <td>252</td>\n      <td>13</td>\n      <td>13</td>\n      <td>5755</td>\n      <td>181</td>\n      <td>65</td>\n    </tr>\n    <tr>\n      <th>491</th>\n      <td>17</td>\n      <td>男</td>\n      <td>王丹龙0636</td>\n      <td>4'39</td>\n      <td>7.81</td>\n      <td>208</td>\n      <td>14</td>\n      <td>11</td>\n      <td>5688</td>\n      <td>172</td>\n      <td>51.7</td>\n    </tr>\n    <tr>\n      <th>492</th>\n      <td>17</td>\n      <td>男</td>\n      <td>王玉涵0636</td>\n      <td>NaN</td>\n      <td>NaN</td>\n      <td>NaN</td>\n      <td>NaN</td>\n      <td>NaN</td>\n      <td>NaN</td>\n      <td>NaN</td>\n      <td>NaN</td>\n    </tr>\n  </tbody>\n</table>\n<p>493 rows × 11 columns</p>\n</div>"
     },
     "execution_count": 6,
     "metadata": {},
     "output_type": "execute_result"
    }
   ],
   "source": [
    "boy = pd.read_excel('/Users/fengliang/Documents/workspace/PandasProject/DataSource/18级高一体测成绩汇总.xls').copy()\n",
    "boy"
   ],
   "metadata": {
    "collapsed": false,
    "ExecuteTime": {
     "end_time": "2023-12-04T13:22:59.749791Z",
     "start_time": "2023-12-04T13:22:59.228277Z"
    }
   },
   "id": "f5a8c4fdd797105e"
  },
  {
   "cell_type": "code",
   "execution_count": 7,
   "outputs": [
    {
     "name": "stdout",
     "output_type": "stream",
     "text": [
      "<class 'pandas.core.frame.DataFrame'>\n",
      "RangeIndex: 493 entries, 0 to 492\n",
      "Data columns (total 11 columns):\n",
      " #   Column  Non-Null Count  Dtype \n",
      "---  ------  --------------  ----- \n",
      " 0   班级      493 non-null    object\n",
      " 1   性别      493 non-null    object\n",
      " 2   姓名      493 non-null    object\n",
      " 3   1000米   482 non-null    object\n",
      " 4   50米     486 non-null    object\n",
      " 5   跳远      489 non-null    object\n",
      " 6   体前屈     487 non-null    object\n",
      " 7   引体      486 non-null    object\n",
      " 8   肺活量     487 non-null    object\n",
      " 9   身高      487 non-null    object\n",
      " 10  体重      483 non-null    object\n",
      "dtypes: object(11)\n",
      "memory usage: 42.5+ KB\n"
     ]
    }
   ],
   "source": [
    "boy.info()"
   ],
   "metadata": {
    "collapsed": false,
    "ExecuteTime": {
     "end_time": "2023-12-04T13:22:59.750Z",
     "start_time": "2023-12-04T13:22:59.257627Z"
    }
   },
   "id": "737191091f9138f0"
  },
  {
   "cell_type": "code",
   "execution_count": 8,
   "outputs": [
    {
     "data": {
      "text/plain": "     班级  性别       姓名  1000米   50米   跳远  体前屈   引体   肺活量     身高    体重\n14    1   男  戎小龙2633      0     0    0    0    0     0      0   NaN\n35    2   男   李森0636      0     0    0    0    0     0      0   NaN\n38    2   男  吕星繁0312      0     0    0    0    0     0      0   NaN\n191  10   男  许嘉麟0050    NaN  9.06  190    9    5  3050    166  46.6\n274  12   男  代欣铎061X    NaN     8  200    4    7  4803    178  70.4\n283  12   男  李林蕾2611    NaN   NaN    0  NaN  NaN   NaN    NaN   NaN\n293  12   男  刘佳泽1019    NaN  7.59  240   12    9  3151    168  49.7\n294  班级  性别       姓名  1000米   50米   跳远  体前屈   引体   肺活量  身高/体重   NaN\n370  14   男   郭璞2617    NaN   NaN    0  NaN  NaN   NaN    NaN   NaN\n397  15   男  刘依林101X    NaN   NaN    0  NaN  NaN   NaN    NaN   NaN\n433  16   男   王磊0616    NaN   8.3  230   14    9  6059    181  57.4\n435  16   男  王世彬0319    NaN   NaN  NaN   21  NaN  4600    163    60\n470  17   男  张世荣0326    NaN   NaN  NaN  NaN  NaN   NaN    NaN   NaN\n484  17   男  左一萌1015    NaN   NaN  NaN  NaN  NaN   NaN    NaN   NaN\n492  17   男  王玉涵0636    NaN   NaN  NaN  NaN  NaN   NaN    NaN   NaN",
      "text/html": "<div>\n<style scoped>\n    .dataframe tbody tr th:only-of-type {\n        vertical-align: middle;\n    }\n\n    .dataframe tbody tr th {\n        vertical-align: top;\n    }\n\n    .dataframe thead th {\n        text-align: right;\n    }\n</style>\n<table border=\"1\" class=\"dataframe\">\n  <thead>\n    <tr style=\"text-align: right;\">\n      <th></th>\n      <th>班级</th>\n      <th>性别</th>\n      <th>姓名</th>\n      <th>1000米</th>\n      <th>50米</th>\n      <th>跳远</th>\n      <th>体前屈</th>\n      <th>引体</th>\n      <th>肺活量</th>\n      <th>身高</th>\n      <th>体重</th>\n    </tr>\n  </thead>\n  <tbody>\n    <tr>\n      <th>14</th>\n      <td>1</td>\n      <td>男</td>\n      <td>戎小龙2633</td>\n      <td>0</td>\n      <td>0</td>\n      <td>0</td>\n      <td>0</td>\n      <td>0</td>\n      <td>0</td>\n      <td>0</td>\n      <td>NaN</td>\n    </tr>\n    <tr>\n      <th>35</th>\n      <td>2</td>\n      <td>男</td>\n      <td>李森0636</td>\n      <td>0</td>\n      <td>0</td>\n      <td>0</td>\n      <td>0</td>\n      <td>0</td>\n      <td>0</td>\n      <td>0</td>\n      <td>NaN</td>\n    </tr>\n    <tr>\n      <th>38</th>\n      <td>2</td>\n      <td>男</td>\n      <td>吕星繁0312</td>\n      <td>0</td>\n      <td>0</td>\n      <td>0</td>\n      <td>0</td>\n      <td>0</td>\n      <td>0</td>\n      <td>0</td>\n      <td>NaN</td>\n    </tr>\n    <tr>\n      <th>191</th>\n      <td>10</td>\n      <td>男</td>\n      <td>许嘉麟0050</td>\n      <td>NaN</td>\n      <td>9.06</td>\n      <td>190</td>\n      <td>9</td>\n      <td>5</td>\n      <td>3050</td>\n      <td>166</td>\n      <td>46.6</td>\n    </tr>\n    <tr>\n      <th>274</th>\n      <td>12</td>\n      <td>男</td>\n      <td>代欣铎061X</td>\n      <td>NaN</td>\n      <td>8</td>\n      <td>200</td>\n      <td>4</td>\n      <td>7</td>\n      <td>4803</td>\n      <td>178</td>\n      <td>70.4</td>\n    </tr>\n    <tr>\n      <th>283</th>\n      <td>12</td>\n      <td>男</td>\n      <td>李林蕾2611</td>\n      <td>NaN</td>\n      <td>NaN</td>\n      <td>0</td>\n      <td>NaN</td>\n      <td>NaN</td>\n      <td>NaN</td>\n      <td>NaN</td>\n      <td>NaN</td>\n    </tr>\n    <tr>\n      <th>293</th>\n      <td>12</td>\n      <td>男</td>\n      <td>刘佳泽1019</td>\n      <td>NaN</td>\n      <td>7.59</td>\n      <td>240</td>\n      <td>12</td>\n      <td>9</td>\n      <td>3151</td>\n      <td>168</td>\n      <td>49.7</td>\n    </tr>\n    <tr>\n      <th>294</th>\n      <td>班级</td>\n      <td>性别</td>\n      <td>姓名</td>\n      <td>1000米</td>\n      <td>50米</td>\n      <td>跳远</td>\n      <td>体前屈</td>\n      <td>引体</td>\n      <td>肺活量</td>\n      <td>身高/体重</td>\n      <td>NaN</td>\n    </tr>\n    <tr>\n      <th>370</th>\n      <td>14</td>\n      <td>男</td>\n      <td>郭璞2617</td>\n      <td>NaN</td>\n      <td>NaN</td>\n      <td>0</td>\n      <td>NaN</td>\n      <td>NaN</td>\n      <td>NaN</td>\n      <td>NaN</td>\n      <td>NaN</td>\n    </tr>\n    <tr>\n      <th>397</th>\n      <td>15</td>\n      <td>男</td>\n      <td>刘依林101X</td>\n      <td>NaN</td>\n      <td>NaN</td>\n      <td>0</td>\n      <td>NaN</td>\n      <td>NaN</td>\n      <td>NaN</td>\n      <td>NaN</td>\n      <td>NaN</td>\n    </tr>\n    <tr>\n      <th>433</th>\n      <td>16</td>\n      <td>男</td>\n      <td>王磊0616</td>\n      <td>NaN</td>\n      <td>8.3</td>\n      <td>230</td>\n      <td>14</td>\n      <td>9</td>\n      <td>6059</td>\n      <td>181</td>\n      <td>57.4</td>\n    </tr>\n    <tr>\n      <th>435</th>\n      <td>16</td>\n      <td>男</td>\n      <td>王世彬0319</td>\n      <td>NaN</td>\n      <td>NaN</td>\n      <td>NaN</td>\n      <td>21</td>\n      <td>NaN</td>\n      <td>4600</td>\n      <td>163</td>\n      <td>60</td>\n    </tr>\n    <tr>\n      <th>470</th>\n      <td>17</td>\n      <td>男</td>\n      <td>张世荣0326</td>\n      <td>NaN</td>\n      <td>NaN</td>\n      <td>NaN</td>\n      <td>NaN</td>\n      <td>NaN</td>\n      <td>NaN</td>\n      <td>NaN</td>\n      <td>NaN</td>\n    </tr>\n    <tr>\n      <th>484</th>\n      <td>17</td>\n      <td>男</td>\n      <td>左一萌1015</td>\n      <td>NaN</td>\n      <td>NaN</td>\n      <td>NaN</td>\n      <td>NaN</td>\n      <td>NaN</td>\n      <td>NaN</td>\n      <td>NaN</td>\n      <td>NaN</td>\n    </tr>\n    <tr>\n      <th>492</th>\n      <td>17</td>\n      <td>男</td>\n      <td>王玉涵0636</td>\n      <td>NaN</td>\n      <td>NaN</td>\n      <td>NaN</td>\n      <td>NaN</td>\n      <td>NaN</td>\n      <td>NaN</td>\n      <td>NaN</td>\n      <td>NaN</td>\n    </tr>\n  </tbody>\n</table>\n</div>"
     },
     "execution_count": 8,
     "metadata": {},
     "output_type": "execute_result"
    }
   ],
   "source": [
    "boy.loc[boy.isnull().any(axis=1)]"
   ],
   "metadata": {
    "collapsed": false,
    "ExecuteTime": {
     "end_time": "2023-12-04T13:22:59.750562Z",
     "start_time": "2023-12-04T13:22:59.263600Z"
    }
   },
   "id": "1f896e64fa89420c"
  },
  {
   "cell_type": "code",
   "execution_count": 9,
   "outputs": [
    {
     "data": {
      "text/plain": "    1000米   50米     跳远  体前屈   引体   肺活量   身高    体重\n0    4'13  8.88    195   12    1  2785  170  72.6\n1    4'16  7.70    225   11    7  3133  174  52.7\n2    4'09  8.45  218.0   14    1  3901  169  46.5\n3    4'21  8.05    206   13    1  4946  183  79.7\n4    3'44  7.52    210   13    9  3538  171  54.7\n..    ...   ...    ...  ...  ...   ...  ...   ...\n488  4'23  8.27    208   10    0  4647  176  69.5\n489  5'19  9.55    210   15    6  7042  177    76\n490  3'25   7.5    252   13   13  5755  181    65\n491  4'39  7.81    208   14   11  5688  172  51.7\n492   NaN   NaN    NaN  NaN  NaN   NaN  NaN   NaN\n\n[493 rows x 8 columns]",
      "text/html": "<div>\n<style scoped>\n    .dataframe tbody tr th:only-of-type {\n        vertical-align: middle;\n    }\n\n    .dataframe tbody tr th {\n        vertical-align: top;\n    }\n\n    .dataframe thead th {\n        text-align: right;\n    }\n</style>\n<table border=\"1\" class=\"dataframe\">\n  <thead>\n    <tr style=\"text-align: right;\">\n      <th></th>\n      <th>1000米</th>\n      <th>50米</th>\n      <th>跳远</th>\n      <th>体前屈</th>\n      <th>引体</th>\n      <th>肺活量</th>\n      <th>身高</th>\n      <th>体重</th>\n    </tr>\n  </thead>\n  <tbody>\n    <tr>\n      <th>0</th>\n      <td>4'13</td>\n      <td>8.88</td>\n      <td>195</td>\n      <td>12</td>\n      <td>1</td>\n      <td>2785</td>\n      <td>170</td>\n      <td>72.6</td>\n    </tr>\n    <tr>\n      <th>1</th>\n      <td>4'16</td>\n      <td>7.70</td>\n      <td>225</td>\n      <td>11</td>\n      <td>7</td>\n      <td>3133</td>\n      <td>174</td>\n      <td>52.7</td>\n    </tr>\n    <tr>\n      <th>2</th>\n      <td>4'09</td>\n      <td>8.45</td>\n      <td>218.0</td>\n      <td>14</td>\n      <td>1</td>\n      <td>3901</td>\n      <td>169</td>\n      <td>46.5</td>\n    </tr>\n    <tr>\n      <th>3</th>\n      <td>4'21</td>\n      <td>8.05</td>\n      <td>206</td>\n      <td>13</td>\n      <td>1</td>\n      <td>4946</td>\n      <td>183</td>\n      <td>79.7</td>\n    </tr>\n    <tr>\n      <th>4</th>\n      <td>3'44</td>\n      <td>7.52</td>\n      <td>210</td>\n      <td>13</td>\n      <td>9</td>\n      <td>3538</td>\n      <td>171</td>\n      <td>54.7</td>\n    </tr>\n    <tr>\n      <th>...</th>\n      <td>...</td>\n      <td>...</td>\n      <td>...</td>\n      <td>...</td>\n      <td>...</td>\n      <td>...</td>\n      <td>...</td>\n      <td>...</td>\n    </tr>\n    <tr>\n      <th>488</th>\n      <td>4'23</td>\n      <td>8.27</td>\n      <td>208</td>\n      <td>10</td>\n      <td>0</td>\n      <td>4647</td>\n      <td>176</td>\n      <td>69.5</td>\n    </tr>\n    <tr>\n      <th>489</th>\n      <td>5'19</td>\n      <td>9.55</td>\n      <td>210</td>\n      <td>15</td>\n      <td>6</td>\n      <td>7042</td>\n      <td>177</td>\n      <td>76</td>\n    </tr>\n    <tr>\n      <th>490</th>\n      <td>3'25</td>\n      <td>7.5</td>\n      <td>252</td>\n      <td>13</td>\n      <td>13</td>\n      <td>5755</td>\n      <td>181</td>\n      <td>65</td>\n    </tr>\n    <tr>\n      <th>491</th>\n      <td>4'39</td>\n      <td>7.81</td>\n      <td>208</td>\n      <td>14</td>\n      <td>11</td>\n      <td>5688</td>\n      <td>172</td>\n      <td>51.7</td>\n    </tr>\n    <tr>\n      <th>492</th>\n      <td>NaN</td>\n      <td>NaN</td>\n      <td>NaN</td>\n      <td>NaN</td>\n      <td>NaN</td>\n      <td>NaN</td>\n      <td>NaN</td>\n      <td>NaN</td>\n    </tr>\n  </tbody>\n</table>\n<p>493 rows × 8 columns</p>\n</div>"
     },
     "execution_count": 9,
     "metadata": {},
     "output_type": "execute_result"
    }
   ],
   "source": [
    "temp = boy.loc[:,'1000米':'体重'].copy()\n",
    "temp"
   ],
   "metadata": {
    "collapsed": false,
    "ExecuteTime": {
     "end_time": "2023-12-04T13:22:59.751003Z",
     "start_time": "2023-12-04T13:22:59.272672Z"
    }
   },
   "id": "2a2f34919d2f6b63"
  },
  {
   "cell_type": "code",
   "execution_count": 10,
   "outputs": [
    {
     "name": "stdout",
     "output_type": "stream",
     "text": [
      "<class 'pandas.core.frame.DataFrame'>\n",
      "RangeIndex: 493 entries, 0 to 492\n",
      "Data columns (total 8 columns):\n",
      " #   Column  Non-Null Count  Dtype \n",
      "---  ------  --------------  ----- \n",
      " 0   1000米   482 non-null    object\n",
      " 1   50米     486 non-null    object\n",
      " 2   跳远      489 non-null    object\n",
      " 3   体前屈     487 non-null    object\n",
      " 4   引体      486 non-null    object\n",
      " 5   肺活量     487 non-null    object\n",
      " 6   身高      487 non-null    object\n",
      " 7   体重      483 non-null    object\n",
      "dtypes: object(8)\n",
      "memory usage: 30.9+ KB\n"
     ]
    }
   ],
   "source": [
    "temp.info()"
   ],
   "metadata": {
    "collapsed": false,
    "ExecuteTime": {
     "end_time": "2023-12-04T13:22:59.751175Z",
     "start_time": "2023-12-04T13:22:59.278402Z"
    }
   },
   "id": "eda24c3d02d3f8f4"
  },
  {
   "cell_type": "code",
   "execution_count": 11,
   "outputs": [
    {
     "data": {
      "text/plain": "Index([470, 484, 492], dtype='int64')"
     },
     "execution_count": 11,
     "metadata": {},
     "output_type": "execute_result"
    }
   ],
   "source": [
    "index = temp.loc[temp.isnull().all(axis=1)].index\n",
    "index"
   ],
   "metadata": {
    "collapsed": false,
    "ExecuteTime": {
     "end_time": "2023-12-04T13:22:59.751376Z",
     "start_time": "2023-12-04T13:22:59.282273Z"
    }
   },
   "id": "bc20f73f33d26f51"
  },
  {
   "cell_type": "code",
   "execution_count": 12,
   "outputs": [
    {
     "data": {
      "text/plain": "     班级 性别       姓名 1000米  50米   跳远  体前屈   引体  肺活量   身高   体重\n470  17  男  张世荣0326   NaN  NaN  NaN  NaN  NaN  NaN  NaN  NaN\n484  17  男  左一萌1015   NaN  NaN  NaN  NaN  NaN  NaN  NaN  NaN\n492  17  男  王玉涵0636   NaN  NaN  NaN  NaN  NaN  NaN  NaN  NaN",
      "text/html": "<div>\n<style scoped>\n    .dataframe tbody tr th:only-of-type {\n        vertical-align: middle;\n    }\n\n    .dataframe tbody tr th {\n        vertical-align: top;\n    }\n\n    .dataframe thead th {\n        text-align: right;\n    }\n</style>\n<table border=\"1\" class=\"dataframe\">\n  <thead>\n    <tr style=\"text-align: right;\">\n      <th></th>\n      <th>班级</th>\n      <th>性别</th>\n      <th>姓名</th>\n      <th>1000米</th>\n      <th>50米</th>\n      <th>跳远</th>\n      <th>体前屈</th>\n      <th>引体</th>\n      <th>肺活量</th>\n      <th>身高</th>\n      <th>体重</th>\n    </tr>\n  </thead>\n  <tbody>\n    <tr>\n      <th>470</th>\n      <td>17</td>\n      <td>男</td>\n      <td>张世荣0326</td>\n      <td>NaN</td>\n      <td>NaN</td>\n      <td>NaN</td>\n      <td>NaN</td>\n      <td>NaN</td>\n      <td>NaN</td>\n      <td>NaN</td>\n      <td>NaN</td>\n    </tr>\n    <tr>\n      <th>484</th>\n      <td>17</td>\n      <td>男</td>\n      <td>左一萌1015</td>\n      <td>NaN</td>\n      <td>NaN</td>\n      <td>NaN</td>\n      <td>NaN</td>\n      <td>NaN</td>\n      <td>NaN</td>\n      <td>NaN</td>\n      <td>NaN</td>\n    </tr>\n    <tr>\n      <th>492</th>\n      <td>17</td>\n      <td>男</td>\n      <td>王玉涵0636</td>\n      <td>NaN</td>\n      <td>NaN</td>\n      <td>NaN</td>\n      <td>NaN</td>\n      <td>NaN</td>\n      <td>NaN</td>\n      <td>NaN</td>\n      <td>NaN</td>\n    </tr>\n  </tbody>\n</table>\n</div>"
     },
     "execution_count": 12,
     "metadata": {},
     "output_type": "execute_result"
    }
   ],
   "source": [
    "boy.loc[index]"
   ],
   "metadata": {
    "collapsed": false,
    "ExecuteTime": {
     "end_time": "2023-12-04T13:22:59.751705Z",
     "start_time": "2023-12-04T13:22:59.284595Z"
    }
   },
   "id": "db03a6bd39435bfd"
  },
  {
   "cell_type": "code",
   "execution_count": 13,
   "outputs": [
    {
     "name": "stdout",
     "output_type": "stream",
     "text": [
      "<class 'pandas.core.frame.DataFrame'>\n",
      "Index: 490 entries, 0 to 491\n",
      "Data columns (total 11 columns):\n",
      " #   Column  Non-Null Count  Dtype \n",
      "---  ------  --------------  ----- \n",
      " 0   班级      490 non-null    object\n",
      " 1   性别      490 non-null    object\n",
      " 2   姓名      490 non-null    object\n",
      " 3   1000米   482 non-null    object\n",
      " 4   50米     486 non-null    object\n",
      " 5   跳远      489 non-null    object\n",
      " 6   体前屈     487 non-null    object\n",
      " 7   引体      486 non-null    object\n",
      " 8   肺活量     487 non-null    object\n",
      " 9   身高      487 non-null    object\n",
      " 10  体重      483 non-null    object\n",
      "dtypes: object(11)\n",
      "memory usage: 45.9+ KB\n"
     ]
    }
   ],
   "source": [
    "boy.drop(index).info()"
   ],
   "metadata": {
    "collapsed": false,
    "ExecuteTime": {
     "end_time": "2023-12-04T13:22:59.751888Z",
     "start_time": "2023-12-04T13:22:59.290860Z"
    }
   },
   "id": "2e5de995b744c410"
  },
  {
   "cell_type": "code",
   "execution_count": 14,
   "outputs": [
    {
     "data": {
      "text/plain": "     班级 性别       姓名 1000米   50米     跳远  体前屈   引体   肺活量   身高    体重\n0     1  男  高孜阳0611  4'13  8.88    195   12    1  2785  170  72.6\n1     1  男  郝少杰1013  4'16  7.70    225   11    7  3133  174  52.7\n2     1  男  郝梓烨0619  4'09  8.45  218.0   14    1  3901  169  46.5\n3     1  男  何弘源1010  4'21  8.05    206   13    1  4946  183  79.7\n4     1  男  刘硕鹏1212  3'44  7.52    210   13    9  3538  171  54.7\n..   .. ..      ...   ...   ...    ...  ...  ...   ...  ...   ...\n488  17  男  张乔楠0311  4'23  8.27    208   10    0  4647  176  69.5\n489  17  男  郭泽森0333  5'19  9.55    210   15    6  7042  177    76\n490  17  男  陈子龙061X  3'25   7.5    252   13   13  5755  181    65\n491  17  男  王丹龙0636  4'39  7.81    208   14   11  5688  172  51.7\n492  17  男  王玉涵0636   NaN   NaN    NaN  NaN  NaN   NaN  NaN   NaN\n\n[493 rows x 11 columns]",
      "text/html": "<div>\n<style scoped>\n    .dataframe tbody tr th:only-of-type {\n        vertical-align: middle;\n    }\n\n    .dataframe tbody tr th {\n        vertical-align: top;\n    }\n\n    .dataframe thead th {\n        text-align: right;\n    }\n</style>\n<table border=\"1\" class=\"dataframe\">\n  <thead>\n    <tr style=\"text-align: right;\">\n      <th></th>\n      <th>班级</th>\n      <th>性别</th>\n      <th>姓名</th>\n      <th>1000米</th>\n      <th>50米</th>\n      <th>跳远</th>\n      <th>体前屈</th>\n      <th>引体</th>\n      <th>肺活量</th>\n      <th>身高</th>\n      <th>体重</th>\n    </tr>\n  </thead>\n  <tbody>\n    <tr>\n      <th>0</th>\n      <td>1</td>\n      <td>男</td>\n      <td>高孜阳0611</td>\n      <td>4'13</td>\n      <td>8.88</td>\n      <td>195</td>\n      <td>12</td>\n      <td>1</td>\n      <td>2785</td>\n      <td>170</td>\n      <td>72.6</td>\n    </tr>\n    <tr>\n      <th>1</th>\n      <td>1</td>\n      <td>男</td>\n      <td>郝少杰1013</td>\n      <td>4'16</td>\n      <td>7.70</td>\n      <td>225</td>\n      <td>11</td>\n      <td>7</td>\n      <td>3133</td>\n      <td>174</td>\n      <td>52.7</td>\n    </tr>\n    <tr>\n      <th>2</th>\n      <td>1</td>\n      <td>男</td>\n      <td>郝梓烨0619</td>\n      <td>4'09</td>\n      <td>8.45</td>\n      <td>218.0</td>\n      <td>14</td>\n      <td>1</td>\n      <td>3901</td>\n      <td>169</td>\n      <td>46.5</td>\n    </tr>\n    <tr>\n      <th>3</th>\n      <td>1</td>\n      <td>男</td>\n      <td>何弘源1010</td>\n      <td>4'21</td>\n      <td>8.05</td>\n      <td>206</td>\n      <td>13</td>\n      <td>1</td>\n      <td>4946</td>\n      <td>183</td>\n      <td>79.7</td>\n    </tr>\n    <tr>\n      <th>4</th>\n      <td>1</td>\n      <td>男</td>\n      <td>刘硕鹏1212</td>\n      <td>3'44</td>\n      <td>7.52</td>\n      <td>210</td>\n      <td>13</td>\n      <td>9</td>\n      <td>3538</td>\n      <td>171</td>\n      <td>54.7</td>\n    </tr>\n    <tr>\n      <th>...</th>\n      <td>...</td>\n      <td>...</td>\n      <td>...</td>\n      <td>...</td>\n      <td>...</td>\n      <td>...</td>\n      <td>...</td>\n      <td>...</td>\n      <td>...</td>\n      <td>...</td>\n      <td>...</td>\n    </tr>\n    <tr>\n      <th>488</th>\n      <td>17</td>\n      <td>男</td>\n      <td>张乔楠0311</td>\n      <td>4'23</td>\n      <td>8.27</td>\n      <td>208</td>\n      <td>10</td>\n      <td>0</td>\n      <td>4647</td>\n      <td>176</td>\n      <td>69.5</td>\n    </tr>\n    <tr>\n      <th>489</th>\n      <td>17</td>\n      <td>男</td>\n      <td>郭泽森0333</td>\n      <td>5'19</td>\n      <td>9.55</td>\n      <td>210</td>\n      <td>15</td>\n      <td>6</td>\n      <td>7042</td>\n      <td>177</td>\n      <td>76</td>\n    </tr>\n    <tr>\n      <th>490</th>\n      <td>17</td>\n      <td>男</td>\n      <td>陈子龙061X</td>\n      <td>3'25</td>\n      <td>7.5</td>\n      <td>252</td>\n      <td>13</td>\n      <td>13</td>\n      <td>5755</td>\n      <td>181</td>\n      <td>65</td>\n    </tr>\n    <tr>\n      <th>491</th>\n      <td>17</td>\n      <td>男</td>\n      <td>王丹龙0636</td>\n      <td>4'39</td>\n      <td>7.81</td>\n      <td>208</td>\n      <td>14</td>\n      <td>11</td>\n      <td>5688</td>\n      <td>172</td>\n      <td>51.7</td>\n    </tr>\n    <tr>\n      <th>492</th>\n      <td>17</td>\n      <td>男</td>\n      <td>王玉涵0636</td>\n      <td>NaN</td>\n      <td>NaN</td>\n      <td>NaN</td>\n      <td>NaN</td>\n      <td>NaN</td>\n      <td>NaN</td>\n      <td>NaN</td>\n      <td>NaN</td>\n    </tr>\n  </tbody>\n</table>\n<p>493 rows × 11 columns</p>\n</div>"
     },
     "execution_count": 14,
     "metadata": {},
     "output_type": "execute_result"
    }
   ],
   "source": [
    "boy"
   ],
   "metadata": {
    "collapsed": false,
    "ExecuteTime": {
     "end_time": "2023-12-04T13:22:59.752445Z",
     "start_time": "2023-12-04T13:22:59.296194Z"
    }
   },
   "id": "f37fc14194867c87"
  },
  {
   "cell_type": "code",
   "execution_count": 15,
   "outputs": [
    {
     "data": {
      "text/plain": "[1, '班级', 2, 3, 4, 5, '6班', 7, 8, 9, 10, 11, 12, 13, 14, 15, 16, 17]"
     },
     "execution_count": 15,
     "metadata": {},
     "output_type": "execute_result"
    }
   ],
   "source": [
    "boy['班级'].unique().tolist()"
   ],
   "metadata": {
    "collapsed": false,
    "ExecuteTime": {
     "end_time": "2023-12-04T13:22:59.752673Z",
     "start_time": "2023-12-04T13:22:59.301881Z"
    }
   },
   "id": "11b2a410963c03ef"
  },
  {
   "cell_type": "code",
   "execution_count": 16,
   "outputs": [
    {
     "data": {
      "text/plain": "[1, 2, 3, 4, 5, '6班', 7, 8, 9, 10, 11, 12, 13, 14, 15, 16, 17]"
     },
     "execution_count": 16,
     "metadata": {},
     "output_type": "execute_result"
    }
   ],
   "source": [
    "boy2 = boy.loc[boy['班级']!='班级']\n",
    "boy2['班级'].unique().tolist()"
   ],
   "metadata": {
    "collapsed": false,
    "ExecuteTime": {
     "end_time": "2023-12-04T13:22:59.752852Z",
     "start_time": "2023-12-04T13:22:59.304091Z"
    }
   },
   "id": "48abc088c39e24ef"
  },
  {
   "cell_type": "code",
   "execution_count": 17,
   "outputs": [
    {
     "data": {
      "text/plain": "[1, 2, 3, 4, 5, '6班', 7, 8, 9, 10, 11, 12, 13, 14, 15, 16, 17]"
     },
     "execution_count": 17,
     "metadata": {},
     "output_type": "execute_result"
    }
   ],
   "source": [
    "boy2['班级'].unique().tolist()"
   ],
   "metadata": {
    "collapsed": false,
    "ExecuteTime": {
     "end_time": "2023-12-04T13:22:59.762394Z",
     "start_time": "2023-12-04T13:22:59.308910Z"
    }
   },
   "id": "1d90802c8c56c21a"
  },
  {
   "cell_type": "code",
   "execution_count": 18,
   "outputs": [
    {
     "data": {
      "text/plain": "     班级 性别       姓名 1000米   50米     跳远  体前屈   引体   肺活量   身高    体重\n0     1  男  高孜阳0611  4'13  8.88    195   12    1  2785  170  72.6\n1     1  男  郝少杰1013  4'16  7.70    225   11    7  3133  174  52.7\n2     1  男  郝梓烨0619  4'09  8.45  218.0   14    1  3901  169  46.5\n3     1  男  何弘源1010  4'21  8.05    206   13    1  4946  183  79.7\n4     1  男  刘硕鹏1212  3'44  7.52    210   13    9  3538  171  54.7\n..   .. ..      ...   ...   ...    ...  ...  ...   ...  ...   ...\n488  17  男  张乔楠0311  4'23  8.27    208   10    0  4647  176  69.5\n489  17  男  郭泽森0333  5'19  9.55    210   15    6  7042  177    76\n490  17  男  陈子龙061X  3'25   7.5    252   13   13  5755  181    65\n491  17  男  王丹龙0636  4'39  7.81    208   14   11  5688  172  51.7\n492  17  男  王玉涵0636   NaN   NaN    NaN  NaN  NaN   NaN  NaN   NaN\n\n[493 rows x 11 columns]",
      "text/html": "<div>\n<style scoped>\n    .dataframe tbody tr th:only-of-type {\n        vertical-align: middle;\n    }\n\n    .dataframe tbody tr th {\n        vertical-align: top;\n    }\n\n    .dataframe thead th {\n        text-align: right;\n    }\n</style>\n<table border=\"1\" class=\"dataframe\">\n  <thead>\n    <tr style=\"text-align: right;\">\n      <th></th>\n      <th>班级</th>\n      <th>性别</th>\n      <th>姓名</th>\n      <th>1000米</th>\n      <th>50米</th>\n      <th>跳远</th>\n      <th>体前屈</th>\n      <th>引体</th>\n      <th>肺活量</th>\n      <th>身高</th>\n      <th>体重</th>\n    </tr>\n  </thead>\n  <tbody>\n    <tr>\n      <th>0</th>\n      <td>1</td>\n      <td>男</td>\n      <td>高孜阳0611</td>\n      <td>4'13</td>\n      <td>8.88</td>\n      <td>195</td>\n      <td>12</td>\n      <td>1</td>\n      <td>2785</td>\n      <td>170</td>\n      <td>72.6</td>\n    </tr>\n    <tr>\n      <th>1</th>\n      <td>1</td>\n      <td>男</td>\n      <td>郝少杰1013</td>\n      <td>4'16</td>\n      <td>7.70</td>\n      <td>225</td>\n      <td>11</td>\n      <td>7</td>\n      <td>3133</td>\n      <td>174</td>\n      <td>52.7</td>\n    </tr>\n    <tr>\n      <th>2</th>\n      <td>1</td>\n      <td>男</td>\n      <td>郝梓烨0619</td>\n      <td>4'09</td>\n      <td>8.45</td>\n      <td>218.0</td>\n      <td>14</td>\n      <td>1</td>\n      <td>3901</td>\n      <td>169</td>\n      <td>46.5</td>\n    </tr>\n    <tr>\n      <th>3</th>\n      <td>1</td>\n      <td>男</td>\n      <td>何弘源1010</td>\n      <td>4'21</td>\n      <td>8.05</td>\n      <td>206</td>\n      <td>13</td>\n      <td>1</td>\n      <td>4946</td>\n      <td>183</td>\n      <td>79.7</td>\n    </tr>\n    <tr>\n      <th>4</th>\n      <td>1</td>\n      <td>男</td>\n      <td>刘硕鹏1212</td>\n      <td>3'44</td>\n      <td>7.52</td>\n      <td>210</td>\n      <td>13</td>\n      <td>9</td>\n      <td>3538</td>\n      <td>171</td>\n      <td>54.7</td>\n    </tr>\n    <tr>\n      <th>...</th>\n      <td>...</td>\n      <td>...</td>\n      <td>...</td>\n      <td>...</td>\n      <td>...</td>\n      <td>...</td>\n      <td>...</td>\n      <td>...</td>\n      <td>...</td>\n      <td>...</td>\n      <td>...</td>\n    </tr>\n    <tr>\n      <th>488</th>\n      <td>17</td>\n      <td>男</td>\n      <td>张乔楠0311</td>\n      <td>4'23</td>\n      <td>8.27</td>\n      <td>208</td>\n      <td>10</td>\n      <td>0</td>\n      <td>4647</td>\n      <td>176</td>\n      <td>69.5</td>\n    </tr>\n    <tr>\n      <th>489</th>\n      <td>17</td>\n      <td>男</td>\n      <td>郭泽森0333</td>\n      <td>5'19</td>\n      <td>9.55</td>\n      <td>210</td>\n      <td>15</td>\n      <td>6</td>\n      <td>7042</td>\n      <td>177</td>\n      <td>76</td>\n    </tr>\n    <tr>\n      <th>490</th>\n      <td>17</td>\n      <td>男</td>\n      <td>陈子龙061X</td>\n      <td>3'25</td>\n      <td>7.5</td>\n      <td>252</td>\n      <td>13</td>\n      <td>13</td>\n      <td>5755</td>\n      <td>181</td>\n      <td>65</td>\n    </tr>\n    <tr>\n      <th>491</th>\n      <td>17</td>\n      <td>男</td>\n      <td>王丹龙0636</td>\n      <td>4'39</td>\n      <td>7.81</td>\n      <td>208</td>\n      <td>14</td>\n      <td>11</td>\n      <td>5688</td>\n      <td>172</td>\n      <td>51.7</td>\n    </tr>\n    <tr>\n      <th>492</th>\n      <td>17</td>\n      <td>男</td>\n      <td>王玉涵0636</td>\n      <td>NaN</td>\n      <td>NaN</td>\n      <td>NaN</td>\n      <td>NaN</td>\n      <td>NaN</td>\n      <td>NaN</td>\n      <td>NaN</td>\n      <td>NaN</td>\n    </tr>\n  </tbody>\n</table>\n<p>493 rows × 11 columns</p>\n</div>"
     },
     "execution_count": 18,
     "metadata": {},
     "output_type": "execute_result"
    }
   ],
   "source": [
    "boy"
   ],
   "metadata": {
    "collapsed": false,
    "ExecuteTime": {
     "end_time": "2023-12-04T13:22:59.763105Z",
     "start_time": "2023-12-04T13:22:59.315108Z"
    }
   },
   "id": "778091bef7308590"
  },
  {
   "cell_type": "code",
   "execution_count": 19,
   "outputs": [
    {
     "data": {
      "text/plain": "     班级 性别       姓名 1000米   50米     跳远  体前屈   引体   肺活量   身高    体重\n0     1  男  高孜阳0611  4'13  8.88    195   12    1  2785  170  72.6\n1     1  男  郝少杰1013  4'16  7.70    225   11    7  3133  174  52.7\n2     1  男  郝梓烨0619  4'09  8.45  218.0   14    1  3901  169  46.5\n3     1  男  何弘源1010  4'21  8.05    206   13    1  4946  183  79.7\n4     1  男  刘硕鹏1212  3'44  7.52    210   13    9  3538  171  54.7\n..   .. ..      ...   ...   ...    ...  ...  ...   ...  ...   ...\n488  17  男  张乔楠0311  4'23  8.27    208   10    0  4647  176  69.5\n489  17  男  郭泽森0333  5'19  9.55    210   15    6  7042  177    76\n490  17  男  陈子龙061X  3'25   7.5    252   13   13  5755  181    65\n491  17  男  王丹龙0636  4'39  7.81    208   14   11  5688  172  51.7\n492  17  男  王玉涵0636   NaN   NaN    NaN  NaN  NaN   NaN  NaN   NaN\n\n[493 rows x 11 columns]",
      "text/html": "<div>\n<style scoped>\n    .dataframe tbody tr th:only-of-type {\n        vertical-align: middle;\n    }\n\n    .dataframe tbody tr th {\n        vertical-align: top;\n    }\n\n    .dataframe thead th {\n        text-align: right;\n    }\n</style>\n<table border=\"1\" class=\"dataframe\">\n  <thead>\n    <tr style=\"text-align: right;\">\n      <th></th>\n      <th>班级</th>\n      <th>性别</th>\n      <th>姓名</th>\n      <th>1000米</th>\n      <th>50米</th>\n      <th>跳远</th>\n      <th>体前屈</th>\n      <th>引体</th>\n      <th>肺活量</th>\n      <th>身高</th>\n      <th>体重</th>\n    </tr>\n  </thead>\n  <tbody>\n    <tr>\n      <th>0</th>\n      <td>1</td>\n      <td>男</td>\n      <td>高孜阳0611</td>\n      <td>4'13</td>\n      <td>8.88</td>\n      <td>195</td>\n      <td>12</td>\n      <td>1</td>\n      <td>2785</td>\n      <td>170</td>\n      <td>72.6</td>\n    </tr>\n    <tr>\n      <th>1</th>\n      <td>1</td>\n      <td>男</td>\n      <td>郝少杰1013</td>\n      <td>4'16</td>\n      <td>7.70</td>\n      <td>225</td>\n      <td>11</td>\n      <td>7</td>\n      <td>3133</td>\n      <td>174</td>\n      <td>52.7</td>\n    </tr>\n    <tr>\n      <th>2</th>\n      <td>1</td>\n      <td>男</td>\n      <td>郝梓烨0619</td>\n      <td>4'09</td>\n      <td>8.45</td>\n      <td>218.0</td>\n      <td>14</td>\n      <td>1</td>\n      <td>3901</td>\n      <td>169</td>\n      <td>46.5</td>\n    </tr>\n    <tr>\n      <th>3</th>\n      <td>1</td>\n      <td>男</td>\n      <td>何弘源1010</td>\n      <td>4'21</td>\n      <td>8.05</td>\n      <td>206</td>\n      <td>13</td>\n      <td>1</td>\n      <td>4946</td>\n      <td>183</td>\n      <td>79.7</td>\n    </tr>\n    <tr>\n      <th>4</th>\n      <td>1</td>\n      <td>男</td>\n      <td>刘硕鹏1212</td>\n      <td>3'44</td>\n      <td>7.52</td>\n      <td>210</td>\n      <td>13</td>\n      <td>9</td>\n      <td>3538</td>\n      <td>171</td>\n      <td>54.7</td>\n    </tr>\n    <tr>\n      <th>...</th>\n      <td>...</td>\n      <td>...</td>\n      <td>...</td>\n      <td>...</td>\n      <td>...</td>\n      <td>...</td>\n      <td>...</td>\n      <td>...</td>\n      <td>...</td>\n      <td>...</td>\n      <td>...</td>\n    </tr>\n    <tr>\n      <th>488</th>\n      <td>17</td>\n      <td>男</td>\n      <td>张乔楠0311</td>\n      <td>4'23</td>\n      <td>8.27</td>\n      <td>208</td>\n      <td>10</td>\n      <td>0</td>\n      <td>4647</td>\n      <td>176</td>\n      <td>69.5</td>\n    </tr>\n    <tr>\n      <th>489</th>\n      <td>17</td>\n      <td>男</td>\n      <td>郭泽森0333</td>\n      <td>5'19</td>\n      <td>9.55</td>\n      <td>210</td>\n      <td>15</td>\n      <td>6</td>\n      <td>7042</td>\n      <td>177</td>\n      <td>76</td>\n    </tr>\n    <tr>\n      <th>490</th>\n      <td>17</td>\n      <td>男</td>\n      <td>陈子龙061X</td>\n      <td>3'25</td>\n      <td>7.5</td>\n      <td>252</td>\n      <td>13</td>\n      <td>13</td>\n      <td>5755</td>\n      <td>181</td>\n      <td>65</td>\n    </tr>\n    <tr>\n      <th>491</th>\n      <td>17</td>\n      <td>男</td>\n      <td>王丹龙0636</td>\n      <td>4'39</td>\n      <td>7.81</td>\n      <td>208</td>\n      <td>14</td>\n      <td>11</td>\n      <td>5688</td>\n      <td>172</td>\n      <td>51.7</td>\n    </tr>\n    <tr>\n      <th>492</th>\n      <td>17</td>\n      <td>男</td>\n      <td>王玉涵0636</td>\n      <td>NaN</td>\n      <td>NaN</td>\n      <td>NaN</td>\n      <td>NaN</td>\n      <td>NaN</td>\n      <td>NaN</td>\n      <td>NaN</td>\n      <td>NaN</td>\n    </tr>\n  </tbody>\n</table>\n<p>493 rows × 11 columns</p>\n</div>"
     },
     "execution_count": 19,
     "metadata": {},
     "output_type": "execute_result"
    }
   ],
   "source": [
    "boy"
   ],
   "metadata": {
    "collapsed": false,
    "ExecuteTime": {
     "end_time": "2023-12-04T13:22:59.763620Z",
     "start_time": "2023-12-04T13:22:59.320903Z"
    }
   },
   "id": "81359030b035c39d"
  },
  {
   "cell_type": "code",
   "execution_count": 20,
   "outputs": [
    {
     "data": {
      "text/plain": "     班级 性别       姓名 1000米   50米     跳远  体前屈   引体   肺活量   身高    体重\n0     1  男  高孜阳0611  4'13  8.88    195   12    1  2785  170  72.6\n1     1  男  郝少杰1013  4'16  7.70    225   11    7  3133  174  52.7\n2     1  男  郝梓烨0619  4'09  8.45  218.0   14    1  3901  169  46.5\n3     1  男  何弘源1010  4'21  8.05    206   13    1  4946  183  79.7\n4     1  男  刘硕鹏1212  3'44  7.52    210   13    9  3538  171  54.7\n..   .. ..      ...   ...   ...    ...  ...  ...   ...  ...   ...\n488  17  男  张乔楠0311  4'23  8.27    208   10    0  4647  176  69.5\n489  17  男  郭泽森0333  5'19  9.55    210   15    6  7042  177    76\n490  17  男  陈子龙061X  3'25   7.5    252   13   13  5755  181    65\n491  17  男  王丹龙0636  4'39  7.81    208   14   11  5688  172  51.7\n492  17  男  王玉涵0636   NaN   NaN    NaN  NaN  NaN   NaN  NaN   NaN\n\n[477 rows x 11 columns]",
      "text/html": "<div>\n<style scoped>\n    .dataframe tbody tr th:only-of-type {\n        vertical-align: middle;\n    }\n\n    .dataframe tbody tr th {\n        vertical-align: top;\n    }\n\n    .dataframe thead th {\n        text-align: right;\n    }\n</style>\n<table border=\"1\" class=\"dataframe\">\n  <thead>\n    <tr style=\"text-align: right;\">\n      <th></th>\n      <th>班级</th>\n      <th>性别</th>\n      <th>姓名</th>\n      <th>1000米</th>\n      <th>50米</th>\n      <th>跳远</th>\n      <th>体前屈</th>\n      <th>引体</th>\n      <th>肺活量</th>\n      <th>身高</th>\n      <th>体重</th>\n    </tr>\n  </thead>\n  <tbody>\n    <tr>\n      <th>0</th>\n      <td>1</td>\n      <td>男</td>\n      <td>高孜阳0611</td>\n      <td>4'13</td>\n      <td>8.88</td>\n      <td>195</td>\n      <td>12</td>\n      <td>1</td>\n      <td>2785</td>\n      <td>170</td>\n      <td>72.6</td>\n    </tr>\n    <tr>\n      <th>1</th>\n      <td>1</td>\n      <td>男</td>\n      <td>郝少杰1013</td>\n      <td>4'16</td>\n      <td>7.70</td>\n      <td>225</td>\n      <td>11</td>\n      <td>7</td>\n      <td>3133</td>\n      <td>174</td>\n      <td>52.7</td>\n    </tr>\n    <tr>\n      <th>2</th>\n      <td>1</td>\n      <td>男</td>\n      <td>郝梓烨0619</td>\n      <td>4'09</td>\n      <td>8.45</td>\n      <td>218.0</td>\n      <td>14</td>\n      <td>1</td>\n      <td>3901</td>\n      <td>169</td>\n      <td>46.5</td>\n    </tr>\n    <tr>\n      <th>3</th>\n      <td>1</td>\n      <td>男</td>\n      <td>何弘源1010</td>\n      <td>4'21</td>\n      <td>8.05</td>\n      <td>206</td>\n      <td>13</td>\n      <td>1</td>\n      <td>4946</td>\n      <td>183</td>\n      <td>79.7</td>\n    </tr>\n    <tr>\n      <th>4</th>\n      <td>1</td>\n      <td>男</td>\n      <td>刘硕鹏1212</td>\n      <td>3'44</td>\n      <td>7.52</td>\n      <td>210</td>\n      <td>13</td>\n      <td>9</td>\n      <td>3538</td>\n      <td>171</td>\n      <td>54.7</td>\n    </tr>\n    <tr>\n      <th>...</th>\n      <td>...</td>\n      <td>...</td>\n      <td>...</td>\n      <td>...</td>\n      <td>...</td>\n      <td>...</td>\n      <td>...</td>\n      <td>...</td>\n      <td>...</td>\n      <td>...</td>\n      <td>...</td>\n    </tr>\n    <tr>\n      <th>488</th>\n      <td>17</td>\n      <td>男</td>\n      <td>张乔楠0311</td>\n      <td>4'23</td>\n      <td>8.27</td>\n      <td>208</td>\n      <td>10</td>\n      <td>0</td>\n      <td>4647</td>\n      <td>176</td>\n      <td>69.5</td>\n    </tr>\n    <tr>\n      <th>489</th>\n      <td>17</td>\n      <td>男</td>\n      <td>郭泽森0333</td>\n      <td>5'19</td>\n      <td>9.55</td>\n      <td>210</td>\n      <td>15</td>\n      <td>6</td>\n      <td>7042</td>\n      <td>177</td>\n      <td>76</td>\n    </tr>\n    <tr>\n      <th>490</th>\n      <td>17</td>\n      <td>男</td>\n      <td>陈子龙061X</td>\n      <td>3'25</td>\n      <td>7.5</td>\n      <td>252</td>\n      <td>13</td>\n      <td>13</td>\n      <td>5755</td>\n      <td>181</td>\n      <td>65</td>\n    </tr>\n    <tr>\n      <th>491</th>\n      <td>17</td>\n      <td>男</td>\n      <td>王丹龙0636</td>\n      <td>4'39</td>\n      <td>7.81</td>\n      <td>208</td>\n      <td>14</td>\n      <td>11</td>\n      <td>5688</td>\n      <td>172</td>\n      <td>51.7</td>\n    </tr>\n    <tr>\n      <th>492</th>\n      <td>17</td>\n      <td>男</td>\n      <td>王玉涵0636</td>\n      <td>NaN</td>\n      <td>NaN</td>\n      <td>NaN</td>\n      <td>NaN</td>\n      <td>NaN</td>\n      <td>NaN</td>\n      <td>NaN</td>\n      <td>NaN</td>\n    </tr>\n  </tbody>\n</table>\n<p>477 rows × 11 columns</p>\n</div>"
     },
     "execution_count": 20,
     "metadata": {},
     "output_type": "execute_result"
    }
   ],
   "source": [
    "boy3 = boy2\n",
    "boy3"
   ],
   "metadata": {
    "collapsed": false,
    "ExecuteTime": {
     "end_time": "2023-12-04T13:22:59.764131Z",
     "start_time": "2023-12-04T13:22:59.325411Z"
    }
   },
   "id": "23853ab2c2e39676"
  },
  {
   "cell_type": "code",
   "execution_count": 21,
   "outputs": [
    {
     "data": {
      "text/plain": "0       1\n1       1\n2       1\n3       1\n4       1\n       ..\n488    17\n489    17\n490    17\n491    17\n492    17\nName: 班级, Length: 477, dtype: int64"
     },
     "execution_count": 21,
     "metadata": {},
     "output_type": "execute_result"
    }
   ],
   "source": [
    "boy2['班级'].replace(to_replace='.*6{1}.*',value=6,regex=True)"
   ],
   "metadata": {
    "collapsed": false,
    "ExecuteTime": {
     "end_time": "2023-12-04T13:22:59.764331Z",
     "start_time": "2023-12-04T13:22:59.330579Z"
    }
   },
   "id": "762ef2163e86650f"
  },
  {
   "cell_type": "code",
   "execution_count": 22,
   "outputs": [
    {
     "data": {
      "text/plain": "     班级 性别       姓名 1000米   50米     跳远  体前屈   引体   肺活量   身高    体重\n0     1  男  高孜阳0611  4'13  8.88    195   12    1  2785  170  72.6\n1     1  男  郝少杰1013  4'16  7.70    225   11    7  3133  174  52.7\n2     1  男  郝梓烨0619  4'09  8.45  218.0   14    1  3901  169  46.5\n3     1  男  何弘源1010  4'21  8.05    206   13    1  4946  183  79.7\n4     1  男  刘硕鹏1212  3'44  7.52    210   13    9  3538  171  54.7\n..   .. ..      ...   ...   ...    ...  ...  ...   ...  ...   ...\n488  17  男  张乔楠0311  4'23  8.27    208   10    0  4647  176  69.5\n489  17  男  郭泽森0333  5'19  9.55    210   15    6  7042  177    76\n490  17  男  陈子龙061X  3'25   7.5    252   13   13  5755  181    65\n491  17  男  王丹龙0636  4'39  7.81    208   14   11  5688  172  51.7\n492  17  男  王玉涵0636   NaN   NaN    NaN  NaN  NaN   NaN  NaN   NaN\n\n[477 rows x 11 columns]",
      "text/html": "<div>\n<style scoped>\n    .dataframe tbody tr th:only-of-type {\n        vertical-align: middle;\n    }\n\n    .dataframe tbody tr th {\n        vertical-align: top;\n    }\n\n    .dataframe thead th {\n        text-align: right;\n    }\n</style>\n<table border=\"1\" class=\"dataframe\">\n  <thead>\n    <tr style=\"text-align: right;\">\n      <th></th>\n      <th>班级</th>\n      <th>性别</th>\n      <th>姓名</th>\n      <th>1000米</th>\n      <th>50米</th>\n      <th>跳远</th>\n      <th>体前屈</th>\n      <th>引体</th>\n      <th>肺活量</th>\n      <th>身高</th>\n      <th>体重</th>\n    </tr>\n  </thead>\n  <tbody>\n    <tr>\n      <th>0</th>\n      <td>1</td>\n      <td>男</td>\n      <td>高孜阳0611</td>\n      <td>4'13</td>\n      <td>8.88</td>\n      <td>195</td>\n      <td>12</td>\n      <td>1</td>\n      <td>2785</td>\n      <td>170</td>\n      <td>72.6</td>\n    </tr>\n    <tr>\n      <th>1</th>\n      <td>1</td>\n      <td>男</td>\n      <td>郝少杰1013</td>\n      <td>4'16</td>\n      <td>7.70</td>\n      <td>225</td>\n      <td>11</td>\n      <td>7</td>\n      <td>3133</td>\n      <td>174</td>\n      <td>52.7</td>\n    </tr>\n    <tr>\n      <th>2</th>\n      <td>1</td>\n      <td>男</td>\n      <td>郝梓烨0619</td>\n      <td>4'09</td>\n      <td>8.45</td>\n      <td>218.0</td>\n      <td>14</td>\n      <td>1</td>\n      <td>3901</td>\n      <td>169</td>\n      <td>46.5</td>\n    </tr>\n    <tr>\n      <th>3</th>\n      <td>1</td>\n      <td>男</td>\n      <td>何弘源1010</td>\n      <td>4'21</td>\n      <td>8.05</td>\n      <td>206</td>\n      <td>13</td>\n      <td>1</td>\n      <td>4946</td>\n      <td>183</td>\n      <td>79.7</td>\n    </tr>\n    <tr>\n      <th>4</th>\n      <td>1</td>\n      <td>男</td>\n      <td>刘硕鹏1212</td>\n      <td>3'44</td>\n      <td>7.52</td>\n      <td>210</td>\n      <td>13</td>\n      <td>9</td>\n      <td>3538</td>\n      <td>171</td>\n      <td>54.7</td>\n    </tr>\n    <tr>\n      <th>...</th>\n      <td>...</td>\n      <td>...</td>\n      <td>...</td>\n      <td>...</td>\n      <td>...</td>\n      <td>...</td>\n      <td>...</td>\n      <td>...</td>\n      <td>...</td>\n      <td>...</td>\n      <td>...</td>\n    </tr>\n    <tr>\n      <th>488</th>\n      <td>17</td>\n      <td>男</td>\n      <td>张乔楠0311</td>\n      <td>4'23</td>\n      <td>8.27</td>\n      <td>208</td>\n      <td>10</td>\n      <td>0</td>\n      <td>4647</td>\n      <td>176</td>\n      <td>69.5</td>\n    </tr>\n    <tr>\n      <th>489</th>\n      <td>17</td>\n      <td>男</td>\n      <td>郭泽森0333</td>\n      <td>5'19</td>\n      <td>9.55</td>\n      <td>210</td>\n      <td>15</td>\n      <td>6</td>\n      <td>7042</td>\n      <td>177</td>\n      <td>76</td>\n    </tr>\n    <tr>\n      <th>490</th>\n      <td>17</td>\n      <td>男</td>\n      <td>陈子龙061X</td>\n      <td>3'25</td>\n      <td>7.5</td>\n      <td>252</td>\n      <td>13</td>\n      <td>13</td>\n      <td>5755</td>\n      <td>181</td>\n      <td>65</td>\n    </tr>\n    <tr>\n      <th>491</th>\n      <td>17</td>\n      <td>男</td>\n      <td>王丹龙0636</td>\n      <td>4'39</td>\n      <td>7.81</td>\n      <td>208</td>\n      <td>14</td>\n      <td>11</td>\n      <td>5688</td>\n      <td>172</td>\n      <td>51.7</td>\n    </tr>\n    <tr>\n      <th>492</th>\n      <td>17</td>\n      <td>男</td>\n      <td>王玉涵0636</td>\n      <td>NaN</td>\n      <td>NaN</td>\n      <td>NaN</td>\n      <td>NaN</td>\n      <td>NaN</td>\n      <td>NaN</td>\n      <td>NaN</td>\n      <td>NaN</td>\n    </tr>\n  </tbody>\n</table>\n<p>477 rows × 11 columns</p>\n</div>"
     },
     "execution_count": 22,
     "metadata": {},
     "output_type": "execute_result"
    }
   ],
   "source": [
    "boy3.loc[:,'班级'] = boy2['班级'].replace(to_replace='.*6{1}.*',value=6,regex=True)\n",
    "boy3\n"
   ],
   "metadata": {
    "collapsed": false,
    "ExecuteTime": {
     "end_time": "2023-12-04T13:22:59.764839Z",
     "start_time": "2023-12-04T13:22:59.337208Z"
    }
   },
   "id": "acd072c33a14a069"
  },
  {
   "cell_type": "code",
   "execution_count": 23,
   "outputs": [],
   "source": [
    "boy4 = boy3"
   ],
   "metadata": {
    "collapsed": false,
    "ExecuteTime": {
     "end_time": "2023-12-04T13:22:59.764921Z",
     "start_time": "2023-12-04T13:22:59.340167Z"
    }
   },
   "id": "d9696165bfe91b60"
  },
  {
   "cell_type": "code",
   "execution_count": 24,
   "outputs": [
    {
     "data": {
      "text/plain": "     班级 性别       姓名 1000米   50米     跳远  体前屈   引体   肺活量   身高    体重\n0     1  男  高孜阳0611  4'13  8.88    195   12    1  2785  170  72.6\n1     1  男  郝少杰1013  4'16  7.70    225   11    7  3133  174  52.7\n2     1  男  郝梓烨0619  4'09  8.45  218.0   14    1  3901  169  46.5\n3     1  男  何弘源1010  4'21  8.05    206   13    1  4946  183  79.7\n4     1  男  刘硕鹏1212  3'44  7.52    210   13    9  3538  171  54.7\n..   .. ..      ...   ...   ...    ...  ...  ...   ...  ...   ...\n488  17  男  张乔楠0311  4'23  8.27    208   10    0  4647  176  69.5\n489  17  男  郭泽森0333  5'19  9.55    210   15    6  7042  177    76\n490  17  男  陈子龙061X  3'25   7.5    252   13   13  5755  181    65\n491  17  男  王丹龙0636  4'39  7.81    208   14   11  5688  172  51.7\n492  17  男  王玉涵0636   NaN   NaN    NaN  NaN  NaN   NaN  NaN   NaN\n\n[477 rows x 11 columns]",
      "text/html": "<div>\n<style scoped>\n    .dataframe tbody tr th:only-of-type {\n        vertical-align: middle;\n    }\n\n    .dataframe tbody tr th {\n        vertical-align: top;\n    }\n\n    .dataframe thead th {\n        text-align: right;\n    }\n</style>\n<table border=\"1\" class=\"dataframe\">\n  <thead>\n    <tr style=\"text-align: right;\">\n      <th></th>\n      <th>班级</th>\n      <th>性别</th>\n      <th>姓名</th>\n      <th>1000米</th>\n      <th>50米</th>\n      <th>跳远</th>\n      <th>体前屈</th>\n      <th>引体</th>\n      <th>肺活量</th>\n      <th>身高</th>\n      <th>体重</th>\n    </tr>\n  </thead>\n  <tbody>\n    <tr>\n      <th>0</th>\n      <td>1</td>\n      <td>男</td>\n      <td>高孜阳0611</td>\n      <td>4'13</td>\n      <td>8.88</td>\n      <td>195</td>\n      <td>12</td>\n      <td>1</td>\n      <td>2785</td>\n      <td>170</td>\n      <td>72.6</td>\n    </tr>\n    <tr>\n      <th>1</th>\n      <td>1</td>\n      <td>男</td>\n      <td>郝少杰1013</td>\n      <td>4'16</td>\n      <td>7.70</td>\n      <td>225</td>\n      <td>11</td>\n      <td>7</td>\n      <td>3133</td>\n      <td>174</td>\n      <td>52.7</td>\n    </tr>\n    <tr>\n      <th>2</th>\n      <td>1</td>\n      <td>男</td>\n      <td>郝梓烨0619</td>\n      <td>4'09</td>\n      <td>8.45</td>\n      <td>218.0</td>\n      <td>14</td>\n      <td>1</td>\n      <td>3901</td>\n      <td>169</td>\n      <td>46.5</td>\n    </tr>\n    <tr>\n      <th>3</th>\n      <td>1</td>\n      <td>男</td>\n      <td>何弘源1010</td>\n      <td>4'21</td>\n      <td>8.05</td>\n      <td>206</td>\n      <td>13</td>\n      <td>1</td>\n      <td>4946</td>\n      <td>183</td>\n      <td>79.7</td>\n    </tr>\n    <tr>\n      <th>4</th>\n      <td>1</td>\n      <td>男</td>\n      <td>刘硕鹏1212</td>\n      <td>3'44</td>\n      <td>7.52</td>\n      <td>210</td>\n      <td>13</td>\n      <td>9</td>\n      <td>3538</td>\n      <td>171</td>\n      <td>54.7</td>\n    </tr>\n    <tr>\n      <th>...</th>\n      <td>...</td>\n      <td>...</td>\n      <td>...</td>\n      <td>...</td>\n      <td>...</td>\n      <td>...</td>\n      <td>...</td>\n      <td>...</td>\n      <td>...</td>\n      <td>...</td>\n      <td>...</td>\n    </tr>\n    <tr>\n      <th>488</th>\n      <td>17</td>\n      <td>男</td>\n      <td>张乔楠0311</td>\n      <td>4'23</td>\n      <td>8.27</td>\n      <td>208</td>\n      <td>10</td>\n      <td>0</td>\n      <td>4647</td>\n      <td>176</td>\n      <td>69.5</td>\n    </tr>\n    <tr>\n      <th>489</th>\n      <td>17</td>\n      <td>男</td>\n      <td>郭泽森0333</td>\n      <td>5'19</td>\n      <td>9.55</td>\n      <td>210</td>\n      <td>15</td>\n      <td>6</td>\n      <td>7042</td>\n      <td>177</td>\n      <td>76</td>\n    </tr>\n    <tr>\n      <th>490</th>\n      <td>17</td>\n      <td>男</td>\n      <td>陈子龙061X</td>\n      <td>3'25</td>\n      <td>7.5</td>\n      <td>252</td>\n      <td>13</td>\n      <td>13</td>\n      <td>5755</td>\n      <td>181</td>\n      <td>65</td>\n    </tr>\n    <tr>\n      <th>491</th>\n      <td>17</td>\n      <td>男</td>\n      <td>王丹龙0636</td>\n      <td>4'39</td>\n      <td>7.81</td>\n      <td>208</td>\n      <td>14</td>\n      <td>11</td>\n      <td>5688</td>\n      <td>172</td>\n      <td>51.7</td>\n    </tr>\n    <tr>\n      <th>492</th>\n      <td>17</td>\n      <td>男</td>\n      <td>王玉涵0636</td>\n      <td>NaN</td>\n      <td>NaN</td>\n      <td>NaN</td>\n      <td>NaN</td>\n      <td>NaN</td>\n      <td>NaN</td>\n      <td>NaN</td>\n      <td>NaN</td>\n    </tr>\n  </tbody>\n</table>\n<p>477 rows × 11 columns</p>\n</div>"
     },
     "execution_count": 24,
     "metadata": {},
     "output_type": "execute_result"
    }
   ],
   "source": [
    "boy4"
   ],
   "metadata": {
    "collapsed": false,
    "ExecuteTime": {
     "end_time": "2023-12-04T13:22:59.765407Z",
     "start_time": "2023-12-04T13:22:59.345823Z"
    }
   },
   "id": "708217d236787cdb"
  },
  {
   "cell_type": "code",
   "execution_count": 25,
   "outputs": [
    {
     "data": {
      "text/plain": "    男肺活量       女肺活量      男50米跑      女50米跑       男体前屈       ...  女跳远       \\\n      成绩   分数    成绩   分数    成绩   分数    成绩   分数    成绩   分数  ...   成绩   分数   \n0   4540  100  3150  100   7.1  100   7.8  100  23.6  100  ...  204  100   \n1   4420   95  3100   95   7.2   95   7.9   95  21.5   95  ...  198   95   \n2   4300   90  3050   90   7.3   90   8.0   90  19.4   90  ...  192   90   \n3   4050   85  2900   85   7.4   85   8.3   85  17.2   85  ...  185   85   \n4   3800   80  2750   80   7.5   80   8.6   80  15.0   80  ...  178   80   \n5   3680   78  2650   78   7.7   78   8.8   78  13.6   78  ...  175   78   \n6   3560   76  2550   76   7.9   76   9.0   76  12.2   76  ...  172   76   \n7   3440   74  2450   74   8.1   74   9.2   74  10.8   74  ...  169   74   \n8   3320   72  2350   72   8.3   72   9.4   72   9.4   72  ...  166   72   \n9   3200   70  2250   70   8.5   70   9.6   70   8.0   70  ...  163   70   \n10  3080   68  2150   68   8.7   68   9.8   68   6.6   68  ...  160   68   \n11  2960   66  2050   66   8.9   66  10.0   66   5.2   66  ...  157   66   \n12  2840   64  1950   64   9.1   64  10.2   64   3.8   64  ...  154   64   \n13  2720   62  1850   62   9.3   62  10.4   62   2.4   62  ...  151   62   \n14  2600   60  1750   60   9.5   60  10.6   60   1.0   60  ...  148   60   \n15  2470   50  1710   50   9.7   50  10.8   50   0.0   50  ...  143   50   \n16  2340   40  1670   40   9.9   40  11.0   40  -1.0   40  ...  138   40   \n17  2210   30  1630   30  10.1   30  11.2   30  -2.0   30  ...  133   30   \n18  2080   20  1590   20  10.3   20  11.4   20  -3.0   20  ...  128   20   \n19  1950   10  1550   10  10.5   10  11.6   10  -4.0   10  ...  123   10   \n\n     男引体      女仰卧      男1000米跑      女800米跑       \n      成绩   分数  成绩   分数      成绩   分数     成绩   分数  \n0   16.0  100  53  100   3'30\"  100  3'24\"  100  \n1   15.0   95  51   95   3'35\"   95  3'30\"   95  \n2   14.0   90  49   90   3'40\"   90  3'36\"   90  \n3   13.0   85  46   85   3'47\"   85  3'43\"   85  \n4   12.0   80  43   80   3'55\"   80  3'50\"   80  \n5    NaN   78  41   78   4'00\"   78  3'55\"   78  \n6   11.0   76  39   76   4'05\"   76  4'00\"   76  \n7    NaN   74  37   74   4'10\"   74  4'05\"   74  \n8   10.0   72  35   72   4'15\"   72  4'10\"   72  \n9    NaN   70  33   70   4'20\"   70  4'15\"   70  \n10   9.0   68  31   68   4'25\"   68  4'20\"   68  \n11   NaN   66  29   66   4'30\"   66  4'25\"   66  \n12   8.0   64  27   64   4'35\"   64  4'30\"   64  \n13   NaN   62  25   62   4'40\"   62  4'35\"   62  \n14   7.0   60  23   60   4'45\"   60  4'40\"   60  \n15   6.0   50  21   50   5'05\"   50  4'50\"   50  \n16   5.0   40  19   40   5'25\"   40  5'00\"   40  \n17   4.0   30  17   30   5'45\"   30  5'10\"   30  \n18   3.0   20  15   20   6'05\"   20  5'20\"   20  \n19   2.0   10  13   10   6'25\"   10  5'30\"   10  \n\n[20 rows x 24 columns]",
      "text/html": "<div>\n<style scoped>\n    .dataframe tbody tr th:only-of-type {\n        vertical-align: middle;\n    }\n\n    .dataframe tbody tr th {\n        vertical-align: top;\n    }\n\n    .dataframe thead tr th {\n        text-align: left;\n    }\n</style>\n<table border=\"1\" class=\"dataframe\">\n  <thead>\n    <tr>\n      <th></th>\n      <th colspan=\"2\" halign=\"left\">男肺活量</th>\n      <th colspan=\"2\" halign=\"left\">女肺活量</th>\n      <th colspan=\"2\" halign=\"left\">男50米跑</th>\n      <th colspan=\"2\" halign=\"left\">女50米跑</th>\n      <th colspan=\"2\" halign=\"left\">男体前屈</th>\n      <th>...</th>\n      <th colspan=\"2\" halign=\"left\">女跳远</th>\n      <th colspan=\"2\" halign=\"left\">男引体</th>\n      <th colspan=\"2\" halign=\"left\">女仰卧</th>\n      <th colspan=\"2\" halign=\"left\">男1000米跑</th>\n      <th colspan=\"2\" halign=\"left\">女800米跑</th>\n    </tr>\n    <tr>\n      <th></th>\n      <th>成绩</th>\n      <th>分数</th>\n      <th>成绩</th>\n      <th>分数</th>\n      <th>成绩</th>\n      <th>分数</th>\n      <th>成绩</th>\n      <th>分数</th>\n      <th>成绩</th>\n      <th>分数</th>\n      <th>...</th>\n      <th>成绩</th>\n      <th>分数</th>\n      <th>成绩</th>\n      <th>分数</th>\n      <th>成绩</th>\n      <th>分数</th>\n      <th>成绩</th>\n      <th>分数</th>\n      <th>成绩</th>\n      <th>分数</th>\n    </tr>\n  </thead>\n  <tbody>\n    <tr>\n      <th>0</th>\n      <td>4540</td>\n      <td>100</td>\n      <td>3150</td>\n      <td>100</td>\n      <td>7.1</td>\n      <td>100</td>\n      <td>7.8</td>\n      <td>100</td>\n      <td>23.6</td>\n      <td>100</td>\n      <td>...</td>\n      <td>204</td>\n      <td>100</td>\n      <td>16.0</td>\n      <td>100</td>\n      <td>53</td>\n      <td>100</td>\n      <td>3'30\"</td>\n      <td>100</td>\n      <td>3'24\"</td>\n      <td>100</td>\n    </tr>\n    <tr>\n      <th>1</th>\n      <td>4420</td>\n      <td>95</td>\n      <td>3100</td>\n      <td>95</td>\n      <td>7.2</td>\n      <td>95</td>\n      <td>7.9</td>\n      <td>95</td>\n      <td>21.5</td>\n      <td>95</td>\n      <td>...</td>\n      <td>198</td>\n      <td>95</td>\n      <td>15.0</td>\n      <td>95</td>\n      <td>51</td>\n      <td>95</td>\n      <td>3'35\"</td>\n      <td>95</td>\n      <td>3'30\"</td>\n      <td>95</td>\n    </tr>\n    <tr>\n      <th>2</th>\n      <td>4300</td>\n      <td>90</td>\n      <td>3050</td>\n      <td>90</td>\n      <td>7.3</td>\n      <td>90</td>\n      <td>8.0</td>\n      <td>90</td>\n      <td>19.4</td>\n      <td>90</td>\n      <td>...</td>\n      <td>192</td>\n      <td>90</td>\n      <td>14.0</td>\n      <td>90</td>\n      <td>49</td>\n      <td>90</td>\n      <td>3'40\"</td>\n      <td>90</td>\n      <td>3'36\"</td>\n      <td>90</td>\n    </tr>\n    <tr>\n      <th>3</th>\n      <td>4050</td>\n      <td>85</td>\n      <td>2900</td>\n      <td>85</td>\n      <td>7.4</td>\n      <td>85</td>\n      <td>8.3</td>\n      <td>85</td>\n      <td>17.2</td>\n      <td>85</td>\n      <td>...</td>\n      <td>185</td>\n      <td>85</td>\n      <td>13.0</td>\n      <td>85</td>\n      <td>46</td>\n      <td>85</td>\n      <td>3'47\"</td>\n      <td>85</td>\n      <td>3'43\"</td>\n      <td>85</td>\n    </tr>\n    <tr>\n      <th>4</th>\n      <td>3800</td>\n      <td>80</td>\n      <td>2750</td>\n      <td>80</td>\n      <td>7.5</td>\n      <td>80</td>\n      <td>8.6</td>\n      <td>80</td>\n      <td>15.0</td>\n      <td>80</td>\n      <td>...</td>\n      <td>178</td>\n      <td>80</td>\n      <td>12.0</td>\n      <td>80</td>\n      <td>43</td>\n      <td>80</td>\n      <td>3'55\"</td>\n      <td>80</td>\n      <td>3'50\"</td>\n      <td>80</td>\n    </tr>\n    <tr>\n      <th>5</th>\n      <td>3680</td>\n      <td>78</td>\n      <td>2650</td>\n      <td>78</td>\n      <td>7.7</td>\n      <td>78</td>\n      <td>8.8</td>\n      <td>78</td>\n      <td>13.6</td>\n      <td>78</td>\n      <td>...</td>\n      <td>175</td>\n      <td>78</td>\n      <td>NaN</td>\n      <td>78</td>\n      <td>41</td>\n      <td>78</td>\n      <td>4'00\"</td>\n      <td>78</td>\n      <td>3'55\"</td>\n      <td>78</td>\n    </tr>\n    <tr>\n      <th>6</th>\n      <td>3560</td>\n      <td>76</td>\n      <td>2550</td>\n      <td>76</td>\n      <td>7.9</td>\n      <td>76</td>\n      <td>9.0</td>\n      <td>76</td>\n      <td>12.2</td>\n      <td>76</td>\n      <td>...</td>\n      <td>172</td>\n      <td>76</td>\n      <td>11.0</td>\n      <td>76</td>\n      <td>39</td>\n      <td>76</td>\n      <td>4'05\"</td>\n      <td>76</td>\n      <td>4'00\"</td>\n      <td>76</td>\n    </tr>\n    <tr>\n      <th>7</th>\n      <td>3440</td>\n      <td>74</td>\n      <td>2450</td>\n      <td>74</td>\n      <td>8.1</td>\n      <td>74</td>\n      <td>9.2</td>\n      <td>74</td>\n      <td>10.8</td>\n      <td>74</td>\n      <td>...</td>\n      <td>169</td>\n      <td>74</td>\n      <td>NaN</td>\n      <td>74</td>\n      <td>37</td>\n      <td>74</td>\n      <td>4'10\"</td>\n      <td>74</td>\n      <td>4'05\"</td>\n      <td>74</td>\n    </tr>\n    <tr>\n      <th>8</th>\n      <td>3320</td>\n      <td>72</td>\n      <td>2350</td>\n      <td>72</td>\n      <td>8.3</td>\n      <td>72</td>\n      <td>9.4</td>\n      <td>72</td>\n      <td>9.4</td>\n      <td>72</td>\n      <td>...</td>\n      <td>166</td>\n      <td>72</td>\n      <td>10.0</td>\n      <td>72</td>\n      <td>35</td>\n      <td>72</td>\n      <td>4'15\"</td>\n      <td>72</td>\n      <td>4'10\"</td>\n      <td>72</td>\n    </tr>\n    <tr>\n      <th>9</th>\n      <td>3200</td>\n      <td>70</td>\n      <td>2250</td>\n      <td>70</td>\n      <td>8.5</td>\n      <td>70</td>\n      <td>9.6</td>\n      <td>70</td>\n      <td>8.0</td>\n      <td>70</td>\n      <td>...</td>\n      <td>163</td>\n      <td>70</td>\n      <td>NaN</td>\n      <td>70</td>\n      <td>33</td>\n      <td>70</td>\n      <td>4'20\"</td>\n      <td>70</td>\n      <td>4'15\"</td>\n      <td>70</td>\n    </tr>\n    <tr>\n      <th>10</th>\n      <td>3080</td>\n      <td>68</td>\n      <td>2150</td>\n      <td>68</td>\n      <td>8.7</td>\n      <td>68</td>\n      <td>9.8</td>\n      <td>68</td>\n      <td>6.6</td>\n      <td>68</td>\n      <td>...</td>\n      <td>160</td>\n      <td>68</td>\n      <td>9.0</td>\n      <td>68</td>\n      <td>31</td>\n      <td>68</td>\n      <td>4'25\"</td>\n      <td>68</td>\n      <td>4'20\"</td>\n      <td>68</td>\n    </tr>\n    <tr>\n      <th>11</th>\n      <td>2960</td>\n      <td>66</td>\n      <td>2050</td>\n      <td>66</td>\n      <td>8.9</td>\n      <td>66</td>\n      <td>10.0</td>\n      <td>66</td>\n      <td>5.2</td>\n      <td>66</td>\n      <td>...</td>\n      <td>157</td>\n      <td>66</td>\n      <td>NaN</td>\n      <td>66</td>\n      <td>29</td>\n      <td>66</td>\n      <td>4'30\"</td>\n      <td>66</td>\n      <td>4'25\"</td>\n      <td>66</td>\n    </tr>\n    <tr>\n      <th>12</th>\n      <td>2840</td>\n      <td>64</td>\n      <td>1950</td>\n      <td>64</td>\n      <td>9.1</td>\n      <td>64</td>\n      <td>10.2</td>\n      <td>64</td>\n      <td>3.8</td>\n      <td>64</td>\n      <td>...</td>\n      <td>154</td>\n      <td>64</td>\n      <td>8.0</td>\n      <td>64</td>\n      <td>27</td>\n      <td>64</td>\n      <td>4'35\"</td>\n      <td>64</td>\n      <td>4'30\"</td>\n      <td>64</td>\n    </tr>\n    <tr>\n      <th>13</th>\n      <td>2720</td>\n      <td>62</td>\n      <td>1850</td>\n      <td>62</td>\n      <td>9.3</td>\n      <td>62</td>\n      <td>10.4</td>\n      <td>62</td>\n      <td>2.4</td>\n      <td>62</td>\n      <td>...</td>\n      <td>151</td>\n      <td>62</td>\n      <td>NaN</td>\n      <td>62</td>\n      <td>25</td>\n      <td>62</td>\n      <td>4'40\"</td>\n      <td>62</td>\n      <td>4'35\"</td>\n      <td>62</td>\n    </tr>\n    <tr>\n      <th>14</th>\n      <td>2600</td>\n      <td>60</td>\n      <td>1750</td>\n      <td>60</td>\n      <td>9.5</td>\n      <td>60</td>\n      <td>10.6</td>\n      <td>60</td>\n      <td>1.0</td>\n      <td>60</td>\n      <td>...</td>\n      <td>148</td>\n      <td>60</td>\n      <td>7.0</td>\n      <td>60</td>\n      <td>23</td>\n      <td>60</td>\n      <td>4'45\"</td>\n      <td>60</td>\n      <td>4'40\"</td>\n      <td>60</td>\n    </tr>\n    <tr>\n      <th>15</th>\n      <td>2470</td>\n      <td>50</td>\n      <td>1710</td>\n      <td>50</td>\n      <td>9.7</td>\n      <td>50</td>\n      <td>10.8</td>\n      <td>50</td>\n      <td>0.0</td>\n      <td>50</td>\n      <td>...</td>\n      <td>143</td>\n      <td>50</td>\n      <td>6.0</td>\n      <td>50</td>\n      <td>21</td>\n      <td>50</td>\n      <td>5'05\"</td>\n      <td>50</td>\n      <td>4'50\"</td>\n      <td>50</td>\n    </tr>\n    <tr>\n      <th>16</th>\n      <td>2340</td>\n      <td>40</td>\n      <td>1670</td>\n      <td>40</td>\n      <td>9.9</td>\n      <td>40</td>\n      <td>11.0</td>\n      <td>40</td>\n      <td>-1.0</td>\n      <td>40</td>\n      <td>...</td>\n      <td>138</td>\n      <td>40</td>\n      <td>5.0</td>\n      <td>40</td>\n      <td>19</td>\n      <td>40</td>\n      <td>5'25\"</td>\n      <td>40</td>\n      <td>5'00\"</td>\n      <td>40</td>\n    </tr>\n    <tr>\n      <th>17</th>\n      <td>2210</td>\n      <td>30</td>\n      <td>1630</td>\n      <td>30</td>\n      <td>10.1</td>\n      <td>30</td>\n      <td>11.2</td>\n      <td>30</td>\n      <td>-2.0</td>\n      <td>30</td>\n      <td>...</td>\n      <td>133</td>\n      <td>30</td>\n      <td>4.0</td>\n      <td>30</td>\n      <td>17</td>\n      <td>30</td>\n      <td>5'45\"</td>\n      <td>30</td>\n      <td>5'10\"</td>\n      <td>30</td>\n    </tr>\n    <tr>\n      <th>18</th>\n      <td>2080</td>\n      <td>20</td>\n      <td>1590</td>\n      <td>20</td>\n      <td>10.3</td>\n      <td>20</td>\n      <td>11.4</td>\n      <td>20</td>\n      <td>-3.0</td>\n      <td>20</td>\n      <td>...</td>\n      <td>128</td>\n      <td>20</td>\n      <td>3.0</td>\n      <td>20</td>\n      <td>15</td>\n      <td>20</td>\n      <td>6'05\"</td>\n      <td>20</td>\n      <td>5'20\"</td>\n      <td>20</td>\n    </tr>\n    <tr>\n      <th>19</th>\n      <td>1950</td>\n      <td>10</td>\n      <td>1550</td>\n      <td>10</td>\n      <td>10.5</td>\n      <td>10</td>\n      <td>11.6</td>\n      <td>10</td>\n      <td>-4.0</td>\n      <td>10</td>\n      <td>...</td>\n      <td>123</td>\n      <td>10</td>\n      <td>2.0</td>\n      <td>10</td>\n      <td>13</td>\n      <td>10</td>\n      <td>6'25\"</td>\n      <td>10</td>\n      <td>5'30\"</td>\n      <td>10</td>\n    </tr>\n  </tbody>\n</table>\n<p>20 rows × 24 columns</p>\n</div>"
     },
     "execution_count": 25,
     "metadata": {},
     "output_type": "execute_result"
    }
   ],
   "source": [
    "score_stand"
   ],
   "metadata": {
    "collapsed": false,
    "ExecuteTime": {
     "end_time": "2023-12-04T13:22:59.766456Z",
     "start_time": "2023-12-04T13:22:59.355022Z"
    }
   },
   "id": "cd27963d92756f35"
  },
  {
   "cell_type": "code",
   "execution_count": 26,
   "outputs": [
    {
     "data": {
      "text/plain": "      成绩   分数\n0   4540  100\n1   4420   95\n2   4300   90\n3   4050   85\n4   3800   80\n5   3680   78\n6   3560   76\n7   3440   74\n8   3320   72\n9   3200   70\n10  3080   68\n11  2960   66\n12  2840   64\n13  2720   62\n14  2600   60\n15  2470   50\n16  2340   40\n17  2210   30\n18  2080   20\n19  1950   10",
      "text/html": "<div>\n<style scoped>\n    .dataframe tbody tr th:only-of-type {\n        vertical-align: middle;\n    }\n\n    .dataframe tbody tr th {\n        vertical-align: top;\n    }\n\n    .dataframe thead th {\n        text-align: right;\n    }\n</style>\n<table border=\"1\" class=\"dataframe\">\n  <thead>\n    <tr style=\"text-align: right;\">\n      <th></th>\n      <th>成绩</th>\n      <th>分数</th>\n    </tr>\n  </thead>\n  <tbody>\n    <tr>\n      <th>0</th>\n      <td>4540</td>\n      <td>100</td>\n    </tr>\n    <tr>\n      <th>1</th>\n      <td>4420</td>\n      <td>95</td>\n    </tr>\n    <tr>\n      <th>2</th>\n      <td>4300</td>\n      <td>90</td>\n    </tr>\n    <tr>\n      <th>3</th>\n      <td>4050</td>\n      <td>85</td>\n    </tr>\n    <tr>\n      <th>4</th>\n      <td>3800</td>\n      <td>80</td>\n    </tr>\n    <tr>\n      <th>5</th>\n      <td>3680</td>\n      <td>78</td>\n    </tr>\n    <tr>\n      <th>6</th>\n      <td>3560</td>\n      <td>76</td>\n    </tr>\n    <tr>\n      <th>7</th>\n      <td>3440</td>\n      <td>74</td>\n    </tr>\n    <tr>\n      <th>8</th>\n      <td>3320</td>\n      <td>72</td>\n    </tr>\n    <tr>\n      <th>9</th>\n      <td>3200</td>\n      <td>70</td>\n    </tr>\n    <tr>\n      <th>10</th>\n      <td>3080</td>\n      <td>68</td>\n    </tr>\n    <tr>\n      <th>11</th>\n      <td>2960</td>\n      <td>66</td>\n    </tr>\n    <tr>\n      <th>12</th>\n      <td>2840</td>\n      <td>64</td>\n    </tr>\n    <tr>\n      <th>13</th>\n      <td>2720</td>\n      <td>62</td>\n    </tr>\n    <tr>\n      <th>14</th>\n      <td>2600</td>\n      <td>60</td>\n    </tr>\n    <tr>\n      <th>15</th>\n      <td>2470</td>\n      <td>50</td>\n    </tr>\n    <tr>\n      <th>16</th>\n      <td>2340</td>\n      <td>40</td>\n    </tr>\n    <tr>\n      <th>17</th>\n      <td>2210</td>\n      <td>30</td>\n    </tr>\n    <tr>\n      <th>18</th>\n      <td>2080</td>\n      <td>20</td>\n    </tr>\n    <tr>\n      <th>19</th>\n      <td>1950</td>\n      <td>10</td>\n    </tr>\n  </tbody>\n</table>\n</div>"
     },
     "execution_count": 26,
     "metadata": {},
     "output_type": "execute_result"
    }
   ],
   "source": [
    "# 男肺活量\n",
    "\n",
    "vital = score_stand['男肺活量']\n",
    "vital"
   ],
   "metadata": {
    "collapsed": false,
    "ExecuteTime": {
     "end_time": "2023-12-04T13:22:59.766822Z",
     "start_time": "2023-12-04T13:22:59.359622Z"
    }
   },
   "id": "4875db451dfd67fb"
  },
  {
   "cell_type": "code",
   "execution_count": 27,
   "outputs": [
    {
     "data": {
      "text/plain": "0     4540\n1     4420\n2     4300\n3     4050\n4     3800\n5     3680\n6     3560\n7     3440\n8     3320\n9     3200\n10    3080\n11    2960\n12    2840\n13    2720\n14    2600\n15    2470\n16    2340\n17    2210\n18    2080\n19    1950\nName: 成绩, dtype: int64"
     },
     "execution_count": 27,
     "metadata": {},
     "output_type": "execute_result"
    }
   ],
   "source": [
    "vital['成绩']"
   ],
   "metadata": {
    "collapsed": false,
    "ExecuteTime": {
     "end_time": "2023-12-04T13:22:59.767054Z",
     "start_time": "2023-12-04T13:22:59.363209Z"
    }
   },
   "id": "6406db7871e36c48"
  },
  {
   "cell_type": "code",
   "execution_count": 28,
   "outputs": [
    {
     "name": "stdout",
     "output_type": "stream",
     "text": [
      "4540\n",
      "4420\n",
      "4300\n",
      "4050\n",
      "3800\n",
      "3680\n",
      "3560\n",
      "3440\n",
      "3320\n",
      "3200\n",
      "3080\n",
      "2960\n",
      "2840\n",
      "2720\n",
      "2600\n",
      "2470\n",
      "2340\n",
      "2210\n",
      "2080\n",
      "1950\n"
     ]
    }
   ],
   "source": [
    "for x in vital['成绩']:\n",
    "    print(x)"
   ],
   "metadata": {
    "collapsed": false,
    "ExecuteTime": {
     "end_time": "2023-12-04T13:22:59.767210Z",
     "start_time": "2023-12-04T13:22:59.366202Z"
    }
   },
   "id": "393fd4d0a236df6c"
  },
  {
   "cell_type": "code",
   "execution_count": 29,
   "outputs": [
    {
     "data": {
      "text/plain": "0     False\n1     False\n2     False\n3     False\n4     False\n5     False\n6     False\n7     False\n8     False\n9     False\n10    False\n11     True\n12    False\n13    False\n14    False\n15    False\n16    False\n17    False\n18    False\n19    False\nName: 成绩, dtype: bool"
     },
     "execution_count": 29,
     "metadata": {},
     "output_type": "execute_result"
    }
   ],
   "source": [
    "vital['成绩'] == 2960"
   ],
   "metadata": {
    "collapsed": false,
    "ExecuteTime": {
     "end_time": "2023-12-04T13:22:59.767393Z",
     "start_time": "2023-12-04T13:22:59.368101Z"
    }
   },
   "id": "5e931329d0487f08"
  },
  {
   "cell_type": "code",
   "execution_count": 30,
   "outputs": [],
   "source": [
    "# 根据肺活量原始成绩，返回评分\n",
    "vital = score_stand['男肺活量']\n",
    "\n",
    "def boy_vital(x):\n",
    "    for score in vital['成绩']:\n",
    "        if x >= score:\n",
    "           return vital['分数'].loc[vital['成绩'] == score].values[0]\n",
    "    return 0\n",
    "        \n",
    "      \n",
    "        "
   ],
   "metadata": {
    "collapsed": false,
    "ExecuteTime": {
     "end_time": "2023-12-04T13:22:59.767463Z",
     "start_time": "2023-12-04T13:22:59.372084Z"
    }
   },
   "id": "91f2f211b4c90302"
  },
  {
   "cell_type": "code",
   "execution_count": 30,
   "outputs": [],
   "source": [],
   "metadata": {
    "collapsed": false,
    "ExecuteTime": {
     "end_time": "2023-12-04T13:22:59.767535Z",
     "start_time": "2023-12-04T13:22:59.373481Z"
    }
   },
   "id": "25c7564cecdf0361"
  },
  {
   "cell_type": "code",
   "execution_count": 31,
   "outputs": [
    {
     "data": {
      "text/plain": "100"
     },
     "execution_count": 31,
     "metadata": {},
     "output_type": "execute_result"
    }
   ],
   "source": [
    "boy_vital(5000) "
   ],
   "metadata": {
    "collapsed": false,
    "ExecuteTime": {
     "end_time": "2023-12-04T13:22:59.767699Z",
     "start_time": "2023-12-04T13:22:59.375718Z"
    }
   },
   "id": "9a558c9b241cac4b"
  },
  {
   "cell_type": "code",
   "execution_count": 32,
   "outputs": [
    {
     "name": "stderr",
     "output_type": "stream",
     "text": [
      "/var/folders/dy/928gcgsd22s9cmd5h8gf7vx40000gn/T/ipykernel_35622/3155538378.py:1: SettingWithCopyWarning: \n",
      "A value is trying to be set on a copy of a slice from a DataFrame.\n",
      "Try using .loc[row_indexer,col_indexer] = value instead\n",
      "\n",
      "See the caveats in the documentation: https://pandas.pydata.org/pandas-docs/stable/user_guide/indexing.html#returning-a-view-versus-a-copy\n",
      "  boy4['肺活量得分'] = boy4['肺活量'].map(boy_vital)\n"
     ]
    },
    {
     "data": {
      "text/plain": "     班级 性别       姓名 1000米   50米     跳远  体前屈   引体   肺活量   身高    体重  肺活量得分\n0     1  男  高孜阳0611  4'13  8.88    195   12    1  2785  170  72.6     62\n1     1  男  郝少杰1013  4'16  7.70    225   11    7  3133  174  52.7     68\n2     1  男  郝梓烨0619  4'09  8.45  218.0   14    1  3901  169  46.5     80\n3     1  男  何弘源1010  4'21  8.05    206   13    1  4946  183  79.7    100\n4     1  男  刘硕鹏1212  3'44  7.52    210   13    9  3538  171  54.7     74\n..   .. ..      ...   ...   ...    ...  ...  ...   ...  ...   ...    ...\n488  17  男  张乔楠0311  4'23  8.27    208   10    0  4647  176  69.5    100\n489  17  男  郭泽森0333  5'19  9.55    210   15    6  7042  177    76    100\n490  17  男  陈子龙061X  3'25   7.5    252   13   13  5755  181    65    100\n491  17  男  王丹龙0636  4'39  7.81    208   14   11  5688  172  51.7    100\n492  17  男  王玉涵0636   NaN   NaN    NaN  NaN  NaN   NaN  NaN   NaN      0\n\n[477 rows x 12 columns]",
      "text/html": "<div>\n<style scoped>\n    .dataframe tbody tr th:only-of-type {\n        vertical-align: middle;\n    }\n\n    .dataframe tbody tr th {\n        vertical-align: top;\n    }\n\n    .dataframe thead th {\n        text-align: right;\n    }\n</style>\n<table border=\"1\" class=\"dataframe\">\n  <thead>\n    <tr style=\"text-align: right;\">\n      <th></th>\n      <th>班级</th>\n      <th>性别</th>\n      <th>姓名</th>\n      <th>1000米</th>\n      <th>50米</th>\n      <th>跳远</th>\n      <th>体前屈</th>\n      <th>引体</th>\n      <th>肺活量</th>\n      <th>身高</th>\n      <th>体重</th>\n      <th>肺活量得分</th>\n    </tr>\n  </thead>\n  <tbody>\n    <tr>\n      <th>0</th>\n      <td>1</td>\n      <td>男</td>\n      <td>高孜阳0611</td>\n      <td>4'13</td>\n      <td>8.88</td>\n      <td>195</td>\n      <td>12</td>\n      <td>1</td>\n      <td>2785</td>\n      <td>170</td>\n      <td>72.6</td>\n      <td>62</td>\n    </tr>\n    <tr>\n      <th>1</th>\n      <td>1</td>\n      <td>男</td>\n      <td>郝少杰1013</td>\n      <td>4'16</td>\n      <td>7.70</td>\n      <td>225</td>\n      <td>11</td>\n      <td>7</td>\n      <td>3133</td>\n      <td>174</td>\n      <td>52.7</td>\n      <td>68</td>\n    </tr>\n    <tr>\n      <th>2</th>\n      <td>1</td>\n      <td>男</td>\n      <td>郝梓烨0619</td>\n      <td>4'09</td>\n      <td>8.45</td>\n      <td>218.0</td>\n      <td>14</td>\n      <td>1</td>\n      <td>3901</td>\n      <td>169</td>\n      <td>46.5</td>\n      <td>80</td>\n    </tr>\n    <tr>\n      <th>3</th>\n      <td>1</td>\n      <td>男</td>\n      <td>何弘源1010</td>\n      <td>4'21</td>\n      <td>8.05</td>\n      <td>206</td>\n      <td>13</td>\n      <td>1</td>\n      <td>4946</td>\n      <td>183</td>\n      <td>79.7</td>\n      <td>100</td>\n    </tr>\n    <tr>\n      <th>4</th>\n      <td>1</td>\n      <td>男</td>\n      <td>刘硕鹏1212</td>\n      <td>3'44</td>\n      <td>7.52</td>\n      <td>210</td>\n      <td>13</td>\n      <td>9</td>\n      <td>3538</td>\n      <td>171</td>\n      <td>54.7</td>\n      <td>74</td>\n    </tr>\n    <tr>\n      <th>...</th>\n      <td>...</td>\n      <td>...</td>\n      <td>...</td>\n      <td>...</td>\n      <td>...</td>\n      <td>...</td>\n      <td>...</td>\n      <td>...</td>\n      <td>...</td>\n      <td>...</td>\n      <td>...</td>\n      <td>...</td>\n    </tr>\n    <tr>\n      <th>488</th>\n      <td>17</td>\n      <td>男</td>\n      <td>张乔楠0311</td>\n      <td>4'23</td>\n      <td>8.27</td>\n      <td>208</td>\n      <td>10</td>\n      <td>0</td>\n      <td>4647</td>\n      <td>176</td>\n      <td>69.5</td>\n      <td>100</td>\n    </tr>\n    <tr>\n      <th>489</th>\n      <td>17</td>\n      <td>男</td>\n      <td>郭泽森0333</td>\n      <td>5'19</td>\n      <td>9.55</td>\n      <td>210</td>\n      <td>15</td>\n      <td>6</td>\n      <td>7042</td>\n      <td>177</td>\n      <td>76</td>\n      <td>100</td>\n    </tr>\n    <tr>\n      <th>490</th>\n      <td>17</td>\n      <td>男</td>\n      <td>陈子龙061X</td>\n      <td>3'25</td>\n      <td>7.5</td>\n      <td>252</td>\n      <td>13</td>\n      <td>13</td>\n      <td>5755</td>\n      <td>181</td>\n      <td>65</td>\n      <td>100</td>\n    </tr>\n    <tr>\n      <th>491</th>\n      <td>17</td>\n      <td>男</td>\n      <td>王丹龙0636</td>\n      <td>4'39</td>\n      <td>7.81</td>\n      <td>208</td>\n      <td>14</td>\n      <td>11</td>\n      <td>5688</td>\n      <td>172</td>\n      <td>51.7</td>\n      <td>100</td>\n    </tr>\n    <tr>\n      <th>492</th>\n      <td>17</td>\n      <td>男</td>\n      <td>王玉涵0636</td>\n      <td>NaN</td>\n      <td>NaN</td>\n      <td>NaN</td>\n      <td>NaN</td>\n      <td>NaN</td>\n      <td>NaN</td>\n      <td>NaN</td>\n      <td>NaN</td>\n      <td>0</td>\n    </tr>\n  </tbody>\n</table>\n<p>477 rows × 12 columns</p>\n</div>"
     },
     "execution_count": 32,
     "metadata": {},
     "output_type": "execute_result"
    }
   ],
   "source": [
    "boy4['肺活量得分'] = boy4['肺活量'].map(boy_vital)\n",
    "boy4\n"
   ],
   "metadata": {
    "collapsed": false,
    "ExecuteTime": {
     "end_time": "2023-12-04T13:22:59.768736Z",
     "start_time": "2023-12-04T13:22:59.409103Z"
    }
   },
   "id": "112b05b3c1c00ade"
  },
  {
   "cell_type": "code",
   "execution_count": 33,
   "outputs": [
    {
     "data": {
      "text/plain": "     班级 性别       姓名 1000米   50米     跳远  体前屈   引体   肺活量   身高    体重  肺活量得分\n0     1  男  高孜阳0611  4'13  8.88    195   12    1  2785  170  72.6     62\n1     1  男  郝少杰1013  4'16  7.70    225   11    7  3133  174  52.7     68\n2     1  男  郝梓烨0619  4'09  8.45  218.0   14    1  3901  169  46.5     80\n3     1  男  何弘源1010  4'21  8.05    206   13    1  4946  183  79.7    100\n4     1  男  刘硕鹏1212  3'44  7.52    210   13    9  3538  171  54.7     74\n..   .. ..      ...   ...   ...    ...  ...  ...   ...  ...   ...    ...\n488  17  男  张乔楠0311  4'23  8.27    208   10    0  4647  176  69.5    100\n489  17  男  郭泽森0333  5'19  9.55    210   15    6  7042  177    76    100\n490  17  男  陈子龙061X  3'25   7.5    252   13   13  5755  181    65    100\n491  17  男  王丹龙0636  4'39  7.81    208   14   11  5688  172  51.7    100\n492  17  男  王玉涵0636   NaN   NaN    NaN  NaN  NaN   NaN  NaN   NaN      0\n\n[477 rows x 12 columns]",
      "text/html": "<div>\n<style scoped>\n    .dataframe tbody tr th:only-of-type {\n        vertical-align: middle;\n    }\n\n    .dataframe tbody tr th {\n        vertical-align: top;\n    }\n\n    .dataframe thead th {\n        text-align: right;\n    }\n</style>\n<table border=\"1\" class=\"dataframe\">\n  <thead>\n    <tr style=\"text-align: right;\">\n      <th></th>\n      <th>班级</th>\n      <th>性别</th>\n      <th>姓名</th>\n      <th>1000米</th>\n      <th>50米</th>\n      <th>跳远</th>\n      <th>体前屈</th>\n      <th>引体</th>\n      <th>肺活量</th>\n      <th>身高</th>\n      <th>体重</th>\n      <th>肺活量得分</th>\n    </tr>\n  </thead>\n  <tbody>\n    <tr>\n      <th>0</th>\n      <td>1</td>\n      <td>男</td>\n      <td>高孜阳0611</td>\n      <td>4'13</td>\n      <td>8.88</td>\n      <td>195</td>\n      <td>12</td>\n      <td>1</td>\n      <td>2785</td>\n      <td>170</td>\n      <td>72.6</td>\n      <td>62</td>\n    </tr>\n    <tr>\n      <th>1</th>\n      <td>1</td>\n      <td>男</td>\n      <td>郝少杰1013</td>\n      <td>4'16</td>\n      <td>7.70</td>\n      <td>225</td>\n      <td>11</td>\n      <td>7</td>\n      <td>3133</td>\n      <td>174</td>\n      <td>52.7</td>\n      <td>68</td>\n    </tr>\n    <tr>\n      <th>2</th>\n      <td>1</td>\n      <td>男</td>\n      <td>郝梓烨0619</td>\n      <td>4'09</td>\n      <td>8.45</td>\n      <td>218.0</td>\n      <td>14</td>\n      <td>1</td>\n      <td>3901</td>\n      <td>169</td>\n      <td>46.5</td>\n      <td>80</td>\n    </tr>\n    <tr>\n      <th>3</th>\n      <td>1</td>\n      <td>男</td>\n      <td>何弘源1010</td>\n      <td>4'21</td>\n      <td>8.05</td>\n      <td>206</td>\n      <td>13</td>\n      <td>1</td>\n      <td>4946</td>\n      <td>183</td>\n      <td>79.7</td>\n      <td>100</td>\n    </tr>\n    <tr>\n      <th>4</th>\n      <td>1</td>\n      <td>男</td>\n      <td>刘硕鹏1212</td>\n      <td>3'44</td>\n      <td>7.52</td>\n      <td>210</td>\n      <td>13</td>\n      <td>9</td>\n      <td>3538</td>\n      <td>171</td>\n      <td>54.7</td>\n      <td>74</td>\n    </tr>\n    <tr>\n      <th>...</th>\n      <td>...</td>\n      <td>...</td>\n      <td>...</td>\n      <td>...</td>\n      <td>...</td>\n      <td>...</td>\n      <td>...</td>\n      <td>...</td>\n      <td>...</td>\n      <td>...</td>\n      <td>...</td>\n      <td>...</td>\n    </tr>\n    <tr>\n      <th>488</th>\n      <td>17</td>\n      <td>男</td>\n      <td>张乔楠0311</td>\n      <td>4'23</td>\n      <td>8.27</td>\n      <td>208</td>\n      <td>10</td>\n      <td>0</td>\n      <td>4647</td>\n      <td>176</td>\n      <td>69.5</td>\n      <td>100</td>\n    </tr>\n    <tr>\n      <th>489</th>\n      <td>17</td>\n      <td>男</td>\n      <td>郭泽森0333</td>\n      <td>5'19</td>\n      <td>9.55</td>\n      <td>210</td>\n      <td>15</td>\n      <td>6</td>\n      <td>7042</td>\n      <td>177</td>\n      <td>76</td>\n      <td>100</td>\n    </tr>\n    <tr>\n      <th>490</th>\n      <td>17</td>\n      <td>男</td>\n      <td>陈子龙061X</td>\n      <td>3'25</td>\n      <td>7.5</td>\n      <td>252</td>\n      <td>13</td>\n      <td>13</td>\n      <td>5755</td>\n      <td>181</td>\n      <td>65</td>\n      <td>100</td>\n    </tr>\n    <tr>\n      <th>491</th>\n      <td>17</td>\n      <td>男</td>\n      <td>王丹龙0636</td>\n      <td>4'39</td>\n      <td>7.81</td>\n      <td>208</td>\n      <td>14</td>\n      <td>11</td>\n      <td>5688</td>\n      <td>172</td>\n      <td>51.7</td>\n      <td>100</td>\n    </tr>\n    <tr>\n      <th>492</th>\n      <td>17</td>\n      <td>男</td>\n      <td>王玉涵0636</td>\n      <td>NaN</td>\n      <td>NaN</td>\n      <td>NaN</td>\n      <td>NaN</td>\n      <td>NaN</td>\n      <td>NaN</td>\n      <td>NaN</td>\n      <td>NaN</td>\n      <td>0</td>\n    </tr>\n  </tbody>\n</table>\n<p>477 rows × 12 columns</p>\n</div>"
     },
     "execution_count": 33,
     "metadata": {},
     "output_type": "execute_result"
    }
   ],
   "source": [
    "boy5 =boy4 \n",
    "boy5"
   ],
   "metadata": {
    "collapsed": false,
    "ExecuteTime": {
     "end_time": "2023-12-04T13:22:59.769213Z",
     "start_time": "2023-12-04T13:22:59.415025Z"
    }
   },
   "id": "d2fb8f34bc6fbb3"
  },
  {
   "cell_type": "code",
   "execution_count": 34,
   "outputs": [
    {
     "data": {
      "text/plain": "Empty DataFrame\nColumns: [班级, 性别, 姓名, 1000米, 50米, 跳远, 体前屈, 引体, 肺活量, 身高, 体重, 肺活量得分]\nIndex: []",
      "text/html": "<div>\n<style scoped>\n    .dataframe tbody tr th:only-of-type {\n        vertical-align: middle;\n    }\n\n    .dataframe tbody tr th {\n        vertical-align: top;\n    }\n\n    .dataframe thead th {\n        text-align: right;\n    }\n</style>\n<table border=\"1\" class=\"dataframe\">\n  <thead>\n    <tr style=\"text-align: right;\">\n      <th></th>\n      <th>班级</th>\n      <th>性别</th>\n      <th>姓名</th>\n      <th>1000米</th>\n      <th>50米</th>\n      <th>跳远</th>\n      <th>体前屈</th>\n      <th>引体</th>\n      <th>肺活量</th>\n      <th>身高</th>\n      <th>体重</th>\n      <th>肺活量得分</th>\n    </tr>\n  </thead>\n  <tbody>\n  </tbody>\n</table>\n</div>"
     },
     "execution_count": 34,
     "metadata": {},
     "output_type": "execute_result"
    }
   ],
   "source": [
    "boy5[boy5['肺活量得分'].isnull()]\n"
   ],
   "metadata": {
    "collapsed": false,
    "ExecuteTime": {
     "end_time": "2023-12-04T13:22:59.769473Z",
     "start_time": "2023-12-04T13:22:59.418787Z"
    }
   },
   "id": "22ae0e5b7d263108"
  },
  {
   "cell_type": "code",
   "execution_count": 35,
   "outputs": [
    {
     "data": {
      "text/plain": "dtype('O')"
     },
     "execution_count": 35,
     "metadata": {},
     "output_type": "execute_result"
    }
   ],
   "source": [
    "# 开始处理50米跑成绩\n",
    "# 查看类型 字符串类型\n",
    "boy5['50米'].dtype\n"
   ],
   "metadata": {
    "collapsed": false,
    "ExecuteTime": {
     "end_time": "2023-12-04T13:22:59.769624Z",
     "start_time": "2023-12-04T13:22:59.421144Z"
    }
   },
   "id": "79428bea20e9b9d9"
  },
  {
   "cell_type": "code",
   "execution_count": 36,
   "outputs": [
    {
     "data": {
      "text/plain": "['8.88',\n '7.70',\n '8.45',\n '8.05',\n '7.52',\n '7.94',\n '7.75',\n '8.06',\n '7.38',\n '7.82',\n '7.37',\n '7.66',\n '0',\n '7.60',\n '8.14',\n '7.20',\n '8.15',\n '7.85',\n '7.23',\n '7.68',\n '8.30',\n '7.55',\n '7.89',\n '8.19',\n '8.21',\n '8.71',\n 7.97,\n 0,\n 8.79,\n 7.37,\n 7.77,\n 8.8,\n '6.89',\n 7.25,\n 7.36,\n 8.17,\n 7.8,\n 8.06,\n 8.16,\n 8.27,\n 8.5,\n 6.72,\n 9.25,\n 7.48,\n 8.38,\n 7.12,\n 6.91,\n 7.88,\n 7.2,\n 8.25,\n 7.84,\n 8.03,\n 9.72,\n 7.94,\n 7.6,\n 8.95,\n 8,\n 9.01,\n 7.44,\n 7.91,\n 8.64,\n 6.97,\n 7.49,\n 7.62,\n 8.77,\n 7.38,\n 8.02,\n 7.98,\n 8.21,\n 8.7,\n 7.55,\n 7.13,\n 8.56,\n 8.13,\n 7.39,\n 7.23,\n 6.65,\n 7.01,\n 1.05,\n 7.05,\n 7.5,\n 8.31,\n 7.66,\n 7.79,\n 8.55,\n 7.87,\n 8.28,\n 8.3,\n 8.29,\n 8.63,\n 7.9,\n 9.49,\n 8.44,\n 8.51,\n 8.23,\n 8.49,\n 10.02,\n 8.73,\n 7.7,\n 9.97,\n 8.75,\n 7.89,\n 7.67,\n 8.91,\n 8.2,\n 9.38,\n 9.5,\n 7.16,\n 8.58,\n 8.19,\n 7.14,\n 8.53,\n 7.51,\n 8.09,\n 7.68,\n 8.01,\n 8.67,\n 8.39,\n 7.75,\n 8.69,\n 8.61,\n 8.18,\n 9.31,\n 8.59,\n 9.06,\n 7.4,\n 8.4,\n 7.32,\n 8.6,\n 9.32,\n 8.1,\n 9.44,\n 8.37,\n 8.05,\n 7.63,\n 7.74,\n 9,\n 8.34,\n 8.11,\n 7.35,\n 8.12,\n 8.52,\n 7.82,\n 7.52,\n 7.42,\n 7.34,\n 7.69,\n 8.04,\n 8.08,\n 7.54,\n 7.59,\n 7.31,\n 8.45,\n 7.99,\n 8.26,\n 9.28,\n nan,\n 7.92,\n 7.86,\n 7.04,\n 7.56,\n 7.76,\n 7.83,\n 9.09,\n 7.22,\n 8.15,\n 7.78,\n 7.64,\n 8.22,\n 8.57,\n 8.36,\n 9.1,\n 5.96,\n 5.88,\n 9.29,\n 7.19,\n 8.96,\n 8.89,\n 8.54,\n 8.99,\n 7.81,\n 7.65,\n 7.73,\n 7.72,\n 8.41,\n 8.65,\n 8.72,\n 8.24,\n 9.17,\n 7.45,\n 8.9,\n 9.77,\n 7.96,\n 9.46,\n 8.87,\n 8.86,\n 7.85,\n 7.3,\n 9.3,\n 9.02,\n 8.46,\n 7.57,\n 8.76,\n 9.55]"
     },
     "execution_count": 36,
     "metadata": {},
     "output_type": "execute_result"
    }
   ],
   "source": [
    "boy5['50米'].unique().tolist()"
   ],
   "metadata": {
    "collapsed": false,
    "ExecuteTime": {
     "end_time": "2023-12-04T13:22:59.769904Z",
     "start_time": "2023-12-04T13:22:59.423728Z"
    }
   },
   "id": "4718932505162cc7"
  },
  {
   "cell_type": "code",
   "execution_count": 37,
   "outputs": [],
   "source": [
    "# 对数组类型进行强制转换\n",
    "boy5['50米'].astype(float)\n",
    "boy6 = boy5\n"
   ],
   "metadata": {
    "collapsed": false,
    "ExecuteTime": {
     "end_time": "2023-12-04T13:22:59.769968Z",
     "start_time": "2023-12-04T13:22:59.426697Z"
    }
   },
   "id": "7a1af970f539a40f"
  },
  {
   "cell_type": "code",
   "execution_count": 38,
   "outputs": [
    {
     "data": {
      "text/plain": "dtype('O')"
     },
     "execution_count": 38,
     "metadata": {},
     "output_type": "execute_result"
    }
   ],
   "source": [
    "boy6.loc[:,'50米'] = boy6['50米'].astype(float)\n",
    "boy6['50米'].dtype"
   ],
   "metadata": {
    "collapsed": false,
    "ExecuteTime": {
     "end_time": "2023-12-04T13:22:59.770116Z",
     "start_time": "2023-12-04T13:22:59.428957Z"
    }
   },
   "id": "8dcfd27253292300"
  },
  {
   "cell_type": "code",
   "execution_count": 39,
   "outputs": [
    {
     "data": {
      "text/plain": "0      7.1\n1      7.2\n2      7.3\n3      7.4\n4      7.5\n5      7.7\n6      7.9\n7      8.1\n8      8.3\n9      8.5\n10     8.7\n11     8.9\n12     9.1\n13     9.3\n14     9.5\n15     9.7\n16     9.9\n17    10.1\n18    10.3\n19    10.5\nName: 成绩, dtype: float64"
     },
     "execution_count": 39,
     "metadata": {},
     "output_type": "execute_result"
    }
   ],
   "source": [
    "score_stand['男50米跑']['成绩']"
   ],
   "metadata": {
    "collapsed": false,
    "ExecuteTime": {
     "end_time": "2023-12-04T13:22:59.770289Z",
     "start_time": "2023-12-04T13:22:59.432407Z"
    }
   },
   "id": "cae0b43b9bb25bd6"
  },
  {
   "cell_type": "code",
   "execution_count": 40,
   "outputs": [],
   "source": [
    "df_50M = score_stand['男50米跑']\n",
    "def map_50M(x):\n",
    "    for score in df_50M['成绩']:\n",
    "        if x <= score:\n",
    "            return df_50M.loc[df_50M['成绩'] == score]['分数'].values[0]\n",
    "    return 0.0\n",
    "            \n",
    "    "
   ],
   "metadata": {
    "collapsed": false,
    "ExecuteTime": {
     "end_time": "2023-12-04T13:22:59.770353Z",
     "start_time": "2023-12-04T13:22:59.435266Z"
    }
   },
   "id": "9e532152da62859c"
  },
  {
   "cell_type": "code",
   "execution_count": 41,
   "outputs": [
    {
     "data": {
      "text/plain": "74"
     },
     "execution_count": 41,
     "metadata": {},
     "output_type": "execute_result"
    }
   ],
   "source": [
    "map_50M(8)\n"
   ],
   "metadata": {
    "collapsed": false,
    "ExecuteTime": {
     "end_time": "2023-12-04T13:22:59.770484Z",
     "start_time": "2023-12-04T13:22:59.440529Z"
    }
   },
   "id": "2c493578113b7cc2"
  },
  {
   "cell_type": "code",
   "execution_count": 42,
   "outputs": [
    {
     "data": {
      "text/plain": "0      66.0\n1      78.0\n2      70.0\n3      74.0\n4      78.0\n       ... \n488    72.0\n489    50.0\n490    80.0\n491    76.0\n492     0.0\nName: 50米, Length: 477, dtype: float64"
     },
     "execution_count": 42,
     "metadata": {},
     "output_type": "execute_result"
    }
   ],
   "source": [
    "boy6['50米'].map(map_50M)"
   ],
   "metadata": {
    "collapsed": false,
    "ExecuteTime": {
     "end_time": "2023-12-04T13:22:59.771685Z",
     "start_time": "2023-12-04T13:22:59.454369Z"
    }
   },
   "id": "b75bbb5ee238fb6d"
  },
  {
   "cell_type": "code",
   "execution_count": 50,
   "outputs": [
    {
     "name": "stderr",
     "output_type": "stream",
     "text": [
      "/var/folders/dy/928gcgsd22s9cmd5h8gf7vx40000gn/T/ipykernel_35622/638819219.py:1: SettingWithCopyWarning: \n",
      "A value is trying to be set on a copy of a slice from a DataFrame.\n",
      "Try using .loc[row_indexer,col_indexer] = value instead\n",
      "\n",
      "See the caveats in the documentation: https://pandas.pydata.org/pandas-docs/stable/user_guide/indexing.html#returning-a-view-versus-a-copy\n",
      "  boy6['50米跑得分'] = boy6['50米'].map(map_50M)\n"
     ]
    }
   ],
   "source": [
    "boy6['50米跑得分'] = boy6['50米'].map(map_50M)\n",
    "boy7 = boy6"
   ],
   "metadata": {
    "collapsed": false,
    "ExecuteTime": {
     "end_time": "2023-12-04T13:24:26.704437Z",
     "start_time": "2023-12-04T13:24:26.661198Z"
    }
   },
   "id": "b032a2a27fba0a71"
  },
  {
   "cell_type": "code",
   "execution_count": 52,
   "outputs": [
    {
     "data": {
      "text/plain": "     班级 性别       姓名 1000米   50米     跳远  体前屈   引体   肺活量   身高    体重  肺活量得分  \\\n0     1  男  高孜阳0611  4'13  8.88    195   12    1  2785  170  72.6     62   \n1     1  男  郝少杰1013  4'16   7.7    225   11    7  3133  174  52.7     68   \n2     1  男  郝梓烨0619  4'09  8.45  218.0   14    1  3901  169  46.5     80   \n3     1  男  何弘源1010  4'21  8.05    206   13    1  4946  183  79.7    100   \n4     1  男  刘硕鹏1212  3'44  7.52    210   13    9  3538  171  54.7     74   \n..   .. ..      ...   ...   ...    ...  ...  ...   ...  ...   ...    ...   \n488  17  男  张乔楠0311  4'23  8.27    208   10    0  4647  176  69.5    100   \n489  17  男  郭泽森0333  5'19  9.55    210   15    6  7042  177    76    100   \n490  17  男  陈子龙061X  3'25   7.5    252   13   13  5755  181    65    100   \n491  17  男  王丹龙0636  4'39  7.81    208   14   11  5688  172  51.7    100   \n492  17  男  王玉涵0636   NaN   NaN    NaN  NaN  NaN   NaN  NaN   NaN      0   \n\n     50米跑得分  \n0      66.0  \n1      78.0  \n2      70.0  \n3      74.0  \n4      78.0  \n..      ...  \n488    72.0  \n489    50.0  \n490    80.0  \n491    76.0  \n492     0.0  \n\n[477 rows x 13 columns]",
      "text/html": "<div>\n<style scoped>\n    .dataframe tbody tr th:only-of-type {\n        vertical-align: middle;\n    }\n\n    .dataframe tbody tr th {\n        vertical-align: top;\n    }\n\n    .dataframe thead th {\n        text-align: right;\n    }\n</style>\n<table border=\"1\" class=\"dataframe\">\n  <thead>\n    <tr style=\"text-align: right;\">\n      <th></th>\n      <th>班级</th>\n      <th>性别</th>\n      <th>姓名</th>\n      <th>1000米</th>\n      <th>50米</th>\n      <th>跳远</th>\n      <th>体前屈</th>\n      <th>引体</th>\n      <th>肺活量</th>\n      <th>身高</th>\n      <th>体重</th>\n      <th>肺活量得分</th>\n      <th>50米跑得分</th>\n    </tr>\n  </thead>\n  <tbody>\n    <tr>\n      <th>0</th>\n      <td>1</td>\n      <td>男</td>\n      <td>高孜阳0611</td>\n      <td>4'13</td>\n      <td>8.88</td>\n      <td>195</td>\n      <td>12</td>\n      <td>1</td>\n      <td>2785</td>\n      <td>170</td>\n      <td>72.6</td>\n      <td>62</td>\n      <td>66.0</td>\n    </tr>\n    <tr>\n      <th>1</th>\n      <td>1</td>\n      <td>男</td>\n      <td>郝少杰1013</td>\n      <td>4'16</td>\n      <td>7.7</td>\n      <td>225</td>\n      <td>11</td>\n      <td>7</td>\n      <td>3133</td>\n      <td>174</td>\n      <td>52.7</td>\n      <td>68</td>\n      <td>78.0</td>\n    </tr>\n    <tr>\n      <th>2</th>\n      <td>1</td>\n      <td>男</td>\n      <td>郝梓烨0619</td>\n      <td>4'09</td>\n      <td>8.45</td>\n      <td>218.0</td>\n      <td>14</td>\n      <td>1</td>\n      <td>3901</td>\n      <td>169</td>\n      <td>46.5</td>\n      <td>80</td>\n      <td>70.0</td>\n    </tr>\n    <tr>\n      <th>3</th>\n      <td>1</td>\n      <td>男</td>\n      <td>何弘源1010</td>\n      <td>4'21</td>\n      <td>8.05</td>\n      <td>206</td>\n      <td>13</td>\n      <td>1</td>\n      <td>4946</td>\n      <td>183</td>\n      <td>79.7</td>\n      <td>100</td>\n      <td>74.0</td>\n    </tr>\n    <tr>\n      <th>4</th>\n      <td>1</td>\n      <td>男</td>\n      <td>刘硕鹏1212</td>\n      <td>3'44</td>\n      <td>7.52</td>\n      <td>210</td>\n      <td>13</td>\n      <td>9</td>\n      <td>3538</td>\n      <td>171</td>\n      <td>54.7</td>\n      <td>74</td>\n      <td>78.0</td>\n    </tr>\n    <tr>\n      <th>...</th>\n      <td>...</td>\n      <td>...</td>\n      <td>...</td>\n      <td>...</td>\n      <td>...</td>\n      <td>...</td>\n      <td>...</td>\n      <td>...</td>\n      <td>...</td>\n      <td>...</td>\n      <td>...</td>\n      <td>...</td>\n      <td>...</td>\n    </tr>\n    <tr>\n      <th>488</th>\n      <td>17</td>\n      <td>男</td>\n      <td>张乔楠0311</td>\n      <td>4'23</td>\n      <td>8.27</td>\n      <td>208</td>\n      <td>10</td>\n      <td>0</td>\n      <td>4647</td>\n      <td>176</td>\n      <td>69.5</td>\n      <td>100</td>\n      <td>72.0</td>\n    </tr>\n    <tr>\n      <th>489</th>\n      <td>17</td>\n      <td>男</td>\n      <td>郭泽森0333</td>\n      <td>5'19</td>\n      <td>9.55</td>\n      <td>210</td>\n      <td>15</td>\n      <td>6</td>\n      <td>7042</td>\n      <td>177</td>\n      <td>76</td>\n      <td>100</td>\n      <td>50.0</td>\n    </tr>\n    <tr>\n      <th>490</th>\n      <td>17</td>\n      <td>男</td>\n      <td>陈子龙061X</td>\n      <td>3'25</td>\n      <td>7.5</td>\n      <td>252</td>\n      <td>13</td>\n      <td>13</td>\n      <td>5755</td>\n      <td>181</td>\n      <td>65</td>\n      <td>100</td>\n      <td>80.0</td>\n    </tr>\n    <tr>\n      <th>491</th>\n      <td>17</td>\n      <td>男</td>\n      <td>王丹龙0636</td>\n      <td>4'39</td>\n      <td>7.81</td>\n      <td>208</td>\n      <td>14</td>\n      <td>11</td>\n      <td>5688</td>\n      <td>172</td>\n      <td>51.7</td>\n      <td>100</td>\n      <td>76.0</td>\n    </tr>\n    <tr>\n      <th>492</th>\n      <td>17</td>\n      <td>男</td>\n      <td>王玉涵0636</td>\n      <td>NaN</td>\n      <td>NaN</td>\n      <td>NaN</td>\n      <td>NaN</td>\n      <td>NaN</td>\n      <td>NaN</td>\n      <td>NaN</td>\n      <td>NaN</td>\n      <td>0</td>\n      <td>0.0</td>\n    </tr>\n  </tbody>\n</table>\n<p>477 rows × 13 columns</p>\n</div>"
     },
     "execution_count": 52,
     "metadata": {},
     "output_type": "execute_result"
    }
   ],
   "source": [
    "boy7"
   ],
   "metadata": {
    "collapsed": false,
    "ExecuteTime": {
     "end_time": "2023-12-04T13:24:35.929332Z",
     "start_time": "2023-12-04T13:24:35.923722Z"
    }
   },
   "id": "cbb26f42573534f9"
  },
  {
   "cell_type": "code",
   "execution_count": 148,
   "outputs": [
    {
     "data": {
      "text/plain": "['4', '13']"
     },
     "execution_count": 148,
     "metadata": {},
     "output_type": "execute_result"
    }
   ],
   "source": [
    "### 1000米成绩处理\n",
    "boy7['1000米'].loc[0].split(\"'\")"
   ],
   "metadata": {
    "collapsed": false,
    "ExecuteTime": {
     "end_time": "2023-12-04T15:13:15.491985Z",
     "start_time": "2023-12-04T15:13:15.481671Z"
    }
   },
   "id": "6386b2ca2fa4d342"
  },
  {
   "cell_type": "code",
   "execution_count": 153,
   "outputs": [],
   "source": [
    "def process_1000(x):\n",
    "    # 非字符串返回\n",
    "    if not isinstance(x,str):\n",
    "        return x\n",
    "    m,s = x.split(\"'\")\n",
    "    return float(\"{}.{}\".format(m,s))\n",
    "    "
   ],
   "metadata": {
    "collapsed": false,
    "ExecuteTime": {
     "end_time": "2023-12-04T15:20:17.174445Z",
     "start_time": "2023-12-04T15:20:17.150194Z"
    }
   },
   "id": "9a5e1a1c777592ba"
  },
  {
   "cell_type": "code",
   "execution_count": 154,
   "outputs": [
    {
     "data": {
      "text/plain": "0      4.13\n1      4.16\n2      4.09\n3      4.21\n4      3.44\n       ... \n488    4.23\n489    5.19\n490    3.25\n491    4.39\n492     NaN\nName: 1000米, Length: 477, dtype: float64"
     },
     "execution_count": 154,
     "metadata": {},
     "output_type": "execute_result"
    }
   ],
   "source": [
    "boy7['1000米'].map(process_1000)"
   ],
   "metadata": {
    "collapsed": false,
    "ExecuteTime": {
     "end_time": "2023-12-04T15:20:24.617294Z",
     "start_time": "2023-12-04T15:20:24.588577Z"
    }
   },
   "id": "82caae11be00b6f6"
  },
  {
   "cell_type": "code",
   "execution_count": 128,
   "outputs": [
    {
     "name": "stdout",
     "output_type": "stream",
     "text": [
      "4\n"
     ]
    }
   ],
   "source": [
    "\n"
   ],
   "metadata": {
    "collapsed": false,
    "ExecuteTime": {
     "end_time": "2023-12-04T15:10:45.506341Z",
     "start_time": "2023-12-04T15:10:45.501243Z"
    }
   },
   "id": "cd789749d5f68"
  }
 ],
 "metadata": {
  "kernelspec": {
   "display_name": "Python 3",
   "language": "python",
   "name": "python3"
  },
  "language_info": {
   "codemirror_mode": {
    "name": "ipython",
    "version": 2
   },
   "file_extension": ".py",
   "mimetype": "text/x-python",
   "name": "python",
   "nbconvert_exporter": "python",
   "pygments_lexer": "ipython2",
   "version": "2.7.6"
  }
 },
 "nbformat": 4,
 "nbformat_minor": 5
}
