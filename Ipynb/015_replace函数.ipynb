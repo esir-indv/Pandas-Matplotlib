{
 "cells": [
  {
   "cell_type": "code",
   "execution_count": 2,
   "id": "initial_id",
   "metadata": {
    "collapsed": true,
    "ExecuteTime": {
     "end_time": "2023-11-23T07:14:46.234068Z",
     "start_time": "2023-11-23T07:14:46.227241Z"
    }
   },
   "outputs": [],
   "source": [
    "import numpy as np\n",
    "import pandas as pd\n",
    "from pandas import Series, DataFrame\n",
    "import matplotlib.pyplot as plt\n",
    "%matplotlib inline"
   ]
  },
  {
   "cell_type": "code",
   "execution_count": 7,
   "outputs": [
    {
     "data": {
      "text/plain": "     name c_name  age       salary\n0   liwei     还好   99  5570.091355\n1  liangl     催化    5  2657.307063\n2    ting     苹果    9  5699.014142\n3    mery     梨子   67  9120.793445\n4    jack     科技   87  8473.322481",
      "text/html": "<div>\n<style scoped>\n    .dataframe tbody tr th:only-of-type {\n        vertical-align: middle;\n    }\n\n    .dataframe tbody tr th {\n        vertical-align: top;\n    }\n\n    .dataframe thead th {\n        text-align: right;\n    }\n</style>\n<table border=\"1\" class=\"dataframe\">\n  <thead>\n    <tr style=\"text-align: right;\">\n      <th></th>\n      <th>name</th>\n      <th>c_name</th>\n      <th>age</th>\n      <th>salary</th>\n    </tr>\n  </thead>\n  <tbody>\n    <tr>\n      <th>0</th>\n      <td>liwei</td>\n      <td>还好</td>\n      <td>99</td>\n      <td>5570.091355</td>\n    </tr>\n    <tr>\n      <th>1</th>\n      <td>liangl</td>\n      <td>催化</td>\n      <td>5</td>\n      <td>2657.307063</td>\n    </tr>\n    <tr>\n      <th>2</th>\n      <td>ting</td>\n      <td>苹果</td>\n      <td>9</td>\n      <td>5699.014142</td>\n    </tr>\n    <tr>\n      <th>3</th>\n      <td>mery</td>\n      <td>梨子</td>\n      <td>67</td>\n      <td>9120.793445</td>\n    </tr>\n    <tr>\n      <th>4</th>\n      <td>jack</td>\n      <td>科技</td>\n      <td>87</td>\n      <td>8473.322481</td>\n    </tr>\n  </tbody>\n</table>\n</div>"
     },
     "execution_count": 7,
     "metadata": {},
     "output_type": "execute_result"
    }
   ],
   "source": [
    "# Excel查找替换\n",
    "df = DataFrame(data={\n",
    "    'name':['liwei','liangl','ting','mery','jack'],\n",
    "    'c_name':['还好','催化','苹果','梨子','科技'],\n",
    "    'age':np.random.randint(1,100,size=5),\n",
    "    'salary':np.random.random(size=5)*10000\n",
    "})\n",
    "df"
   ],
   "metadata": {
    "collapsed": false,
    "ExecuteTime": {
     "end_time": "2023-11-23T07:18:51.466515Z",
     "start_time": "2023-11-23T07:18:51.432027Z"
    }
   },
   "id": "723c2b1dc1640c5a"
  },
  {
   "cell_type": "code",
   "execution_count": 9,
   "outputs": [
    {
     "data": {
      "text/plain": "     name c_name  age       salary\n0   liwei     还好   99  5570.091355\n1  liangl     催化    5          NaN\n2    ting     苹果    9  5699.014142\n3    mery     梨子   67  9120.793445\n4    jack     科技   87  8473.322481",
      "text/html": "<div>\n<style scoped>\n    .dataframe tbody tr th:only-of-type {\n        vertical-align: middle;\n    }\n\n    .dataframe tbody tr th {\n        vertical-align: top;\n    }\n\n    .dataframe thead th {\n        text-align: right;\n    }\n</style>\n<table border=\"1\" class=\"dataframe\">\n  <thead>\n    <tr style=\"text-align: right;\">\n      <th></th>\n      <th>name</th>\n      <th>c_name</th>\n      <th>age</th>\n      <th>salary</th>\n    </tr>\n  </thead>\n  <tbody>\n    <tr>\n      <th>0</th>\n      <td>liwei</td>\n      <td>还好</td>\n      <td>99</td>\n      <td>5570.091355</td>\n    </tr>\n    <tr>\n      <th>1</th>\n      <td>liangl</td>\n      <td>催化</td>\n      <td>5</td>\n      <td>NaN</td>\n    </tr>\n    <tr>\n      <th>2</th>\n      <td>ting</td>\n      <td>苹果</td>\n      <td>9</td>\n      <td>5699.014142</td>\n    </tr>\n    <tr>\n      <th>3</th>\n      <td>mery</td>\n      <td>梨子</td>\n      <td>67</td>\n      <td>9120.793445</td>\n    </tr>\n    <tr>\n      <th>4</th>\n      <td>jack</td>\n      <td>科技</td>\n      <td>87</td>\n      <td>8473.322481</td>\n    </tr>\n  </tbody>\n</table>\n</div>"
     },
     "execution_count": 9,
     "metadata": {},
     "output_type": "execute_result"
    }
   ],
   "source": [
    "df.loc[1,'salary']= None\n",
    "df"
   ],
   "metadata": {
    "collapsed": false,
    "ExecuteTime": {
     "end_time": "2023-11-23T07:19:17.464349Z",
     "start_time": "2023-11-23T07:19:17.433462Z"
    }
   },
   "id": "b916b4dc59e92af9"
  },
  {
   "cell_type": "code",
   "execution_count": 10,
   "outputs": [
    {
     "data": {
      "text/plain": "     name c_name  age       salary\n0   liwei     还好   99  5570.091355\n1  liangl     催化    5  7215.805356\n2    ting     苹果    9  5699.014142\n3    mery     梨子   67  9120.793445\n4    jack     科技   87  8473.322481",
      "text/html": "<div>\n<style scoped>\n    .dataframe tbody tr th:only-of-type {\n        vertical-align: middle;\n    }\n\n    .dataframe tbody tr th {\n        vertical-align: top;\n    }\n\n    .dataframe thead th {\n        text-align: right;\n    }\n</style>\n<table border=\"1\" class=\"dataframe\">\n  <thead>\n    <tr style=\"text-align: right;\">\n      <th></th>\n      <th>name</th>\n      <th>c_name</th>\n      <th>age</th>\n      <th>salary</th>\n    </tr>\n  </thead>\n  <tbody>\n    <tr>\n      <th>0</th>\n      <td>liwei</td>\n      <td>还好</td>\n      <td>99</td>\n      <td>5570.091355</td>\n    </tr>\n    <tr>\n      <th>1</th>\n      <td>liangl</td>\n      <td>催化</td>\n      <td>5</td>\n      <td>7215.805356</td>\n    </tr>\n    <tr>\n      <th>2</th>\n      <td>ting</td>\n      <td>苹果</td>\n      <td>9</td>\n      <td>5699.014142</td>\n    </tr>\n    <tr>\n      <th>3</th>\n      <td>mery</td>\n      <td>梨子</td>\n      <td>67</td>\n      <td>9120.793445</td>\n    </tr>\n    <tr>\n      <th>4</th>\n      <td>jack</td>\n      <td>科技</td>\n      <td>87</td>\n      <td>8473.322481</td>\n    </tr>\n  </tbody>\n</table>\n</div>"
     },
     "execution_count": 10,
     "metadata": {},
     "output_type": "execute_result"
    }
   ],
   "source": [
    "df.replace(to_replace=np.nan,value=df.salary.mean())"
   ],
   "metadata": {
    "collapsed": false,
    "ExecuteTime": {
     "end_time": "2023-11-23T07:20:51.388796Z",
     "start_time": "2023-11-23T07:20:51.367577Z"
    }
   },
   "id": "ce29420ec273993c"
  },
  {
   "cell_type": "code",
   "execution_count": 19,
   "outputs": [
    {
     "data": {
      "text/plain": "   python  java   c\n0      19    70  58\n1      78    76  82\n2      78    94  28\n3      80    29  74\n4      89    57   2",
      "text/html": "<div>\n<style scoped>\n    .dataframe tbody tr th:only-of-type {\n        vertical-align: middle;\n    }\n\n    .dataframe tbody tr th {\n        vertical-align: top;\n    }\n\n    .dataframe thead th {\n        text-align: right;\n    }\n</style>\n<table border=\"1\" class=\"dataframe\">\n  <thead>\n    <tr style=\"text-align: right;\">\n      <th></th>\n      <th>python</th>\n      <th>java</th>\n      <th>c</th>\n    </tr>\n  </thead>\n  <tbody>\n    <tr>\n      <th>0</th>\n      <td>19</td>\n      <td>70</td>\n      <td>58</td>\n    </tr>\n    <tr>\n      <th>1</th>\n      <td>78</td>\n      <td>76</td>\n      <td>82</td>\n    </tr>\n    <tr>\n      <th>2</th>\n      <td>78</td>\n      <td>94</td>\n      <td>28</td>\n    </tr>\n    <tr>\n      <th>3</th>\n      <td>80</td>\n      <td>29</td>\n      <td>74</td>\n    </tr>\n    <tr>\n      <th>4</th>\n      <td>89</td>\n      <td>57</td>\n      <td>2</td>\n    </tr>\n  </tbody>\n</table>\n</div>"
     },
     "execution_count": 19,
     "metadata": {},
     "output_type": "execute_result"
    }
   ],
   "source": [
    "score = DataFrame(data=np.random.randint(0,100,size=(5,3)),columns=['python','java','c'])\n",
    "score"
   ],
   "metadata": {
    "collapsed": false,
    "ExecuteTime": {
     "end_time": "2023-11-23T07:28:16.419905Z",
     "start_time": "2023-11-23T07:28:16.392738Z"
    }
   },
   "id": "e7c3ca14276ca627"
  },
  {
   "cell_type": "code",
   "execution_count": 20,
   "outputs": [
    {
     "data": {
      "text/plain": "   python  java    c\n0      19    70  100\n1      78    76  100\n2      78    94   28\n3      80    29   74\n4      89    57    2",
      "text/html": "<div>\n<style scoped>\n    .dataframe tbody tr th:only-of-type {\n        vertical-align: middle;\n    }\n\n    .dataframe tbody tr th {\n        vertical-align: top;\n    }\n\n    .dataframe thead th {\n        text-align: right;\n    }\n</style>\n<table border=\"1\" class=\"dataframe\">\n  <thead>\n    <tr style=\"text-align: right;\">\n      <th></th>\n      <th>python</th>\n      <th>java</th>\n      <th>c</th>\n    </tr>\n  </thead>\n  <tbody>\n    <tr>\n      <th>0</th>\n      <td>19</td>\n      <td>70</td>\n      <td>100</td>\n    </tr>\n    <tr>\n      <th>1</th>\n      <td>78</td>\n      <td>76</td>\n      <td>100</td>\n    </tr>\n    <tr>\n      <th>2</th>\n      <td>78</td>\n      <td>94</td>\n      <td>28</td>\n    </tr>\n    <tr>\n      <th>3</th>\n      <td>80</td>\n      <td>29</td>\n      <td>74</td>\n    </tr>\n    <tr>\n      <th>4</th>\n      <td>89</td>\n      <td>57</td>\n      <td>2</td>\n    </tr>\n  </tbody>\n</table>\n</div>"
     },
     "execution_count": 20,
     "metadata": {},
     "output_type": "execute_result"
    }
   ],
   "source": [
    "score.iloc[(0,1),(2,2)] =100\n",
    "score"
   ],
   "metadata": {
    "collapsed": false,
    "ExecuteTime": {
     "end_time": "2023-11-23T07:28:18.684498Z",
     "start_time": "2023-11-23T07:28:18.656111Z"
    }
   },
   "id": "71159a443456e1d6"
  },
  {
   "cell_type": "code",
   "execution_count": 21,
   "outputs": [
    {
     "data": {
      "text/plain": "   python  java     c\n0      19    70  60.8\n1      78    76  60.8\n2      78    94  28.0\n3      80    29  74.0\n4      89    57   2.0",
      "text/html": "<div>\n<style scoped>\n    .dataframe tbody tr th:only-of-type {\n        vertical-align: middle;\n    }\n\n    .dataframe tbody tr th {\n        vertical-align: top;\n    }\n\n    .dataframe thead th {\n        text-align: right;\n    }\n</style>\n<table border=\"1\" class=\"dataframe\">\n  <thead>\n    <tr style=\"text-align: right;\">\n      <th></th>\n      <th>python</th>\n      <th>java</th>\n      <th>c</th>\n    </tr>\n  </thead>\n  <tbody>\n    <tr>\n      <th>0</th>\n      <td>19</td>\n      <td>70</td>\n      <td>60.8</td>\n    </tr>\n    <tr>\n      <th>1</th>\n      <td>78</td>\n      <td>76</td>\n      <td>60.8</td>\n    </tr>\n    <tr>\n      <th>2</th>\n      <td>78</td>\n      <td>94</td>\n      <td>28.0</td>\n    </tr>\n    <tr>\n      <th>3</th>\n      <td>80</td>\n      <td>29</td>\n      <td>74.0</td>\n    </tr>\n    <tr>\n      <th>4</th>\n      <td>89</td>\n      <td>57</td>\n      <td>2.0</td>\n    </tr>\n  </tbody>\n</table>\n</div>"
     },
     "execution_count": 21,
     "metadata": {},
     "output_type": "execute_result"
    }
   ],
   "source": [
    "# to_replace:要替换的值\n",
    "# 将100替换为当列的平均值\n",
    "score.replace(to_replace=100,value=score.mean())"
   ],
   "metadata": {
    "collapsed": false,
    "ExecuteTime": {
     "end_time": "2023-11-23T07:29:29.820209Z",
     "start_time": "2023-11-23T07:29:29.809492Z"
    }
   },
   "id": "8c6b25dd09c12b91"
  },
  {
   "cell_type": "code",
   "execution_count": 22,
   "outputs": [
    {
     "data": {
      "text/plain": "     name c_name  age       salary\n0   liwei     还好   99  5570.091355\n1  liangl     催化    5          NaN\n2    ting     苹果    9  5699.014142\n3    mery     梨子   67  9120.793445\n4    jack     科技   87  8473.322481",
      "text/html": "<div>\n<style scoped>\n    .dataframe tbody tr th:only-of-type {\n        vertical-align: middle;\n    }\n\n    .dataframe tbody tr th {\n        vertical-align: top;\n    }\n\n    .dataframe thead th {\n        text-align: right;\n    }\n</style>\n<table border=\"1\" class=\"dataframe\">\n  <thead>\n    <tr style=\"text-align: right;\">\n      <th></th>\n      <th>name</th>\n      <th>c_name</th>\n      <th>age</th>\n      <th>salary</th>\n    </tr>\n  </thead>\n  <tbody>\n    <tr>\n      <th>0</th>\n      <td>liwei</td>\n      <td>还好</td>\n      <td>99</td>\n      <td>5570.091355</td>\n    </tr>\n    <tr>\n      <th>1</th>\n      <td>liangl</td>\n      <td>催化</td>\n      <td>5</td>\n      <td>NaN</td>\n    </tr>\n    <tr>\n      <th>2</th>\n      <td>ting</td>\n      <td>苹果</td>\n      <td>9</td>\n      <td>5699.014142</td>\n    </tr>\n    <tr>\n      <th>3</th>\n      <td>mery</td>\n      <td>梨子</td>\n      <td>67</td>\n      <td>9120.793445</td>\n    </tr>\n    <tr>\n      <th>4</th>\n      <td>jack</td>\n      <td>科技</td>\n      <td>87</td>\n      <td>8473.322481</td>\n    </tr>\n  </tbody>\n</table>\n</div>"
     },
     "execution_count": 22,
     "metadata": {},
     "output_type": "execute_result"
    }
   ],
   "source": [
    "df"
   ],
   "metadata": {
    "collapsed": false,
    "ExecuteTime": {
     "end_time": "2023-11-23T07:39:04.008801Z",
     "start_time": "2023-11-23T07:39:03.997648Z"
    }
   },
   "id": "a8d64758ed854650"
  },
  {
   "cell_type": "code",
   "execution_count": 23,
   "outputs": [
    {
     "data": {
      "text/plain": "     name c_name  age       salary\n0   liwei     还好   99  5570.091355\n1  liangl     催化    5           替换\n2    ting     苹果    9  5699.014142\n3    mery     梨子   67  9120.793445\n4    jack     科技   87  8473.322481",
      "text/html": "<div>\n<style scoped>\n    .dataframe tbody tr th:only-of-type {\n        vertical-align: middle;\n    }\n\n    .dataframe tbody tr th {\n        vertical-align: top;\n    }\n\n    .dataframe thead th {\n        text-align: right;\n    }\n</style>\n<table border=\"1\" class=\"dataframe\">\n  <thead>\n    <tr style=\"text-align: right;\">\n      <th></th>\n      <th>name</th>\n      <th>c_name</th>\n      <th>age</th>\n      <th>salary</th>\n    </tr>\n  </thead>\n  <tbody>\n    <tr>\n      <th>0</th>\n      <td>liwei</td>\n      <td>还好</td>\n      <td>99</td>\n      <td>5570.091355</td>\n    </tr>\n    <tr>\n      <th>1</th>\n      <td>liangl</td>\n      <td>催化</td>\n      <td>5</td>\n      <td>替换</td>\n    </tr>\n    <tr>\n      <th>2</th>\n      <td>ting</td>\n      <td>苹果</td>\n      <td>9</td>\n      <td>5699.014142</td>\n    </tr>\n    <tr>\n      <th>3</th>\n      <td>mery</td>\n      <td>梨子</td>\n      <td>67</td>\n      <td>9120.793445</td>\n    </tr>\n    <tr>\n      <th>4</th>\n      <td>jack</td>\n      <td>科技</td>\n      <td>87</td>\n      <td>8473.322481</td>\n    </tr>\n  </tbody>\n</table>\n</div>"
     },
     "execution_count": 23,
     "metadata": {},
     "output_type": "execute_result"
    }
   ],
   "source": [
    "# None无效\n",
    "df.replace(to_replace=np.nan,value=\"替换\")"
   ],
   "metadata": {
    "collapsed": false,
    "ExecuteTime": {
     "end_time": "2023-11-23T07:39:34.174773Z",
     "start_time": "2023-11-23T07:39:34.151968Z"
    }
   },
   "id": "7aeb7838aee44158"
  },
  {
   "cell_type": "code",
   "execution_count": 25,
   "outputs": [
    {
     "data": {
      "text/plain": "     name c_name  age       salary\n0   liwei     嗨浩   99  5570.091355\n1  liangl     翠花    5          NaN\n2    ting     苹果    9  5699.014142\n3    mery     梨子   67  9120.793445\n4    jack     科技   87  8473.322481",
      "text/html": "<div>\n<style scoped>\n    .dataframe tbody tr th:only-of-type {\n        vertical-align: middle;\n    }\n\n    .dataframe tbody tr th {\n        vertical-align: top;\n    }\n\n    .dataframe thead th {\n        text-align: right;\n    }\n</style>\n<table border=\"1\" class=\"dataframe\">\n  <thead>\n    <tr style=\"text-align: right;\">\n      <th></th>\n      <th>name</th>\n      <th>c_name</th>\n      <th>age</th>\n      <th>salary</th>\n    </tr>\n  </thead>\n  <tbody>\n    <tr>\n      <th>0</th>\n      <td>liwei</td>\n      <td>嗨浩</td>\n      <td>99</td>\n      <td>5570.091355</td>\n    </tr>\n    <tr>\n      <th>1</th>\n      <td>liangl</td>\n      <td>翠花</td>\n      <td>5</td>\n      <td>NaN</td>\n    </tr>\n    <tr>\n      <th>2</th>\n      <td>ting</td>\n      <td>苹果</td>\n      <td>9</td>\n      <td>5699.014142</td>\n    </tr>\n    <tr>\n      <th>3</th>\n      <td>mery</td>\n      <td>梨子</td>\n      <td>67</td>\n      <td>9120.793445</td>\n    </tr>\n    <tr>\n      <th>4</th>\n      <td>jack</td>\n      <td>科技</td>\n      <td>87</td>\n      <td>8473.322481</td>\n    </tr>\n  </tbody>\n</table>\n</div>"
     },
     "execution_count": 25,
     "metadata": {},
     "output_type": "execute_result"
    }
   ],
   "source": [
    "# 使用列表值进行多值替换,注意个数匹配，也可一在to_replace里面直接传入字典,字典也可以进行某一列替换\n",
    "df.replace(to_replace=['还好','催化'],value=['嗨浩','翠花'],inplace=False)"
   ],
   "metadata": {
    "collapsed": false,
    "ExecuteTime": {
     "end_time": "2023-11-23T07:42:32.440567Z",
     "start_time": "2023-11-23T07:42:32.415910Z"
    }
   },
   "id": "15777901ad17b93c"
  },
  {
   "cell_type": "code",
   "execution_count": 31,
   "outputs": [
    {
     "data": {
      "text/plain": "     name c_name  age       salary\n0   liwei     还好   99  5570.091355\n1  liangl     催化    5          NaN\n2    ting     苹果    9  5699.014142\n3    mery     梨子   67  9120.793445\n4    jack     科技   87  8473.322481",
      "text/html": "<div>\n<style scoped>\n    .dataframe tbody tr th:only-of-type {\n        vertical-align: middle;\n    }\n\n    .dataframe tbody tr th {\n        vertical-align: top;\n    }\n\n    .dataframe thead th {\n        text-align: right;\n    }\n</style>\n<table border=\"1\" class=\"dataframe\">\n  <thead>\n    <tr style=\"text-align: right;\">\n      <th></th>\n      <th>name</th>\n      <th>c_name</th>\n      <th>age</th>\n      <th>salary</th>\n    </tr>\n  </thead>\n  <tbody>\n    <tr>\n      <th>0</th>\n      <td>liwei</td>\n      <td>还好</td>\n      <td>99</td>\n      <td>5570.091355</td>\n    </tr>\n    <tr>\n      <th>1</th>\n      <td>liangl</td>\n      <td>催化</td>\n      <td>5</td>\n      <td>NaN</td>\n    </tr>\n    <tr>\n      <th>2</th>\n      <td>ting</td>\n      <td>苹果</td>\n      <td>9</td>\n      <td>5699.014142</td>\n    </tr>\n    <tr>\n      <th>3</th>\n      <td>mery</td>\n      <td>梨子</td>\n      <td>67</td>\n      <td>9120.793445</td>\n    </tr>\n    <tr>\n      <th>4</th>\n      <td>jack</td>\n      <td>科技</td>\n      <td>87</td>\n      <td>8473.322481</td>\n    </tr>\n  </tbody>\n</table>\n</div>"
     },
     "execution_count": 31,
     "metadata": {},
     "output_type": "execute_result"
    }
   ],
   "source": [
    "df.replace(to_replace={'c_name':'嗨浩'},value='冯亮')"
   ],
   "metadata": {
    "collapsed": false,
    "ExecuteTime": {
     "end_time": "2023-11-23T07:47:32.902364Z",
     "start_time": "2023-11-23T07:47:32.855672Z"
    }
   },
   "id": "ca69f096c60588b7"
  },
  {
   "cell_type": "code",
   "execution_count": 33,
   "outputs": [
    {
     "data": {
      "text/plain": "     name c_name  age       salary\n0   liwei   lulu   99  5570.091355\n1  liangl   lucy    5          NaN\n2    ting     苹果    9  5699.014142\n3    mery     梨子   67  9120.793445\n4    jack     科技   87  8473.322481",
      "text/html": "<div>\n<style scoped>\n    .dataframe tbody tr th:only-of-type {\n        vertical-align: middle;\n    }\n\n    .dataframe tbody tr th {\n        vertical-align: top;\n    }\n\n    .dataframe thead th {\n        text-align: right;\n    }\n</style>\n<table border=\"1\" class=\"dataframe\">\n  <thead>\n    <tr style=\"text-align: right;\">\n      <th></th>\n      <th>name</th>\n      <th>c_name</th>\n      <th>age</th>\n      <th>salary</th>\n    </tr>\n  </thead>\n  <tbody>\n    <tr>\n      <th>0</th>\n      <td>liwei</td>\n      <td>lulu</td>\n      <td>99</td>\n      <td>5570.091355</td>\n    </tr>\n    <tr>\n      <th>1</th>\n      <td>liangl</td>\n      <td>lucy</td>\n      <td>5</td>\n      <td>NaN</td>\n    </tr>\n    <tr>\n      <th>2</th>\n      <td>ting</td>\n      <td>苹果</td>\n      <td>9</td>\n      <td>5699.014142</td>\n    </tr>\n    <tr>\n      <th>3</th>\n      <td>mery</td>\n      <td>梨子</td>\n      <td>67</td>\n      <td>9120.793445</td>\n    </tr>\n    <tr>\n      <th>4</th>\n      <td>jack</td>\n      <td>科技</td>\n      <td>87</td>\n      <td>8473.322481</td>\n    </tr>\n  </tbody>\n</table>\n</div>"
     },
     "execution_count": 33,
     "metadata": {},
     "output_type": "execute_result"
    }
   ],
   "source": [
    "# 使用正则替换\n",
    "df.replace(to_replace=['还好','催化'],value=['lulu','lucy'],inplace=True)\n",
    "df"
   ],
   "metadata": {
    "collapsed": false,
    "ExecuteTime": {
     "end_time": "2023-11-23T07:50:28.749567Z",
     "start_time": "2023-11-23T07:50:28.727340Z"
    }
   },
   "id": "7e33abcc5bdefb51"
  },
  {
   "cell_type": "code",
   "execution_count": 34,
   "outputs": [
    {
     "data": {
      "text/plain": "     name c_name  age       salary\n0   liwei   正则替换   99  5570.091355\n1  liangl   正则替换    5          NaN\n2    ting     苹果    9  5699.014142\n3    mery     梨子   67  9120.793445\n4    jack     科技   87  8473.322481",
      "text/html": "<div>\n<style scoped>\n    .dataframe tbody tr th:only-of-type {\n        vertical-align: middle;\n    }\n\n    .dataframe tbody tr th {\n        vertical-align: top;\n    }\n\n    .dataframe thead th {\n        text-align: right;\n    }\n</style>\n<table border=\"1\" class=\"dataframe\">\n  <thead>\n    <tr style=\"text-align: right;\">\n      <th></th>\n      <th>name</th>\n      <th>c_name</th>\n      <th>age</th>\n      <th>salary</th>\n    </tr>\n  </thead>\n  <tbody>\n    <tr>\n      <th>0</th>\n      <td>liwei</td>\n      <td>正则替换</td>\n      <td>99</td>\n      <td>5570.091355</td>\n    </tr>\n    <tr>\n      <th>1</th>\n      <td>liangl</td>\n      <td>正则替换</td>\n      <td>5</td>\n      <td>NaN</td>\n    </tr>\n    <tr>\n      <th>2</th>\n      <td>ting</td>\n      <td>苹果</td>\n      <td>9</td>\n      <td>5699.014142</td>\n    </tr>\n    <tr>\n      <th>3</th>\n      <td>mery</td>\n      <td>梨子</td>\n      <td>67</td>\n      <td>9120.793445</td>\n    </tr>\n    <tr>\n      <th>4</th>\n      <td>jack</td>\n      <td>科技</td>\n      <td>87</td>\n      <td>8473.322481</td>\n    </tr>\n  </tbody>\n</table>\n</div>"
     },
     "execution_count": 34,
     "metadata": {},
     "output_type": "execute_result"
    }
   ],
   "source": [
    "# 使用正则替换\n",
    "df.replace(to_replace='lu.*',value='正则替换',regex=True)"
   ],
   "metadata": {
    "collapsed": false,
    "ExecuteTime": {
     "end_time": "2023-11-23T07:52:28.946355Z",
     "start_time": "2023-11-23T07:52:28.926551Z"
    }
   },
   "id": "e610fa279a488b68"
  },
  {
   "cell_type": "code",
   "execution_count": 38,
   "outputs": [
    {
     "data": {
      "text/plain": "0    lulu\n1    lucy\n2      苹果\n3      梨子\n4      科技\nName: c_name, dtype: object"
     },
     "execution_count": 38,
     "metadata": {},
     "output_type": "execute_result"
    }
   ],
   "source": [
    "# Series参数说明：\n",
    "# method：对指定的值使用相邻的值填充\n",
    "# limit：设定填充次数\n",
    "c_name = df.c_name.copy()\n",
    "c_name"
   ],
   "metadata": {
    "collapsed": false,
    "ExecuteTime": {
     "end_time": "2023-11-23T07:55:59.954439Z",
     "start_time": "2023-11-23T07:55:59.949644Z"
    }
   },
   "id": "5586b8162176a00b"
  },
  {
   "cell_type": "code",
   "execution_count": 39,
   "outputs": [
    {
     "name": "stderr",
     "output_type": "stream",
     "text": [
      "/var/folders/cq/85708z8s7czfx4wkp637mqg00000gn/T/ipykernel_45836/3405619374.py:1: FutureWarning: The 'limit' keyword in Series.replace is deprecated and will be removed in a future version.\n",
      "  c_name.replace(to_replace='lulu',value=\"露露\",limit=1)\n"
     ]
    },
    {
     "data": {
      "text/plain": "0      露露\n1    lucy\n2      苹果\n3      梨子\n4      科技\nName: c_name, dtype: object"
     },
     "execution_count": 39,
     "metadata": {},
     "output_type": "execute_result"
    }
   ],
   "source": [
    "c_name.replace(to_replace='lulu',value=\"露露\",limit=1)"
   ],
   "metadata": {
    "collapsed": false,
    "ExecuteTime": {
     "end_time": "2023-11-23T07:56:36.889889Z",
     "start_time": "2023-11-23T07:56:36.873944Z"
    }
   },
   "id": "ebbc003be8ecd29f"
  },
  {
   "cell_type": "code",
   "execution_count": 41,
   "outputs": [
    {
     "name": "stderr",
     "output_type": "stream",
     "text": [
      "/var/folders/cq/85708z8s7czfx4wkp637mqg00000gn/T/ipykernel_45836/3479389309.py:2: FutureWarning: The 'method' keyword in Series.replace is deprecated and will be removed in a future version.\n",
      "  c_name.replace(method ='bfill',to_replace='lucy',value=\"露露\",limit=1)\n"
     ]
    },
    {
     "data": {
      "text/plain": "0    lulu\n1      苹果\n2      苹果\n3      梨子\n4      科技\nName: c_name, dtype: object"
     },
     "execution_count": 41,
     "metadata": {},
     "output_type": "execute_result"
    }
   ],
   "source": [
    "# 使用相邻值替换，仅限在series中使用，无法在DataFrame使用\n",
    "c_name.replace(method ='bfill',to_replace='lucy',value=\"露露\",limit=1)\n"
   ],
   "metadata": {
    "collapsed": false,
    "ExecuteTime": {
     "end_time": "2023-11-23T07:58:38.118407Z",
     "start_time": "2023-11-23T07:58:38.105851Z"
    }
   },
   "id": "f4727c8d3f07a659"
  },
  {
   "cell_type": "code",
   "execution_count": null,
   "outputs": [],
   "source": [],
   "metadata": {
    "collapsed": false
   },
   "id": "87c3b4f061a5c013"
  },
  {
   "cell_type": "code",
   "execution_count": null,
   "outputs": [],
   "source": [],
   "metadata": {
    "collapsed": false
   },
   "id": "31a0898ab3ecbf40"
  }
 ],
 "metadata": {
  "kernelspec": {
   "display_name": "Python 3",
   "language": "python",
   "name": "python3"
  },
  "language_info": {
   "codemirror_mode": {
    "name": "ipython",
    "version": 2
   },
   "file_extension": ".py",
   "mimetype": "text/x-python",
   "name": "python",
   "nbconvert_exporter": "python",
   "pygments_lexer": "ipython2",
   "version": "2.7.6"
  }
 },
 "nbformat": 4,
 "nbformat_minor": 5
}
