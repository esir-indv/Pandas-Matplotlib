{
 "cells": [
  {
   "cell_type": "code",
   "id": "initial_id",
   "metadata": {
    "collapsed": true,
    "ExecuteTime": {
     "end_time": "2024-05-20T14:40:08.369726Z",
     "start_time": "2024-05-20T14:40:08.342817Z"
    }
   },
   "source": [
    "import numpy as np\n",
    "import pandas as pd\n",
    "\n",
    "\n",
    "    \n",
    "# 文件路径\n",
    "path = '/Users/fengliang/Desktop/(导入)2024年度业务经营目标任务表（含季度任务）.xlsx'\n",
    "# 读取Excel文件，并指定多层索引的列名，指定sheet\n",
    "df_excel = pd.read_excel(path, sheet_name='Sheet1', header=[0,1], index_col=[0,1])\n",
    "# 保留4位小数\n",
    "df_excel = df_excel.round(2)\n",
    "#df_excel = df_excel.style.set_properties(**{'text-align': 'center'})\n",
    "df_excel.replace(np.nan, '', inplace=True)\n",
    "#df_excel.iloc[:,4].applymap(lambda x: ('%.2f' % x))\n",
    "#df_temp = df_excel.stack()\n",
    "df_excel.replace(to_replace=np.nan,value=0, inplace=True)\n",
    "df_temp=df_excel.stack().stack()\n",
    "df_temp\n",
    "#c = df_temp.fillna(method='ffill', inplace=True)\n",
    "#c"
   ],
   "outputs": [
    {
     "data": {
      "text/plain": [
       "营业部  A9A2  三季度  蜀信e      798.0\n",
       "                惠支付       86.0\n",
       "           二季度  蜀信e      497.0\n",
       "                惠支付       54.0\n",
       "           全年   蜀信e      996.0\n",
       "                        ...   \n",
       "总计   2608  二季度  蜀信e    36000.0\n",
       "                惠支付     1500.0\n",
       "           全年   蜀信e    72000.0\n",
       "                惠支付     3000.0\n",
       "                农综站       28.0\n",
       "Length: 231, dtype: float64"
      ]
     },
     "execution_count": 71,
     "metadata": {},
     "output_type": "execute_result"
    }
   ],
   "execution_count": 71
  },
  {
   "metadata": {
    "ExecuteTime": {
     "end_time": "2024-05-20T14:40:08.372273Z",
     "start_time": "2024-05-20T14:40:08.370783Z"
    }
   },
   "cell_type": "code",
   "source": "",
   "id": "129a124caa5f2b02",
   "outputs": [],
   "execution_count": 71
  }
 ],
 "metadata": {
  "kernelspec": {
   "display_name": "Python 3",
   "language": "python",
   "name": "python3"
  },
  "language_info": {
   "codemirror_mode": {
    "name": "ipython",
    "version": 2
   },
   "file_extension": ".py",
   "mimetype": "text/x-python",
   "name": "python",
   "nbconvert_exporter": "python",
   "pygments_lexer": "ipython2",
   "version": "2.7.6"
  }
 },
 "nbformat": 4,
 "nbformat_minor": 5
}
