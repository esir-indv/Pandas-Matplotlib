{
 "cells": [
  {
   "cell_type": "code",
   "execution_count": 7,
   "id": "initial_id",
   "metadata": {
    "collapsed": true,
    "ExecuteTime": {
     "end_time": "2023-11-20T06:48:26.450401Z",
     "start_time": "2023-11-20T06:48:26.426074Z"
    }
   },
   "outputs": [],
   "source": [
    "import numpy as np\n",
    "import pandas as pd\n",
    "from pandas import Series, DataFrame\n",
    "import matplotlib.pyplot as plt\n",
    "%matplotlib inline\n"
   ]
  },
  {
   "cell_type": "code",
   "execution_count": 8,
   "outputs": [
    {
     "data": {
      "text/plain": "        张三      李四    \n        期中  期末  期中  期末\npython  10  27  83  95\njava    28  37  17  24\nc       31  51  84  67",
      "text/html": "<div>\n<style scoped>\n    .dataframe tbody tr th:only-of-type {\n        vertical-align: middle;\n    }\n\n    .dataframe tbody tr th {\n        vertical-align: top;\n    }\n\n    .dataframe thead tr th {\n        text-align: left;\n    }\n</style>\n<table border=\"1\" class=\"dataframe\">\n  <thead>\n    <tr>\n      <th></th>\n      <th colspan=\"2\" halign=\"left\">张三</th>\n      <th colspan=\"2\" halign=\"left\">李四</th>\n    </tr>\n    <tr>\n      <th></th>\n      <th>期中</th>\n      <th>期末</th>\n      <th>期中</th>\n      <th>期末</th>\n    </tr>\n  </thead>\n  <tbody>\n    <tr>\n      <th>python</th>\n      <td>10</td>\n      <td>27</td>\n      <td>83</td>\n      <td>95</td>\n    </tr>\n    <tr>\n      <th>java</th>\n      <td>28</td>\n      <td>37</td>\n      <td>17</td>\n      <td>24</td>\n    </tr>\n    <tr>\n      <th>c</th>\n      <td>31</td>\n      <td>51</td>\n      <td>84</td>\n      <td>67</td>\n    </tr>\n  </tbody>\n</table>\n</div>"
     },
     "execution_count": 8,
     "metadata": {},
     "output_type": "execute_result"
    }
   ],
   "source": [
    "# 创建一个DataFrame，表示出张三李四期中期末各科成绩，（python，java，c）\n",
    "columns = pd.MultiIndex.from_product([['张三', '李四'], ['期中', '期末']])\n",
    "index = np.array(['python', 'java', 'c'])\n",
    "df = DataFrame(data=np.random.randint(1, 100, size=(3, 4)), index=index, columns=columns)\n",
    "df"
   ],
   "metadata": {
    "collapsed": false,
    "ExecuteTime": {
     "end_time": "2023-11-20T06:48:26.479737Z",
     "start_time": "2023-11-20T06:48:26.437396Z"
    }
   },
   "id": "e0e0066cb3f3d6fb"
  },
  {
   "cell_type": "code",
   "execution_count": 9,
   "outputs": [
    {
     "data": {
      "text/plain": "        上学期             下学期         \n     python java   c python java   c\ntom      95   47  34     80   77  33\nlucy      7   46  93     94   93  50\njack     64   52  51     39   25  88",
      "text/html": "<div>\n<style scoped>\n    .dataframe tbody tr th:only-of-type {\n        vertical-align: middle;\n    }\n\n    .dataframe tbody tr th {\n        vertical-align: top;\n    }\n\n    .dataframe thead tr th {\n        text-align: left;\n    }\n</style>\n<table border=\"1\" class=\"dataframe\">\n  <thead>\n    <tr>\n      <th></th>\n      <th colspan=\"3\" halign=\"left\">上学期</th>\n      <th colspan=\"3\" halign=\"left\">下学期</th>\n    </tr>\n    <tr>\n      <th></th>\n      <th>python</th>\n      <th>java</th>\n      <th>c</th>\n      <th>python</th>\n      <th>java</th>\n      <th>c</th>\n    </tr>\n  </thead>\n  <tbody>\n    <tr>\n      <th>tom</th>\n      <td>95</td>\n      <td>47</td>\n      <td>34</td>\n      <td>80</td>\n      <td>77</td>\n      <td>33</td>\n    </tr>\n    <tr>\n      <th>lucy</th>\n      <td>7</td>\n      <td>46</td>\n      <td>93</td>\n      <td>94</td>\n      <td>93</td>\n      <td>50</td>\n    </tr>\n    <tr>\n      <th>jack</th>\n      <td>64</td>\n      <td>52</td>\n      <td>51</td>\n      <td>39</td>\n      <td>25</td>\n      <td>88</td>\n    </tr>\n  </tbody>\n</table>\n</div>"
     },
     "execution_count": 9,
     "metadata": {},
     "output_type": "execute_result"
    }
   ],
   "source": [
    "# 练习：\n",
    "# 构造一个多层级列索引成绩表，分值在0-100内随机\n",
    "# 一级标题为上学期和下学期，二级标题为python、java、c，行标签为tom、Lucy、jack\n",
    "# 同时获取上学期和下学期tom的成绩，计算tom的各学科的平均成绩\n",
    "# 获取上学期jack的python成绩，并给他加20分\n",
    "\n",
    "index = np.array(['tom', 'lucy', 'jack'])\n",
    "columns = pd.MultiIndex.from_product([['上学期', '下学期'], ['python', 'java', 'c']])\n",
    "data = np.random.randint(0,100,size=(3,6))\n",
    "df1 = DataFrame(data=data,index=index,columns=columns)\n",
    "df1"
   ],
   "metadata": {
    "collapsed": false,
    "ExecuteTime": {
     "end_time": "2023-11-20T06:48:26.480081Z",
     "start_time": "2023-11-20T06:48:26.445790Z"
    }
   },
   "id": "f9127d0b1fa7e33e"
  },
  {
   "cell_type": "code",
   "execution_count": 10,
   "outputs": [],
   "source": [
    "# 练习13:\n",
    "# 想一想级联的应用场景\n",
    "# 使用昨天的知识，建立一个期中考试张三、李四的成绩表ddd\n",
    "# 假设新增考试学科‘计算机’，如何实现\n",
    "# 新增王老五的成绩，如何实现？\n",
    "#【使用级联来实现】\n",
    "# 测试，这里使用了外接蓝牙键盘\n",
    " "
   ],
   "metadata": {
    "collapsed": false,
    "ExecuteTime": {
     "end_time": "2023-11-20T06:48:26.480559Z",
     "start_time": "2023-11-20T06:48:26.448893Z"
    }
   },
   "id": "771e4bd862040ea7"
  },
  {
   "cell_type": "code",
   "execution_count": 11,
   "outputs": [
    {
     "data": {
      "text/plain": "    语文  数学\n张三  71  40\n李四  48  95",
      "text/html": "<div>\n<style scoped>\n    .dataframe tbody tr th:only-of-type {\n        vertical-align: middle;\n    }\n\n    .dataframe tbody tr th {\n        vertical-align: top;\n    }\n\n    .dataframe thead th {\n        text-align: right;\n    }\n</style>\n<table border=\"1\" class=\"dataframe\">\n  <thead>\n    <tr style=\"text-align: right;\">\n      <th></th>\n      <th>语文</th>\n      <th>数学</th>\n    </tr>\n  </thead>\n  <tbody>\n    <tr>\n      <th>张三</th>\n      <td>71</td>\n      <td>40</td>\n    </tr>\n    <tr>\n      <th>李四</th>\n      <td>48</td>\n      <td>95</td>\n    </tr>\n  </tbody>\n</table>\n</div>"
     },
     "execution_count": 11,
     "metadata": {},
     "output_type": "execute_result"
    }
   ],
   "source": [
    "columns = np.array(['语文','数学'])\n",
    "index = np.array(['张三','李四'])\n",
    "df2 = DataFrame(data=np.random.randint(40,100,size=(2,2)) ,index=index, columns= columns)\n",
    "df2"
   ],
   "metadata": {
    "collapsed": false,
    "ExecuteTime": {
     "end_time": "2023-11-20T06:48:26.481326Z",
     "start_time": "2023-11-20T06:48:26.454192Z"
    }
   },
   "id": "5d1a59ecf4d1bd68"
  },
  {
   "cell_type": "code",
   "execution_count": 12,
   "outputs": [
    {
     "data": {
      "text/plain": "    计算机\n张三   79\n李四   61",
      "text/html": "<div>\n<style scoped>\n    .dataframe tbody tr th:only-of-type {\n        vertical-align: middle;\n    }\n\n    .dataframe tbody tr th {\n        vertical-align: top;\n    }\n\n    .dataframe thead th {\n        text-align: right;\n    }\n</style>\n<table border=\"1\" class=\"dataframe\">\n  <thead>\n    <tr style=\"text-align: right;\">\n      <th></th>\n      <th>计算机</th>\n    </tr>\n  </thead>\n  <tbody>\n    <tr>\n      <th>张三</th>\n      <td>79</td>\n    </tr>\n    <tr>\n      <th>李四</th>\n      <td>61</td>\n    </tr>\n  </tbody>\n</table>\n</div>"
     },
     "execution_count": 12,
     "metadata": {},
     "output_type": "execute_result"
    }
   ],
   "source": [
    "columns = np.array(['计算机'])\n",
    "index = np.array(['张三','李四'])\n",
    "df3 = DataFrame(data=np.random.randint(40,100,size=(2,1)) ,index=index, columns= columns)\n",
    "df3"
   ],
   "metadata": {
    "collapsed": false,
    "ExecuteTime": {
     "end_time": "2023-11-20T06:48:26.481578Z",
     "start_time": "2023-11-20T06:48:26.459251Z"
    }
   },
   "id": "ba59abf4fd1503a0"
  },
  {
   "cell_type": "code",
   "execution_count": 14,
   "outputs": [
    {
     "data": {
      "text/plain": "      语文    数学   计算机\n张三  71.0  40.0   NaN\n李四  48.0  95.0   NaN\n张三   NaN   NaN  79.0\n李四   NaN   NaN  61.0",
      "text/html": "<div>\n<style scoped>\n    .dataframe tbody tr th:only-of-type {\n        vertical-align: middle;\n    }\n\n    .dataframe tbody tr th {\n        vertical-align: top;\n    }\n\n    .dataframe thead th {\n        text-align: right;\n    }\n</style>\n<table border=\"1\" class=\"dataframe\">\n  <thead>\n    <tr style=\"text-align: right;\">\n      <th></th>\n      <th>语文</th>\n      <th>数学</th>\n      <th>计算机</th>\n    </tr>\n  </thead>\n  <tbody>\n    <tr>\n      <th>张三</th>\n      <td>71.0</td>\n      <td>40.0</td>\n      <td>NaN</td>\n    </tr>\n    <tr>\n      <th>李四</th>\n      <td>48.0</td>\n      <td>95.0</td>\n      <td>NaN</td>\n    </tr>\n    <tr>\n      <th>张三</th>\n      <td>NaN</td>\n      <td>NaN</td>\n      <td>79.0</td>\n    </tr>\n    <tr>\n      <th>李四</th>\n      <td>NaN</td>\n      <td>NaN</td>\n      <td>61.0</td>\n    </tr>\n  </tbody>\n</table>\n</div>"
     },
     "execution_count": 14,
     "metadata": {},
     "output_type": "execute_result"
    }
   ],
   "source": [
    "# 能够匹配的级联,默认纵向\n",
    "pd4 = pd.concat((df2,df3))\n",
    "pd4"
   ],
   "metadata": {
    "collapsed": false,
    "ExecuteTime": {
     "end_time": "2023-11-20T06:51:10.909455Z",
     "start_time": "2023-11-20T06:51:10.897709Z"
    }
   },
   "id": "4522740e5d972fbf"
  },
  {
   "cell_type": "code",
   "execution_count": 15,
   "outputs": [
    {
     "data": {
      "text/plain": "    语文  数学  计算机\n张三  71  40   79\n李四  48  95   61",
      "text/html": "<div>\n<style scoped>\n    .dataframe tbody tr th:only-of-type {\n        vertical-align: middle;\n    }\n\n    .dataframe tbody tr th {\n        vertical-align: top;\n    }\n\n    .dataframe thead th {\n        text-align: right;\n    }\n</style>\n<table border=\"1\" class=\"dataframe\">\n  <thead>\n    <tr style=\"text-align: right;\">\n      <th></th>\n      <th>语文</th>\n      <th>数学</th>\n      <th>计算机</th>\n    </tr>\n  </thead>\n  <tbody>\n    <tr>\n      <th>张三</th>\n      <td>71</td>\n      <td>40</td>\n      <td>79</td>\n    </tr>\n    <tr>\n      <th>李四</th>\n      <td>48</td>\n      <td>95</td>\n      <td>61</td>\n    </tr>\n  </tbody>\n</table>\n</div>"
     },
     "execution_count": 15,
     "metadata": {},
     "output_type": "execute_result"
    }
   ],
   "source": [
    "# 能够匹配的级联,改为横向\n",
    "pd5 = pd.concat((df2,df3),axis=1)\n",
    "pd5"
   ],
   "metadata": {
    "collapsed": false,
    "ExecuteTime": {
     "end_time": "2023-11-20T06:52:34.731688Z",
     "start_time": "2023-11-20T06:52:34.717594Z"
    }
   },
   "id": "9588042f33aa1076"
  },
  {
   "cell_type": "code",
   "execution_count": 18,
   "outputs": [
    {
     "data": {
      "text/plain": "    语文  数学  计算机\n王五  91  78   80",
      "text/html": "<div>\n<style scoped>\n    .dataframe tbody tr th:only-of-type {\n        vertical-align: middle;\n    }\n\n    .dataframe tbody tr th {\n        vertical-align: top;\n    }\n\n    .dataframe thead th {\n        text-align: right;\n    }\n</style>\n<table border=\"1\" class=\"dataframe\">\n  <thead>\n    <tr style=\"text-align: right;\">\n      <th></th>\n      <th>语文</th>\n      <th>数学</th>\n      <th>计算机</th>\n    </tr>\n  </thead>\n  <tbody>\n    <tr>\n      <th>王五</th>\n      <td>91</td>\n      <td>78</td>\n      <td>80</td>\n    </tr>\n  </tbody>\n</table>\n</div>"
     },
     "execution_count": 18,
     "metadata": {},
     "output_type": "execute_result"
    }
   ],
   "source": [
    "# 新增王老五的成绩单\n",
    "score_wang = DataFrame(data=np.random.randint(40,100,size=(1,3)),index = ['王五'],columns=pd5.columns)\n",
    "score_wang"
   ],
   "metadata": {
    "collapsed": false,
    "ExecuteTime": {
     "end_time": "2023-11-20T06:57:34.052425Z",
     "start_time": "2023-11-20T06:57:34.040519Z"
    }
   },
   "id": "be6818bec48bc1cd"
  },
  {
   "cell_type": "code",
   "execution_count": 20,
   "outputs": [
    {
     "data": {
      "text/plain": "    语文  数学  计算机\n张三  71  40   79\n李四  48  95   61\n王五  91  78   80",
      "text/html": "<div>\n<style scoped>\n    .dataframe tbody tr th:only-of-type {\n        vertical-align: middle;\n    }\n\n    .dataframe tbody tr th {\n        vertical-align: top;\n    }\n\n    .dataframe thead th {\n        text-align: right;\n    }\n</style>\n<table border=\"1\" class=\"dataframe\">\n  <thead>\n    <tr style=\"text-align: right;\">\n      <th></th>\n      <th>语文</th>\n      <th>数学</th>\n      <th>计算机</th>\n    </tr>\n  </thead>\n  <tbody>\n    <tr>\n      <th>张三</th>\n      <td>71</td>\n      <td>40</td>\n      <td>79</td>\n    </tr>\n    <tr>\n      <th>李四</th>\n      <td>48</td>\n      <td>95</td>\n      <td>61</td>\n    </tr>\n    <tr>\n      <th>王五</th>\n      <td>91</td>\n      <td>78</td>\n      <td>80</td>\n    </tr>\n  </tbody>\n</table>\n</div>"
     },
     "execution_count": 20,
     "metadata": {},
     "output_type": "execute_result"
    }
   ],
   "source": [
    "pd6 = pd.concat((pd5,score_wang))\n",
    "pd6"
   ],
   "metadata": {
    "collapsed": false,
    "ExecuteTime": {
     "end_time": "2023-11-20T06:58:54.010154Z",
     "start_time": "2023-11-20T06:58:53.989576Z"
    }
   },
   "id": "f8c288c5b94c7a0c"
  },
  {
   "cell_type": "code",
   "execution_count": 24,
   "outputs": [
    {
     "data": {
      "text/plain": "   A  B  玉  婷  E  F  冯  亮\n0  4  8  5  5  8  6  6  3\n1  6  2  5  1  2  6  8  7\n2  6  2  7  4  7  3  9  6\n3  7  8  2  6  1  8  4  9\n4  1  4  2  8  8  3  6  7\n5  1  8  1  9  4  5  7  2",
      "text/html": "<div>\n<style scoped>\n    .dataframe tbody tr th:only-of-type {\n        vertical-align: middle;\n    }\n\n    .dataframe tbody tr th {\n        vertical-align: top;\n    }\n\n    .dataframe thead th {\n        text-align: right;\n    }\n</style>\n<table border=\"1\" class=\"dataframe\">\n  <thead>\n    <tr style=\"text-align: right;\">\n      <th></th>\n      <th>A</th>\n      <th>B</th>\n      <th>玉</th>\n      <th>婷</th>\n      <th>E</th>\n      <th>F</th>\n      <th>冯</th>\n      <th>亮</th>\n    </tr>\n  </thead>\n  <tbody>\n    <tr>\n      <th>0</th>\n      <td>4</td>\n      <td>8</td>\n      <td>5</td>\n      <td>5</td>\n      <td>8</td>\n      <td>6</td>\n      <td>6</td>\n      <td>3</td>\n    </tr>\n    <tr>\n      <th>1</th>\n      <td>6</td>\n      <td>2</td>\n      <td>5</td>\n      <td>1</td>\n      <td>2</td>\n      <td>6</td>\n      <td>8</td>\n      <td>7</td>\n    </tr>\n    <tr>\n      <th>2</th>\n      <td>6</td>\n      <td>2</td>\n      <td>7</td>\n      <td>4</td>\n      <td>7</td>\n      <td>3</td>\n      <td>9</td>\n      <td>6</td>\n    </tr>\n    <tr>\n      <th>3</th>\n      <td>7</td>\n      <td>8</td>\n      <td>2</td>\n      <td>6</td>\n      <td>1</td>\n      <td>8</td>\n      <td>4</td>\n      <td>9</td>\n    </tr>\n    <tr>\n      <th>4</th>\n      <td>1</td>\n      <td>4</td>\n      <td>2</td>\n      <td>8</td>\n      <td>8</td>\n      <td>3</td>\n      <td>6</td>\n      <td>7</td>\n    </tr>\n    <tr>\n      <th>5</th>\n      <td>1</td>\n      <td>8</td>\n      <td>1</td>\n      <td>9</td>\n      <td>4</td>\n      <td>5</td>\n      <td>7</td>\n      <td>2</td>\n    </tr>\n  </tbody>\n</table>\n</div>"
     },
     "execution_count": 24,
     "metadata": {},
     "output_type": "execute_result"
    }
   ],
   "source": [
    "columns = np.array(list('AB玉婷EF冯亮'))\n",
    "data = np.random.randint(1,10,size=(6,8))\n",
    "df7 = DataFrame(data=data,columns=columns)\n",
    "df7"
   ],
   "metadata": {
    "collapsed": false,
    "ExecuteTime": {
     "end_time": "2023-11-20T07:11:31.355043Z",
     "start_time": "2023-11-20T07:11:31.327595Z"
    }
   },
   "id": "b00b7d2951b1e8af"
  },
  {
   "cell_type": "code",
   "execution_count": 28,
   "outputs": [
    {
     "data": {
      "text/plain": "     A    B    苹    果    E    F    香    蕉\n0  139  197  139  155  107  172  117  144\n1  119  156  147  169  160  185  183  114\n2  157  183  107  199  192  177  141  161\n4  161  194  141  146  106  174  104  105\n5  131  162  151  148  176  104  183  152\n6  119  130  198  182  174  145  142  121\n7  100  125  144  104  131  132  139  199\n8  158  163  139  164  186  101  173  138",
      "text/html": "<div>\n<style scoped>\n    .dataframe tbody tr th:only-of-type {\n        vertical-align: middle;\n    }\n\n    .dataframe tbody tr th {\n        vertical-align: top;\n    }\n\n    .dataframe thead th {\n        text-align: right;\n    }\n</style>\n<table border=\"1\" class=\"dataframe\">\n  <thead>\n    <tr style=\"text-align: right;\">\n      <th></th>\n      <th>A</th>\n      <th>B</th>\n      <th>苹</th>\n      <th>果</th>\n      <th>E</th>\n      <th>F</th>\n      <th>香</th>\n      <th>蕉</th>\n    </tr>\n  </thead>\n  <tbody>\n    <tr>\n      <th>0</th>\n      <td>139</td>\n      <td>197</td>\n      <td>139</td>\n      <td>155</td>\n      <td>107</td>\n      <td>172</td>\n      <td>117</td>\n      <td>144</td>\n    </tr>\n    <tr>\n      <th>1</th>\n      <td>119</td>\n      <td>156</td>\n      <td>147</td>\n      <td>169</td>\n      <td>160</td>\n      <td>185</td>\n      <td>183</td>\n      <td>114</td>\n    </tr>\n    <tr>\n      <th>2</th>\n      <td>157</td>\n      <td>183</td>\n      <td>107</td>\n      <td>199</td>\n      <td>192</td>\n      <td>177</td>\n      <td>141</td>\n      <td>161</td>\n    </tr>\n    <tr>\n      <th>4</th>\n      <td>161</td>\n      <td>194</td>\n      <td>141</td>\n      <td>146</td>\n      <td>106</td>\n      <td>174</td>\n      <td>104</td>\n      <td>105</td>\n    </tr>\n    <tr>\n      <th>5</th>\n      <td>131</td>\n      <td>162</td>\n      <td>151</td>\n      <td>148</td>\n      <td>176</td>\n      <td>104</td>\n      <td>183</td>\n      <td>152</td>\n    </tr>\n    <tr>\n      <th>6</th>\n      <td>119</td>\n      <td>130</td>\n      <td>198</td>\n      <td>182</td>\n      <td>174</td>\n      <td>145</td>\n      <td>142</td>\n      <td>121</td>\n    </tr>\n    <tr>\n      <th>7</th>\n      <td>100</td>\n      <td>125</td>\n      <td>144</td>\n      <td>104</td>\n      <td>131</td>\n      <td>132</td>\n      <td>139</td>\n      <td>199</td>\n    </tr>\n    <tr>\n      <th>8</th>\n      <td>158</td>\n      <td>163</td>\n      <td>139</td>\n      <td>164</td>\n      <td>186</td>\n      <td>101</td>\n      <td>173</td>\n      <td>138</td>\n    </tr>\n  </tbody>\n</table>\n</div>"
     },
     "execution_count": 28,
     "metadata": {},
     "output_type": "execute_result"
    }
   ],
   "source": [
    "columns = np.array(list('AB苹果EF香蕉'))\n",
    "data = np.random.randint(100,200,size=(9,8))\n",
    "df8 = DataFrame(data=data,columns=columns)\n",
    "df8.drop(labels=3,axis=0,inplace=True)\n",
    "df8"
   ],
   "metadata": {
    "collapsed": false,
    "ExecuteTime": {
     "end_time": "2023-11-20T07:15:28.906946Z",
     "start_time": "2023-11-20T07:15:28.894336Z"
    }
   },
   "id": "ffa6be4d8be87c0f"
  },
  {
   "cell_type": "code",
   "execution_count": 35,
   "outputs": [
    {
     "data": {
      "text/plain": "     A    B    玉    婷    E    F    冯    亮      A      B      苹      果      E  \\\n0  4.0  8.0  5.0  5.0  8.0  6.0  6.0  3.0  139.0  197.0  139.0  155.0  107.0   \n1  6.0  2.0  5.0  1.0  2.0  6.0  8.0  7.0  119.0  156.0  147.0  169.0  160.0   \n2  6.0  2.0  7.0  4.0  7.0  3.0  9.0  6.0  157.0  183.0  107.0  199.0  192.0   \n3  7.0  8.0  2.0  6.0  1.0  8.0  4.0  9.0    NaN    NaN    NaN    NaN    NaN   \n4  1.0  4.0  2.0  8.0  8.0  3.0  6.0  7.0  161.0  194.0  141.0  146.0  106.0   \n5  1.0  8.0  1.0  9.0  4.0  5.0  7.0  2.0  131.0  162.0  151.0  148.0  176.0   \n6  NaN  NaN  NaN  NaN  NaN  NaN  NaN  NaN  119.0  130.0  198.0  182.0  174.0   \n7  NaN  NaN  NaN  NaN  NaN  NaN  NaN  NaN  100.0  125.0  144.0  104.0  131.0   \n8  NaN  NaN  NaN  NaN  NaN  NaN  NaN  NaN  158.0  163.0  139.0  164.0  186.0   \n\n       F      香      蕉  \n0  172.0  117.0  144.0  \n1  185.0  183.0  114.0  \n2  177.0  141.0  161.0  \n3    NaN    NaN    NaN  \n4  174.0  104.0  105.0  \n5  104.0  183.0  152.0  \n6  145.0  142.0  121.0  \n7  132.0  139.0  199.0  \n8  101.0  173.0  138.0  ",
      "text/html": "<div>\n<style scoped>\n    .dataframe tbody tr th:only-of-type {\n        vertical-align: middle;\n    }\n\n    .dataframe tbody tr th {\n        vertical-align: top;\n    }\n\n    .dataframe thead th {\n        text-align: right;\n    }\n</style>\n<table border=\"1\" class=\"dataframe\">\n  <thead>\n    <tr style=\"text-align: right;\">\n      <th></th>\n      <th>A</th>\n      <th>B</th>\n      <th>玉</th>\n      <th>婷</th>\n      <th>E</th>\n      <th>F</th>\n      <th>冯</th>\n      <th>亮</th>\n      <th>A</th>\n      <th>B</th>\n      <th>苹</th>\n      <th>果</th>\n      <th>E</th>\n      <th>F</th>\n      <th>香</th>\n      <th>蕉</th>\n    </tr>\n  </thead>\n  <tbody>\n    <tr>\n      <th>0</th>\n      <td>4.0</td>\n      <td>8.0</td>\n      <td>5.0</td>\n      <td>5.0</td>\n      <td>8.0</td>\n      <td>6.0</td>\n      <td>6.0</td>\n      <td>3.0</td>\n      <td>139.0</td>\n      <td>197.0</td>\n      <td>139.0</td>\n      <td>155.0</td>\n      <td>107.0</td>\n      <td>172.0</td>\n      <td>117.0</td>\n      <td>144.0</td>\n    </tr>\n    <tr>\n      <th>1</th>\n      <td>6.0</td>\n      <td>2.0</td>\n      <td>5.0</td>\n      <td>1.0</td>\n      <td>2.0</td>\n      <td>6.0</td>\n      <td>8.0</td>\n      <td>7.0</td>\n      <td>119.0</td>\n      <td>156.0</td>\n      <td>147.0</td>\n      <td>169.0</td>\n      <td>160.0</td>\n      <td>185.0</td>\n      <td>183.0</td>\n      <td>114.0</td>\n    </tr>\n    <tr>\n      <th>2</th>\n      <td>6.0</td>\n      <td>2.0</td>\n      <td>7.0</td>\n      <td>4.0</td>\n      <td>7.0</td>\n      <td>3.0</td>\n      <td>9.0</td>\n      <td>6.0</td>\n      <td>157.0</td>\n      <td>183.0</td>\n      <td>107.0</td>\n      <td>199.0</td>\n      <td>192.0</td>\n      <td>177.0</td>\n      <td>141.0</td>\n      <td>161.0</td>\n    </tr>\n    <tr>\n      <th>3</th>\n      <td>7.0</td>\n      <td>8.0</td>\n      <td>2.0</td>\n      <td>6.0</td>\n      <td>1.0</td>\n      <td>8.0</td>\n      <td>4.0</td>\n      <td>9.0</td>\n      <td>NaN</td>\n      <td>NaN</td>\n      <td>NaN</td>\n      <td>NaN</td>\n      <td>NaN</td>\n      <td>NaN</td>\n      <td>NaN</td>\n      <td>NaN</td>\n    </tr>\n    <tr>\n      <th>4</th>\n      <td>1.0</td>\n      <td>4.0</td>\n      <td>2.0</td>\n      <td>8.0</td>\n      <td>8.0</td>\n      <td>3.0</td>\n      <td>6.0</td>\n      <td>7.0</td>\n      <td>161.0</td>\n      <td>194.0</td>\n      <td>141.0</td>\n      <td>146.0</td>\n      <td>106.0</td>\n      <td>174.0</td>\n      <td>104.0</td>\n      <td>105.0</td>\n    </tr>\n    <tr>\n      <th>5</th>\n      <td>1.0</td>\n      <td>8.0</td>\n      <td>1.0</td>\n      <td>9.0</td>\n      <td>4.0</td>\n      <td>5.0</td>\n      <td>7.0</td>\n      <td>2.0</td>\n      <td>131.0</td>\n      <td>162.0</td>\n      <td>151.0</td>\n      <td>148.0</td>\n      <td>176.0</td>\n      <td>104.0</td>\n      <td>183.0</td>\n      <td>152.0</td>\n    </tr>\n    <tr>\n      <th>6</th>\n      <td>NaN</td>\n      <td>NaN</td>\n      <td>NaN</td>\n      <td>NaN</td>\n      <td>NaN</td>\n      <td>NaN</td>\n      <td>NaN</td>\n      <td>NaN</td>\n      <td>119.0</td>\n      <td>130.0</td>\n      <td>198.0</td>\n      <td>182.0</td>\n      <td>174.0</td>\n      <td>145.0</td>\n      <td>142.0</td>\n      <td>121.0</td>\n    </tr>\n    <tr>\n      <th>7</th>\n      <td>NaN</td>\n      <td>NaN</td>\n      <td>NaN</td>\n      <td>NaN</td>\n      <td>NaN</td>\n      <td>NaN</td>\n      <td>NaN</td>\n      <td>NaN</td>\n      <td>100.0</td>\n      <td>125.0</td>\n      <td>144.0</td>\n      <td>104.0</td>\n      <td>131.0</td>\n      <td>132.0</td>\n      <td>139.0</td>\n      <td>199.0</td>\n    </tr>\n    <tr>\n      <th>8</th>\n      <td>NaN</td>\n      <td>NaN</td>\n      <td>NaN</td>\n      <td>NaN</td>\n      <td>NaN</td>\n      <td>NaN</td>\n      <td>NaN</td>\n      <td>NaN</td>\n      <td>158.0</td>\n      <td>163.0</td>\n      <td>139.0</td>\n      <td>164.0</td>\n      <td>186.0</td>\n      <td>101.0</td>\n      <td>173.0</td>\n      <td>138.0</td>\n    </tr>\n  </tbody>\n</table>\n</div>"
     },
     "execution_count": 35,
     "metadata": {},
     "output_type": "execute_result"
    }
   ],
   "source": [
    "# inner内连接，outer外连接\n",
    "df9 = pd.concat((df7,df8),join='outer',axis=1)\n",
    "df9"
   ],
   "metadata": {
    "collapsed": false,
    "ExecuteTime": {
     "end_time": "2023-11-20T07:19:44.216923Z",
     "start_time": "2023-11-20T07:19:44.213370Z"
    }
   },
   "id": "6153ec84d7831d19"
  }
 ],
 "metadata": {
  "kernelspec": {
   "display_name": "Python 3",
   "language": "python",
   "name": "python3"
  },
  "language_info": {
   "codemirror_mode": {
    "name": "ipython",
    "version": 2
   },
   "file_extension": ".py",
   "mimetype": "text/x-python",
   "name": "python",
   "nbconvert_exporter": "python",
   "pygments_lexer": "ipython2",
   "version": "2.7.6"
  }
 },
 "nbformat": 4,
 "nbformat_minor": 5
}
