{
 "cells": [
  {
   "cell_type": "code",
   "execution_count": 66,
   "id": "initial_id",
   "metadata": {
    "collapsed": true,
    "ExecuteTime": {
     "end_time": "2023-11-21T08:25:18.794885Z",
     "start_time": "2023-11-21T08:25:18.764278Z"
    }
   },
   "outputs": [],
   "source": [
    "import numpy as np\n",
    "import pandas as pd\n",
    "from pandas import Series, DataFrame\n",
    "import matplotlib.pyplot as plt\n",
    "%matplotlib inline\n"
   ]
  },
  {
   "cell_type": "code",
   "execution_count": 67,
   "outputs": [],
   "source": [
    "# 练习：\n",
    "# 假设有两份成绩单，除了ddd是张三李四王老五之外，还有ddd4是张三和赵小六的成绩单，如何合并？\n",
    "# 如果ddd4张三的名字被打错了，成为了张十三，怎么办？\n",
    "# 自行练习多对一，多对多的情况\n",
    "# 自学left_index,right_index"
   ],
   "metadata": {
    "collapsed": false,
    "ExecuteTime": {
     "end_time": "2023-11-21T08:25:18.811213Z",
     "start_time": "2023-11-21T08:25:18.770618Z"
    }
   },
   "id": "6e7b802554012dfe"
  },
  {
   "cell_type": "code",
   "execution_count": 68,
   "outputs": [
    {
     "data": {
      "text/plain": "    python  java   c\n张三      34    50  78\n李四      53    62  78\n王五      32    64  64",
      "text/html": "<div>\n<style scoped>\n    .dataframe tbody tr th:only-of-type {\n        vertical-align: middle;\n    }\n\n    .dataframe tbody tr th {\n        vertical-align: top;\n    }\n\n    .dataframe thead th {\n        text-align: right;\n    }\n</style>\n<table border=\"1\" class=\"dataframe\">\n  <thead>\n    <tr style=\"text-align: right;\">\n      <th></th>\n      <th>python</th>\n      <th>java</th>\n      <th>c</th>\n    </tr>\n  </thead>\n  <tbody>\n    <tr>\n      <th>张三</th>\n      <td>34</td>\n      <td>50</td>\n      <td>78</td>\n    </tr>\n    <tr>\n      <th>李四</th>\n      <td>53</td>\n      <td>62</td>\n      <td>78</td>\n    </tr>\n    <tr>\n      <th>王五</th>\n      <td>32</td>\n      <td>64</td>\n      <td>64</td>\n    </tr>\n  </tbody>\n</table>\n</div>"
     },
     "execution_count": 68,
     "metadata": {},
     "output_type": "execute_result"
    }
   ],
   "source": [
    "ddd = DataFrame(data={\n",
    "    'python': np.random.randint(0, 100, size=3),\n",
    "    'java': np.random.randint(50, 100, size=3),\n",
    "    'c': np.random.randint(20, 80, size=3)\n",
    "},\n",
    "    index=np.array(['张三', '李四', '王五'])\n",
    ")\n",
    "ddd"
   ],
   "metadata": {
    "collapsed": false,
    "ExecuteTime": {
     "end_time": "2023-11-21T08:25:18.811942Z",
     "start_time": "2023-11-21T08:25:18.776207Z"
    }
   },
   "id": "37a3a204332ac1ee"
  },
  {
   "cell_type": "code",
   "execution_count": 69,
   "outputs": [
    {
     "data": {
      "text/plain": "     python  java   c\n张三       34    50  78\n赵小六      46    78  53",
      "text/html": "<div>\n<style scoped>\n    .dataframe tbody tr th:only-of-type {\n        vertical-align: middle;\n    }\n\n    .dataframe tbody tr th {\n        vertical-align: top;\n    }\n\n    .dataframe thead th {\n        text-align: right;\n    }\n</style>\n<table border=\"1\" class=\"dataframe\">\n  <thead>\n    <tr style=\"text-align: right;\">\n      <th></th>\n      <th>python</th>\n      <th>java</th>\n      <th>c</th>\n    </tr>\n  </thead>\n  <tbody>\n    <tr>\n      <th>张三</th>\n      <td>34</td>\n      <td>50</td>\n      <td>78</td>\n    </tr>\n    <tr>\n      <th>赵小六</th>\n      <td>46</td>\n      <td>78</td>\n      <td>53</td>\n    </tr>\n  </tbody>\n</table>\n</div>"
     },
     "execution_count": 69,
     "metadata": {},
     "output_type": "execute_result"
    }
   ],
   "source": [
    "ddd4 = DataFrame(data={\n",
    "    'python': np.random.randint(0, 100, size=2),\n",
    "    'java': np.random.randint(50, 100, size=2),\n",
    "    'c': np.random.randint(20, 80, size=2)\n",
    "},\n",
    "    index=np.array(['张三', '赵小六'])\n",
    ")\n",
    "ddd4.loc['张三'] = ddd.loc['张三']\n",
    "ddd4"
   ],
   "metadata": {
    "collapsed": false,
    "ExecuteTime": {
     "end_time": "2023-11-21T08:25:18.820839Z",
     "start_time": "2023-11-21T08:25:18.781767Z"
    }
   },
   "id": "fc7c1e08f3ffe6e7"
  },
  {
   "cell_type": "code",
   "execution_count": 70,
   "outputs": [
    {
     "data": {
      "text/plain": "        张三  李四  王五\npython  34  53  32\njava    50  62  64\nc       78  78  64",
      "text/html": "<div>\n<style scoped>\n    .dataframe tbody tr th:only-of-type {\n        vertical-align: middle;\n    }\n\n    .dataframe tbody tr th {\n        vertical-align: top;\n    }\n\n    .dataframe thead th {\n        text-align: right;\n    }\n</style>\n<table border=\"1\" class=\"dataframe\">\n  <thead>\n    <tr style=\"text-align: right;\">\n      <th></th>\n      <th>张三</th>\n      <th>李四</th>\n      <th>王五</th>\n    </tr>\n  </thead>\n  <tbody>\n    <tr>\n      <th>python</th>\n      <td>34</td>\n      <td>53</td>\n      <td>32</td>\n    </tr>\n    <tr>\n      <th>java</th>\n      <td>50</td>\n      <td>62</td>\n      <td>64</td>\n    </tr>\n    <tr>\n      <th>c</th>\n      <td>78</td>\n      <td>78</td>\n      <td>64</td>\n    </tr>\n  </tbody>\n</table>\n</div>"
     },
     "execution_count": 70,
     "metadata": {},
     "output_type": "execute_result"
    }
   ],
   "source": [
    "df1 = ddd.stack().unstack(0)\n",
    "df1"
   ],
   "metadata": {
    "collapsed": false,
    "ExecuteTime": {
     "end_time": "2023-11-21T08:25:18.820979Z",
     "start_time": "2023-11-21T08:25:18.786431Z"
    }
   },
   "id": "6ae9e0bf4f1cc7f1"
  },
  {
   "cell_type": "code",
   "execution_count": 71,
   "outputs": [
    {
     "data": {
      "text/plain": "        张三  赵小六\npython  34   46\njava    50   78\nc       78   53",
      "text/html": "<div>\n<style scoped>\n    .dataframe tbody tr th:only-of-type {\n        vertical-align: middle;\n    }\n\n    .dataframe tbody tr th {\n        vertical-align: top;\n    }\n\n    .dataframe thead th {\n        text-align: right;\n    }\n</style>\n<table border=\"1\" class=\"dataframe\">\n  <thead>\n    <tr style=\"text-align: right;\">\n      <th></th>\n      <th>张三</th>\n      <th>赵小六</th>\n    </tr>\n  </thead>\n  <tbody>\n    <tr>\n      <th>python</th>\n      <td>34</td>\n      <td>46</td>\n    </tr>\n    <tr>\n      <th>java</th>\n      <td>50</td>\n      <td>78</td>\n    </tr>\n    <tr>\n      <th>c</th>\n      <td>78</td>\n      <td>53</td>\n    </tr>\n  </tbody>\n</table>\n</div>"
     },
     "execution_count": 71,
     "metadata": {},
     "output_type": "execute_result"
    }
   ],
   "source": [
    "df2 = ddd4.stack().unstack(0)\n",
    "df2"
   ],
   "metadata": {
    "collapsed": false,
    "ExecuteTime": {
     "end_time": "2023-11-21T08:25:18.821356Z",
     "start_time": "2023-11-21T08:25:18.791881Z"
    }
   },
   "id": "46993bd4fe9672f3"
  },
  {
   "cell_type": "code",
   "execution_count": 72,
   "outputs": [
    {
     "data": {
      "text/plain": "        张三  李四  王五  赵小六\npython  34  53  32   46\njava    50  62  64   78\nc       78  78  64   53",
      "text/html": "<div>\n<style scoped>\n    .dataframe tbody tr th:only-of-type {\n        vertical-align: middle;\n    }\n\n    .dataframe tbody tr th {\n        vertical-align: top;\n    }\n\n    .dataframe thead th {\n        text-align: right;\n    }\n</style>\n<table border=\"1\" class=\"dataframe\">\n  <thead>\n    <tr style=\"text-align: right;\">\n      <th></th>\n      <th>张三</th>\n      <th>李四</th>\n      <th>王五</th>\n      <th>赵小六</th>\n    </tr>\n  </thead>\n  <tbody>\n    <tr>\n      <th>python</th>\n      <td>34</td>\n      <td>53</td>\n      <td>32</td>\n      <td>46</td>\n    </tr>\n    <tr>\n      <th>java</th>\n      <td>50</td>\n      <td>62</td>\n      <td>64</td>\n      <td>78</td>\n    </tr>\n    <tr>\n      <th>c</th>\n      <td>78</td>\n      <td>78</td>\n      <td>64</td>\n      <td>53</td>\n    </tr>\n  </tbody>\n</table>\n</div>"
     },
     "execution_count": 72,
     "metadata": {},
     "output_type": "execute_result"
    }
   ],
   "source": [
    "df3 = pd.merge(df1, df2).set_index(df1.index)\n",
    "df3"
   ],
   "metadata": {
    "collapsed": false,
    "ExecuteTime": {
     "end_time": "2023-11-21T08:25:18.821912Z",
     "start_time": "2023-11-21T08:25:18.796757Z"
    }
   },
   "id": "c6f23d10c8a87682"
  },
  {
   "cell_type": "code",
   "execution_count": 73,
   "outputs": [
    {
     "data": {
      "text/plain": "        李四  王老五  赵小六  张三\njava    50    5   45  41\npython  80   91   90  84\nc       58   74   44  97",
      "text/html": "<div>\n<style scoped>\n    .dataframe tbody tr th:only-of-type {\n        vertical-align: middle;\n    }\n\n    .dataframe tbody tr th {\n        vertical-align: top;\n    }\n\n    .dataframe thead th {\n        text-align: right;\n    }\n</style>\n<table border=\"1\" class=\"dataframe\">\n  <thead>\n    <tr style=\"text-align: right;\">\n      <th></th>\n      <th>李四</th>\n      <th>王老五</th>\n      <th>赵小六</th>\n      <th>张三</th>\n    </tr>\n  </thead>\n  <tbody>\n    <tr>\n      <th>java</th>\n      <td>50</td>\n      <td>5</td>\n      <td>45</td>\n      <td>41</td>\n    </tr>\n    <tr>\n      <th>python</th>\n      <td>80</td>\n      <td>91</td>\n      <td>90</td>\n      <td>84</td>\n    </tr>\n    <tr>\n      <th>c</th>\n      <td>58</td>\n      <td>74</td>\n      <td>44</td>\n      <td>97</td>\n    </tr>\n  </tbody>\n</table>\n</div>"
     },
     "execution_count": 73,
     "metadata": {},
     "output_type": "execute_result"
    }
   ],
   "source": [
    "# 假设两个同学都叫李四，ddd5，ddd6都是张三和李四的成绩表，如何合并？\n",
    "ddd5 = DataFrame(data={\n",
    "    'java': np.random.randint(1, 100, size=4),\n",
    "    'python': np.random.randint(1, 100, size=4),\n",
    "    'c': np.random.randint(1, 100, size=4)\n",
    "}, index=np.array(['李四', '王老五', '赵小六', '张三']))\n",
    "ddd5 = ddd5.stack().unstack(level=0)\n",
    "ddd5\n"
   ],
   "metadata": {
    "collapsed": false,
    "ExecuteTime": {
     "end_time": "2023-11-21T08:25:18.822020Z",
     "start_time": "2023-11-21T08:25:18.801828Z"
    }
   },
   "id": "708bacee02bbb313"
  },
  {
   "cell_type": "code",
   "execution_count": 74,
   "outputs": [
    {
     "data": {
      "text/plain": "        张三  李四\njava    35  17\npython  49  32\nc       97  97",
      "text/html": "<div>\n<style scoped>\n    .dataframe tbody tr th:only-of-type {\n        vertical-align: middle;\n    }\n\n    .dataframe tbody tr th {\n        vertical-align: top;\n    }\n\n    .dataframe thead th {\n        text-align: right;\n    }\n</style>\n<table border=\"1\" class=\"dataframe\">\n  <thead>\n    <tr style=\"text-align: right;\">\n      <th></th>\n      <th>张三</th>\n      <th>李四</th>\n    </tr>\n  </thead>\n  <tbody>\n    <tr>\n      <th>java</th>\n      <td>35</td>\n      <td>17</td>\n    </tr>\n    <tr>\n      <th>python</th>\n      <td>49</td>\n      <td>32</td>\n    </tr>\n    <tr>\n      <th>c</th>\n      <td>97</td>\n      <td>97</td>\n    </tr>\n  </tbody>\n</table>\n</div>"
     },
     "execution_count": 74,
     "metadata": {},
     "output_type": "execute_result"
    }
   ],
   "source": [
    "# 假设两个同学都叫李四，ddd5，ddd6都是张三和李四的成绩表，如何合并？\n",
    "ddd6 = DataFrame(data={\n",
    "    'java': np.random.randint(1, 100, size=2),\n",
    "    'python': np.random.randint(1, 100, size=2),\n",
    "    'c': np.random.randint(1, 100, size=2)\n",
    "}, index=np.array(['张三', '李四']))\n",
    "ddd6 = ddd6.stack().unstack(level=0)\n",
    "ddd6"
   ],
   "metadata": {
    "collapsed": false,
    "ExecuteTime": {
     "end_time": "2023-11-21T08:25:18.822150Z",
     "start_time": "2023-11-21T08:25:18.806334Z"
    }
   },
   "id": "d932295ff8a79dc9"
  },
  {
   "cell_type": "code",
   "execution_count": 75,
   "outputs": [
    {
     "data": {
      "text/plain": "   李四_ddd5  王老五  赵小六  张三  李四_ddd6\n0       58   74   44  97       97",
      "text/html": "<div>\n<style scoped>\n    .dataframe tbody tr th:only-of-type {\n        vertical-align: middle;\n    }\n\n    .dataframe tbody tr th {\n        vertical-align: top;\n    }\n\n    .dataframe thead th {\n        text-align: right;\n    }\n</style>\n<table border=\"1\" class=\"dataframe\">\n  <thead>\n    <tr style=\"text-align: right;\">\n      <th></th>\n      <th>李四_ddd5</th>\n      <th>王老五</th>\n      <th>赵小六</th>\n      <th>张三</th>\n      <th>李四_ddd6</th>\n    </tr>\n  </thead>\n  <tbody>\n    <tr>\n      <th>0</th>\n      <td>58</td>\n      <td>74</td>\n      <td>44</td>\n      <td>97</td>\n      <td>97</td>\n    </tr>\n  </tbody>\n</table>\n</div>"
     },
     "execution_count": 75,
     "metadata": {},
     "output_type": "execute_result"
    }
   ],
   "source": [
    "# 通过使用suffixes加后缀\n",
    "pd.merge(ddd5, ddd6, on=\"张三\", suffixes=['_ddd5', '_ddd6'])"
   ],
   "metadata": {
    "collapsed": false,
    "ExecuteTime": {
     "end_time": "2023-11-21T08:25:18.823326Z",
     "start_time": "2023-11-21T08:25:18.809038Z"
    }
   },
   "id": "eed6ef5efb4e9856"
  }
 ],
 "metadata": {
  "kernelspec": {
   "display_name": "Python 3",
   "language": "python",
   "name": "python3"
  },
  "language_info": {
   "codemirror_mode": {
    "name": "ipython",
    "version": 2
   },
   "file_extension": ".py",
   "mimetype": "text/x-python",
   "name": "python",
   "nbconvert_exporter": "python",
   "pygments_lexer": "ipython2",
   "version": "2.7.6"
  }
 },
 "nbformat": 4,
 "nbformat_minor": 5
}
