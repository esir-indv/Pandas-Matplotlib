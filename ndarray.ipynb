{
 "cells": [
  {
   "cell_type": "code",
   "execution_count": 6,
   "id": "initial_id",
   "metadata": {
    "collapsed": true,
    "ExecuteTime": {
     "end_time": "2023-11-10T16:39:05.317616Z",
     "start_time": "2023-11-10T16:39:05.313715Z"
    }
   },
   "outputs": [
    {
     "data": {
      "text/plain": "dtype('bool')"
     },
     "execution_count": 6,
     "metadata": {},
     "output_type": "execute_result"
    }
   ],
   "source": [
    "import numpy as np\n",
    "# 类型转换\n",
    "random_data = np.random.randint(0,2,size=10)\n",
    "float_data = random_data.astype(np.bool_)\n",
    "float_data.dtype"
   ]
  },
  {
   "cell_type": "code",
   "execution_count": 7,
   "outputs": [
    {
     "data": {
      "text/plain": "array([False,  True, False,  True, False,  True, False,  True,  True,\n       False])"
     },
     "execution_count": 7,
     "metadata": {},
     "output_type": "execute_result"
    }
   ],
   "source": [
    "float_data"
   ],
   "metadata": {
    "collapsed": false,
    "ExecuteTime": {
     "end_time": "2023-11-10T16:39:08.182570Z",
     "start_time": "2023-11-10T16:39:08.179679Z"
    }
   },
   "id": "9ba7841225c4ccf9"
  },
  {
   "cell_type": "code",
   "execution_count": 9,
   "outputs": [
    {
     "data": {
      "text/plain": "array([[51, 97, 74, 64, 99, 74, 66, 17],\n       [18, 55, 52, 39, 56, 42, 99, 72],\n       [58, 17, 71, 59, 36, 58,  7, 73],\n       [76, 41, 85, 29, 57, 36, 58, 34],\n       [74, 82, 90, 11, 52,  7,  6, 32]])"
     },
     "execution_count": 9,
     "metadata": {},
     "output_type": "execute_result"
    }
   ],
   "source": [
    "array2 = np.random.randint(4,100,size=(5,8))\n",
    "array2"
   ],
   "metadata": {
    "collapsed": false,
    "ExecuteTime": {
     "end_time": "2023-11-10T16:40:19.216736Z",
     "start_time": "2023-11-10T16:40:19.203502Z"
    }
   },
   "id": "d0bdf001d924ec1c"
  },
  {
   "cell_type": "code",
   "execution_count": 13,
   "outputs": [
    {
     "data": {
      "text/plain": "array([[51, 97, 74, 64, 99, 74, 66, 17]])"
     },
     "execution_count": 13,
     "metadata": {},
     "output_type": "execute_result"
    }
   ],
   "source": [
    "# 访问第一行\n",
    "array2[[0]]"
   ],
   "metadata": {
    "collapsed": false,
    "ExecuteTime": {
     "end_time": "2023-11-10T16:42:46.893434Z",
     "start_time": "2023-11-10T16:42:46.866254Z"
    }
   },
   "id": "a8ea168843f05feb"
  },
  {
   "cell_type": "code",
   "execution_count": null,
   "outputs": [],
   "source": [
    "juq 429"
   ],
   "metadata": {
    "collapsed": false
   },
   "id": "6f8c0371c097e546"
  }
 ],
 "metadata": {
  "kernelspec": {
   "display_name": "Python 3",
   "language": "python",
   "name": "python3"
  },
  "language_info": {
   "codemirror_mode": {
    "name": "ipython",
    "version": 2
   },
   "file_extension": ".py",
   "mimetype": "text/x-python",
   "name": "python",
   "nbconvert_exporter": "python",
   "pygments_lexer": "ipython2",
   "version": "2.7.6"
  }
 },
 "nbformat": 4,
 "nbformat_minor": 5
}
