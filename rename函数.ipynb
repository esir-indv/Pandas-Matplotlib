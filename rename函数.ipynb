{
 "cells": [
  {
   "cell_type": "code",
   "execution_count": 2,
   "id": "initial_id",
   "metadata": {
    "collapsed": true,
    "ExecuteTime": {
     "end_time": "2023-11-24T02:36:40.104564Z",
     "start_time": "2023-11-24T02:36:40.096128Z"
    }
   },
   "outputs": [],
   "source": [
    "import numpy as np\n",
    "import pandas as pd\n",
    "from pandas import Series, DataFrame\n",
    "import matplotlib.pyplot as plt\n",
    "%matplotlib inline\n"
   ]
  },
  {
   "cell_type": "markdown",
   "source": [
    "rename()函数：替换索引\n",
    "仍然是新建一个字典\n",
    "使用rename（）函数替换行索引\n",
    "+ mapper替换所有索引\n",
    "+ index替换行索引\n",
    "+ columns替换列索引\n",
    "+ level指定多维度索引的维度\n",
    "1.replace属于fillna强化版，解决值的替换 字符串 数值 列表 字典 正则\n",
    "2.map是Series对象的操作方法，只解决一列的映射 字典 函数 lambda表达式\n",
    "3.rename解决索引的替换 字典 函数"
   ],
   "metadata": {
    "collapsed": false
   },
   "id": "97c5641883c942a5"
  },
  {
   "cell_type": "code",
   "execution_count": 5,
   "outputs": [
    {
     "data": {
      "text/plain": "    fengliang             yuanyuting            \n           收入  成本  利润  费用         收入  成本  利润  费用\n商品1        92  68  97   6         60   4  45  12\n商品2        76  77  82   6         79  10  81  78\n商品3         8  62  78  13         23  61  38  84\n商品4        87  76  69  99         27  69  41  62\n商品5        68  29  49  82         51  77  63  85\n商品6        34  47  52  68         91  88  92  68\n商品7        51  49  82  33         75  91  10  28",
      "text/html": "<div>\n<style scoped>\n    .dataframe tbody tr th:only-of-type {\n        vertical-align: middle;\n    }\n\n    .dataframe tbody tr th {\n        vertical-align: top;\n    }\n\n    .dataframe thead tr th {\n        text-align: left;\n    }\n</style>\n<table border=\"1\" class=\"dataframe\">\n  <thead>\n    <tr>\n      <th></th>\n      <th colspan=\"4\" halign=\"left\">fengliang</th>\n      <th colspan=\"4\" halign=\"left\">yuanyuting</th>\n    </tr>\n    <tr>\n      <th></th>\n      <th>收入</th>\n      <th>成本</th>\n      <th>利润</th>\n      <th>费用</th>\n      <th>收入</th>\n      <th>成本</th>\n      <th>利润</th>\n      <th>费用</th>\n    </tr>\n  </thead>\n  <tbody>\n    <tr>\n      <th>商品1</th>\n      <td>92</td>\n      <td>68</td>\n      <td>97</td>\n      <td>6</td>\n      <td>60</td>\n      <td>4</td>\n      <td>45</td>\n      <td>12</td>\n    </tr>\n    <tr>\n      <th>商品2</th>\n      <td>76</td>\n      <td>77</td>\n      <td>82</td>\n      <td>6</td>\n      <td>79</td>\n      <td>10</td>\n      <td>81</td>\n      <td>78</td>\n    </tr>\n    <tr>\n      <th>商品3</th>\n      <td>8</td>\n      <td>62</td>\n      <td>78</td>\n      <td>13</td>\n      <td>23</td>\n      <td>61</td>\n      <td>38</td>\n      <td>84</td>\n    </tr>\n    <tr>\n      <th>商品4</th>\n      <td>87</td>\n      <td>76</td>\n      <td>69</td>\n      <td>99</td>\n      <td>27</td>\n      <td>69</td>\n      <td>41</td>\n      <td>62</td>\n    </tr>\n    <tr>\n      <th>商品5</th>\n      <td>68</td>\n      <td>29</td>\n      <td>49</td>\n      <td>82</td>\n      <td>51</td>\n      <td>77</td>\n      <td>63</td>\n      <td>85</td>\n    </tr>\n    <tr>\n      <th>商品6</th>\n      <td>34</td>\n      <td>47</td>\n      <td>52</td>\n      <td>68</td>\n      <td>91</td>\n      <td>88</td>\n      <td>92</td>\n      <td>68</td>\n    </tr>\n    <tr>\n      <th>商品7</th>\n      <td>51</td>\n      <td>49</td>\n      <td>82</td>\n      <td>33</td>\n      <td>75</td>\n      <td>91</td>\n      <td>10</td>\n      <td>28</td>\n    </tr>\n  </tbody>\n</table>\n</div>"
     },
     "execution_count": 5,
     "metadata": {},
     "output_type": "execute_result"
    }
   ],
   "source": [
    "columns = pd.MultiIndex.from_product([['fengliang', 'yuanyuting'], ['收入', '成本', '利润', '费用']])\n",
    "# 构造多层级索引\n",
    "index = np.array(['商品' + str(i) for i in range(1, 8)])\n",
    "\n",
    "data = np.random.randint(0, 100, size=(7, 8))\n",
    "\n",
    "df = DataFrame(data=data, index=index, columns=columns)\n",
    "df\n"
   ],
   "metadata": {
    "collapsed": false,
    "ExecuteTime": {
     "end_time": "2023-11-24T02:44:51.107648Z",
     "start_time": "2023-11-24T02:44:51.083658Z"
    }
   },
   "id": "2e022d1d4a5147d9"
  },
  {
   "cell_type": "code",
   "execution_count": 18,
   "outputs": [
    {
     "data": {
      "text/plain": "    fengliang             yuanyuting            \n           收入  成本  利润  费用         收入  成本  利润  费用\n冯亮         92  68  97   6         60   4  45  12\n商品2        76  77  82   6         79  10  81  78\n商品3         8  62  78  13         23  61  38  84\n商品4        87  76  69  99         27  69  41  62\n商品5        68  29  49  82         51  77  63  85\n商品6        34  47  52  68         91  88  92  68\n商品7        51  49  82  33         75  91  10  28",
      "text/html": "<div>\n<style scoped>\n    .dataframe tbody tr th:only-of-type {\n        vertical-align: middle;\n    }\n\n    .dataframe tbody tr th {\n        vertical-align: top;\n    }\n\n    .dataframe thead tr th {\n        text-align: left;\n    }\n</style>\n<table border=\"1\" class=\"dataframe\">\n  <thead>\n    <tr>\n      <th></th>\n      <th colspan=\"4\" halign=\"left\">fengliang</th>\n      <th colspan=\"4\" halign=\"left\">yuanyuting</th>\n    </tr>\n    <tr>\n      <th></th>\n      <th>收入</th>\n      <th>成本</th>\n      <th>利润</th>\n      <th>费用</th>\n      <th>收入</th>\n      <th>成本</th>\n      <th>利润</th>\n      <th>费用</th>\n    </tr>\n  </thead>\n  <tbody>\n    <tr>\n      <th>冯亮</th>\n      <td>92</td>\n      <td>68</td>\n      <td>97</td>\n      <td>6</td>\n      <td>60</td>\n      <td>4</td>\n      <td>45</td>\n      <td>12</td>\n    </tr>\n    <tr>\n      <th>商品2</th>\n      <td>76</td>\n      <td>77</td>\n      <td>82</td>\n      <td>6</td>\n      <td>79</td>\n      <td>10</td>\n      <td>81</td>\n      <td>78</td>\n    </tr>\n    <tr>\n      <th>商品3</th>\n      <td>8</td>\n      <td>62</td>\n      <td>78</td>\n      <td>13</td>\n      <td>23</td>\n      <td>61</td>\n      <td>38</td>\n      <td>84</td>\n    </tr>\n    <tr>\n      <th>商品4</th>\n      <td>87</td>\n      <td>76</td>\n      <td>69</td>\n      <td>99</td>\n      <td>27</td>\n      <td>69</td>\n      <td>41</td>\n      <td>62</td>\n    </tr>\n    <tr>\n      <th>商品5</th>\n      <td>68</td>\n      <td>29</td>\n      <td>49</td>\n      <td>82</td>\n      <td>51</td>\n      <td>77</td>\n      <td>63</td>\n      <td>85</td>\n    </tr>\n    <tr>\n      <th>商品6</th>\n      <td>34</td>\n      <td>47</td>\n      <td>52</td>\n      <td>68</td>\n      <td>91</td>\n      <td>88</td>\n      <td>92</td>\n      <td>68</td>\n    </tr>\n    <tr>\n      <th>商品7</th>\n      <td>51</td>\n      <td>49</td>\n      <td>82</td>\n      <td>33</td>\n      <td>75</td>\n      <td>91</td>\n      <td>10</td>\n      <td>28</td>\n    </tr>\n  </tbody>\n</table>\n</div>"
     },
     "execution_count": 18,
     "metadata": {},
     "output_type": "execute_result"
    }
   ],
   "source": [
    "# 这个是替换data,行列用别的\n",
    "df2 = df.rename(mapper={\n",
    "    '商品1':'冯亮',\n",
    "    'fengliang':'冯亮'\n",
    "})\n",
    "df2"
   ],
   "metadata": {
    "collapsed": false,
    "ExecuteTime": {
     "end_time": "2023-11-24T02:49:27.504558Z",
     "start_time": "2023-11-24T02:49:27.474563Z"
    }
   },
   "id": "e1d29c97f3189dc8"
  },
  {
   "cell_type": "code",
   "execution_count": 21,
   "outputs": [
    {
     "data": {
      "text/plain": "     fengliang             yuanyuting            \n            收入  成本  利润  费用         收入  成本  利润  费用\nlucy        92  68  97   6         60   4  45  12\n商品2         76  77  82   6         79  10  81  78\n商品3          8  62  78  13         23  61  38  84\n商品4         87  76  69  99         27  69  41  62\n商品5         68  29  49  82         51  77  63  85\n商品6         34  47  52  68         91  88  92  68\n商品7         51  49  82  33         75  91  10  28",
      "text/html": "<div>\n<style scoped>\n    .dataframe tbody tr th:only-of-type {\n        vertical-align: middle;\n    }\n\n    .dataframe tbody tr th {\n        vertical-align: top;\n    }\n\n    .dataframe thead tr th {\n        text-align: left;\n    }\n</style>\n<table border=\"1\" class=\"dataframe\">\n  <thead>\n    <tr>\n      <th></th>\n      <th colspan=\"4\" halign=\"left\">fengliang</th>\n      <th colspan=\"4\" halign=\"left\">yuanyuting</th>\n    </tr>\n    <tr>\n      <th></th>\n      <th>收入</th>\n      <th>成本</th>\n      <th>利润</th>\n      <th>费用</th>\n      <th>收入</th>\n      <th>成本</th>\n      <th>利润</th>\n      <th>费用</th>\n    </tr>\n  </thead>\n  <tbody>\n    <tr>\n      <th>lucy</th>\n      <td>92</td>\n      <td>68</td>\n      <td>97</td>\n      <td>6</td>\n      <td>60</td>\n      <td>4</td>\n      <td>45</td>\n      <td>12</td>\n    </tr>\n    <tr>\n      <th>商品2</th>\n      <td>76</td>\n      <td>77</td>\n      <td>82</td>\n      <td>6</td>\n      <td>79</td>\n      <td>10</td>\n      <td>81</td>\n      <td>78</td>\n    </tr>\n    <tr>\n      <th>商品3</th>\n      <td>8</td>\n      <td>62</td>\n      <td>78</td>\n      <td>13</td>\n      <td>23</td>\n      <td>61</td>\n      <td>38</td>\n      <td>84</td>\n    </tr>\n    <tr>\n      <th>商品4</th>\n      <td>87</td>\n      <td>76</td>\n      <td>69</td>\n      <td>99</td>\n      <td>27</td>\n      <td>69</td>\n      <td>41</td>\n      <td>62</td>\n    </tr>\n    <tr>\n      <th>商品5</th>\n      <td>68</td>\n      <td>29</td>\n      <td>49</td>\n      <td>82</td>\n      <td>51</td>\n      <td>77</td>\n      <td>63</td>\n      <td>85</td>\n    </tr>\n    <tr>\n      <th>商品6</th>\n      <td>34</td>\n      <td>47</td>\n      <td>52</td>\n      <td>68</td>\n      <td>91</td>\n      <td>88</td>\n      <td>92</td>\n      <td>68</td>\n    </tr>\n    <tr>\n      <th>商品7</th>\n      <td>51</td>\n      <td>49</td>\n      <td>82</td>\n      <td>33</td>\n      <td>75</td>\n      <td>91</td>\n      <td>10</td>\n      <td>28</td>\n    </tr>\n  </tbody>\n</table>\n</div>"
     },
     "execution_count": 21,
     "metadata": {},
     "output_type": "execute_result"
    }
   ],
   "source": [
    "df3 = df.rename(index={\n",
    "    '商品1':'lucy',\n",
    "    2:'haha'\n",
    "})\n",
    "df3"
   ],
   "metadata": {
    "collapsed": false,
    "ExecuteTime": {
     "end_time": "2023-11-24T02:51:00.799736Z",
     "start_time": "2023-11-24T02:51:00.788256Z"
    }
   },
   "id": "cf026c6497cbceb"
  },
  {
   "cell_type": "code",
   "execution_count": 22,
   "outputs": [
    {
     "data": {
      "text/plain": "     冯亮             袁玉婷            \n     收入  成本  利润  费用  收入  成本  利润  费用\n商品1  92  68  97   6  60   4  45  12\n商品2  76  77  82   6  79  10  81  78\n商品3   8  62  78  13  23  61  38  84\n商品4  87  76  69  99  27  69  41  62\n商品5  68  29  49  82  51  77  63  85\n商品6  34  47  52  68  91  88  92  68\n商品7  51  49  82  33  75  91  10  28",
      "text/html": "<div>\n<style scoped>\n    .dataframe tbody tr th:only-of-type {\n        vertical-align: middle;\n    }\n\n    .dataframe tbody tr th {\n        vertical-align: top;\n    }\n\n    .dataframe thead tr th {\n        text-align: left;\n    }\n</style>\n<table border=\"1\" class=\"dataframe\">\n  <thead>\n    <tr>\n      <th></th>\n      <th colspan=\"4\" halign=\"left\">冯亮</th>\n      <th colspan=\"4\" halign=\"left\">袁玉婷</th>\n    </tr>\n    <tr>\n      <th></th>\n      <th>收入</th>\n      <th>成本</th>\n      <th>利润</th>\n      <th>费用</th>\n      <th>收入</th>\n      <th>成本</th>\n      <th>利润</th>\n      <th>费用</th>\n    </tr>\n  </thead>\n  <tbody>\n    <tr>\n      <th>商品1</th>\n      <td>92</td>\n      <td>68</td>\n      <td>97</td>\n      <td>6</td>\n      <td>60</td>\n      <td>4</td>\n      <td>45</td>\n      <td>12</td>\n    </tr>\n    <tr>\n      <th>商品2</th>\n      <td>76</td>\n      <td>77</td>\n      <td>82</td>\n      <td>6</td>\n      <td>79</td>\n      <td>10</td>\n      <td>81</td>\n      <td>78</td>\n    </tr>\n    <tr>\n      <th>商品3</th>\n      <td>8</td>\n      <td>62</td>\n      <td>78</td>\n      <td>13</td>\n      <td>23</td>\n      <td>61</td>\n      <td>38</td>\n      <td>84</td>\n    </tr>\n    <tr>\n      <th>商品4</th>\n      <td>87</td>\n      <td>76</td>\n      <td>69</td>\n      <td>99</td>\n      <td>27</td>\n      <td>69</td>\n      <td>41</td>\n      <td>62</td>\n    </tr>\n    <tr>\n      <th>商品5</th>\n      <td>68</td>\n      <td>29</td>\n      <td>49</td>\n      <td>82</td>\n      <td>51</td>\n      <td>77</td>\n      <td>63</td>\n      <td>85</td>\n    </tr>\n    <tr>\n      <th>商品6</th>\n      <td>34</td>\n      <td>47</td>\n      <td>52</td>\n      <td>68</td>\n      <td>91</td>\n      <td>88</td>\n      <td>92</td>\n      <td>68</td>\n    </tr>\n    <tr>\n      <th>商品7</th>\n      <td>51</td>\n      <td>49</td>\n      <td>82</td>\n      <td>33</td>\n      <td>75</td>\n      <td>91</td>\n      <td>10</td>\n      <td>28</td>\n    </tr>\n  </tbody>\n</table>\n</div>"
     },
     "execution_count": 22,
     "metadata": {},
     "output_type": "execute_result"
    }
   ],
   "source": [
    "df3 = df.rename(columns={\n",
    "    'fengliang':'冯亮',\n",
    "    'yuanyuting':'袁玉婷'\n",
    "})\n",
    "df3"
   ],
   "metadata": {
    "collapsed": false,
    "ExecuteTime": {
     "end_time": "2023-11-24T02:52:26.604006Z",
     "start_time": "2023-11-24T02:52:26.578892Z"
    }
   },
   "id": "1c308150e5c74af"
  },
  {
   "cell_type": "code",
   "execution_count": null,
   "outputs": [],
   "source": [],
   "metadata": {
    "collapsed": false
   },
   "id": "c28c8e837d87d23f"
  },
  {
   "cell_type": "code",
   "execution_count": null,
   "outputs": [],
   "source": [],
   "metadata": {
    "collapsed": false
   },
   "id": "e275b1bc8963d166"
  },
  {
   "cell_type": "code",
   "execution_count": null,
   "outputs": [],
   "source": [],
   "metadata": {
    "collapsed": false
   },
   "id": "735c356ba61013ff"
  }
 ],
 "metadata": {
  "kernelspec": {
   "display_name": "Python 3",
   "language": "python",
   "name": "python3"
  },
  "language_info": {
   "codemirror_mode": {
    "name": "ipython",
    "version": 2
   },
   "file_extension": ".py",
   "mimetype": "text/x-python",
   "name": "python",
   "nbconvert_exporter": "python",
   "pygments_lexer": "ipython2",
   "version": "2.7.6"
  }
 },
 "nbformat": 4,
 "nbformat_minor": 5
}
