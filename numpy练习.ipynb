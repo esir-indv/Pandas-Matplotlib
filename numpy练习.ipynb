{
 "cells": [
  {
   "cell_type": "code",
   "execution_count": 3,
   "id": "initial_id",
   "metadata": {
    "collapsed": true,
    "ExecuteTime": {
     "end_time": "2023-11-12T06:49:18.150993Z",
     "start_time": "2023-11-12T06:49:18.147463Z"
    }
   },
   "outputs": [],
   "source": [
    "import numpy as np"
   ]
  },
  {
   "cell_type": "code",
   "execution_count": 4,
   "outputs": [
    {
     "data": {
      "text/plain": "array([0., 0., 0., 0., 1., 0., 0., 0., 0., 0.])"
     },
     "execution_count": 4,
     "metadata": {},
     "output_type": "execute_result"
    }
   ],
   "source": [
    "# 创建一个长度为10的一维全为0的ndarray对象，然后让第5个元素等于1\n",
    "array = np.zeros(10)\n",
    "array[4] = 1\n",
    "array"
   ],
   "metadata": {
    "collapsed": false,
    "ExecuteTime": {
     "end_time": "2023-11-12T06:49:20.590459Z",
     "start_time": "2023-11-12T06:49:20.588015Z"
    }
   },
   "id": "98aa0b62ff8a2209"
  },
  {
   "cell_type": "code",
   "execution_count": null,
   "outputs": [],
   "source": [],
   "metadata": {
    "collapsed": false
   },
   "id": "bcf032b3c9552be3"
  },
  {
   "cell_type": "code",
   "execution_count": 11,
   "outputs": [
    {
     "data": {
      "text/plain": "array([11])"
     },
     "execution_count": 11,
     "metadata": {},
     "output_type": "execute_result"
    }
   ],
   "source": [
    "# 创建一个元素从10到49的ndarray对象\n",
    "array = np.random.randint(10,49,size=1)\n",
    "array"
   ],
   "metadata": {
    "collapsed": false,
    "ExecuteTime": {
     "end_time": "2023-11-12T06:53:37.053915Z",
     "start_time": "2023-11-12T06:53:37.040564Z"
    }
   },
   "id": "f05171c5212015a5"
  },
  {
   "cell_type": "code",
   "execution_count": 14,
   "outputs": [
    {
     "data": {
      "text/plain": "0.9917207822310293"
     },
     "execution_count": 14,
     "metadata": {},
     "output_type": "execute_result"
    }
   ],
   "source": [
    "# 创建一个10*10的对象，并打印出最大最小元素\n",
    "array = np.random.random(size=(10,10))\n",
    "array.max()"
   ],
   "metadata": {
    "collapsed": false,
    "ExecuteTime": {
     "end_time": "2023-11-12T06:55:59.534630Z",
     "start_time": "2023-11-12T06:55:59.497826Z"
    }
   },
   "id": "4fbce19241c86d62"
  },
  {
   "cell_type": "code",
   "execution_count": null,
   "outputs": [],
   "source": [],
   "metadata": {
    "collapsed": false
   },
   "id": "78ee87bb1726d4b2"
  },
  {
   "cell_type": "code",
   "execution_count": 15,
   "outputs": [
    {
     "data": {
      "text/plain": "0.013874804305627597"
     },
     "execution_count": 15,
     "metadata": {},
     "output_type": "execute_result"
    }
   ],
   "source": [
    "# 创建一个10*10的对象，并打印出最大最小元素\n",
    "array = np.random.random(size=(10,10))\n",
    "array.min()"
   ],
   "metadata": {
    "collapsed": false,
    "ExecuteTime": {
     "end_time": "2023-11-12T06:56:17.855514Z",
     "start_time": "2023-11-12T06:56:17.789891Z"
    }
   },
   "id": "6cc60e537d073049"
  },
  {
   "cell_type": "code",
   "execution_count": 4,
   "outputs": [
    {
     "data": {
      "text/plain": "array([0., 0., 0., 0., 1., 0., 0., 0., 0., 0.])"
     },
     "execution_count": 4,
     "metadata": {},
     "output_type": "execute_result"
    }
   ],
   "source": [
    "# 将第二题所有元素翻转,使用切片，这个不会啊？\n",
    "array = np.zeros(10)\n",
    "array[4] = 1\n",
    "array"
   ],
   "metadata": {
    "collapsed": false
   },
   "id": "a60c348363d886ac"
  },
  {
   "cell_type": "code",
   "execution_count": 36,
   "outputs": [
    {
     "data": {
      "text/plain": "array([[76, 17,  7, 48,  8],\n       [24, 76, 70, 18, 35],\n       [35, 59, 81, 28, 50],\n       [50, 19, 21, 28,  5],\n       [79, 44, 38, 81, 40]])"
     },
     "execution_count": 36,
     "metadata": {},
     "output_type": "execute_result"
    }
   ],
   "source": [
    "# 如何根据第3列来对一个5*5的矩阵排序\n",
    "array1 = np.random.randint(0,100,size=(5,5))\n",
    "array1"
   ],
   "metadata": {
    "collapsed": false,
    "ExecuteTime": {
     "end_time": "2023-11-12T07:19:06.543486Z",
     "start_time": "2023-11-12T07:19:06.526676Z"
    }
   },
   "id": "ea7d538fb4695ede"
  },
  {
   "cell_type": "code",
   "execution_count": 39,
   "outputs": [
    {
     "data": {
      "text/plain": "array([ 7, 70, 81, 21, 38])"
     },
     "execution_count": 39,
     "metadata": {},
     "output_type": "execute_result"
    }
   ],
   "source": [
    "# 先获取第三列的数值\n",
    "col_2 = array1[:,2]\n",
    "col_2"
   ],
   "metadata": {
    "collapsed": false,
    "ExecuteTime": {
     "end_time": "2023-11-12T07:20:09.358214Z",
     "start_time": "2023-11-12T07:20:09.341680Z"
    }
   },
   "id": "8989c396afe92ec2"
  },
  {
   "cell_type": "code",
   "execution_count": 41,
   "outputs": [
    {
     "data": {
      "text/plain": "array([ 7, 21, 38, 70, 81])"
     },
     "execution_count": 41,
     "metadata": {},
     "output_type": "execute_result"
    }
   ],
   "source": [
    "# 给第三列排序\n",
    "sort_values = np.sort(array1[:,2])\n",
    "sort_values"
   ],
   "metadata": {
    "collapsed": false,
    "ExecuteTime": {
     "end_time": "2023-11-12T07:22:09.541932Z",
     "start_time": "2023-11-12T07:22:09.537043Z"
    }
   },
   "id": "d836bcd97fd16dfc"
  },
  {
   "cell_type": "code",
   "execution_count": 48,
   "outputs": [
    {
     "name": "stdout",
     "output_type": "stream",
     "text": [
      "0\n",
      "3\n",
      "4\n",
      "1\n",
      "2\n"
     ]
    }
   ],
   "source": [
    "#  获取排序后的的在原始值中的索引,加个[0,0]就可以只要数字\n",
    "new_index = []\n",
    "for x in sort_values:\n",
    "    index = np.argwhere(col_2 == x)[0,0]\n",
    "    new_index.append(index)\n",
    "    print(index)"
   ],
   "metadata": {
    "collapsed": false,
    "ExecuteTime": {
     "end_time": "2023-11-12T07:41:33.868962Z",
     "start_time": "2023-11-12T07:41:33.855266Z"
    }
   },
   "id": "1e9afe400b1cbec9"
  },
  {
   "cell_type": "code",
   "execution_count": 47,
   "outputs": [
    {
     "data": {
      "text/plain": "array([[76, 17,  7, 48,  8],\n       [50, 19, 21, 28,  5],\n       [79, 44, 38, 81, 40],\n       [24, 76, 70, 18, 35],\n       [35, 59, 81, 28, 50]])"
     },
     "execution_count": 47,
     "metadata": {},
     "output_type": "execute_result"
    }
   ],
   "source": [
    "# 排序，按新序列访问,即为按第三列数据排序\n",
    "array1[new_index]"
   ],
   "metadata": {
    "collapsed": false,
    "ExecuteTime": {
     "end_time": "2023-11-12T07:27:57.889712Z",
     "start_time": "2023-11-12T07:27:57.885898Z"
    }
   },
   "id": "b9b4a9362067f9ca"
  },
  {
   "cell_type": "code",
   "execution_count": 49,
   "outputs": [
    {
     "data": {
      "text/plain": "array([[76, 17,  7, 48,  8],\n       [50, 19, 21, 28,  5],\n       [79, 44, 38, 81, 40],\n       [24, 76, 70, 18, 35],\n       [35, 59, 81, 28, 50]])"
     },
     "execution_count": 49,
     "metadata": {},
     "output_type": "execute_result"
    }
   ],
   "source": [
    "# 一个跟简单的自带函数\n",
    "array1[np.argsort(array1[:,2])]"
   ],
   "metadata": {
    "collapsed": false,
    "ExecuteTime": {
     "end_time": "2023-11-12T07:46:59.789182Z",
     "start_time": "2023-11-12T07:46:59.775242Z"
    }
   },
   "id": "b79abf13e5f34b8e"
  }
 ],
 "metadata": {
  "kernelspec": {
   "display_name": "Python 3",
   "language": "python",
   "name": "python3"
  },
  "language_info": {
   "codemirror_mode": {
    "name": "ipython",
    "version": 2
   },
   "file_extension": ".py",
   "mimetype": "text/x-python",
   "name": "python",
   "nbconvert_exporter": "python",
   "pygments_lexer": "ipython2",
   "version": "2.7.6"
  }
 },
 "nbformat": 4,
 "nbformat_minor": 5
}
