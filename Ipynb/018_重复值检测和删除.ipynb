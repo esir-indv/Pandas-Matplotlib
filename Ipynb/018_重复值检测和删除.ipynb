{
 "cells": [
  {
   "cell_type": "code",
   "execution_count": 14,
   "id": "initial_id",
   "metadata": {
    "collapsed": true,
    "ExecuteTime": {
     "end_time": "2023-11-23T07:08:55.065594Z",
     "start_time": "2023-11-23T07:08:55.019053Z"
    }
   },
   "outputs": [],
   "source": [
    "import numpy as np\n",
    "import pandas as pd\n",
    "from pandas import Series, DataFrame\n",
    "import matplotlib.pyplot as plt\n",
    "%matplotlib inline"
   ]
  },
  {
   "cell_type": "code",
   "execution_count": 15,
   "outputs": [
    {
     "data": {
      "text/plain": "   python  java   c  php\n0      65    88  39   61\n1      22    57  45   27\n2      39    35  87   67\n3      44     9  22   76\n4      54    60  99   45\n5      22    57  45   27\n6      45    72  39   31\n7      85    62  81   99\n8      54    60  99   45\n9      39    35  87   67",
      "text/html": "<div>\n<style scoped>\n    .dataframe tbody tr th:only-of-type {\n        vertical-align: middle;\n    }\n\n    .dataframe tbody tr th {\n        vertical-align: top;\n    }\n\n    .dataframe thead th {\n        text-align: right;\n    }\n</style>\n<table border=\"1\" class=\"dataframe\">\n  <thead>\n    <tr style=\"text-align: right;\">\n      <th></th>\n      <th>python</th>\n      <th>java</th>\n      <th>c</th>\n      <th>php</th>\n    </tr>\n  </thead>\n  <tbody>\n    <tr>\n      <th>0</th>\n      <td>65</td>\n      <td>88</td>\n      <td>39</td>\n      <td>61</td>\n    </tr>\n    <tr>\n      <th>1</th>\n      <td>22</td>\n      <td>57</td>\n      <td>45</td>\n      <td>27</td>\n    </tr>\n    <tr>\n      <th>2</th>\n      <td>39</td>\n      <td>35</td>\n      <td>87</td>\n      <td>67</td>\n    </tr>\n    <tr>\n      <th>3</th>\n      <td>44</td>\n      <td>9</td>\n      <td>22</td>\n      <td>76</td>\n    </tr>\n    <tr>\n      <th>4</th>\n      <td>54</td>\n      <td>60</td>\n      <td>99</td>\n      <td>45</td>\n    </tr>\n    <tr>\n      <th>5</th>\n      <td>22</td>\n      <td>57</td>\n      <td>45</td>\n      <td>27</td>\n    </tr>\n    <tr>\n      <th>6</th>\n      <td>45</td>\n      <td>72</td>\n      <td>39</td>\n      <td>31</td>\n    </tr>\n    <tr>\n      <th>7</th>\n      <td>85</td>\n      <td>62</td>\n      <td>81</td>\n      <td>99</td>\n    </tr>\n    <tr>\n      <th>8</th>\n      <td>54</td>\n      <td>60</td>\n      <td>99</td>\n      <td>45</td>\n    </tr>\n    <tr>\n      <th>9</th>\n      <td>39</td>\n      <td>35</td>\n      <td>87</td>\n      <td>67</td>\n    </tr>\n  </tbody>\n</table>\n</div>"
     },
     "execution_count": 15,
     "metadata": {},
     "output_type": "execute_result"
    }
   ],
   "source": [
    "df  =DataFrame(data=np.random.randint(0,100,size=(10,4)),columns=['python','java','c','php'] )\n",
    "df.loc[1]=df.loc[5]\n",
    "df.loc[2]=df.loc[9]\n",
    "df.loc[4]=df.loc[8]\n",
    "df"
   ],
   "metadata": {
    "collapsed": false,
    "ExecuteTime": {
     "end_time": "2023-11-23T07:08:55.072656Z",
     "start_time": "2023-11-23T07:08:55.029936Z"
    }
   },
   "id": "7b4af5ca08f6369"
  },
  {
   "cell_type": "code",
   "execution_count": 16,
   "outputs": [
    {
     "data": {
      "text/plain": "0    False\n1    False\n2    False\n3    False\n4    False\n5     True\n6    False\n7    False\n8     True\n9     True\ndtype: bool"
     },
     "execution_count": 16,
     "metadata": {},
     "output_type": "execute_result"
    }
   ],
   "source": [
    "# 查看重复列\n",
    "# subset=  确定标准赛选列，根据哪些列来赛选重复值\n",
    "# keep=first，第一次出现的保留为正常值，后面出现的为重复值，默认first，保留重复值中出现的第一次 last保留最后一次出现的\n",
    "df.duplicated(keep='first')"
   ],
   "metadata": {
    "collapsed": false,
    "ExecuteTime": {
     "end_time": "2023-11-23T07:08:55.072778Z",
     "start_time": "2023-11-23T07:08:55.035028Z"
    }
   },
   "id": "46ef4df221867aeb"
  },
  {
   "cell_type": "code",
   "execution_count": 17,
   "outputs": [
    {
     "data": {
      "text/plain": "   python  java   c  php\n1      22    57  45   27\n2      39    35  87   67\n4      54    60  99   45",
      "text/html": "<div>\n<style scoped>\n    .dataframe tbody tr th:only-of-type {\n        vertical-align: middle;\n    }\n\n    .dataframe tbody tr th {\n        vertical-align: top;\n    }\n\n    .dataframe thead th {\n        text-align: right;\n    }\n</style>\n<table border=\"1\" class=\"dataframe\">\n  <thead>\n    <tr style=\"text-align: right;\">\n      <th></th>\n      <th>python</th>\n      <th>java</th>\n      <th>c</th>\n      <th>php</th>\n    </tr>\n  </thead>\n  <tbody>\n    <tr>\n      <th>1</th>\n      <td>22</td>\n      <td>57</td>\n      <td>45</td>\n      <td>27</td>\n    </tr>\n    <tr>\n      <th>2</th>\n      <td>39</td>\n      <td>35</td>\n      <td>87</td>\n      <td>67</td>\n    </tr>\n    <tr>\n      <th>4</th>\n      <td>54</td>\n      <td>60</td>\n      <td>99</td>\n      <td>45</td>\n    </tr>\n  </tbody>\n</table>\n</div>"
     },
     "execution_count": 17,
     "metadata": {},
     "output_type": "execute_result"
    }
   ],
   "source": [
    "df.loc[df.duplicated(keep='last')]"
   ],
   "metadata": {
    "collapsed": false,
    "ExecuteTime": {
     "end_time": "2023-11-23T07:08:55.072887Z",
     "start_time": "2023-11-23T07:08:55.040353Z"
    }
   },
   "id": "12a6a0f8474990b8"
  },
  {
   "cell_type": "code",
   "execution_count": 18,
   "outputs": [
    {
     "data": {
      "text/plain": "0    False\n1     True\n2     True\n3    False\n4     True\n5    False\n6    False\n7    False\n8    False\n9    False\ndtype: bool"
     },
     "execution_count": 18,
     "metadata": {},
     "output_type": "execute_result"
    }
   ],
   "source": [
    "df.loc[1,'python'] = 100\n",
    "\n",
    "# 使用子集\n",
    "\n",
    "df.duplicated(keep='last',subset=['java','c','php'])\n"
   ],
   "metadata": {
    "collapsed": false,
    "ExecuteTime": {
     "end_time": "2023-11-23T07:08:55.073219Z",
     "start_time": "2023-11-23T07:08:55.045486Z"
    }
   },
   "id": "3e75be23e9b3a26e"
  },
  {
   "cell_type": "code",
   "execution_count": 19,
   "outputs": [
    {
     "data": {
      "text/plain": "0    False\n1     True\n2     True\n3    False\n4     True\n5    False\n6    False\n7    False\n8    False\n9    False\ndtype: bool"
     },
     "execution_count": 19,
     "metadata": {},
     "output_type": "execute_result"
    }
   ],
   "source": [
    "# 根据子集来赛选重复值\n",
    "df.duplicated(keep='last',subset=['java','c','php'])\n"
   ],
   "metadata": {
    "collapsed": false,
    "ExecuteTime": {
     "end_time": "2023-11-23T07:08:55.073287Z",
     "start_time": "2023-11-23T07:08:55.048476Z"
    }
   },
   "id": "7164e74401b9c93c"
  },
  {
   "cell_type": "code",
   "execution_count": 20,
   "outputs": [
    {
     "data": {
      "text/plain": "0     True\n1    False\n2    False\n3     True\n4    False\n5     True\n6     True\n7     True\n8     True\n9     True\ndtype: bool"
     },
     "execution_count": 20,
     "metadata": {},
     "output_type": "execute_result"
    }
   ],
   "source": [
    "# 根据子集来赛选重复值\n",
    "\n",
    "# 加～可以进行反向重置值\n",
    "~df.duplicated(keep='last',subset=['java','c','php'])\n"
   ],
   "metadata": {
    "collapsed": false,
    "ExecuteTime": {
     "end_time": "2023-11-23T07:12:47.494972Z",
     "start_time": "2023-11-23T07:12:47.487651Z"
    }
   },
   "id": "afd4ec76a6b7bb4e"
  },
  {
   "cell_type": "code",
   "execution_count": 19,
   "outputs": [],
   "source": [],
   "metadata": {
    "collapsed": false,
    "ExecuteTime": {
     "end_time": "2023-11-23T07:08:55.073342Z",
     "start_time": "2023-11-23T07:08:55.052278Z"
    }
   },
   "id": "aa2cf6ad1d9706c"
  },
  {
   "cell_type": "code",
   "execution_count": 19,
   "outputs": [],
   "source": [],
   "metadata": {
    "collapsed": false,
    "ExecuteTime": {
     "end_time": "2023-11-23T07:08:55.073370Z",
     "start_time": "2023-11-23T07:08:55.054011Z"
    }
   },
   "id": "20f0a883e8e06e7d"
  },
  {
   "cell_type": "code",
   "execution_count": 19,
   "outputs": [],
   "source": [],
   "metadata": {
    "collapsed": false,
    "ExecuteTime": {
     "end_time": "2023-11-23T07:08:55.073395Z",
     "start_time": "2023-11-23T07:08:55.055952Z"
    }
   },
   "id": "b2a2727ac6445cdd"
  },
  {
   "cell_type": "code",
   "execution_count": 19,
   "outputs": [],
   "source": [],
   "metadata": {
    "collapsed": false,
    "ExecuteTime": {
     "end_time": "2023-11-23T07:08:55.073422Z",
     "start_time": "2023-11-23T07:08:55.057569Z"
    }
   },
   "id": "d09e0750a62ca29d"
  },
  {
   "cell_type": "code",
   "execution_count": 19,
   "outputs": [],
   "source": [],
   "metadata": {
    "collapsed": false,
    "ExecuteTime": {
     "end_time": "2023-11-23T07:08:55.073448Z",
     "start_time": "2023-11-23T07:08:55.059275Z"
    }
   },
   "id": "82d7a8405ea9f13f"
  }
 ],
 "metadata": {
  "kernelspec": {
   "display_name": "Python 3",
   "language": "python",
   "name": "python3"
  },
  "language_info": {
   "codemirror_mode": {
    "name": "ipython",
    "version": 2
   },
   "file_extension": ".py",
   "mimetype": "text/x-python",
   "name": "python",
   "nbconvert_exporter": "python",
   "pygments_lexer": "ipython2",
   "version": "2.7.6"
  }
 },
 "nbformat": 4,
 "nbformat_minor": 5
}
