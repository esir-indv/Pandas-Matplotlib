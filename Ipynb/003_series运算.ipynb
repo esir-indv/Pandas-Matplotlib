{
 "cells": [
  {
   "cell_type": "code",
   "execution_count": 7,
   "id": "initial_id",
   "metadata": {
    "collapsed": true,
    "ExecuteTime": {
     "end_time": "2023-11-14T01:56:57.850637Z",
     "start_time": "2023-11-14T01:56:57.839825Z"
    }
   },
   "outputs": [
    {
     "data": {
      "text/plain": "A    21\nB    15\nC    38\nD    54\nE     2\nF    47\nG     1\nH    66\nI     8\nJ    71\ndtype: int64"
     },
     "execution_count": 7,
     "metadata": {},
     "output_type": "execute_result"
    }
   ],
   "source": [
    "import numpy as np\n",
    "import pandas as pd\n",
    "from pandas import Series, DataFrame\n",
    "import matplotlib.pyplot as plt\n",
    "%matplotlib inline\n",
    "\n",
    "s = Series(data=np.random.randint(1,100, size=10),index=list(\"ABCDEFGHIJ\"))\n",
    "s"
   ]
  },
  {
   "cell_type": "code",
   "execution_count": 8,
   "outputs": [
    {
     "data": {
      "text/plain": "G     1\nE     2\nI     8\nB    15\nA    21\nC    38\nF    47\nD    54\nH    66\nJ    71\ndtype: int64"
     },
     "execution_count": 8,
     "metadata": {},
     "output_type": "execute_result"
    }
   ],
   "source": [
    "# 排序,默认升序\n",
    "s.sort_values(ascending=True)"
   ],
   "metadata": {
    "collapsed": false,
    "ExecuteTime": {
     "end_time": "2023-11-14T02:45:16.808068Z",
     "start_time": "2023-11-14T02:45:16.800092Z"
    }
   },
   "id": "d7b633fb842d5e61"
  },
  {
   "cell_type": "code",
   "execution_count": 9,
   "outputs": [
    {
     "data": {
      "text/plain": "A    21\nB    15\nC    38\nD    54\nE     2\nF    47\nG     1\nH    66\nI     8\nJ    71\ndtype: int64"
     },
     "execution_count": 9,
     "metadata": {},
     "output_type": "execute_result"
    }
   ],
   "source": [
    "# 根据索引排序\n",
    "s.sort_index(ascending=True)"
   ],
   "metadata": {
    "collapsed": false,
    "ExecuteTime": {
     "end_time": "2023-11-14T02:46:45.630196Z",
     "start_time": "2023-11-14T02:46:45.615639Z"
    }
   },
   "id": "a3b0c5913b4f0ffc"
  },
  {
   "cell_type": "code",
   "execution_count": 10,
   "outputs": [
    {
     "data": {
      "text/plain": "0     True\n1     True\n2    False\n3    False\n4    False\n5    False\n6    False\n7     True\n8    False\n9     True\ndtype: bool"
     },
     "execution_count": 10,
     "metadata": {},
     "output_type": "execute_result"
    }
   ],
   "source": [
    "# 统计值出现的次数\n",
    "sex = Series(data=np.random.randint(0,2,size=10).astype(bool))\n",
    "sex "
   ],
   "metadata": {
    "collapsed": false,
    "ExecuteTime": {
     "end_time": "2023-11-14T02:50:37.450679Z",
     "start_time": "2023-11-14T02:50:37.425040Z"
    }
   },
   "id": "8b4ac1721da10127"
  },
  {
   "cell_type": "code",
   "execution_count": 14,
   "outputs": [],
   "source": [
    "def sex_type(x):\n",
    "    if x :\n",
    "        return '男'\n",
    "    else:\n",
    "        return '女'\n",
    "    \n",
    "sex = sex.map(sex_type)"
   ],
   "metadata": {
    "collapsed": false,
    "ExecuteTime": {
     "end_time": "2023-11-14T02:56:37.436355Z",
     "start_time": "2023-11-14T02:56:37.434195Z"
    }
   },
   "id": "cdeb503e626ec1a2"
  },
  {
   "cell_type": "code",
   "execution_count": 15,
   "outputs": [
    {
     "data": {
      "text/plain": "女    6\n男    4\nName: count, dtype: int64"
     },
     "execution_count": 15,
     "metadata": {},
     "output_type": "execute_result"
    }
   ],
   "source": [
    "# 统计次数\n",
    "sex.value_counts()"
   ],
   "metadata": {
    "collapsed": false,
    "ExecuteTime": {
     "end_time": "2023-11-14T02:56:39.591025Z",
     "start_time": "2023-11-14T02:56:39.585640Z"
    }
   },
   "id": "8a6681923f1c18c5"
  },
  {
   "cell_type": "code",
   "execution_count": 16,
   "outputs": [
    {
     "data": {
      "text/plain": "array(['男', '女'], dtype=object)"
     },
     "execution_count": 16,
     "metadata": {},
     "output_type": "execute_result"
    }
   ],
   "source": [
    "# 去重函数,离散值\n",
    "sex.unique()"
   ],
   "metadata": {
    "collapsed": false,
    "ExecuteTime": {
     "end_time": "2023-11-14T03:01:13.255560Z",
     "start_time": "2023-11-14T03:01:13.253415Z"
    }
   },
   "id": "ed5737c92769fedb"
  },
  {
   "cell_type": "code",
   "execution_count": 17,
   "outputs": [
    {
     "data": {
      "text/plain": "A    121\nB    115\nC    138\nD    154\nE    102\nF    147\nG    101\nH    166\nI    108\nJ    171\ndtype: int64"
     },
     "execution_count": 17,
     "metadata": {},
     "output_type": "execute_result"
    }
   ],
   "source": [
    "s+100"
   ],
   "metadata": {
    "collapsed": false,
    "ExecuteTime": {
     "end_time": "2023-11-14T03:03:18.127504Z",
     "start_time": "2023-11-14T03:03:18.124027Z"
    }
   },
   "id": "ba71fdf7a58acae8"
  },
  {
   "cell_type": "code",
   "execution_count": 19,
   "outputs": [
    {
     "data": {
      "text/plain": "array([100, 100, 100, 100, 100, 100, 100, 100, 100, 100])"
     },
     "execution_count": 19,
     "metadata": {},
     "output_type": "execute_result"
    }
   ],
   "source": [
    "data = np.full(shape=10,fill_value=100  )\n",
    "data"
   ],
   "metadata": {
    "collapsed": false,
    "ExecuteTime": {
     "end_time": "2023-11-14T03:04:11.297777Z",
     "start_time": "2023-11-14T03:04:11.289694Z"
    }
   },
   "id": "6b55256a24f00c42"
  },
  {
   "cell_type": "code",
   "execution_count": 20,
   "outputs": [
    {
     "data": {
      "text/plain": "A    121\nB    115\nC    138\nD    154\nE    102\nF    147\nG    101\nH    166\nI    108\nJ    171\ndtype: int64"
     },
     "execution_count": 20,
     "metadata": {},
     "output_type": "execute_result"
    }
   ],
   "source": [
    "s + data"
   ],
   "metadata": {
    "collapsed": false,
    "ExecuteTime": {
     "end_time": "2023-11-14T03:04:23.936755Z",
     "start_time": "2023-11-14T03:04:23.934219Z"
    }
   },
   "id": "9c21c67bc62c8944"
  },
  {
   "cell_type": "code",
   "execution_count": 23,
   "outputs": [],
   "source": [
    "# series 之间的运算\n",
    "s1 = Series(data=np.random.randint(0,100,size=5),index=list('ABCDE'))\n",
    "s2 = Series(data=np.random.randint(0,100,size=5),index=list('ABCDE'))"
   ],
   "metadata": {
    "collapsed": false,
    "ExecuteTime": {
     "end_time": "2023-11-14T03:09:09.402981Z",
     "start_time": "2023-11-14T03:09:09.400172Z"
    }
   },
   "id": "4ae400dec2a02e4d"
  },
  {
   "cell_type": "code",
   "execution_count": 24,
   "outputs": [
    {
     "data": {
      "text/plain": "A    75\nB    68\nC    32\nD    20\nE    54\ndtype: int64"
     },
     "metadata": {},
     "output_type": "display_data"
    },
    {
     "data": {
      "text/plain": "A    25\nB    75\nC     4\nD    25\nE    42\ndtype: int64"
     },
     "metadata": {},
     "output_type": "display_data"
    }
   ],
   "source": [
    "display(s1,s2)"
   ],
   "metadata": {
    "collapsed": false,
    "ExecuteTime": {
     "end_time": "2023-11-14T03:09:11.831357Z",
     "start_time": "2023-11-14T03:09:11.819119Z"
    }
   },
   "id": "3927b97fc76ffd6e"
  },
  {
   "cell_type": "code",
   "execution_count": 25,
   "outputs": [
    {
     "data": {
      "text/plain": "A    100\nB    143\nC     36\nD     45\nE     96\ndtype: int64"
     },
     "execution_count": 25,
     "metadata": {},
     "output_type": "execute_result"
    }
   ],
   "source": [
    "s1+s2"
   ],
   "metadata": {
    "collapsed": false,
    "ExecuteTime": {
     "end_time": "2023-11-14T03:09:33.831004Z",
     "start_time": "2023-11-14T03:09:33.828629Z"
    }
   },
   "id": "3e5ea59105336829"
  },
  {
   "cell_type": "code",
   "execution_count": 27,
   "outputs": [
    {
     "data": {
      "text/plain": "A    58\nB    24\nC    58\nD    52\nF    84\ndtype: int64"
     },
     "execution_count": 27,
     "metadata": {},
     "output_type": "execute_result"
    }
   ],
   "source": [
    "s3 = Series(data=np.random.randint(0,100,size=5),index=list('ABCDF'))\n",
    "s3"
   ],
   "metadata": {
    "collapsed": false,
    "ExecuteTime": {
     "end_time": "2023-11-14T06:15:39.448176Z",
     "start_time": "2023-11-14T06:15:39.445192Z"
    }
   },
   "id": "d658e126719d4680"
  },
  {
   "cell_type": "code",
   "execution_count": 28,
   "outputs": [
    {
     "data": {
      "text/plain": "A    133.0\nB     92.0\nC     90.0\nD     72.0\nE      NaN\nF      NaN\ndtype: float64"
     },
     "execution_count": 28,
     "metadata": {},
     "output_type": "execute_result"
    }
   ],
   "source": [
    "s1+s3"
   ],
   "metadata": {
    "collapsed": false,
    "ExecuteTime": {
     "end_time": "2023-11-14T06:15:50.180229Z",
     "start_time": "2023-11-14T06:15:50.177060Z"
    }
   },
   "id": "a945abcd3a5a5a9"
  },
  {
   "cell_type": "code",
   "execution_count": 30,
   "outputs": [
    {
     "data": {
      "text/plain": "A    25\nB    89\nC     0\nD    75\nE    66\ndtype: int64"
     },
     "metadata": {},
     "output_type": "display_data"
    },
    {
     "data": {
      "text/plain": "C    58\nB     1\nD    18\nA    64\nE    82\ndtype: int64"
     },
     "metadata": {},
     "output_type": "display_data"
    }
   ],
   "source": [
    "data1 = np.random.randint(0,100,size=5)\n",
    "data2 = np.random.randint(0,100,size=5)\n",
    "s4 = Series(data=data1,index=list('ABCDE'))\n",
    "s5 = Series(data=data2,index=list('CBDAE'))\n",
    "display(s4,s5)"
   ],
   "metadata": {
    "collapsed": false,
    "ExecuteTime": {
     "end_time": "2023-11-14T06:19:47.640750Z",
     "start_time": "2023-11-14T06:19:47.635575Z"
    }
   },
   "id": "667285a07e26229"
  },
  {
   "cell_type": "code",
   "execution_count": 31,
   "outputs": [
    {
     "data": {
      "text/plain": "A     89\nB     90\nC     58\nD     93\nE    148\ndtype: int64"
     },
     "execution_count": 31,
     "metadata": {},
     "output_type": "execute_result"
    }
   ],
   "source": [
    "# 相加依然是索引对齐\n",
    "s4+s5 "
   ],
   "metadata": {
    "collapsed": false,
    "ExecuteTime": {
     "end_time": "2023-11-14T06:20:45.448598Z",
     "start_time": "2023-11-14T06:20:45.444576Z"
    }
   },
   "id": "548be5dcedf38ee4"
  },
  {
   "cell_type": "code",
   "execution_count": 32,
   "outputs": [
    {
     "data": {
      "text/plain": "A    133.0\nB     92.0\nC     90.0\nD     72.0\nE     54.0\nF     84.0\ndtype: float64"
     },
     "execution_count": 32,
     "metadata": {},
     "output_type": "execute_result"
    }
   ],
   "source": [
    "# 保留所有index空值，使用函数\n",
    "s1.add(s3,fill_value=0)"
   ],
   "metadata": {
    "collapsed": false,
    "ExecuteTime": {
     "end_time": "2023-11-14T06:23:57.738265Z",
     "start_time": "2023-11-14T06:23:57.734907Z"
    }
   },
   "id": "33edeb6cd33a7096"
  },
  {
   "cell_type": "code",
   "execution_count": 33,
   "outputs": [
    {
     "data": {
      "text/plain": "语文     47\n数学     22\n英语    114\n理综    132\ndtype: int64"
     },
     "metadata": {},
     "output_type": "display_data"
    },
    {
     "data": {
      "text/plain": "语文     83\n数学    144\n英语     35\n文综     90\ndtype: int64"
     },
     "metadata": {},
     "output_type": "display_data"
    }
   ],
   "source": [
    "s1 =Series(data={\n",
    "    \"语文\":np.random.randint(0,150,size=1)[0],\n",
    "    \"数学\":np.random.randint(0,150,size=1)[0],\n",
    "    \"英语\":np.random.randint(0,150,size=1)[0],\n",
    "    \"理综\":np.random.randint(0,300,size=1)[0]\n",
    "})\n",
    "\n",
    "s2 =Series(data={\n",
    "    \"语文\":np.random.randint(0,150,size=1)[0],\n",
    "    \"数学\":np.random.randint(0,150,size=1)[0],\n",
    "    \"英语\":np.random.randint(0,150,size=1)[0],\n",
    "    \"文综\":np.random.randint(0,300,size=1)[0]\n",
    "})\n",
    "display(s1,s2)"
   ],
   "metadata": {
    "collapsed": false,
    "ExecuteTime": {
     "end_time": "2023-11-14T06:34:00.749285Z",
     "start_time": "2023-11-14T06:34:00.740096Z"
    }
   },
   "id": "c60d49044fc7060f"
  },
  {
   "cell_type": "code",
   "execution_count": 34,
   "outputs": [
    {
     "data": {
      "text/plain": "数学    166.0\n文综     90.0\n理综    132.0\n英语    149.0\n语文    130.0\ndtype: float64"
     },
     "execution_count": 34,
     "metadata": {},
     "output_type": "execute_result"
    }
   ],
   "source": [
    "s1.add(s2,fill_value=0)"
   ],
   "metadata": {
    "collapsed": false,
    "ExecuteTime": {
     "end_time": "2023-11-14T06:34:44.051893Z",
     "start_time": "2023-11-14T06:34:44.049919Z"
    }
   },
   "id": "6249cc248abc1a82"
  },
  {
   "cell_type": "code",
   "execution_count": 35,
   "outputs": [
    {
     "data": {
      "text/plain": "lucy    84\nmery    59\ntom     93\njack    74\nrose    59\nName: Python, dtype: int64"
     },
     "metadata": {},
     "output_type": "display_data"
    },
    {
     "data": {
      "text/plain": "lucy    58\nmery    89\ntom     64\njack    70\nrose    68\nName: Java, dtype: int64"
     },
     "metadata": {},
     "output_type": "display_data"
    }
   ],
   "source": [
    "index = [\"lucy\",\"mery\",\"tom\",\"jack\",\"rose\"]\n",
    "python = Series(data=np.random.randint(40,100,size=5),name=\"Python\",index=index)\n",
    "java = Series(data=np.random.randint(40,100,size=5),name=\"Java\",index=index)\n",
    "display(python,java)"
   ],
   "metadata": {
    "collapsed": false,
    "ExecuteTime": {
     "end_time": "2023-11-14T06:37:23.979826Z",
     "start_time": "2023-11-14T06:37:23.976519Z"
    }
   },
   "id": "2bdd77bc80d8a799"
  },
  {
   "cell_type": "code",
   "execution_count": 37,
   "outputs": [
    {
     "data": {
      "text/plain": "lucy    71.0\nmery    74.0\ntom     78.5\njack    72.0\nrose    63.5\ndtype: float64"
     },
     "execution_count": 37,
     "metadata": {},
     "output_type": "execute_result"
    }
   ],
   "source": [
    "# 计算每个学生的平均成绩\n",
    "(python+java)/2"
   ],
   "metadata": {
    "collapsed": false,
    "ExecuteTime": {
     "end_time": "2023-11-14T06:40:09.337314Z",
     "start_time": "2023-11-14T06:40:09.333367Z"
    }
   },
   "id": "271fe824c3c629a2"
  },
  {
   "cell_type": "code",
   "execution_count": 41,
   "outputs": [
    {
     "data": {
      "text/plain": "Index(['mery', 'rose'], dtype='object')"
     },
     "execution_count": 41,
     "metadata": {},
     "output_type": "execute_result"
    }
   ],
   "source": [
    "# 找出python未及格的学生姓名\n",
    "python.loc[python < 60].index"
   ],
   "metadata": {
    "collapsed": false,
    "ExecuteTime": {
     "end_time": "2023-11-14T06:43:55.788592Z",
     "start_time": "2023-11-14T06:43:55.785009Z"
    }
   },
   "id": "5138569a6e673461"
  },
  {
   "cell_type": "code",
   "execution_count": 45,
   "outputs": [
    {
     "data": {
      "text/plain": "93"
     },
     "execution_count": 45,
     "metadata": {},
     "output_type": "execute_result"
    }
   ],
   "source": [
    "python.loc['tom']"
   ],
   "metadata": {
    "collapsed": false,
    "ExecuteTime": {
     "end_time": "2023-11-14T06:47:42.743562Z",
     "start_time": "2023-11-14T06:47:42.734256Z"
    }
   },
   "id": "ece709f539cf73da"
  }
 ],
 "metadata": {
  "kernelspec": {
   "display_name": "Python 3",
   "language": "python",
   "name": "python3"
  },
  "language_info": {
   "codemirror_mode": {
    "name": "ipython",
    "version": 2
   },
   "file_extension": ".py",
   "mimetype": "text/x-python",
   "name": "python",
   "nbconvert_exporter": "python",
   "pygments_lexer": "ipython2",
   "version": "2.7.6"
  }
 },
 "nbformat": 4,
 "nbformat_minor": 5
}
