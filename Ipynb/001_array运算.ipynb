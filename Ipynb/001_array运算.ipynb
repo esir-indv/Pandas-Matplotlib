{
 "cells": [
  {
   "cell_type": "code",
   "execution_count": 21,
   "id": "initial_id",
   "metadata": {
    "collapsed": true,
    "ExecuteTime": {
     "end_time": "2024-03-19T09:26:50.201023Z",
     "start_time": "2024-03-19T09:26:50.192365Z"
    }
   },
   "outputs": [
    {
     "data": {
      "text/plain": "array([[ 5, 14, 43, 66, 36,  2],\n       [11, 49,  3, 92, 69, 32],\n       [98, 34, 18, 73, 47, 49],\n       [10,  6, 58, 93, 11, 91],\n       [41, 81, 90, 17, 80, 18],\n       [46, 21, 39, 13, 36, 71],\n       [33, 48, 20, 13, 63, 27]])"
     },
     "execution_count": 21,
     "metadata": {},
     "output_type": "execute_result"
    }
   ],
   "source": [
    "import numpy as np\n",
    "import pandas as pd\n",
    "#设置小数位数3位\n",
    "np.set_printoptions(precision=3)\n",
    "array = np.random.randint(1,100,size=(7,6))\n",
    "array"
   ]
  },
  {
   "cell_type": "code",
   "execution_count": 22,
   "outputs": [
    {
     "data": {
      "text/plain": "array([244, 253, 271, 367, 342, 290])"
     },
     "execution_count": 22,
     "metadata": {},
     "output_type": "execute_result"
    }
   ],
   "source": [
    "array.sum(axis=0)"
   ],
   "metadata": {
    "collapsed": false,
    "ExecuteTime": {
     "end_time": "2024-03-19T09:26:50.223818Z",
     "start_time": "2024-03-19T09:26:50.220913Z"
    }
   },
   "id": "ca5f8f0895fc641b"
  },
  {
   "cell_type": "code",
   "outputs": [
    {
     "data": {
      "text/plain": "array([27.667, 42.667, 53.167, 44.833, 54.5  , 37.667, 34.   ])"
     },
     "execution_count": 36,
     "metadata": {},
     "output_type": "execute_result"
    }
   ],
   "source": [
    "np.around(array.mean(axis=1),3)"
   ],
   "metadata": {
    "collapsed": false,
    "ExecuteTime": {
     "end_time": "2024-03-19T09:38:00.867237Z",
     "start_time": "2024-03-19T09:38:00.860574Z"
    }
   },
   "id": "1cb3ea9d85bf899d",
   "execution_count": 36
  },
  {
   "cell_type": "code",
   "execution_count": 24,
   "outputs": [
    {
     "data": {
      "text/plain": "array([244, 253, 271, 367, 342, 290])"
     },
     "execution_count": 24,
     "metadata": {},
     "output_type": "execute_result"
    }
   ],
   "source": [
    "array.sum(axis=0)"
   ],
   "metadata": {
    "collapsed": false,
    "ExecuteTime": {
     "end_time": "2024-03-19T09:26:50.317594Z",
     "start_time": "2024-03-19T09:26:50.315328Z"
    }
   },
   "id": "19af95dd2514871d"
  },
  {
   "cell_type": "code",
   "execution_count": 25,
   "outputs": [
    {
     "data": {
      "text/plain": "     0\n0  166\n1  256\n2  319\n3  269\n4  327\n5  226\n6  204",
      "text/html": "<div>\n<style scoped>\n    .dataframe tbody tr th:only-of-type {\n        vertical-align: middle;\n    }\n\n    .dataframe tbody tr th {\n        vertical-align: top;\n    }\n\n    .dataframe thead th {\n        text-align: right;\n    }\n</style>\n<table border=\"1\" class=\"dataframe\">\n  <thead>\n    <tr style=\"text-align: right;\">\n      <th></th>\n      <th>0</th>\n    </tr>\n  </thead>\n  <tbody>\n    <tr>\n      <th>0</th>\n      <td>166</td>\n    </tr>\n    <tr>\n      <th>1</th>\n      <td>256</td>\n    </tr>\n    <tr>\n      <th>2</th>\n      <td>319</td>\n    </tr>\n    <tr>\n      <th>3</th>\n      <td>269</td>\n    </tr>\n    <tr>\n      <th>4</th>\n      <td>327</td>\n    </tr>\n    <tr>\n      <th>5</th>\n      <td>226</td>\n    </tr>\n    <tr>\n      <th>6</th>\n      <td>204</td>\n    </tr>\n  </tbody>\n</table>\n</div>"
     },
     "execution_count": 25,
     "metadata": {},
     "output_type": "execute_result"
    }
   ],
   "source": [
    "pd.DataFrame(array.sum(axis=1))"
   ],
   "metadata": {
    "collapsed": false,
    "ExecuteTime": {
     "end_time": "2024-03-19T09:26:50.387323Z",
     "start_time": "2024-03-19T09:26:50.381158Z"
    }
   },
   "id": "5742a308f056002c"
  },
  {
   "cell_type": "code",
   "execution_count": 26,
   "outputs": [
    {
     "data": {
      "text/plain": "array([54, 88, 23, 59, 67, 48, 42, 31, 21, 97, 10, 51, 67, 13, 79, 35, 79,\n       61, 80, 89, 47, 39, 23, 36, 51, 65, 90, 90, 88, 13,  4, 86, 88, 36,\n       57, 34, 13, 76, 46, 71, 53, 25, 20, 51, 28, 60, 43, 67, 74, 12, 80,\n        3, 66, 36, 62, 36, 35,  2, 66, 49, 73, 46, 18, 89, 18, 44, 25, 82,\n       18, 85, 89, 70, 42, 32, 42, 29, 18, 10, 77, 60, 96, 46, 69, 25,  5,\n       74, 41, 19, 76,  5, 17, 94, 20, 74, 19, 90, 60,  6, 14, 83])"
     },
     "execution_count": 26,
     "metadata": {},
     "output_type": "execute_result"
    }
   ],
   "source": [
    "# any and or import!!!\n",
    "python = np.random.randint(0, 100, size=100)\n",
    "python"
   ],
   "metadata": {
    "collapsed": false,
    "ExecuteTime": {
     "end_time": "2024-03-19T09:26:50.390741Z",
     "start_time": "2024-03-19T09:26:50.388280Z"
    }
   },
   "id": "22a26af54f1a00f9"
  },
  {
   "cell_type": "code",
   "execution_count": 27,
   "outputs": [
    {
     "data": {
      "text/plain": "array([ True, False,  True,  True, False,  True,  True,  True,  True,\n       False,  True,  True, False,  True, False,  True, False, False,\n       False, False,  True,  True,  True,  True,  True, False, False,\n       False, False,  True,  True, False, False,  True,  True,  True,\n        True, False,  True, False,  True,  True,  True,  True,  True,\n       False,  True, False, False,  True, False,  True, False,  True,\n       False,  True,  True,  True, False,  True, False,  True,  True,\n       False,  True,  True,  True, False,  True, False, False, False,\n        True,  True,  True,  True,  True,  True, False, False, False,\n        True, False,  True,  True, False,  True,  True, False,  True,\n        True, False,  True, False,  True, False, False,  True,  True,\n       False])"
     },
     "execution_count": 27,
     "metadata": {},
     "output_type": "execute_result"
    }
   ],
   "source": [
    "python < 60"
   ],
   "metadata": {
    "collapsed": false,
    "ExecuteTime": {
     "end_time": "2024-03-19T09:26:50.418120Z",
     "start_time": "2024-03-19T09:26:50.414711Z"
    }
   },
   "id": "819fad423956c2cc"
  },
  {
   "cell_type": "code",
   "execution_count": 28,
   "outputs": [
    {
     "data": {
      "text/plain": "array([54, 23, 59, 48, 42, 31, 21, 10, 51, 13, 35, 47, 39, 23, 36, 51, 13,\n        4, 36, 57, 34, 13, 46, 53, 25, 20, 51, 28, 43, 12,  3, 36, 36, 35,\n        2, 49, 46, 18, 18, 44, 25, 18, 42, 32, 42, 29, 18, 10, 46, 25,  5,\n       41, 19,  5, 17, 20, 19,  6, 14])"
     },
     "execution_count": 28,
     "metadata": {},
     "output_type": "execute_result"
    }
   ],
   "source": [
    "python[python < 60]"
   ],
   "metadata": {
    "collapsed": false,
    "ExecuteTime": {
     "end_time": "2024-03-19T09:26:50.439914Z",
     "start_time": "2024-03-19T09:26:50.437237Z"
    }
   },
   "id": "a1c52bd7959d9396"
  },
  {
   "cell_type": "code",
   "execution_count": 29,
   "outputs": [
    {
     "data": {
      "text/plain": "False"
     },
     "execution_count": 29,
     "metadata": {},
     "output_type": "execute_result"
    }
   ],
   "source": [
    "(python == 100).any()"
   ],
   "metadata": {
    "collapsed": false,
    "ExecuteTime": {
     "end_time": "2024-03-19T09:26:50.463463Z",
     "start_time": "2024-03-19T09:26:50.460711Z"
    }
   },
   "id": "7eae88209034d61b"
  },
  {
   "cell_type": "code",
   "execution_count": 30,
   "outputs": [
    {
     "data": {
      "text/plain": "True"
     },
     "execution_count": 30,
     "metadata": {},
     "output_type": "execute_result"
    }
   ],
   "source": [
    "(python != 100).all()"
   ],
   "metadata": {
    "collapsed": false,
    "ExecuteTime": {
     "end_time": "2024-03-19T09:26:50.611028Z",
     "start_time": "2024-03-19T09:26:50.607186Z"
    }
   },
   "id": "7646786d31e9e9bc"
  },
  {
   "cell_type": "code",
   "execution_count": 31,
   "outputs": [
    {
     "data": {
      "text/plain": "array([[96, 62, 83],\n       [39,  6, 64],\n       [61, 21,  3],\n       [41, 68, 27],\n       [25, 17, 44],\n       [27,  3, 20],\n       [72, 74, 44],\n       [31, 85, 87],\n       [29, 64, 30],\n       [15, 53, 37]])"
     },
     "execution_count": 31,
     "metadata": {},
     "output_type": "execute_result"
    }
   ],
   "source": [
    "score = np.random.randint(0,100,size=(10,3))\n",
    "score"
   ],
   "metadata": {
    "collapsed": false,
    "ExecuteTime": {
     "end_time": "2024-03-19T09:26:50.613942Z",
     "start_time": "2024-03-19T09:26:50.611929Z"
    }
   },
   "id": "9872e4c482c4a3a6"
  },
  {
   "cell_type": "code",
   "execution_count": 32,
   "outputs": [
    {
     "data": {
      "text/plain": "array([[96, 62, 83]])"
     },
     "execution_count": 32,
     "metadata": {},
     "output_type": "execute_result"
    }
   ],
   "source": [
    "# 查找超过90的，至少一门，查找至少有一门学科超过90的同学\n",
    "score[(score > 90).any(axis=1)]\n"
   ],
   "metadata": {
    "collapsed": false,
    "ExecuteTime": {
     "end_time": "2024-03-19T09:26:50.625517Z",
     "start_time": "2024-03-19T09:26:50.622924Z"
    }
   },
   "id": "c8cdc90e3e54b18b"
  },
  {
   "cell_type": "code",
   "execution_count": 33,
   "outputs": [
    {
     "data": {
      "text/plain": "array([[86., nan, 51.],\n       [73., 79., 66.],\n       [53., 43., 86.],\n       [75., 63., 57.],\n       [12., 95., 19.]])"
     },
     "execution_count": 33,
     "metadata": {},
     "output_type": "execute_result"
    }
   ],
   "source": [
    "data = np.random.randint(0,100,size=(5,3))\n",
    "data = data.astype(np.float64)\n",
    "data[0,1] = np.nan\n",
    "data"
   ],
   "metadata": {
    "collapsed": false,
    "ExecuteTime": {
     "end_time": "2024-03-19T09:26:50.629800Z",
     "start_time": "2024-03-19T09:26:50.626931Z"
    }
   },
   "id": "d716f23c59593d50"
  },
  {
   "cell_type": "code",
   "execution_count": 34,
   "outputs": [
    {
     "data": {
      "text/plain": "array([[12., 43., 19.],\n       [53., 63., 51.],\n       [73., 79., 57.],\n       [75., 95., 66.],\n       [86., nan, 86.]])"
     },
     "execution_count": 34,
     "metadata": {},
     "output_type": "execute_result"
    }
   ],
   "source": [
    " # 排序\n",
    "np.sort(data,axis=0)"
   ],
   "metadata": {
    "collapsed": false,
    "ExecuteTime": {
     "end_time": "2024-03-19T09:26:50.632557Z",
     "start_time": "2024-03-19T09:26:50.630365Z"
    }
   },
   "id": "c54b8468d7b1b505"
  },
  {
   "cell_type": "code",
   "execution_count": 35,
   "outputs": [
    {
     "data": {
      "text/plain": "array([[12., 43., 19.],\n       [53., 63., 51.],\n       [73., 79., 57.],\n       [75., nan, 86.],\n       [86., 95., 66.]])"
     },
     "execution_count": 35,
     "metadata": {},
     "output_type": "execute_result"
    }
   ],
   "source": [
    "# 部分排序,得到最小的两个数,partition(a,k)k为负值就是得到最大的数\n",
    "np.partition(data,2,axis=0)"
   ],
   "metadata": {
    "collapsed": false,
    "ExecuteTime": {
     "end_time": "2024-03-19T09:26:50.641998Z",
     "start_time": "2024-03-19T09:26:50.639396Z"
    }
   },
   "id": "31050a55072ff64a"
  }
 ],
 "metadata": {
  "kernelspec": {
   "display_name": "Python 3",
   "language": "python",
   "name": "python3"
  },
  "language_info": {
   "codemirror_mode": {
    "name": "ipython",
    "version": 2
   },
   "file_extension": ".py",
   "mimetype": "text/x-python",
   "name": "python",
   "nbconvert_exporter": "python",
   "pygments_lexer": "ipython2",
   "version": "2.7.6"
  }
 },
 "nbformat": 4,
 "nbformat_minor": 5
}
