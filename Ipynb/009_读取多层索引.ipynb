{
 "cells": [
  {
   "cell_type": "code",
   "execution_count": 2,
   "id": "initial_id",
   "metadata": {
    "collapsed": true,
    "ExecuteTime": {
     "end_time": "2023-11-10T16:32:58.169452Z",
     "start_time": "2023-11-10T16:32:57.924584Z"
    }
   },
   "outputs": [
    {
     "data": {
      "text/plain": "                      新增社保卡                                         卡余额净增  \\\n                       全年任务 4季度任务    年初发卡量    目前发卡量   完成数     完成率    全年任务   \n营业部     2440   营业部  30.0000  30.0   8628.0   8646.0  18.0  0.6000   793.0   \n潼川      2492   潼川   55.0000  55.0  12128.0  12207.0  79.0  1.4364  1051.0   \n        2495   梓锦   30.0000  30.0   7138.0   7221.0  83.0  2.7667   528.0   \n北坝      2493   百顷   35.0000  35.0   3745.0   3745.0   0.0  0.0000   573.0   \n        2496   东山   35.0000  35.0   4878.0   4860.0 -18.0 -0.5143   569.0   \n...                     ...   ...      ...      ...   ...     ...     ...   \n2022年   社保卡覆盖率 合计    0.5439   NaN      NaN      NaN   NaN     NaN     NaN   \n2023年7月 社保卡覆盖率 合计    0.5477   NaN      NaN      NaN   NaN     NaN     NaN   \n目前完成    提长率    合计    0.0038   NaN      NaN      NaN   NaN     NaN     NaN   \n目标      提长率    合计    0.0027   NaN      NaN      NaN   NaN     NaN     NaN   \n完成率     完成率    合计    1.4000   NaN      NaN      NaN   NaN     NaN     NaN   \n\n                                                    ... 卡均交易笔数                 \\\n                     4季度任务   2022年社保卡余额    目前社保卡余额  ...   全年任务 4季度任务      完成数   \n营业部     2440   营业部   793.0  2853.683267  3691.3171  ...   40.0  40.0  35.4900   \n潼川      2492   潼川   1051.0  3336.909861  4045.6113  ...   50.0  50.0  39.3400   \n        2495   梓锦    528.0  1834.574029  2386.4219  ...   58.0  58.0  48.2700   \n北坝      2493   百顷    573.0   737.054836   774.4668  ...   40.0  40.0  28.5500   \n        2496   东山    569.0   988.251925  1273.9929  ...   38.0  38.0  27.8600   \n...                    ...          ...        ...  ...    ...   ...      ...   \n2022年   社保卡覆盖率 合计      NaN    年初社保卡卡均余额     0.2542  ...    NaN   NaN      NaN   \n2023年7月 社保卡覆盖率 合计      NaN      社保卡卡均余额     0.3218  ...    NaN   NaN      NaN   \n目前完成    提长率    合计      NaN           净增     0.0676  ...    NaN   NaN  26.5500   \n目标      提长率    合计      NaN           目标     0.0680  ...    NaN   NaN  40.0000   \n完成率     完成率    合计      NaN          完成率     0.9941  ...    NaN   NaN   0.6638   \n\n                           代发工资                                   \n                       完成率 全年任务 4季度任务 2022年代发户数 目前代发户数  完成数  完成率  \n营业部     2440   营业部  0.8873  4.0   4.0      24.0   28.0  4.0  1.0  \n潼川      2492   潼川   0.7868  2.0   2.0       1.0    2.0  1.0  0.5  \n        2495   梓锦   0.8322  0.0   0.0       1.0    1.0  0.0  NaN  \n北坝      2493   百顷   0.7138  0.0   0.0       0.0    0.0  0.0  NaN  \n        2496   东山   0.7332  0.0   0.0       0.0    1.0  1.0  NaN  \n...                    ...  ...   ...       ...    ...  ...  ...  \n2022年   社保卡覆盖率 合计      NaN  NaN   NaN       NaN    NaN  NaN  NaN  \n2023年7月 社保卡覆盖率 合计      NaN  NaN   NaN       NaN    NaN  NaN  NaN  \n目前完成    提长率    合计      NaN  NaN   NaN       NaN    NaN  NaN  NaN  \n目标      提长率    合计      NaN  NaN   NaN       NaN    NaN  NaN  NaN  \n完成率     完成率    合计      NaN  NaN   NaN       NaN    NaN  NaN  NaN  \n\n[77 rows x 22 columns]",
      "text/html": "<div>\n<style scoped>\n    .dataframe tbody tr th:only-of-type {\n        vertical-align: middle;\n    }\n\n    .dataframe tbody tr th {\n        vertical-align: top;\n    }\n\n    .dataframe thead tr th {\n        text-align: left;\n    }\n</style>\n<table border=\"1\" class=\"dataframe\">\n  <thead>\n    <tr>\n      <th></th>\n      <th></th>\n      <th></th>\n      <th colspan=\"6\" halign=\"left\">新增社保卡</th>\n      <th colspan=\"4\" halign=\"left\">卡余额净增</th>\n      <th>...</th>\n      <th colspan=\"4\" halign=\"left\">卡均交易笔数</th>\n      <th colspan=\"6\" halign=\"left\">代发工资</th>\n    </tr>\n    <tr>\n      <th></th>\n      <th></th>\n      <th></th>\n      <th>全年任务</th>\n      <th>4季度任务</th>\n      <th>年初发卡量</th>\n      <th>目前发卡量</th>\n      <th>完成数</th>\n      <th>完成率</th>\n      <th>全年任务</th>\n      <th>4季度任务</th>\n      <th>2022年社保卡余额</th>\n      <th>目前社保卡余额</th>\n      <th>...</th>\n      <th>全年任务</th>\n      <th>4季度任务</th>\n      <th>完成数</th>\n      <th>完成率</th>\n      <th>全年任务</th>\n      <th>4季度任务</th>\n      <th>2022年代发户数</th>\n      <th>目前代发户数</th>\n      <th>完成数</th>\n      <th>完成率</th>\n    </tr>\n  </thead>\n  <tbody>\n    <tr>\n      <th>营业部</th>\n      <th>2440</th>\n      <th>营业部</th>\n      <td>30.0000</td>\n      <td>30.0</td>\n      <td>8628.0</td>\n      <td>8646.0</td>\n      <td>18.0</td>\n      <td>0.6000</td>\n      <td>793.0</td>\n      <td>793.0</td>\n      <td>2853.683267</td>\n      <td>3691.3171</td>\n      <td>...</td>\n      <td>40.0</td>\n      <td>40.0</td>\n      <td>35.4900</td>\n      <td>0.8873</td>\n      <td>4.0</td>\n      <td>4.0</td>\n      <td>24.0</td>\n      <td>28.0</td>\n      <td>4.0</td>\n      <td>1.0</td>\n    </tr>\n    <tr>\n      <th rowspan=\"2\" valign=\"top\">潼川</th>\n      <th>2492</th>\n      <th>潼川</th>\n      <td>55.0000</td>\n      <td>55.0</td>\n      <td>12128.0</td>\n      <td>12207.0</td>\n      <td>79.0</td>\n      <td>1.4364</td>\n      <td>1051.0</td>\n      <td>1051.0</td>\n      <td>3336.909861</td>\n      <td>4045.6113</td>\n      <td>...</td>\n      <td>50.0</td>\n      <td>50.0</td>\n      <td>39.3400</td>\n      <td>0.7868</td>\n      <td>2.0</td>\n      <td>2.0</td>\n      <td>1.0</td>\n      <td>2.0</td>\n      <td>1.0</td>\n      <td>0.5</td>\n    </tr>\n    <tr>\n      <th>2495</th>\n      <th>梓锦</th>\n      <td>30.0000</td>\n      <td>30.0</td>\n      <td>7138.0</td>\n      <td>7221.0</td>\n      <td>83.0</td>\n      <td>2.7667</td>\n      <td>528.0</td>\n      <td>528.0</td>\n      <td>1834.574029</td>\n      <td>2386.4219</td>\n      <td>...</td>\n      <td>58.0</td>\n      <td>58.0</td>\n      <td>48.2700</td>\n      <td>0.8322</td>\n      <td>0.0</td>\n      <td>0.0</td>\n      <td>1.0</td>\n      <td>1.0</td>\n      <td>0.0</td>\n      <td>NaN</td>\n    </tr>\n    <tr>\n      <th rowspan=\"2\" valign=\"top\">北坝</th>\n      <th>2493</th>\n      <th>百顷</th>\n      <td>35.0000</td>\n      <td>35.0</td>\n      <td>3745.0</td>\n      <td>3745.0</td>\n      <td>0.0</td>\n      <td>0.0000</td>\n      <td>573.0</td>\n      <td>573.0</td>\n      <td>737.054836</td>\n      <td>774.4668</td>\n      <td>...</td>\n      <td>40.0</td>\n      <td>40.0</td>\n      <td>28.5500</td>\n      <td>0.7138</td>\n      <td>0.0</td>\n      <td>0.0</td>\n      <td>0.0</td>\n      <td>0.0</td>\n      <td>0.0</td>\n      <td>NaN</td>\n    </tr>\n    <tr>\n      <th>2496</th>\n      <th>东山</th>\n      <td>35.0000</td>\n      <td>35.0</td>\n      <td>4878.0</td>\n      <td>4860.0</td>\n      <td>-18.0</td>\n      <td>-0.5143</td>\n      <td>569.0</td>\n      <td>569.0</td>\n      <td>988.251925</td>\n      <td>1273.9929</td>\n      <td>...</td>\n      <td>38.0</td>\n      <td>38.0</td>\n      <td>27.8600</td>\n      <td>0.7332</td>\n      <td>0.0</td>\n      <td>0.0</td>\n      <td>0.0</td>\n      <td>1.0</td>\n      <td>1.0</td>\n      <td>NaN</td>\n    </tr>\n    <tr>\n      <th>...</th>\n      <th>...</th>\n      <th>...</th>\n      <td>...</td>\n      <td>...</td>\n      <td>...</td>\n      <td>...</td>\n      <td>...</td>\n      <td>...</td>\n      <td>...</td>\n      <td>...</td>\n      <td>...</td>\n      <td>...</td>\n      <td>...</td>\n      <td>...</td>\n      <td>...</td>\n      <td>...</td>\n      <td>...</td>\n      <td>...</td>\n      <td>...</td>\n      <td>...</td>\n      <td>...</td>\n      <td>...</td>\n      <td>...</td>\n    </tr>\n    <tr>\n      <th>2022年</th>\n      <th>社保卡覆盖率</th>\n      <th>合计</th>\n      <td>0.5439</td>\n      <td>NaN</td>\n      <td>NaN</td>\n      <td>NaN</td>\n      <td>NaN</td>\n      <td>NaN</td>\n      <td>NaN</td>\n      <td>NaN</td>\n      <td>年初社保卡卡均余额</td>\n      <td>0.2542</td>\n      <td>...</td>\n      <td>NaN</td>\n      <td>NaN</td>\n      <td>NaN</td>\n      <td>NaN</td>\n      <td>NaN</td>\n      <td>NaN</td>\n      <td>NaN</td>\n      <td>NaN</td>\n      <td>NaN</td>\n      <td>NaN</td>\n    </tr>\n    <tr>\n      <th>2023年7月</th>\n      <th>社保卡覆盖率</th>\n      <th>合计</th>\n      <td>0.5477</td>\n      <td>NaN</td>\n      <td>NaN</td>\n      <td>NaN</td>\n      <td>NaN</td>\n      <td>NaN</td>\n      <td>NaN</td>\n      <td>NaN</td>\n      <td>社保卡卡均余额</td>\n      <td>0.3218</td>\n      <td>...</td>\n      <td>NaN</td>\n      <td>NaN</td>\n      <td>NaN</td>\n      <td>NaN</td>\n      <td>NaN</td>\n      <td>NaN</td>\n      <td>NaN</td>\n      <td>NaN</td>\n      <td>NaN</td>\n      <td>NaN</td>\n    </tr>\n    <tr>\n      <th>目前完成</th>\n      <th>提长率</th>\n      <th>合计</th>\n      <td>0.0038</td>\n      <td>NaN</td>\n      <td>NaN</td>\n      <td>NaN</td>\n      <td>NaN</td>\n      <td>NaN</td>\n      <td>NaN</td>\n      <td>NaN</td>\n      <td>净增</td>\n      <td>0.0676</td>\n      <td>...</td>\n      <td>NaN</td>\n      <td>NaN</td>\n      <td>26.5500</td>\n      <td>NaN</td>\n      <td>NaN</td>\n      <td>NaN</td>\n      <td>NaN</td>\n      <td>NaN</td>\n      <td>NaN</td>\n      <td>NaN</td>\n    </tr>\n    <tr>\n      <th>目标</th>\n      <th>提长率</th>\n      <th>合计</th>\n      <td>0.0027</td>\n      <td>NaN</td>\n      <td>NaN</td>\n      <td>NaN</td>\n      <td>NaN</td>\n      <td>NaN</td>\n      <td>NaN</td>\n      <td>NaN</td>\n      <td>目标</td>\n      <td>0.0680</td>\n      <td>...</td>\n      <td>NaN</td>\n      <td>NaN</td>\n      <td>40.0000</td>\n      <td>NaN</td>\n      <td>NaN</td>\n      <td>NaN</td>\n      <td>NaN</td>\n      <td>NaN</td>\n      <td>NaN</td>\n      <td>NaN</td>\n    </tr>\n    <tr>\n      <th>完成率</th>\n      <th>完成率</th>\n      <th>合计</th>\n      <td>1.4000</td>\n      <td>NaN</td>\n      <td>NaN</td>\n      <td>NaN</td>\n      <td>NaN</td>\n      <td>NaN</td>\n      <td>NaN</td>\n      <td>NaN</td>\n      <td>完成率</td>\n      <td>0.9941</td>\n      <td>...</td>\n      <td>NaN</td>\n      <td>NaN</td>\n      <td>0.6638</td>\n      <td>NaN</td>\n      <td>NaN</td>\n      <td>NaN</td>\n      <td>NaN</td>\n      <td>NaN</td>\n      <td>NaN</td>\n      <td>NaN</td>\n    </tr>\n  </tbody>\n</table>\n<p>77 rows × 22 columns</p>\n</div>"
     },
     "execution_count": 2,
     "metadata": {},
     "output_type": "execute_result"
    }
   ],
   "source": [
    "import pandas as pd\n",
    "# 文件路径\n",
    "path = '/Users/fengliang/Documents/workspace/Pandas&Matplotlib/excel/2023年社保卡、代发工资任务进度表(10月31日).xlsx'\n",
    "# 读取Excel文件，并指定多层索引的列名，指定sheet\n",
    "df_excel = pd.read_excel(path, sheet_name='网点进度表', header=[1,2], index_col=[0,1,2])\n",
    "# 保留4位小数\n",
    "df_excel = df_excel.round(4)\n",
    "df_excel"
   ]
  },
  {
   "cell_type": "code",
   "execution_count": 32,
   "outputs": [
    {
     "data": {
      "text/plain": "(77, 22)"
     },
     "execution_count": 32,
     "metadata": {},
     "output_type": "execute_result"
    }
   ],
   "source": [
    "df_excel.shape"
   ],
   "metadata": {
    "collapsed": false,
    "ExecuteTime": {
     "end_time": "2023-11-10T07:11:50.082105Z",
     "start_time": "2023-11-10T07:11:50.050322Z"
    }
   },
   "id": "abc6d06d8e84b17e"
  },
  {
   "cell_type": "code",
   "execution_count": 14,
   "outputs": [
    {
     "data": {
      "text/plain": "MultiIndex([(     '潼川',     2492,  '潼川'),\n            (     '潼川',     2495,  '梓锦'),\n            (     '北坝',     2493,  '百顷'),\n            (     '北坝',     2496,  '东山'),\n            (     '北坝',     2497,  '北坝'),\n            (     '广化',     2498,  '广化'),\n            (     '广化',     2494,  '长坪'),\n            (     '梓州',     2448,  '梓州'),\n            (     '灵兴',     2465,  '灵兴'),\n            (     '灵兴',     2470,  '争胜'),\n            (     '中新',     2501,  '中新'),\n            (     '中新',     2515,  '乐加'),\n            (    '上东街',     2500, '东河路'),\n            (    '上东街',     2499, '上东街'),\n            (    '上东街',     2502, '解放街'),\n            (     '塔山',     2441,  '塔山'),\n            (     '塔山',     2446,  '忠孝'),\n            (     '龙树',     2443,  '龙树'),\n            (     '龙树',     2444,  '双胜'),\n            (     '富顺',     2503,  '富顺'),\n            (     '富顺',     2505,  '秋林'),\n            (     '富顺',     2506,  '三元'),\n            (     '石安',     2508,  '石安'),\n            (     '新德',     2512,  '新德'),\n            (     '新德',     2511,  '永新'),\n            (     '新生',     2513,  '新生'),\n            (     '新生',     2514,  '断石'),\n            (     '新生',     2522,  '玉林'),\n            (     '观桥',     2523,  '观桥'),\n            (     '观桥',     2524, '政府街'),\n            (     '观桥',     2528,  '菊河'),\n            (     '景福',     2534,  '景福'),\n            (     '紫河',     2539,  '紫河'),\n            (     '鲁班',     2461,  '幸福'),\n            (     '鲁班',     2519,  '水库'),\n            (     '鲁班',     2520,  '太林'),\n            (     '郪江',     2529,  '安居'),\n            (     '郪江',     2530,  '郪江'),\n            (     '郪江',     2531,  '建中'),\n            (     '乐安',     2542,  '乐安'),\n            (     '建平',     2544,  '建平'),\n            (     '建平',     2545,  '前锋'),\n            (     '建平',     2546,  '红星'),\n            (     '西平',     2449,  '西平'),\n            (     '西平',     2457,  '中街'),\n            (     '西平',     2455,  '上新'),\n            (     '八洞',     2450,  '八洞'),\n            (     '古井',     2459,  '万安'),\n            (     '古井',     2460,  '下新'),\n            (     '古井',     2463,  '古井'),\n            (     '金石',     2477,  '金石'),\n            (     '金石',     2479,  '同德'),\n            (     '金石',     2483,  '黎曙'),\n            (     '新鲁',     2481,  '新鲁'),\n            (     '新鲁',     2482,  '云同'),\n            (     '芦溪',     2471,  '芦溪'),\n            (     '芦溪',     2474,  '四平'),\n            (     '芦溪',     2475,  '建新'),\n            (     '芦溪',     2476,  '南街'),\n            (     '立新',     2473,  '立新'),\n            (     '刘营',     2464,  '刘营'),\n            (     '老马',     2468,  '老马'),\n            (     '老马',     2491,  '光辉'),\n            (     '老马',     2469,  '里程'),\n            (     '花园',     2485,  '花园'),\n            (     '永明',     2484,  '建设'),\n            (     '永明',     2487,  '永明'),\n            (     '永明',     2489,  '中太'),\n            (     '合计',     '合计',  '合计'),\n            (     '合计',     '合计',  '合计'),\n            (     '合计',     '合计',  '合计'),\n            (  '2022年', '社保卡覆盖率',  '合计'),\n            ('2023年7月', '社保卡覆盖率',  '合计'),\n            (   '目前完成',    '提长率',  '合计'),\n            (     '目标',    '提长率',  '合计'),\n            (    '完成率',    '完成率',  '合计')],\n           )"
     },
     "execution_count": 14,
     "metadata": {},
     "output_type": "execute_result"
    }
   ],
   "source": [
    "df_excel.index"
   ],
   "metadata": {
    "collapsed": false,
    "ExecuteTime": {
     "end_time": "2023-11-10T06:37:31.950598Z",
     "start_time": "2023-11-10T06:37:31.937550Z"
    }
   },
   "id": "99e5db8422019035"
  },
  {
   "cell_type": "code",
   "execution_count": 17,
   "outputs": [
    {
     "data": {
      "text/plain": "MultiIndex([( '新增社保卡',       '全年任务'),\n            ( '新增社保卡',      '4季度任务'),\n            ( '新增社保卡',      '年初发卡量'),\n            ( '新增社保卡',      '目前发卡量'),\n            ( '新增社保卡',        '完成数'),\n            ( '新增社保卡',        '完成率'),\n            ( '卡余额净增',       '全年任务'),\n            ( '卡余额净增',      '4季度任务'),\n            ( '卡余额净增', '2022年社保卡余额'),\n            ( '卡余额净增',    '目前社保卡余额'),\n            ( '卡余额净增',        '完成数'),\n            ( '卡余额净增',        '完成率'),\n            ('卡均交易笔数',       '全年任务'),\n            ('卡均交易笔数',      '4季度任务'),\n            ('卡均交易笔数',        '完成数'),\n            ('卡均交易笔数',        '完成率'),\n            (  '代发工资',       '全年任务'),\n            (  '代发工资',      '4季度任务'),\n            (  '代发工资',  '2022年代发户数'),\n            (  '代发工资',     '目前代发户数'),\n            (  '代发工资',        '完成数'),\n            (  '代发工资',        '完成率')],\n           )"
     },
     "execution_count": 17,
     "metadata": {},
     "output_type": "execute_result"
    }
   ],
   "source": [
    "df_excel.columns"
   ],
   "metadata": {
    "collapsed": false,
    "ExecuteTime": {
     "end_time": "2023-11-10T06:38:36.564427Z",
     "start_time": "2023-11-10T06:38:36.561794Z"
    }
   },
   "id": "d19504aa07aad64d"
  },
  {
   "cell_type": "code",
   "execution_count": 38,
   "outputs": [
    {
     "data": {
      "text/plain": "        新增社保卡                                         卡余额净增          \\\n         全年任务 4季度任务    年初发卡量    目前发卡量   完成数     完成率    全年任务   4季度任务   \n2492 潼川  55.0  55.0  12128.0  12207.0  79.0  1.4364  1051.0  1051.0   \n2495 梓锦  30.0  30.0   7138.0   7221.0  83.0  2.7667   528.0   528.0   \n\n                                 ... 卡均交易笔数                      代发工资        \\\n          2022年社保卡余额    目前社保卡余额  ...   全年任务 4季度任务    完成数     完成率 全年任务 4季度任务   \n2492 潼川  3336.909861  4045.6113  ...   50.0  50.0  39.34  0.7868  2.0   2.0   \n2495 梓锦  1834.574029  2386.4219  ...   58.0  58.0  48.27  0.8322  0.0   0.0   \n\n                                    \n        2022年代发户数 目前代发户数  完成数  完成率  \n2492 潼川       1.0    2.0  1.0  0.5  \n2495 梓锦       1.0    1.0  0.0  NaN  \n\n[2 rows x 22 columns]",
      "text/html": "<div>\n<style scoped>\n    .dataframe tbody tr th:only-of-type {\n        vertical-align: middle;\n    }\n\n    .dataframe tbody tr th {\n        vertical-align: top;\n    }\n\n    .dataframe thead tr th {\n        text-align: left;\n    }\n</style>\n<table border=\"1\" class=\"dataframe\">\n  <thead>\n    <tr>\n      <th></th>\n      <th></th>\n      <th colspan=\"6\" halign=\"left\">新增社保卡</th>\n      <th colspan=\"4\" halign=\"left\">卡余额净增</th>\n      <th>...</th>\n      <th colspan=\"4\" halign=\"left\">卡均交易笔数</th>\n      <th colspan=\"6\" halign=\"left\">代发工资</th>\n    </tr>\n    <tr>\n      <th></th>\n      <th></th>\n      <th>全年任务</th>\n      <th>4季度任务</th>\n      <th>年初发卡量</th>\n      <th>目前发卡量</th>\n      <th>完成数</th>\n      <th>完成率</th>\n      <th>全年任务</th>\n      <th>4季度任务</th>\n      <th>2022年社保卡余额</th>\n      <th>目前社保卡余额</th>\n      <th>...</th>\n      <th>全年任务</th>\n      <th>4季度任务</th>\n      <th>完成数</th>\n      <th>完成率</th>\n      <th>全年任务</th>\n      <th>4季度任务</th>\n      <th>2022年代发户数</th>\n      <th>目前代发户数</th>\n      <th>完成数</th>\n      <th>完成率</th>\n    </tr>\n  </thead>\n  <tbody>\n    <tr>\n      <th>2492</th>\n      <th>潼川</th>\n      <td>55.0</td>\n      <td>55.0</td>\n      <td>12128.0</td>\n      <td>12207.0</td>\n      <td>79.0</td>\n      <td>1.4364</td>\n      <td>1051.0</td>\n      <td>1051.0</td>\n      <td>3336.909861</td>\n      <td>4045.6113</td>\n      <td>...</td>\n      <td>50.0</td>\n      <td>50.0</td>\n      <td>39.34</td>\n      <td>0.7868</td>\n      <td>2.0</td>\n      <td>2.0</td>\n      <td>1.0</td>\n      <td>2.0</td>\n      <td>1.0</td>\n      <td>0.5</td>\n    </tr>\n    <tr>\n      <th>2495</th>\n      <th>梓锦</th>\n      <td>30.0</td>\n      <td>30.0</td>\n      <td>7138.0</td>\n      <td>7221.0</td>\n      <td>83.0</td>\n      <td>2.7667</td>\n      <td>528.0</td>\n      <td>528.0</td>\n      <td>1834.574029</td>\n      <td>2386.4219</td>\n      <td>...</td>\n      <td>58.0</td>\n      <td>58.0</td>\n      <td>48.27</td>\n      <td>0.8322</td>\n      <td>0.0</td>\n      <td>0.0</td>\n      <td>1.0</td>\n      <td>1.0</td>\n      <td>0.0</td>\n      <td>NaN</td>\n    </tr>\n  </tbody>\n</table>\n<p>2 rows × 22 columns</p>\n</div>"
     },
     "execution_count": 38,
     "metadata": {},
     "output_type": "execute_result"
    }
   ],
   "source": [
    "# 默认是按行index索引,这是切片操作？\n",
    "df_excel.loc['潼川']"
   ],
   "metadata": {
    "collapsed": false,
    "ExecuteTime": {
     "end_time": "2023-11-10T07:15:48.449604Z",
     "start_time": "2023-11-10T07:15:48.435321Z"
    }
   },
   "id": "a1bfdfdfca640ac"
  },
  {
   "cell_type": "code",
   "execution_count": 42,
   "outputs": [
    {
     "data": {
      "text/plain": "                      新增社保卡                                      \n                       全年任务 4季度任务    年初发卡量    目前发卡量   完成数     完成率\n营业部     2440   营业部  30.0000  30.0   8628.0   8646.0  18.0  0.6000\n潼川      2492   潼川   55.0000  55.0  12128.0  12207.0  79.0  1.4364\n        2495   梓锦   30.0000  30.0   7138.0   7221.0  83.0  2.7667\n北坝      2493   百顷   35.0000  35.0   3745.0   3745.0   0.0  0.0000\n        2496   东山   35.0000  35.0   4878.0   4860.0 -18.0 -0.5143\n...                     ...   ...      ...      ...   ...     ...\n2022年   社保卡覆盖率 合计    0.5439   NaN      NaN      NaN   NaN     NaN\n2023年7月 社保卡覆盖率 合计    0.5477   NaN      NaN      NaN   NaN     NaN\n目前完成    提长率    合计    0.0038   NaN      NaN      NaN   NaN     NaN\n目标      提长率    合计    0.0027   NaN      NaN      NaN   NaN     NaN\n完成率     完成率    合计    1.4000   NaN      NaN      NaN   NaN     NaN\n\n[77 rows x 6 columns]",
      "text/html": "<div>\n<style scoped>\n    .dataframe tbody tr th:only-of-type {\n        vertical-align: middle;\n    }\n\n    .dataframe tbody tr th {\n        vertical-align: top;\n    }\n\n    .dataframe thead tr th {\n        text-align: left;\n    }\n</style>\n<table border=\"1\" class=\"dataframe\">\n  <thead>\n    <tr>\n      <th></th>\n      <th></th>\n      <th></th>\n      <th colspan=\"6\" halign=\"left\">新增社保卡</th>\n    </tr>\n    <tr>\n      <th></th>\n      <th></th>\n      <th></th>\n      <th>全年任务</th>\n      <th>4季度任务</th>\n      <th>年初发卡量</th>\n      <th>目前发卡量</th>\n      <th>完成数</th>\n      <th>完成率</th>\n    </tr>\n  </thead>\n  <tbody>\n    <tr>\n      <th>营业部</th>\n      <th>2440</th>\n      <th>营业部</th>\n      <td>30.0000</td>\n      <td>30.0</td>\n      <td>8628.0</td>\n      <td>8646.0</td>\n      <td>18.0</td>\n      <td>0.6000</td>\n    </tr>\n    <tr>\n      <th rowspan=\"2\" valign=\"top\">潼川</th>\n      <th>2492</th>\n      <th>潼川</th>\n      <td>55.0000</td>\n      <td>55.0</td>\n      <td>12128.0</td>\n      <td>12207.0</td>\n      <td>79.0</td>\n      <td>1.4364</td>\n    </tr>\n    <tr>\n      <th>2495</th>\n      <th>梓锦</th>\n      <td>30.0000</td>\n      <td>30.0</td>\n      <td>7138.0</td>\n      <td>7221.0</td>\n      <td>83.0</td>\n      <td>2.7667</td>\n    </tr>\n    <tr>\n      <th rowspan=\"2\" valign=\"top\">北坝</th>\n      <th>2493</th>\n      <th>百顷</th>\n      <td>35.0000</td>\n      <td>35.0</td>\n      <td>3745.0</td>\n      <td>3745.0</td>\n      <td>0.0</td>\n      <td>0.0000</td>\n    </tr>\n    <tr>\n      <th>2496</th>\n      <th>东山</th>\n      <td>35.0000</td>\n      <td>35.0</td>\n      <td>4878.0</td>\n      <td>4860.0</td>\n      <td>-18.0</td>\n      <td>-0.5143</td>\n    </tr>\n    <tr>\n      <th>...</th>\n      <th>...</th>\n      <th>...</th>\n      <td>...</td>\n      <td>...</td>\n      <td>...</td>\n      <td>...</td>\n      <td>...</td>\n      <td>...</td>\n    </tr>\n    <tr>\n      <th>2022年</th>\n      <th>社保卡覆盖率</th>\n      <th>合计</th>\n      <td>0.5439</td>\n      <td>NaN</td>\n      <td>NaN</td>\n      <td>NaN</td>\n      <td>NaN</td>\n      <td>NaN</td>\n    </tr>\n    <tr>\n      <th>2023年7月</th>\n      <th>社保卡覆盖率</th>\n      <th>合计</th>\n      <td>0.5477</td>\n      <td>NaN</td>\n      <td>NaN</td>\n      <td>NaN</td>\n      <td>NaN</td>\n      <td>NaN</td>\n    </tr>\n    <tr>\n      <th>目前完成</th>\n      <th>提长率</th>\n      <th>合计</th>\n      <td>0.0038</td>\n      <td>NaN</td>\n      <td>NaN</td>\n      <td>NaN</td>\n      <td>NaN</td>\n      <td>NaN</td>\n    </tr>\n    <tr>\n      <th>目标</th>\n      <th>提长率</th>\n      <th>合计</th>\n      <td>0.0027</td>\n      <td>NaN</td>\n      <td>NaN</td>\n      <td>NaN</td>\n      <td>NaN</td>\n      <td>NaN</td>\n    </tr>\n    <tr>\n      <th>完成率</th>\n      <th>完成率</th>\n      <th>合计</th>\n      <td>1.4000</td>\n      <td>NaN</td>\n      <td>NaN</td>\n      <td>NaN</td>\n      <td>NaN</td>\n      <td>NaN</td>\n    </tr>\n  </tbody>\n</table>\n<p>77 rows × 6 columns</p>\n</div>"
     },
     "execution_count": 42,
     "metadata": {},
     "output_type": "execute_result"
    }
   ],
   "source": [
    "# 根据外层column取值，再加一层中括号取出来的才是DataFrame的结构\n",
    "df_excel[['新增社保卡']]"
   ],
   "metadata": {
    "collapsed": false,
    "ExecuteTime": {
     "end_time": "2023-11-10T07:21:45.477639Z",
     "start_time": "2023-11-10T07:21:45.472227Z"
    }
   },
   "id": "cbebd1deb864ccb1"
  },
  {
   "cell_type": "code",
   "execution_count": 24,
   "outputs": [
    {
     "data": {
      "text/plain": "营业部      2440    营业部    30.000000\n潼川       2492    潼川     55.000000\n         2495    梓锦     30.000000\n北坝       2493    百顷     35.000000\n         2496    东山     35.000000\n                          ...    \n2022年    社保卡覆盖率  合计      0.543883\n2023年7月  社保卡覆盖率  合计      0.547663\n目前完成     提长率     合计      0.003780\n目标       提长率     合计      0.002700\n完成率      完成率     合计      1.399997\nName: (新增社保卡, 全年任务), Length: 77, dtype: float64"
     },
     "execution_count": 24,
     "metadata": {},
     "output_type": "execute_result"
    }
   ],
   "source": [
    "df_excel[('新增社保卡','全年任务')]"
   ],
   "metadata": {
    "collapsed": false,
    "ExecuteTime": {
     "end_time": "2023-11-10T06:58:38.991292Z",
     "start_time": "2023-11-10T06:58:38.974529Z"
    }
   },
   "id": "f245492d0d44fc07"
  },
  {
   "cell_type": "code",
   "execution_count": 7,
   "outputs": [
    {
     "ename": "KeyError",
     "evalue": "'[0 1] not in index'",
     "output_type": "error",
     "traceback": [
      "\u001B[0;31m---------------------------------------------------------------------------\u001B[0m",
      "\u001B[0;31mKeyError\u001B[0m                                  Traceback (most recent call last)",
      "Cell \u001B[0;32mIn[7], line 1\u001B[0m\n\u001B[0;32m----> 1\u001B[0m df_excel[[\u001B[38;5;241m0\u001B[39m,\u001B[38;5;241m1\u001B[39m]]\n",
      "File \u001B[0;32m~/anaconda3/envs/Pandas&Matplotlib/lib/python3.11/site-packages/pandas/core/frame.py:3902\u001B[0m, in \u001B[0;36mDataFrame.__getitem__\u001B[0;34m(self, key)\u001B[0m\n\u001B[1;32m   3900\u001B[0m     \u001B[38;5;28;01mif\u001B[39;00m is_iterator(key):\n\u001B[1;32m   3901\u001B[0m         key \u001B[38;5;241m=\u001B[39m \u001B[38;5;28mlist\u001B[39m(key)\n\u001B[0;32m-> 3902\u001B[0m     indexer \u001B[38;5;241m=\u001B[39m \u001B[38;5;28mself\u001B[39m\u001B[38;5;241m.\u001B[39mcolumns\u001B[38;5;241m.\u001B[39m_get_indexer_strict(key, \u001B[38;5;124m\"\u001B[39m\u001B[38;5;124mcolumns\u001B[39m\u001B[38;5;124m\"\u001B[39m)[\u001B[38;5;241m1\u001B[39m]\n\u001B[1;32m   3904\u001B[0m \u001B[38;5;66;03m# take() does not accept boolean indexers\u001B[39;00m\n\u001B[1;32m   3905\u001B[0m \u001B[38;5;28;01mif\u001B[39;00m \u001B[38;5;28mgetattr\u001B[39m(indexer, \u001B[38;5;124m\"\u001B[39m\u001B[38;5;124mdtype\u001B[39m\u001B[38;5;124m\"\u001B[39m, \u001B[38;5;28;01mNone\u001B[39;00m) \u001B[38;5;241m==\u001B[39m \u001B[38;5;28mbool\u001B[39m:\n",
      "File \u001B[0;32m~/anaconda3/envs/Pandas&Matplotlib/lib/python3.11/site-packages/pandas/core/indexes/multi.py:2648\u001B[0m, in \u001B[0;36mMultiIndex._get_indexer_strict\u001B[0;34m(self, key, axis_name)\u001B[0m\n\u001B[1;32m   2645\u001B[0m \u001B[38;5;28;01mif\u001B[39;00m \u001B[38;5;28mlen\u001B[39m(keyarr) \u001B[38;5;129;01mand\u001B[39;00m \u001B[38;5;129;01mnot\u001B[39;00m \u001B[38;5;28misinstance\u001B[39m(keyarr[\u001B[38;5;241m0\u001B[39m], \u001B[38;5;28mtuple\u001B[39m):\n\u001B[1;32m   2646\u001B[0m     indexer \u001B[38;5;241m=\u001B[39m \u001B[38;5;28mself\u001B[39m\u001B[38;5;241m.\u001B[39m_get_indexer_level_0(keyarr)\n\u001B[0;32m-> 2648\u001B[0m     \u001B[38;5;28mself\u001B[39m\u001B[38;5;241m.\u001B[39m_raise_if_missing(key, indexer, axis_name)\n\u001B[1;32m   2649\u001B[0m     \u001B[38;5;28;01mreturn\u001B[39;00m \u001B[38;5;28mself\u001B[39m[indexer], indexer\n\u001B[1;32m   2651\u001B[0m \u001B[38;5;28;01mreturn\u001B[39;00m \u001B[38;5;28msuper\u001B[39m()\u001B[38;5;241m.\u001B[39m_get_indexer_strict(key, axis_name)\n",
      "File \u001B[0;32m~/anaconda3/envs/Pandas&Matplotlib/lib/python3.11/site-packages/pandas/core/indexes/multi.py:2666\u001B[0m, in \u001B[0;36mMultiIndex._raise_if_missing\u001B[0;34m(self, key, indexer, axis_name)\u001B[0m\n\u001B[1;32m   2664\u001B[0m cmask \u001B[38;5;241m=\u001B[39m check \u001B[38;5;241m==\u001B[39m \u001B[38;5;241m-\u001B[39m\u001B[38;5;241m1\u001B[39m\n\u001B[1;32m   2665\u001B[0m \u001B[38;5;28;01mif\u001B[39;00m cmask\u001B[38;5;241m.\u001B[39many():\n\u001B[0;32m-> 2666\u001B[0m     \u001B[38;5;28;01mraise\u001B[39;00m \u001B[38;5;167;01mKeyError\u001B[39;00m(\u001B[38;5;124mf\u001B[39m\u001B[38;5;124m\"\u001B[39m\u001B[38;5;132;01m{\u001B[39;00mkeyarr[cmask]\u001B[38;5;132;01m}\u001B[39;00m\u001B[38;5;124m not in index\u001B[39m\u001B[38;5;124m\"\u001B[39m)\n\u001B[1;32m   2667\u001B[0m \u001B[38;5;66;03m# We get here when levels still contain values which are not\u001B[39;00m\n\u001B[1;32m   2668\u001B[0m \u001B[38;5;66;03m# actually in Index anymore\u001B[39;00m\n\u001B[1;32m   2669\u001B[0m \u001B[38;5;28;01mraise\u001B[39;00m \u001B[38;5;167;01mKeyError\u001B[39;00m(\u001B[38;5;124mf\u001B[39m\u001B[38;5;124m\"\u001B[39m\u001B[38;5;132;01m{\u001B[39;00mkeyarr\u001B[38;5;132;01m}\u001B[39;00m\u001B[38;5;124m not in index\u001B[39m\u001B[38;5;124m\"\u001B[39m)\n",
      "\u001B[0;31mKeyError\u001B[0m: '[0 1] not in index'"
     ]
    }
   ],
   "source": [
    "df_excel[[0,1]]"
   ],
   "metadata": {
    "collapsed": false,
    "ExecuteTime": {
     "end_time": "2023-11-10T16:33:53.927529Z",
     "start_time": "2023-11-10T16:33:53.903317Z"
    }
   },
   "id": "6d109943c5fe10d7"
  }
 ],
 "metadata": {
  "kernelspec": {
   "display_name": "Python 3",
   "language": "python",
   "name": "python3"
  },
  "language_info": {
   "codemirror_mode": {
    "name": "ipython",
    "version": 2
   },
   "file_extension": ".py",
   "mimetype": "text/x-python",
   "name": "python",
   "nbconvert_exporter": "python",
   "pygments_lexer": "ipython2",
   "version": "2.7.6"
  }
 },
 "nbformat": 4,
 "nbformat_minor": 5
}
