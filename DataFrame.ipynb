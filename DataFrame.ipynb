{
 "cells": [
  {
   "cell_type": "code",
   "execution_count": 1,
   "id": "initial_id",
   "metadata": {
    "collapsed": true,
    "ExecuteTime": {
     "end_time": "2023-11-14T06:54:07.119611Z",
     "start_time": "2023-11-14T06:54:06.466136Z"
    }
   },
   "outputs": [],
   "source": [
    "import numpy as np\n",
    "import pandas as pd\n",
    "from pandas import Series, DataFrame\n",
    "import matplotlib.pyplot as plt\n",
    "%matplotlib inline"
   ]
  },
  {
   "cell_type": "code",
   "execution_count": 5,
   "outputs": [
    {
     "data": {
      "text/plain": "      python  java\nlucy      46    83\nmery      66    41\ntom       63    49\njack      97    53\nrose      68    92",
      "text/html": "<div>\n<style scoped>\n    .dataframe tbody tr th:only-of-type {\n        vertical-align: middle;\n    }\n\n    .dataframe tbody tr th {\n        vertical-align: top;\n    }\n\n    .dataframe thead th {\n        text-align: right;\n    }\n</style>\n<table border=\"1\" class=\"dataframe\">\n  <thead>\n    <tr style=\"text-align: right;\">\n      <th></th>\n      <th>python</th>\n      <th>java</th>\n    </tr>\n  </thead>\n  <tbody>\n    <tr>\n      <th>lucy</th>\n      <td>46</td>\n      <td>83</td>\n    </tr>\n    <tr>\n      <th>mery</th>\n      <td>66</td>\n      <td>41</td>\n    </tr>\n    <tr>\n      <th>tom</th>\n      <td>63</td>\n      <td>49</td>\n    </tr>\n    <tr>\n      <th>jack</th>\n      <td>97</td>\n      <td>53</td>\n    </tr>\n    <tr>\n      <th>rose</th>\n      <td>68</td>\n      <td>92</td>\n    </tr>\n  </tbody>\n</table>\n</div>"
     },
     "execution_count": 5,
     "metadata": {},
     "output_type": "execute_result"
    }
   ],
   "source": [
    "# 构造班级成绩表'\n",
    "index = [\"lucy\", \"mery\", \"tom\", \"jack\", \"rose\"]\n",
    "columns = ['python', 'java']\n",
    "data = np.random.randint(40, 100, size=(5, 2))\n",
    "score = DataFrame(data=data, index=index, columns=columns)\n",
    "score"
   ],
   "metadata": {
    "collapsed": false,
    "ExecuteTime": {
     "end_time": "2023-11-14T06:56:47.497914Z",
     "start_time": "2023-11-14T06:56:47.487399Z"
    }
   },
   "id": "3cab94799af1fff5"
  },
  {
   "cell_type": "code",
   "execution_count": 7,
   "outputs": [
    {
     "data": {
      "text/plain": "<Axes: >"
     },
     "execution_count": 7,
     "metadata": {},
     "output_type": "execute_result"
    },
    {
     "data": {
      "text/plain": "<Figure size 640x480 with 1 Axes>",
      "image/png": "[encoded data removed]"
     },
     "metadata": {},
     "output_type": "display_data"
    }
   ],
   "source": [
    "score.plot(kind='bar')"
   ],
   "metadata": {
    "collapsed": false,
    "ExecuteTime": {
     "end_time": "2023-11-14T07:01:18.920212Z",
     "start_time": "2023-11-14T07:01:18.861248Z"
    }
   },
   "id": "143f7c76c5c91ebf"
  },
  {
   "cell_type": "code",
   "execution_count": 9,
   "outputs": [
    {
     "data": {
      "text/plain": "  index  python  java\n0  lucy      46    83\n1  mery      66    41\n2   tom      63    49\n3  jack      97    53\n4  rose      68    92",
      "text/html": "<div>\n<style scoped>\n    .dataframe tbody tr th:only-of-type {\n        vertical-align: middle;\n    }\n\n    .dataframe tbody tr th {\n        vertical-align: top;\n    }\n\n    .dataframe thead th {\n        text-align: right;\n    }\n</style>\n<table border=\"1\" class=\"dataframe\">\n  <thead>\n    <tr style=\"text-align: right;\">\n      <th></th>\n      <th>index</th>\n      <th>python</th>\n      <th>java</th>\n    </tr>\n  </thead>\n  <tbody>\n    <tr>\n      <th>0</th>\n      <td>lucy</td>\n      <td>46</td>\n      <td>83</td>\n    </tr>\n    <tr>\n      <th>1</th>\n      <td>mery</td>\n      <td>66</td>\n      <td>41</td>\n    </tr>\n    <tr>\n      <th>2</th>\n      <td>tom</td>\n      <td>63</td>\n      <td>49</td>\n    </tr>\n    <tr>\n      <th>3</th>\n      <td>jack</td>\n      <td>97</td>\n      <td>53</td>\n    </tr>\n    <tr>\n      <th>4</th>\n      <td>rose</td>\n      <td>68</td>\n      <td>92</td>\n    </tr>\n  </tbody>\n</table>\n</div>"
     },
     "execution_count": 9,
     "metadata": {},
     "output_type": "execute_result"
    }
   ],
   "source": [
    " # reset_index把DataFrame的行索引变成一列数据\n",
    "score1 = score.reset_index()\n",
    "score1"
   ],
   "metadata": {
    "collapsed": false,
    "ExecuteTime": {
     "end_time": "2023-11-14T07:04:32.331606Z",
     "start_time": "2023-11-14T07:04:32.321633Z"
    }
   },
   "id": "c2f6d9fa6e7e3d07"
  },
  {
   "cell_type": "code",
   "execution_count": 12,
   "outputs": [
    {
     "data": {
      "text/plain": "      python  java\nlucy      41    59\nmery      89    86\ntom       44    92\njack      90    76\nrose      55    71",
      "text/html": "<div>\n<style scoped>\n    .dataframe tbody tr th:only-of-type {\n        vertical-align: middle;\n    }\n\n    .dataframe tbody tr th {\n        vertical-align: top;\n    }\n\n    .dataframe thead th {\n        text-align: right;\n    }\n</style>\n<table border=\"1\" class=\"dataframe\">\n  <thead>\n    <tr style=\"text-align: right;\">\n      <th></th>\n      <th>python</th>\n      <th>java</th>\n    </tr>\n  </thead>\n  <tbody>\n    <tr>\n      <th>lucy</th>\n      <td>41</td>\n      <td>59</td>\n    </tr>\n    <tr>\n      <th>mery</th>\n      <td>89</td>\n      <td>86</td>\n    </tr>\n    <tr>\n      <th>tom</th>\n      <td>44</td>\n      <td>92</td>\n    </tr>\n    <tr>\n      <th>jack</th>\n      <td>90</td>\n      <td>76</td>\n    </tr>\n    <tr>\n      <th>rose</th>\n      <td>55</td>\n      <td>71</td>\n    </tr>\n  </tbody>\n</table>\n</div>"
     },
     "execution_count": 12,
     "metadata": {},
     "output_type": "execute_result"
    }
   ],
   "source": [
    "# 使用字典构造 DataFrame\n",
    "df = DataFrame(data={\n",
    "    \"python\":np.random.randint(40,100,size=5),\n",
    "    \"java\":np.random.randint(40,100,size=5)\n",
    "},index=index\n",
    ")\n",
    "df"
   ],
   "metadata": {
    "collapsed": false,
    "ExecuteTime": {
     "end_time": "2023-11-14T07:11:30.404391Z",
     "start_time": "2023-11-14T07:11:30.401399Z"
    }
   },
   "id": "282e029b8730b761"
  },
  {
   "cell_type": "code",
   "execution_count": 14,
   "outputs": [
    {
     "data": {
      "text/plain": "array([['lucy', 41, 59],\n       ['mery', 89, 86],\n       ['tom', 44, 92],\n       ['jack', 90, 76],\n       ['rose', 55, 71]], dtype=object)"
     },
     "execution_count": 14,
     "metadata": {},
     "output_type": "execute_result"
    }
   ],
   "source": [
    "df = df.reset_index()\n",
    "df.values"
   ],
   "metadata": {
    "collapsed": false,
    "ExecuteTime": {
     "end_time": "2023-11-14T07:12:18.281934Z",
     "start_time": "2023-11-14T07:12:18.274554Z"
    }
   },
   "id": "e3261b71afeb5248"
  },
  {
   "cell_type": "code",
   "execution_count": 15,
   "outputs": [
    {
     "data": {
      "text/plain": "Index(['index', 'python', 'java'], dtype='object')"
     },
     "execution_count": 15,
     "metadata": {},
     "output_type": "execute_result"
    }
   ],
   "source": [
    "df.columns"
   ],
   "metadata": {
    "collapsed": false,
    "ExecuteTime": {
     "end_time": "2023-11-14T07:13:26.709316Z",
     "start_time": "2023-11-14T07:13:26.695174Z"
    }
   },
   "id": "b46d7e6d79eca915"
  },
  {
   "cell_type": "code",
   "execution_count": 16,
   "outputs": [
    {
     "data": {
      "text/plain": "RangeIndex(start=0, stop=5, step=1)"
     },
     "execution_count": 16,
     "metadata": {},
     "output_type": "execute_result"
    }
   ],
   "source": [
    "df.index"
   ],
   "metadata": {
    "collapsed": false,
    "ExecuteTime": {
     "end_time": "2023-11-14T07:13:53.503670Z",
     "start_time": "2023-11-14T07:13:53.501073Z"
    }
   },
   "id": "69f83bf850f1b529"
  },
  {
   "cell_type": "code",
   "execution_count": 17,
   "outputs": [
    {
     "data": {
      "text/plain": "index     object\npython     int64\njava       int64\ndtype: object"
     },
     "execution_count": 17,
     "metadata": {},
     "output_type": "execute_result"
    }
   ],
   "source": [
    "df.dtypes"
   ],
   "metadata": {
    "collapsed": false,
    "ExecuteTime": {
     "end_time": "2023-11-14T07:14:12.430105Z",
     "start_time": "2023-11-14T07:14:12.406912Z"
    }
   },
   "id": "b3f8547797f39262"
  }
 ],
 "metadata": {
  "kernelspec": {
   "display_name": "Python 3",
   "language": "python",
   "name": "python3"
  },
  "language_info": {
   "codemirror_mode": {
    "name": "ipython",
    "version": 2
   },
   "file_extension": ".py",
   "mimetype": "text/x-python",
   "name": "python",
   "nbconvert_exporter": "python",
   "pygments_lexer": "ipython2",
   "version": "2.7.6"
  }
 },
 "nbformat": 4,
 "nbformat_minor": 5
}
